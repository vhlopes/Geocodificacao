{
 "cells": [
  {
   "cell_type": "code",
   "execution_count": null,
   "id": "44bf2fc6-1622-4ca4-96da-a576b07334f9",
   "metadata": {},
   "outputs": [
    {
     "name": "stderr",
     "output_type": "stream",
     "text": [
      "C:\\Users\\vitor.braz\\AppData\\Roaming\\Python\\Python312\\site-packages\\shapely\\measurement.py:72: RuntimeWarning: invalid value encountered in distance\n",
      "  return lib.distance(a, b, **kwargs)\n",
      "C:\\Users\\vitor.braz\\AppData\\Roaming\\Python\\Python312\\site-packages\\shapely\\measurement.py:72: RuntimeWarning: invalid value encountered in distance\n",
      "  return lib.distance(a, b, **kwargs)\n",
      "C:\\Users\\vitor.braz\\AppData\\Roaming\\Python\\Python312\\site-packages\\shapely\\measurement.py:72: RuntimeWarning: invalid value encountered in distance\n",
      "  return lib.distance(a, b, **kwargs)\n",
      "C:\\Users\\vitor.braz\\AppData\\Roaming\\Python\\Python312\\site-packages\\shapely\\measurement.py:72: RuntimeWarning: invalid value encountered in distance\n",
      "  return lib.distance(a, b, **kwargs)\n"
     ]
    },
    {
     "name": "stdout",
     "output_type": "stream",
     "text": [
      "[INFO] Tentando sem tipo de via: 'CONDE DE S JOAQUIM'\n"
     ]
    },
    {
     "name": "stderr",
     "output_type": "stream",
     "text": [
      "C:\\Users\\vitor.braz\\AppData\\Roaming\\Python\\Python312\\site-packages\\shapely\\measurement.py:72: RuntimeWarning: invalid value encountered in distance\n",
      "  return lib.distance(a, b, **kwargs)\n",
      "C:\\Users\\vitor.braz\\AppData\\Roaming\\Python\\Python312\\site-packages\\shapely\\measurement.py:72: RuntimeWarning: invalid value encountered in distance\n",
      "  return lib.distance(a, b, **kwargs)\n",
      "C:\\Users\\vitor.braz\\AppData\\Roaming\\Python\\Python312\\site-packages\\shapely\\measurement.py:72: RuntimeWarning: invalid value encountered in distance\n",
      "  return lib.distance(a, b, **kwargs)\n",
      "C:\\Users\\vitor.braz\\AppData\\Roaming\\Python\\Python312\\site-packages\\shapely\\measurement.py:72: RuntimeWarning: invalid value encountered in distance\n",
      "  return lib.distance(a, b, **kwargs)\n",
      "C:\\Users\\vitor.braz\\AppData\\Roaming\\Python\\Python312\\site-packages\\shapely\\measurement.py:72: RuntimeWarning: invalid value encountered in distance\n",
      "  return lib.distance(a, b, **kwargs)\n",
      "C:\\Users\\vitor.braz\\AppData\\Roaming\\Python\\Python312\\site-packages\\shapely\\measurement.py:72: RuntimeWarning: invalid value encountered in distance\n",
      "  return lib.distance(a, b, **kwargs)\n",
      "C:\\Users\\vitor.braz\\AppData\\Roaming\\Python\\Python312\\site-packages\\shapely\\measurement.py:72: RuntimeWarning: invalid value encountered in distance\n",
      "  return lib.distance(a, b, **kwargs)\n",
      "C:\\Users\\vitor.braz\\AppData\\Roaming\\Python\\Python312\\site-packages\\shapely\\measurement.py:72: RuntimeWarning: invalid value encountered in distance\n",
      "  return lib.distance(a, b, **kwargs)\n",
      "C:\\Users\\vitor.braz\\AppData\\Roaming\\Python\\Python312\\site-packages\\shapely\\measurement.py:72: RuntimeWarning: invalid value encountered in distance\n",
      "  return lib.distance(a, b, **kwargs)\n",
      "C:\\Users\\vitor.braz\\AppData\\Roaming\\Python\\Python312\\site-packages\\shapely\\measurement.py:72: RuntimeWarning: invalid value encountered in distance\n",
      "  return lib.distance(a, b, **kwargs)\n",
      "C:\\Users\\vitor.braz\\AppData\\Roaming\\Python\\Python312\\site-packages\\shapely\\measurement.py:72: RuntimeWarning: invalid value encountered in distance\n",
      "  return lib.distance(a, b, **kwargs)\n",
      "C:\\Users\\vitor.braz\\AppData\\Roaming\\Python\\Python312\\site-packages\\shapely\\measurement.py:72: RuntimeWarning: invalid value encountered in distance\n",
      "  return lib.distance(a, b, **kwargs)\n",
      "C:\\Users\\vitor.braz\\AppData\\Roaming\\Python\\Python312\\site-packages\\shapely\\measurement.py:72: RuntimeWarning: invalid value encountered in distance\n",
      "  return lib.distance(a, b, **kwargs)\n",
      "C:\\Users\\vitor.braz\\AppData\\Roaming\\Python\\Python312\\site-packages\\shapely\\measurement.py:72: RuntimeWarning: invalid value encountered in distance\n",
      "  return lib.distance(a, b, **kwargs)\n",
      "C:\\Users\\vitor.braz\\AppData\\Roaming\\Python\\Python312\\site-packages\\shapely\\measurement.py:72: RuntimeWarning: invalid value encountered in distance\n",
      "  return lib.distance(a, b, **kwargs)\n",
      "C:\\Users\\vitor.braz\\AppData\\Roaming\\Python\\Python312\\site-packages\\shapely\\measurement.py:72: RuntimeWarning: invalid value encountered in distance\n",
      "  return lib.distance(a, b, **kwargs)\n",
      "C:\\Users\\vitor.braz\\AppData\\Roaming\\Python\\Python312\\site-packages\\shapely\\measurement.py:72: RuntimeWarning: invalid value encountered in distance\n",
      "  return lib.distance(a, b, **kwargs)\n",
      "C:\\Users\\vitor.braz\\AppData\\Roaming\\Python\\Python312\\site-packages\\shapely\\measurement.py:72: RuntimeWarning: invalid value encountered in distance\n",
      "  return lib.distance(a, b, **kwargs)\n"
     ]
    },
    {
     "name": "stdout",
     "output_type": "stream",
     "text": [
      "[INFO] Tentando sem tipo de via: 'DOUTOR ASSIS RIBEIRO'\n"
     ]
    },
    {
     "name": "stderr",
     "output_type": "stream",
     "text": [
      "C:\\Users\\vitor.braz\\AppData\\Roaming\\Python\\Python312\\site-packages\\shapely\\measurement.py:72: RuntimeWarning: invalid value encountered in distance\n",
      "  return lib.distance(a, b, **kwargs)\n",
      "C:\\Users\\vitor.braz\\AppData\\Roaming\\Python\\Python312\\site-packages\\shapely\\measurement.py:72: RuntimeWarning: invalid value encountered in distance\n",
      "  return lib.distance(a, b, **kwargs)\n",
      "C:\\Users\\vitor.braz\\AppData\\Roaming\\Python\\Python312\\site-packages\\shapely\\measurement.py:72: RuntimeWarning: invalid value encountered in distance\n",
      "  return lib.distance(a, b, **kwargs)\n",
      "C:\\Users\\vitor.braz\\AppData\\Roaming\\Python\\Python312\\site-packages\\shapely\\measurement.py:72: RuntimeWarning: invalid value encountered in distance\n",
      "  return lib.distance(a, b, **kwargs)\n",
      "C:\\Users\\vitor.braz\\AppData\\Roaming\\Python\\Python312\\site-packages\\shapely\\measurement.py:72: RuntimeWarning: invalid value encountered in distance\n",
      "  return lib.distance(a, b, **kwargs)\n",
      "C:\\Users\\vitor.braz\\AppData\\Roaming\\Python\\Python312\\site-packages\\shapely\\measurement.py:72: RuntimeWarning: invalid value encountered in distance\n",
      "  return lib.distance(a, b, **kwargs)\n",
      "C:\\Users\\vitor.braz\\AppData\\Roaming\\Python\\Python312\\site-packages\\shapely\\measurement.py:72: RuntimeWarning: invalid value encountered in distance\n",
      "  return lib.distance(a, b, **kwargs)\n",
      "C:\\Users\\vitor.braz\\AppData\\Roaming\\Python\\Python312\\site-packages\\shapely\\measurement.py:72: RuntimeWarning: invalid value encountered in distance\n",
      "  return lib.distance(a, b, **kwargs)\n",
      "C:\\Users\\vitor.braz\\AppData\\Roaming\\Python\\Python312\\site-packages\\shapely\\measurement.py:72: RuntimeWarning: invalid value encountered in distance\n",
      "  return lib.distance(a, b, **kwargs)\n",
      "C:\\Users\\vitor.braz\\AppData\\Roaming\\Python\\Python312\\site-packages\\shapely\\measurement.py:72: RuntimeWarning: invalid value encountered in distance\n",
      "  return lib.distance(a, b, **kwargs)\n",
      "C:\\Users\\vitor.braz\\AppData\\Roaming\\Python\\Python312\\site-packages\\shapely\\measurement.py:72: RuntimeWarning: invalid value encountered in distance\n",
      "  return lib.distance(a, b, **kwargs)\n",
      "C:\\Users\\vitor.braz\\AppData\\Roaming\\Python\\Python312\\site-packages\\shapely\\measurement.py:72: RuntimeWarning: invalid value encountered in distance\n",
      "  return lib.distance(a, b, **kwargs)\n",
      "C:\\Users\\vitor.braz\\AppData\\Roaming\\Python\\Python312\\site-packages\\shapely\\measurement.py:72: RuntimeWarning: invalid value encountered in distance\n",
      "  return lib.distance(a, b, **kwargs)\n",
      "C:\\Users\\vitor.braz\\AppData\\Roaming\\Python\\Python312\\site-packages\\shapely\\measurement.py:72: RuntimeWarning: invalid value encountered in distance\n",
      "  return lib.distance(a, b, **kwargs)\n",
      "C:\\Users\\vitor.braz\\AppData\\Roaming\\Python\\Python312\\site-packages\\shapely\\measurement.py:72: RuntimeWarning: invalid value encountered in distance\n",
      "  return lib.distance(a, b, **kwargs)\n",
      "C:\\Users\\vitor.braz\\AppData\\Roaming\\Python\\Python312\\site-packages\\shapely\\measurement.py:72: RuntimeWarning: invalid value encountered in distance\n",
      "  return lib.distance(a, b, **kwargs)\n",
      "C:\\Users\\vitor.braz\\AppData\\Roaming\\Python\\Python312\\site-packages\\shapely\\measurement.py:72: RuntimeWarning: invalid value encountered in distance\n",
      "  return lib.distance(a, b, **kwargs)\n",
      "C:\\Users\\vitor.braz\\AppData\\Roaming\\Python\\Python312\\site-packages\\shapely\\measurement.py:72: RuntimeWarning: invalid value encountered in distance\n",
      "  return lib.distance(a, b, **kwargs)\n",
      "C:\\Users\\vitor.braz\\AppData\\Roaming\\Python\\Python312\\site-packages\\shapely\\measurement.py:72: RuntimeWarning: invalid value encountered in distance\n",
      "  return lib.distance(a, b, **kwargs)\n",
      "C:\\Users\\vitor.braz\\AppData\\Roaming\\Python\\Python312\\site-packages\\shapely\\measurement.py:72: RuntimeWarning: invalid value encountered in distance\n",
      "  return lib.distance(a, b, **kwargs)\n"
     ]
    },
    {
     "name": "stdout",
     "output_type": "stream",
     "text": [
      "[INFO] Tentando sem tipo de via: 'SADAMU INOUE'\n"
     ]
    },
    {
     "name": "stderr",
     "output_type": "stream",
     "text": [
      "C:\\Users\\vitor.braz\\AppData\\Roaming\\Python\\Python312\\site-packages\\shapely\\measurement.py:72: RuntimeWarning: invalid value encountered in distance\n",
      "  return lib.distance(a, b, **kwargs)\n",
      "C:\\Users\\vitor.braz\\AppData\\Roaming\\Python\\Python312\\site-packages\\shapely\\measurement.py:72: RuntimeWarning: invalid value encountered in distance\n",
      "  return lib.distance(a, b, **kwargs)\n",
      "C:\\Users\\vitor.braz\\AppData\\Roaming\\Python\\Python312\\site-packages\\shapely\\measurement.py:72: RuntimeWarning: invalid value encountered in distance\n",
      "  return lib.distance(a, b, **kwargs)\n",
      "C:\\Users\\vitor.braz\\AppData\\Roaming\\Python\\Python312\\site-packages\\shapely\\measurement.py:72: RuntimeWarning: invalid value encountered in distance\n",
      "  return lib.distance(a, b, **kwargs)\n",
      "C:\\Users\\vitor.braz\\AppData\\Roaming\\Python\\Python312\\site-packages\\shapely\\measurement.py:72: RuntimeWarning: invalid value encountered in distance\n",
      "  return lib.distance(a, b, **kwargs)\n",
      "C:\\Users\\vitor.braz\\AppData\\Roaming\\Python\\Python312\\site-packages\\shapely\\measurement.py:72: RuntimeWarning: invalid value encountered in distance\n",
      "  return lib.distance(a, b, **kwargs)\n",
      "C:\\Users\\vitor.braz\\AppData\\Roaming\\Python\\Python312\\site-packages\\shapely\\measurement.py:72: RuntimeWarning: invalid value encountered in distance\n",
      "  return lib.distance(a, b, **kwargs)\n",
      "C:\\Users\\vitor.braz\\AppData\\Roaming\\Python\\Python312\\site-packages\\shapely\\measurement.py:72: RuntimeWarning: invalid value encountered in distance\n",
      "  return lib.distance(a, b, **kwargs)\n",
      "C:\\Users\\vitor.braz\\AppData\\Roaming\\Python\\Python312\\site-packages\\shapely\\measurement.py:72: RuntimeWarning: invalid value encountered in distance\n",
      "  return lib.distance(a, b, **kwargs)\n",
      "C:\\Users\\vitor.braz\\AppData\\Roaming\\Python\\Python312\\site-packages\\shapely\\measurement.py:72: RuntimeWarning: invalid value encountered in distance\n",
      "  return lib.distance(a, b, **kwargs)\n",
      "C:\\Users\\vitor.braz\\AppData\\Roaming\\Python\\Python312\\site-packages\\shapely\\measurement.py:72: RuntimeWarning: invalid value encountered in distance\n",
      "  return lib.distance(a, b, **kwargs)\n",
      "C:\\Users\\vitor.braz\\AppData\\Roaming\\Python\\Python312\\site-packages\\shapely\\measurement.py:72: RuntimeWarning: invalid value encountered in distance\n",
      "  return lib.distance(a, b, **kwargs)\n",
      "C:\\Users\\vitor.braz\\AppData\\Roaming\\Python\\Python312\\site-packages\\shapely\\measurement.py:72: RuntimeWarning: invalid value encountered in distance\n",
      "  return lib.distance(a, b, **kwargs)\n"
     ]
    },
    {
     "name": "stdout",
     "output_type": "stream",
     "text": [
      "[INFO] Tentando sem tipo de via: 'ROBERT KENNEDY'\n",
      "[INFO] Tentando sem tipo de via: 'SILENA'\n"
     ]
    },
    {
     "name": "stderr",
     "output_type": "stream",
     "text": [
      "C:\\Users\\vitor.braz\\AppData\\Roaming\\Python\\Python312\\site-packages\\shapely\\measurement.py:72: RuntimeWarning: invalid value encountered in distance\n",
      "  return lib.distance(a, b, **kwargs)\n",
      "C:\\Users\\vitor.braz\\AppData\\Roaming\\Python\\Python312\\site-packages\\shapely\\measurement.py:72: RuntimeWarning: invalid value encountered in distance\n",
      "  return lib.distance(a, b, **kwargs)\n",
      "C:\\Users\\vitor.braz\\AppData\\Roaming\\Python\\Python312\\site-packages\\shapely\\measurement.py:72: RuntimeWarning: invalid value encountered in distance\n",
      "  return lib.distance(a, b, **kwargs)\n",
      "C:\\Users\\vitor.braz\\AppData\\Roaming\\Python\\Python312\\site-packages\\shapely\\measurement.py:72: RuntimeWarning: invalid value encountered in distance\n",
      "  return lib.distance(a, b, **kwargs)\n",
      "C:\\Users\\vitor.braz\\AppData\\Roaming\\Python\\Python312\\site-packages\\shapely\\measurement.py:72: RuntimeWarning: invalid value encountered in distance\n",
      "  return lib.distance(a, b, **kwargs)\n",
      "C:\\Users\\vitor.braz\\AppData\\Roaming\\Python\\Python312\\site-packages\\shapely\\measurement.py:72: RuntimeWarning: invalid value encountered in distance\n",
      "  return lib.distance(a, b, **kwargs)\n"
     ]
    },
    {
     "name": "stdout",
     "output_type": "stream",
     "text": [
      "[INFO] Tentando sem tipo de via: 'MATEUS DE ALBUQUERQUE'\n"
     ]
    },
    {
     "name": "stderr",
     "output_type": "stream",
     "text": [
      "C:\\Users\\vitor.braz\\AppData\\Roaming\\Python\\Python312\\site-packages\\shapely\\measurement.py:72: RuntimeWarning: invalid value encountered in distance\n",
      "  return lib.distance(a, b, **kwargs)\n",
      "C:\\Users\\vitor.braz\\AppData\\Roaming\\Python\\Python312\\site-packages\\shapely\\measurement.py:72: RuntimeWarning: invalid value encountered in distance\n",
      "  return lib.distance(a, b, **kwargs)\n",
      "C:\\Users\\vitor.braz\\AppData\\Roaming\\Python\\Python312\\site-packages\\shapely\\measurement.py:72: RuntimeWarning: invalid value encountered in distance\n",
      "  return lib.distance(a, b, **kwargs)\n"
     ]
    },
    {
     "name": "stdout",
     "output_type": "stream",
     "text": [
      "[INFO] Tentando sem tipo de via: 'DA CASA VERDE PTE DA CASA VERDE, SÃO PAULO'\n"
     ]
    },
    {
     "name": "stderr",
     "output_type": "stream",
     "text": [
      "C:\\Users\\vitor.braz\\AppData\\Roaming\\Python\\Python312\\site-packages\\shapely\\measurement.py:72: RuntimeWarning: invalid value encountered in distance\n",
      "  return lib.distance(a, b, **kwargs)\n",
      "C:\\Users\\vitor.braz\\AppData\\Roaming\\Python\\Python312\\site-packages\\shapely\\measurement.py:72: RuntimeWarning: invalid value encountered in distance\n",
      "  return lib.distance(a, b, **kwargs)\n",
      "C:\\Users\\vitor.braz\\AppData\\Roaming\\Python\\Python312\\site-packages\\shapely\\measurement.py:72: RuntimeWarning: invalid value encountered in distance\n",
      "  return lib.distance(a, b, **kwargs)\n",
      "C:\\Users\\vitor.braz\\AppData\\Roaming\\Python\\Python312\\site-packages\\shapely\\measurement.py:72: RuntimeWarning: invalid value encountered in distance\n",
      "  return lib.distance(a, b, **kwargs)\n",
      "C:\\Users\\vitor.braz\\AppData\\Roaming\\Python\\Python312\\site-packages\\shapely\\measurement.py:72: RuntimeWarning: invalid value encountered in distance\n",
      "  return lib.distance(a, b, **kwargs)\n",
      "C:\\Users\\vitor.braz\\AppData\\Roaming\\Python\\Python312\\site-packages\\shapely\\measurement.py:72: RuntimeWarning: invalid value encountered in distance\n",
      "  return lib.distance(a, b, **kwargs)\n"
     ]
    },
    {
     "name": "stdout",
     "output_type": "stream",
     "text": [
      "[INFO] Tentando sem tipo de via: 'TANCREDO DE ALMEIDA NEVES'\n"
     ]
    },
    {
     "name": "stderr",
     "output_type": "stream",
     "text": [
      "C:\\Users\\vitor.braz\\AppData\\Roaming\\Python\\Python312\\site-packages\\shapely\\measurement.py:72: RuntimeWarning: invalid value encountered in distance\n",
      "  return lib.distance(a, b, **kwargs)\n",
      "C:\\Users\\vitor.braz\\AppData\\Roaming\\Python\\Python312\\site-packages\\shapely\\measurement.py:72: RuntimeWarning: invalid value encountered in distance\n",
      "  return lib.distance(a, b, **kwargs)\n",
      "C:\\Users\\vitor.braz\\AppData\\Roaming\\Python\\Python312\\site-packages\\shapely\\measurement.py:72: RuntimeWarning: invalid value encountered in distance\n",
      "  return lib.distance(a, b, **kwargs)\n",
      "C:\\Users\\vitor.braz\\AppData\\Roaming\\Python\\Python312\\site-packages\\shapely\\measurement.py:72: RuntimeWarning: invalid value encountered in distance\n",
      "  return lib.distance(a, b, **kwargs)\n",
      "C:\\Users\\vitor.braz\\AppData\\Roaming\\Python\\Python312\\site-packages\\shapely\\measurement.py:72: RuntimeWarning: invalid value encountered in distance\n",
      "  return lib.distance(a, b, **kwargs)\n"
     ]
    },
    {
     "name": "stdout",
     "output_type": "stream",
     "text": [
      "[INFO] Tentando sem tipo de via: 'ROBERT KENNEDY'\n"
     ]
    },
    {
     "name": "stderr",
     "output_type": "stream",
     "text": [
      "C:\\Users\\vitor.braz\\AppData\\Roaming\\Python\\Python312\\site-packages\\shapely\\measurement.py:72: RuntimeWarning: invalid value encountered in distance\n",
      "  return lib.distance(a, b, **kwargs)\n",
      "C:\\Users\\vitor.braz\\AppData\\Roaming\\Python\\Python312\\site-packages\\shapely\\measurement.py:72: RuntimeWarning: invalid value encountered in distance\n",
      "  return lib.distance(a, b, **kwargs)\n",
      "C:\\Users\\vitor.braz\\AppData\\Roaming\\Python\\Python312\\site-packages\\shapely\\measurement.py:72: RuntimeWarning: invalid value encountered in distance\n",
      "  return lib.distance(a, b, **kwargs)\n",
      "C:\\Users\\vitor.braz\\AppData\\Roaming\\Python\\Python312\\site-packages\\shapely\\measurement.py:72: RuntimeWarning: invalid value encountered in distance\n",
      "  return lib.distance(a, b, **kwargs)\n",
      "C:\\Users\\vitor.braz\\AppData\\Roaming\\Python\\Python312\\site-packages\\shapely\\measurement.py:72: RuntimeWarning: invalid value encountered in distance\n",
      "  return lib.distance(a, b, **kwargs)\n",
      "C:\\Users\\vitor.braz\\AppData\\Roaming\\Python\\Python312\\site-packages\\shapely\\measurement.py:72: RuntimeWarning: invalid value encountered in distance\n",
      "  return lib.distance(a, b, **kwargs)\n"
     ]
    },
    {
     "name": "stdout",
     "output_type": "stream",
     "text": [
      "[INFO] Tentando sem tipo de via: 'MARIO COVAS'\n"
     ]
    },
    {
     "name": "stderr",
     "output_type": "stream",
     "text": [
      "C:\\Users\\vitor.braz\\AppData\\Roaming\\Python\\Python312\\site-packages\\shapely\\measurement.py:72: RuntimeWarning: invalid value encountered in distance\n",
      "  return lib.distance(a, b, **kwargs)\n",
      "C:\\Users\\vitor.braz\\AppData\\Roaming\\Python\\Python312\\site-packages\\shapely\\measurement.py:72: RuntimeWarning: invalid value encountered in distance\n",
      "  return lib.distance(a, b, **kwargs)\n",
      "C:\\Users\\vitor.braz\\AppData\\Roaming\\Python\\Python312\\site-packages\\shapely\\measurement.py:72: RuntimeWarning: invalid value encountered in distance\n",
      "  return lib.distance(a, b, **kwargs)\n",
      "C:\\Users\\vitor.braz\\AppData\\Roaming\\Python\\Python312\\site-packages\\shapely\\measurement.py:72: RuntimeWarning: invalid value encountered in distance\n",
      "  return lib.distance(a, b, **kwargs)\n",
      "C:\\Users\\vitor.braz\\AppData\\Roaming\\Python\\Python312\\site-packages\\shapely\\measurement.py:72: RuntimeWarning: invalid value encountered in distance\n",
      "  return lib.distance(a, b, **kwargs)\n",
      "C:\\Users\\vitor.braz\\AppData\\Roaming\\Python\\Python312\\site-packages\\shapely\\measurement.py:72: RuntimeWarning: invalid value encountered in distance\n",
      "  return lib.distance(a, b, **kwargs)\n",
      "C:\\Users\\vitor.braz\\AppData\\Roaming\\Python\\Python312\\site-packages\\shapely\\measurement.py:72: RuntimeWarning: invalid value encountered in distance\n",
      "  return lib.distance(a, b, **kwargs)\n",
      "C:\\Users\\vitor.braz\\AppData\\Roaming\\Python\\Python312\\site-packages\\shapely\\measurement.py:72: RuntimeWarning: invalid value encountered in distance\n",
      "  return lib.distance(a, b, **kwargs)\n",
      "C:\\Users\\vitor.braz\\AppData\\Roaming\\Python\\Python312\\site-packages\\shapely\\measurement.py:72: RuntimeWarning: invalid value encountered in distance\n",
      "  return lib.distance(a, b, **kwargs)\n",
      "C:\\Users\\vitor.braz\\AppData\\Roaming\\Python\\Python312\\site-packages\\shapely\\measurement.py:72: RuntimeWarning: invalid value encountered in distance\n",
      "  return lib.distance(a, b, **kwargs)\n",
      "C:\\Users\\vitor.braz\\AppData\\Roaming\\Python\\Python312\\site-packages\\shapely\\measurement.py:72: RuntimeWarning: invalid value encountered in distance\n",
      "  return lib.distance(a, b, **kwargs)\n",
      "C:\\Users\\vitor.braz\\AppData\\Roaming\\Python\\Python312\\site-packages\\shapely\\measurement.py:72: RuntimeWarning: invalid value encountered in distance\n",
      "  return lib.distance(a, b, **kwargs)\n",
      "C:\\Users\\vitor.braz\\AppData\\Roaming\\Python\\Python312\\site-packages\\shapely\\measurement.py:72: RuntimeWarning: invalid value encountered in distance\n",
      "  return lib.distance(a, b, **kwargs)\n",
      "C:\\Users\\vitor.braz\\AppData\\Roaming\\Python\\Python312\\site-packages\\shapely\\measurement.py:72: RuntimeWarning: invalid value encountered in distance\n",
      "  return lib.distance(a, b, **kwargs)\n",
      "C:\\Users\\vitor.braz\\AppData\\Roaming\\Python\\Python312\\site-packages\\shapely\\measurement.py:72: RuntimeWarning: invalid value encountered in distance\n",
      "  return lib.distance(a, b, **kwargs)\n",
      "C:\\Users\\vitor.braz\\AppData\\Roaming\\Python\\Python312\\site-packages\\shapely\\measurement.py:72: RuntimeWarning: invalid value encountered in distance\n",
      "  return lib.distance(a, b, **kwargs)\n",
      "C:\\Users\\vitor.braz\\AppData\\Roaming\\Python\\Python312\\site-packages\\shapely\\measurement.py:72: RuntimeWarning: invalid value encountered in distance\n",
      "  return lib.distance(a, b, **kwargs)\n",
      "C:\\Users\\vitor.braz\\AppData\\Roaming\\Python\\Python312\\site-packages\\shapely\\measurement.py:72: RuntimeWarning: invalid value encountered in distance\n",
      "  return lib.distance(a, b, **kwargs)\n",
      "C:\\Users\\vitor.braz\\AppData\\Roaming\\Python\\Python312\\site-packages\\shapely\\measurement.py:72: RuntimeWarning: invalid value encountered in distance\n",
      "  return lib.distance(a, b, **kwargs)\n",
      "C:\\Users\\vitor.braz\\AppData\\Roaming\\Python\\Python312\\site-packages\\shapely\\measurement.py:72: RuntimeWarning: invalid value encountered in distance\n",
      "  return lib.distance(a, b, **kwargs)\n"
     ]
    },
    {
     "name": "stdout",
     "output_type": "stream",
     "text": [
      "[INFO] Tentando sem tipo de via: 'DOUTOR EDUARDO COTCHING'\n"
     ]
    },
    {
     "name": "stderr",
     "output_type": "stream",
     "text": [
      "C:\\Users\\vitor.braz\\AppData\\Roaming\\Python\\Python312\\site-packages\\shapely\\measurement.py:72: RuntimeWarning: invalid value encountered in distance\n",
      "  return lib.distance(a, b, **kwargs)\n",
      "C:\\Users\\vitor.braz\\AppData\\Roaming\\Python\\Python312\\site-packages\\shapely\\measurement.py:72: RuntimeWarning: invalid value encountered in distance\n",
      "  return lib.distance(a, b, **kwargs)\n",
      "C:\\Users\\vitor.braz\\AppData\\Roaming\\Python\\Python312\\site-packages\\shapely\\measurement.py:72: RuntimeWarning: invalid value encountered in distance\n",
      "  return lib.distance(a, b, **kwargs)\n",
      "C:\\Users\\vitor.braz\\AppData\\Roaming\\Python\\Python312\\site-packages\\shapely\\measurement.py:72: RuntimeWarning: invalid value encountered in distance\n",
      "  return lib.distance(a, b, **kwargs)\n"
     ]
    },
    {
     "name": "stdout",
     "output_type": "stream",
     "text": [
      "[INFO] Tentando sem tipo de via: 'MARG PINHEIROS KM 3,5'\n"
     ]
    },
    {
     "name": "stderr",
     "output_type": "stream",
     "text": [
      "C:\\Users\\vitor.braz\\AppData\\Roaming\\Python\\Python312\\site-packages\\shapely\\measurement.py:72: RuntimeWarning: invalid value encountered in distance\n",
      "  return lib.distance(a, b, **kwargs)\n"
     ]
    },
    {
     "name": "stdout",
     "output_type": "stream",
     "text": [
      "[INFO] Tentando sem tipo de via: 'ROBERT KENNEDY'\n"
     ]
    },
    {
     "name": "stderr",
     "output_type": "stream",
     "text": [
      "C:\\Users\\vitor.braz\\AppData\\Roaming\\Python\\Python312\\site-packages\\shapely\\measurement.py:72: RuntimeWarning: invalid value encountered in distance\n",
      "  return lib.distance(a, b, **kwargs)\n",
      "C:\\Users\\vitor.braz\\AppData\\Roaming\\Python\\Python312\\site-packages\\shapely\\measurement.py:72: RuntimeWarning: invalid value encountered in distance\n",
      "  return lib.distance(a, b, **kwargs)\n",
      "C:\\Users\\vitor.braz\\AppData\\Roaming\\Python\\Python312\\site-packages\\shapely\\measurement.py:72: RuntimeWarning: invalid value encountered in distance\n",
      "  return lib.distance(a, b, **kwargs)\n",
      "C:\\Users\\vitor.braz\\AppData\\Roaming\\Python\\Python312\\site-packages\\shapely\\measurement.py:72: RuntimeWarning: invalid value encountered in distance\n",
      "  return lib.distance(a, b, **kwargs)\n",
      "C:\\Users\\vitor.braz\\AppData\\Roaming\\Python\\Python312\\site-packages\\shapely\\measurement.py:72: RuntimeWarning: invalid value encountered in distance\n",
      "  return lib.distance(a, b, **kwargs)\n",
      "C:\\Users\\vitor.braz\\AppData\\Roaming\\Python\\Python312\\site-packages\\shapely\\measurement.py:72: RuntimeWarning: invalid value encountered in distance\n",
      "  return lib.distance(a, b, **kwargs)\n"
     ]
    },
    {
     "name": "stdout",
     "output_type": "stream",
     "text": [
      "[INFO] Tentando sem tipo de via: 'DAS JUNTAS PROVISORIAS'\n"
     ]
    },
    {
     "name": "stderr",
     "output_type": "stream",
     "text": [
      "C:\\Users\\vitor.braz\\AppData\\Roaming\\Python\\Python312\\site-packages\\shapely\\measurement.py:72: RuntimeWarning: invalid value encountered in distance\n",
      "  return lib.distance(a, b, **kwargs)\n",
      "C:\\Users\\vitor.braz\\AppData\\Roaming\\Python\\Python312\\site-packages\\shapely\\measurement.py:72: RuntimeWarning: invalid value encountered in distance\n",
      "  return lib.distance(a, b, **kwargs)\n",
      "C:\\Users\\vitor.braz\\AppData\\Roaming\\Python\\Python312\\site-packages\\shapely\\measurement.py:72: RuntimeWarning: invalid value encountered in distance\n",
      "  return lib.distance(a, b, **kwargs)\n",
      "C:\\Users\\vitor.braz\\AppData\\Roaming\\Python\\Python312\\site-packages\\shapely\\measurement.py:72: RuntimeWarning: invalid value encountered in distance\n",
      "  return lib.distance(a, b, **kwargs)\n",
      "C:\\Users\\vitor.braz\\AppData\\Roaming\\Python\\Python312\\site-packages\\shapely\\measurement.py:72: RuntimeWarning: invalid value encountered in distance\n",
      "  return lib.distance(a, b, **kwargs)\n",
      "C:\\Users\\vitor.braz\\AppData\\Roaming\\Python\\Python312\\site-packages\\shapely\\measurement.py:72: RuntimeWarning: invalid value encountered in distance\n",
      "  return lib.distance(a, b, **kwargs)\n",
      "C:\\Users\\vitor.braz\\AppData\\Roaming\\Python\\Python312\\site-packages\\shapely\\measurement.py:72: RuntimeWarning: invalid value encountered in distance\n",
      "  return lib.distance(a, b, **kwargs)\n",
      "C:\\Users\\vitor.braz\\AppData\\Roaming\\Python\\Python312\\site-packages\\shapely\\measurement.py:72: RuntimeWarning: invalid value encountered in distance\n",
      "  return lib.distance(a, b, **kwargs)\n",
      "C:\\Users\\vitor.braz\\AppData\\Roaming\\Python\\Python312\\site-packages\\shapely\\measurement.py:72: RuntimeWarning: invalid value encountered in distance\n",
      "  return lib.distance(a, b, **kwargs)\n"
     ]
    },
    {
     "name": "stdout",
     "output_type": "stream",
     "text": [
      "[INFO] Tentando sem tipo de via: 'EMB MACEDO SOARES KM4'\n"
     ]
    },
    {
     "name": "stderr",
     "output_type": "stream",
     "text": [
      "C:\\Users\\vitor.braz\\AppData\\Roaming\\Python\\Python312\\site-packages\\shapely\\measurement.py:72: RuntimeWarning: invalid value encountered in distance\n",
      "  return lib.distance(a, b, **kwargs)\n",
      "C:\\Users\\vitor.braz\\AppData\\Roaming\\Python\\Python312\\site-packages\\shapely\\measurement.py:72: RuntimeWarning: invalid value encountered in distance\n",
      "  return lib.distance(a, b, **kwargs)\n",
      "C:\\Users\\vitor.braz\\AppData\\Roaming\\Python\\Python312\\site-packages\\shapely\\measurement.py:72: RuntimeWarning: invalid value encountered in distance\n",
      "  return lib.distance(a, b, **kwargs)\n",
      "C:\\Users\\vitor.braz\\AppData\\Roaming\\Python\\Python312\\site-packages\\shapely\\measurement.py:72: RuntimeWarning: invalid value encountered in distance\n",
      "  return lib.distance(a, b, **kwargs)\n",
      "C:\\Users\\vitor.braz\\AppData\\Roaming\\Python\\Python312\\site-packages\\shapely\\measurement.py:72: RuntimeWarning: invalid value encountered in distance\n",
      "  return lib.distance(a, b, **kwargs)\n",
      "C:\\Users\\vitor.braz\\AppData\\Roaming\\Python\\Python312\\site-packages\\shapely\\measurement.py:72: RuntimeWarning: invalid value encountered in distance\n",
      "  return lib.distance(a, b, **kwargs)\n",
      "C:\\Users\\vitor.braz\\AppData\\Roaming\\Python\\Python312\\site-packages\\shapely\\measurement.py:72: RuntimeWarning: invalid value encountered in distance\n",
      "  return lib.distance(a, b, **kwargs)\n"
     ]
    },
    {
     "name": "stdout",
     "output_type": "stream",
     "text": [
      "[INFO] Tentando sem tipo de via: 'VILA MARIA'\n"
     ]
    },
    {
     "name": "stderr",
     "output_type": "stream",
     "text": [
      "C:\\Users\\vitor.braz\\AppData\\Roaming\\Python\\Python312\\site-packages\\shapely\\measurement.py:72: RuntimeWarning: invalid value encountered in distance\n",
      "  return lib.distance(a, b, **kwargs)\n",
      "C:\\Users\\vitor.braz\\AppData\\Roaming\\Python\\Python312\\site-packages\\shapely\\measurement.py:72: RuntimeWarning: invalid value encountered in distance\n",
      "  return lib.distance(a, b, **kwargs)\n",
      "C:\\Users\\vitor.braz\\AppData\\Roaming\\Python\\Python312\\site-packages\\shapely\\measurement.py:72: RuntimeWarning: invalid value encountered in distance\n",
      "  return lib.distance(a, b, **kwargs)\n",
      "C:\\Users\\vitor.braz\\AppData\\Roaming\\Python\\Python312\\site-packages\\shapely\\measurement.py:72: RuntimeWarning: invalid value encountered in distance\n",
      "  return lib.distance(a, b, **kwargs)\n",
      "C:\\Users\\vitor.braz\\AppData\\Roaming\\Python\\Python312\\site-packages\\shapely\\measurement.py:72: RuntimeWarning: invalid value encountered in distance\n",
      "  return lib.distance(a, b, **kwargs)\n"
     ]
    },
    {
     "name": "stdout",
     "output_type": "stream",
     "text": [
      "[INFO] Tentando sem tipo de via: 'DEPUTADO DOUTOR JOSÉ A PINOTTI'\n",
      "[INFO] Tentando sem tipo de via: 'VIA ANHANGUERA'\n"
     ]
    },
    {
     "name": "stderr",
     "output_type": "stream",
     "text": [
      "C:\\Users\\vitor.braz\\AppData\\Roaming\\Python\\Python312\\site-packages\\shapely\\measurement.py:72: RuntimeWarning: invalid value encountered in distance\n",
      "  return lib.distance(a, b, **kwargs)\n",
      "C:\\Users\\vitor.braz\\AppData\\Roaming\\Python\\Python312\\site-packages\\shapely\\measurement.py:72: RuntimeWarning: invalid value encountered in distance\n",
      "  return lib.distance(a, b, **kwargs)\n",
      "C:\\Users\\vitor.braz\\AppData\\Roaming\\Python\\Python312\\site-packages\\shapely\\measurement.py:72: RuntimeWarning: invalid value encountered in distance\n",
      "  return lib.distance(a, b, **kwargs)\n",
      "C:\\Users\\vitor.braz\\AppData\\Roaming\\Python\\Python312\\site-packages\\shapely\\measurement.py:72: RuntimeWarning: invalid value encountered in distance\n",
      "  return lib.distance(a, b, **kwargs)\n",
      "C:\\Users\\vitor.braz\\AppData\\Roaming\\Python\\Python312\\site-packages\\shapely\\measurement.py:72: RuntimeWarning: invalid value encountered in distance\n",
      "  return lib.distance(a, b, **kwargs)\n",
      "C:\\Users\\vitor.braz\\AppData\\Roaming\\Python\\Python312\\site-packages\\shapely\\measurement.py:72: RuntimeWarning: invalid value encountered in distance\n",
      "  return lib.distance(a, b, **kwargs)\n",
      "C:\\Users\\vitor.braz\\AppData\\Roaming\\Python\\Python312\\site-packages\\shapely\\measurement.py:72: RuntimeWarning: invalid value encountered in distance\n",
      "  return lib.distance(a, b, **kwargs)\n",
      "C:\\Users\\vitor.braz\\AppData\\Roaming\\Python\\Python312\\site-packages\\shapely\\measurement.py:72: RuntimeWarning: invalid value encountered in distance\n",
      "  return lib.distance(a, b, **kwargs)\n",
      "C:\\Users\\vitor.braz\\AppData\\Roaming\\Python\\Python312\\site-packages\\shapely\\measurement.py:72: RuntimeWarning: invalid value encountered in distance\n",
      "  return lib.distance(a, b, **kwargs)\n",
      "C:\\Users\\vitor.braz\\AppData\\Roaming\\Python\\Python312\\site-packages\\shapely\\measurement.py:72: RuntimeWarning: invalid value encountered in distance\n",
      "  return lib.distance(a, b, **kwargs)\n",
      "C:\\Users\\vitor.braz\\AppData\\Roaming\\Python\\Python312\\site-packages\\shapely\\measurement.py:72: RuntimeWarning: invalid value encountered in distance\n",
      "  return lib.distance(a, b, **kwargs)\n",
      "C:\\Users\\vitor.braz\\AppData\\Roaming\\Python\\Python312\\site-packages\\shapely\\measurement.py:72: RuntimeWarning: invalid value encountered in distance\n",
      "  return lib.distance(a, b, **kwargs)\n",
      "C:\\Users\\vitor.braz\\AppData\\Roaming\\Python\\Python312\\site-packages\\shapely\\measurement.py:72: RuntimeWarning: invalid value encountered in distance\n",
      "  return lib.distance(a, b, **kwargs)\n",
      "C:\\Users\\vitor.braz\\AppData\\Roaming\\Python\\Python312\\site-packages\\shapely\\measurement.py:72: RuntimeWarning: invalid value encountered in distance\n",
      "  return lib.distance(a, b, **kwargs)\n",
      "C:\\Users\\vitor.braz\\AppData\\Roaming\\Python\\Python312\\site-packages\\shapely\\measurement.py:72: RuntimeWarning: invalid value encountered in distance\n",
      "  return lib.distance(a, b, **kwargs)\n",
      "C:\\Users\\vitor.braz\\AppData\\Roaming\\Python\\Python312\\site-packages\\shapely\\measurement.py:72: RuntimeWarning: invalid value encountered in distance\n",
      "  return lib.distance(a, b, **kwargs)\n",
      "C:\\Users\\vitor.braz\\AppData\\Roaming\\Python\\Python312\\site-packages\\shapely\\measurement.py:72: RuntimeWarning: invalid value encountered in distance\n",
      "  return lib.distance(a, b, **kwargs)\n",
      "C:\\Users\\vitor.braz\\AppData\\Roaming\\Python\\Python312\\site-packages\\shapely\\measurement.py:72: RuntimeWarning: invalid value encountered in distance\n",
      "  return lib.distance(a, b, **kwargs)\n",
      "C:\\Users\\vitor.braz\\AppData\\Roaming\\Python\\Python312\\site-packages\\shapely\\measurement.py:72: RuntimeWarning: invalid value encountered in distance\n",
      "  return lib.distance(a, b, **kwargs)\n",
      "C:\\Users\\vitor.braz\\AppData\\Roaming\\Python\\Python312\\site-packages\\shapely\\measurement.py:72: RuntimeWarning: invalid value encountered in distance\n",
      "  return lib.distance(a, b, **kwargs)\n",
      "C:\\Users\\vitor.braz\\AppData\\Roaming\\Python\\Python312\\site-packages\\shapely\\measurement.py:72: RuntimeWarning: invalid value encountered in distance\n",
      "  return lib.distance(a, b, **kwargs)\n",
      "C:\\Users\\vitor.braz\\AppData\\Roaming\\Python\\Python312\\site-packages\\shapely\\measurement.py:72: RuntimeWarning: invalid value encountered in distance\n",
      "  return lib.distance(a, b, **kwargs)\n",
      "C:\\Users\\vitor.braz\\AppData\\Roaming\\Python\\Python312\\site-packages\\shapely\\measurement.py:72: RuntimeWarning: invalid value encountered in distance\n",
      "  return lib.distance(a, b, **kwargs)\n",
      "C:\\Users\\vitor.braz\\AppData\\Roaming\\Python\\Python312\\site-packages\\shapely\\measurement.py:72: RuntimeWarning: invalid value encountered in distance\n",
      "  return lib.distance(a, b, **kwargs)\n",
      "C:\\Users\\vitor.braz\\AppData\\Roaming\\Python\\Python312\\site-packages\\shapely\\measurement.py:72: RuntimeWarning: invalid value encountered in distance\n",
      "  return lib.distance(a, b, **kwargs)\n",
      "C:\\Users\\vitor.braz\\AppData\\Roaming\\Python\\Python312\\site-packages\\shapely\\measurement.py:72: RuntimeWarning: invalid value encountered in distance\n",
      "  return lib.distance(a, b, **kwargs)\n",
      "C:\\Users\\vitor.braz\\AppData\\Roaming\\Python\\Python312\\site-packages\\shapely\\measurement.py:72: RuntimeWarning: invalid value encountered in distance\n",
      "  return lib.distance(a, b, **kwargs)\n",
      "C:\\Users\\vitor.braz\\AppData\\Roaming\\Python\\Python312\\site-packages\\shapely\\measurement.py:72: RuntimeWarning: invalid value encountered in distance\n",
      "  return lib.distance(a, b, **kwargs)\n",
      "C:\\Users\\vitor.braz\\AppData\\Roaming\\Python\\Python312\\site-packages\\shapely\\measurement.py:72: RuntimeWarning: invalid value encountered in distance\n",
      "  return lib.distance(a, b, **kwargs)\n",
      "C:\\Users\\vitor.braz\\AppData\\Roaming\\Python\\Python312\\site-packages\\shapely\\measurement.py:72: RuntimeWarning: invalid value encountered in distance\n",
      "  return lib.distance(a, b, **kwargs)\n",
      "C:\\Users\\vitor.braz\\AppData\\Roaming\\Python\\Python312\\site-packages\\shapely\\measurement.py:72: RuntimeWarning: invalid value encountered in distance\n",
      "  return lib.distance(a, b, **kwargs)\n",
      "C:\\Users\\vitor.braz\\AppData\\Roaming\\Python\\Python312\\site-packages\\shapely\\measurement.py:72: RuntimeWarning: invalid value encountered in distance\n",
      "  return lib.distance(a, b, **kwargs)\n"
     ]
    },
    {
     "name": "stdout",
     "output_type": "stream",
     "text": [
      "[INFO] Tentando sem tipo de via: 'DO M'BOI MIRIM'\n"
     ]
    },
    {
     "name": "stderr",
     "output_type": "stream",
     "text": [
      "C:\\Users\\vitor.braz\\AppData\\Roaming\\Python\\Python312\\site-packages\\shapely\\measurement.py:72: RuntimeWarning: invalid value encountered in distance\n",
      "  return lib.distance(a, b, **kwargs)\n",
      "C:\\Users\\vitor.braz\\AppData\\Roaming\\Python\\Python312\\site-packages\\shapely\\measurement.py:72: RuntimeWarning: invalid value encountered in distance\n",
      "  return lib.distance(a, b, **kwargs)\n",
      "C:\\Users\\vitor.braz\\AppData\\Roaming\\Python\\Python312\\site-packages\\shapely\\measurement.py:72: RuntimeWarning: invalid value encountered in distance\n",
      "  return lib.distance(a, b, **kwargs)\n",
      "C:\\Users\\vitor.braz\\AppData\\Roaming\\Python\\Python312\\site-packages\\shapely\\measurement.py:72: RuntimeWarning: invalid value encountered in distance\n",
      "  return lib.distance(a, b, **kwargs)\n",
      "C:\\Users\\vitor.braz\\AppData\\Roaming\\Python\\Python312\\site-packages\\shapely\\measurement.py:72: RuntimeWarning: invalid value encountered in distance\n",
      "  return lib.distance(a, b, **kwargs)\n",
      "C:\\Users\\vitor.braz\\AppData\\Roaming\\Python\\Python312\\site-packages\\shapely\\measurement.py:72: RuntimeWarning: invalid value encountered in distance\n",
      "  return lib.distance(a, b, **kwargs)\n"
     ]
    },
    {
     "name": "stdout",
     "output_type": "stream",
     "text": [
      "[INFO] Tentando sem tipo de via: 'MARIO COVAS'\n"
     ]
    },
    {
     "name": "stderr",
     "output_type": "stream",
     "text": [
      "C:\\Users\\vitor.braz\\AppData\\Roaming\\Python\\Python312\\site-packages\\shapely\\measurement.py:72: RuntimeWarning: invalid value encountered in distance\n",
      "  return lib.distance(a, b, **kwargs)\n",
      "C:\\Users\\vitor.braz\\AppData\\Roaming\\Python\\Python312\\site-packages\\shapely\\measurement.py:72: RuntimeWarning: invalid value encountered in distance\n",
      "  return lib.distance(a, b, **kwargs)\n",
      "C:\\Users\\vitor.braz\\AppData\\Roaming\\Python\\Python312\\site-packages\\shapely\\measurement.py:72: RuntimeWarning: invalid value encountered in distance\n",
      "  return lib.distance(a, b, **kwargs)\n",
      "C:\\Users\\vitor.braz\\AppData\\Roaming\\Python\\Python312\\site-packages\\shapely\\measurement.py:72: RuntimeWarning: invalid value encountered in distance\n",
      "  return lib.distance(a, b, **kwargs)\n",
      "C:\\Users\\vitor.braz\\AppData\\Roaming\\Python\\Python312\\site-packages\\shapely\\measurement.py:72: RuntimeWarning: invalid value encountered in distance\n",
      "  return lib.distance(a, b, **kwargs)\n",
      "C:\\Users\\vitor.braz\\AppData\\Roaming\\Python\\Python312\\site-packages\\shapely\\measurement.py:72: RuntimeWarning: invalid value encountered in distance\n",
      "  return lib.distance(a, b, **kwargs)\n",
      "C:\\Users\\vitor.braz\\AppData\\Roaming\\Python\\Python312\\site-packages\\shapely\\measurement.py:72: RuntimeWarning: invalid value encountered in distance\n",
      "  return lib.distance(a, b, **kwargs)\n",
      "C:\\Users\\vitor.braz\\AppData\\Roaming\\Python\\Python312\\site-packages\\shapely\\measurement.py:72: RuntimeWarning: invalid value encountered in distance\n",
      "  return lib.distance(a, b, **kwargs)\n",
      "C:\\Users\\vitor.braz\\AppData\\Roaming\\Python\\Python312\\site-packages\\shapely\\measurement.py:72: RuntimeWarning: invalid value encountered in distance\n",
      "  return lib.distance(a, b, **kwargs)\n",
      "C:\\Users\\vitor.braz\\AppData\\Roaming\\Python\\Python312\\site-packages\\shapely\\measurement.py:72: RuntimeWarning: invalid value encountered in distance\n",
      "  return lib.distance(a, b, **kwargs)\n",
      "C:\\Users\\vitor.braz\\AppData\\Roaming\\Python\\Python312\\site-packages\\shapely\\measurement.py:72: RuntimeWarning: invalid value encountered in distance\n",
      "  return lib.distance(a, b, **kwargs)\n"
     ]
    },
    {
     "name": "stdout",
     "output_type": "stream",
     "text": [
      "[INFO] Tentando sem tipo de via: 'DA CIDADE UNIVERSITARIA'\n"
     ]
    },
    {
     "name": "stderr",
     "output_type": "stream",
     "text": [
      "C:\\Users\\vitor.braz\\AppData\\Roaming\\Python\\Python312\\site-packages\\shapely\\measurement.py:72: RuntimeWarning: invalid value encountered in distance\n",
      "  return lib.distance(a, b, **kwargs)\n",
      "C:\\Users\\vitor.braz\\AppData\\Roaming\\Python\\Python312\\site-packages\\shapely\\measurement.py:72: RuntimeWarning: invalid value encountered in distance\n",
      "  return lib.distance(a, b, **kwargs)\n",
      "C:\\Users\\vitor.braz\\AppData\\Roaming\\Python\\Python312\\site-packages\\shapely\\measurement.py:72: RuntimeWarning: invalid value encountered in distance\n",
      "  return lib.distance(a, b, **kwargs)\n"
     ]
    },
    {
     "name": "stdout",
     "output_type": "stream",
     "text": [
      "[INFO] Tentando sem tipo de via: 'DO M'BOI MIRIM'\n"
     ]
    },
    {
     "name": "stderr",
     "output_type": "stream",
     "text": [
      "C:\\Users\\vitor.braz\\AppData\\Roaming\\Python\\Python312\\site-packages\\shapely\\measurement.py:72: RuntimeWarning: invalid value encountered in distance\n",
      "  return lib.distance(a, b, **kwargs)\n",
      "C:\\Users\\vitor.braz\\AppData\\Roaming\\Python\\Python312\\site-packages\\shapely\\measurement.py:72: RuntimeWarning: invalid value encountered in distance\n",
      "  return lib.distance(a, b, **kwargs)\n",
      "C:\\Users\\vitor.braz\\AppData\\Roaming\\Python\\Python312\\site-packages\\shapely\\measurement.py:72: RuntimeWarning: invalid value encountered in distance\n",
      "  return lib.distance(a, b, **kwargs)\n",
      "C:\\Users\\vitor.braz\\AppData\\Roaming\\Python\\Python312\\site-packages\\shapely\\measurement.py:72: RuntimeWarning: invalid value encountered in distance\n",
      "  return lib.distance(a, b, **kwargs)\n",
      "C:\\Users\\vitor.braz\\AppData\\Roaming\\Python\\Python312\\site-packages\\shapely\\measurement.py:72: RuntimeWarning: invalid value encountered in distance\n",
      "  return lib.distance(a, b, **kwargs)\n",
      "C:\\Users\\vitor.braz\\AppData\\Roaming\\Python\\Python312\\site-packages\\shapely\\measurement.py:72: RuntimeWarning: invalid value encountered in distance\n",
      "  return lib.distance(a, b, **kwargs)\n",
      "C:\\Users\\vitor.braz\\AppData\\Roaming\\Python\\Python312\\site-packages\\shapely\\measurement.py:72: RuntimeWarning: invalid value encountered in distance\n",
      "  return lib.distance(a, b, **kwargs)\n"
     ]
    },
    {
     "name": "stdout",
     "output_type": "stream",
     "text": [
      "[INFO] Tentando sem tipo de via: 'DAS JUNTAS PROVISORIAS'\n"
     ]
    },
    {
     "name": "stderr",
     "output_type": "stream",
     "text": [
      "C:\\Users\\vitor.braz\\AppData\\Roaming\\Python\\Python312\\site-packages\\shapely\\measurement.py:72: RuntimeWarning: invalid value encountered in distance\n",
      "  return lib.distance(a, b, **kwargs)\n",
      "C:\\Users\\vitor.braz\\AppData\\Roaming\\Python\\Python312\\site-packages\\shapely\\measurement.py:72: RuntimeWarning: invalid value encountered in distance\n",
      "  return lib.distance(a, b, **kwargs)\n",
      "C:\\Users\\vitor.braz\\AppData\\Roaming\\Python\\Python312\\site-packages\\shapely\\measurement.py:72: RuntimeWarning: invalid value encountered in distance\n",
      "  return lib.distance(a, b, **kwargs)\n",
      "C:\\Users\\vitor.braz\\AppData\\Roaming\\Python\\Python312\\site-packages\\shapely\\measurement.py:72: RuntimeWarning: invalid value encountered in distance\n",
      "  return lib.distance(a, b, **kwargs)\n",
      "C:\\Users\\vitor.braz\\AppData\\Roaming\\Python\\Python312\\site-packages\\shapely\\measurement.py:72: RuntimeWarning: invalid value encountered in distance\n",
      "  return lib.distance(a, b, **kwargs)\n",
      "C:\\Users\\vitor.braz\\AppData\\Roaming\\Python\\Python312\\site-packages\\shapely\\measurement.py:72: RuntimeWarning: invalid value encountered in distance\n",
      "  return lib.distance(a, b, **kwargs)\n",
      "C:\\Users\\vitor.braz\\AppData\\Roaming\\Python\\Python312\\site-packages\\shapely\\measurement.py:72: RuntimeWarning: invalid value encountered in distance\n",
      "  return lib.distance(a, b, **kwargs)\n",
      "C:\\Users\\vitor.braz\\AppData\\Roaming\\Python\\Python312\\site-packages\\shapely\\measurement.py:72: RuntimeWarning: invalid value encountered in distance\n",
      "  return lib.distance(a, b, **kwargs)\n"
     ]
    },
    {
     "name": "stdout",
     "output_type": "stream",
     "text": [
      "[INFO] Tentando sem tipo de via: 'DO M'BOI MIRIM'\n"
     ]
    },
    {
     "name": "stderr",
     "output_type": "stream",
     "text": [
      "C:\\Users\\vitor.braz\\AppData\\Roaming\\Python\\Python312\\site-packages\\shapely\\measurement.py:72: RuntimeWarning: invalid value encountered in distance\n",
      "  return lib.distance(a, b, **kwargs)\n",
      "C:\\Users\\vitor.braz\\AppData\\Roaming\\Python\\Python312\\site-packages\\shapely\\measurement.py:72: RuntimeWarning: invalid value encountered in distance\n",
      "  return lib.distance(a, b, **kwargs)\n",
      "C:\\Users\\vitor.braz\\AppData\\Roaming\\Python\\Python312\\site-packages\\shapely\\measurement.py:72: RuntimeWarning: invalid value encountered in distance\n",
      "  return lib.distance(a, b, **kwargs)\n",
      "C:\\Users\\vitor.braz\\AppData\\Roaming\\Python\\Python312\\site-packages\\shapely\\measurement.py:72: RuntimeWarning: invalid value encountered in distance\n",
      "  return lib.distance(a, b, **kwargs)\n",
      "C:\\Users\\vitor.braz\\AppData\\Roaming\\Python\\Python312\\site-packages\\shapely\\measurement.py:72: RuntimeWarning: invalid value encountered in distance\n",
      "  return lib.distance(a, b, **kwargs)\n",
      "C:\\Users\\vitor.braz\\AppData\\Roaming\\Python\\Python312\\site-packages\\shapely\\measurement.py:72: RuntimeWarning: invalid value encountered in distance\n",
      "  return lib.distance(a, b, **kwargs)\n",
      "C:\\Users\\vitor.braz\\AppData\\Roaming\\Python\\Python312\\site-packages\\shapely\\measurement.py:72: RuntimeWarning: invalid value encountered in distance\n",
      "  return lib.distance(a, b, **kwargs)\n",
      "C:\\Users\\vitor.braz\\AppData\\Roaming\\Python\\Python312\\site-packages\\shapely\\measurement.py:72: RuntimeWarning: invalid value encountered in distance\n",
      "  return lib.distance(a, b, **kwargs)\n",
      "C:\\Users\\vitor.braz\\AppData\\Roaming\\Python\\Python312\\site-packages\\shapely\\measurement.py:72: RuntimeWarning: invalid value encountered in distance\n",
      "  return lib.distance(a, b, **kwargs)\n",
      "C:\\Users\\vitor.braz\\AppData\\Roaming\\Python\\Python312\\site-packages\\shapely\\measurement.py:72: RuntimeWarning: invalid value encountered in distance\n",
      "  return lib.distance(a, b, **kwargs)\n",
      "C:\\Users\\vitor.braz\\AppData\\Roaming\\Python\\Python312\\site-packages\\shapely\\measurement.py:72: RuntimeWarning: invalid value encountered in distance\n",
      "  return lib.distance(a, b, **kwargs)\n",
      "C:\\Users\\vitor.braz\\AppData\\Roaming\\Python\\Python312\\site-packages\\shapely\\measurement.py:72: RuntimeWarning: invalid value encountered in distance\n",
      "  return lib.distance(a, b, **kwargs)\n",
      "C:\\Users\\vitor.braz\\AppData\\Roaming\\Python\\Python312\\site-packages\\shapely\\measurement.py:72: RuntimeWarning: invalid value encountered in distance\n",
      "  return lib.distance(a, b, **kwargs)\n",
      "C:\\Users\\vitor.braz\\AppData\\Roaming\\Python\\Python312\\site-packages\\shapely\\measurement.py:72: RuntimeWarning: invalid value encountered in distance\n",
      "  return lib.distance(a, b, **kwargs)\n",
      "C:\\Users\\vitor.braz\\AppData\\Roaming\\Python\\Python312\\site-packages\\shapely\\measurement.py:72: RuntimeWarning: invalid value encountered in distance\n",
      "  return lib.distance(a, b, **kwargs)\n",
      "C:\\Users\\vitor.braz\\AppData\\Roaming\\Python\\Python312\\site-packages\\shapely\\measurement.py:72: RuntimeWarning: invalid value encountered in distance\n",
      "  return lib.distance(a, b, **kwargs)\n",
      "C:\\Users\\vitor.braz\\AppData\\Roaming\\Python\\Python312\\site-packages\\shapely\\measurement.py:72: RuntimeWarning: invalid value encountered in distance\n",
      "  return lib.distance(a, b, **kwargs)\n",
      "C:\\Users\\vitor.braz\\AppData\\Roaming\\Python\\Python312\\site-packages\\shapely\\measurement.py:72: RuntimeWarning: invalid value encountered in distance\n",
      "  return lib.distance(a, b, **kwargs)\n",
      "C:\\Users\\vitor.braz\\AppData\\Roaming\\Python\\Python312\\site-packages\\shapely\\measurement.py:72: RuntimeWarning: invalid value encountered in distance\n",
      "  return lib.distance(a, b, **kwargs)\n",
      "C:\\Users\\vitor.braz\\AppData\\Roaming\\Python\\Python312\\site-packages\\shapely\\measurement.py:72: RuntimeWarning: invalid value encountered in distance\n",
      "  return lib.distance(a, b, **kwargs)\n",
      "C:\\Users\\vitor.braz\\AppData\\Roaming\\Python\\Python312\\site-packages\\shapely\\measurement.py:72: RuntimeWarning: invalid value encountered in distance\n",
      "  return lib.distance(a, b, **kwargs)\n",
      "C:\\Users\\vitor.braz\\AppData\\Roaming\\Python\\Python312\\site-packages\\shapely\\measurement.py:72: RuntimeWarning: invalid value encountered in distance\n",
      "  return lib.distance(a, b, **kwargs)\n",
      "C:\\Users\\vitor.braz\\AppData\\Roaming\\Python\\Python312\\site-packages\\shapely\\measurement.py:72: RuntimeWarning: invalid value encountered in distance\n",
      "  return lib.distance(a, b, **kwargs)\n",
      "C:\\Users\\vitor.braz\\AppData\\Roaming\\Python\\Python312\\site-packages\\shapely\\measurement.py:72: RuntimeWarning: invalid value encountered in distance\n",
      "  return lib.distance(a, b, **kwargs)\n",
      "C:\\Users\\vitor.braz\\AppData\\Roaming\\Python\\Python312\\site-packages\\shapely\\measurement.py:72: RuntimeWarning: invalid value encountered in distance\n",
      "  return lib.distance(a, b, **kwargs)\n",
      "C:\\Users\\vitor.braz\\AppData\\Roaming\\Python\\Python312\\site-packages\\shapely\\measurement.py:72: RuntimeWarning: invalid value encountered in distance\n",
      "  return lib.distance(a, b, **kwargs)\n"
     ]
    },
    {
     "name": "stdout",
     "output_type": "stream",
     "text": [
      "[INFO] Tentando sem tipo de via: 'JOAO PAULO PRIMEIRO'\n"
     ]
    },
    {
     "name": "stderr",
     "output_type": "stream",
     "text": [
      "C:\\Users\\vitor.braz\\AppData\\Roaming\\Python\\Python312\\site-packages\\shapely\\measurement.py:72: RuntimeWarning: invalid value encountered in distance\n",
      "  return lib.distance(a, b, **kwargs)\n",
      "C:\\Users\\vitor.braz\\AppData\\Roaming\\Python\\Python312\\site-packages\\shapely\\measurement.py:72: RuntimeWarning: invalid value encountered in distance\n",
      "  return lib.distance(a, b, **kwargs)\n",
      "C:\\Users\\vitor.braz\\AppData\\Roaming\\Python\\Python312\\site-packages\\shapely\\measurement.py:72: RuntimeWarning: invalid value encountered in distance\n",
      "  return lib.distance(a, b, **kwargs)\n",
      "C:\\Users\\vitor.braz\\AppData\\Roaming\\Python\\Python312\\site-packages\\shapely\\measurement.py:72: RuntimeWarning: invalid value encountered in distance\n",
      "  return lib.distance(a, b, **kwargs)\n",
      "C:\\Users\\vitor.braz\\AppData\\Roaming\\Python\\Python312\\site-packages\\shapely\\measurement.py:72: RuntimeWarning: invalid value encountered in distance\n",
      "  return lib.distance(a, b, **kwargs)\n",
      "C:\\Users\\vitor.braz\\AppData\\Roaming\\Python\\Python312\\site-packages\\shapely\\measurement.py:72: RuntimeWarning: invalid value encountered in distance\n",
      "  return lib.distance(a, b, **kwargs)\n",
      "C:\\Users\\vitor.braz\\AppData\\Roaming\\Python\\Python312\\site-packages\\shapely\\measurement.py:72: RuntimeWarning: invalid value encountered in distance\n",
      "  return lib.distance(a, b, **kwargs)\n",
      "C:\\Users\\vitor.braz\\AppData\\Roaming\\Python\\Python312\\site-packages\\shapely\\measurement.py:72: RuntimeWarning: invalid value encountered in distance\n",
      "  return lib.distance(a, b, **kwargs)\n",
      "C:\\Users\\vitor.braz\\AppData\\Roaming\\Python\\Python312\\site-packages\\shapely\\measurement.py:72: RuntimeWarning: invalid value encountered in distance\n",
      "  return lib.distance(a, b, **kwargs)\n",
      "C:\\Users\\vitor.braz\\AppData\\Roaming\\Python\\Python312\\site-packages\\shapely\\measurement.py:72: RuntimeWarning: invalid value encountered in distance\n",
      "  return lib.distance(a, b, **kwargs)\n",
      "C:\\Users\\vitor.braz\\AppData\\Roaming\\Python\\Python312\\site-packages\\shapely\\measurement.py:72: RuntimeWarning: invalid value encountered in distance\n",
      "  return lib.distance(a, b, **kwargs)\n",
      "C:\\Users\\vitor.braz\\AppData\\Roaming\\Python\\Python312\\site-packages\\shapely\\measurement.py:72: RuntimeWarning: invalid value encountered in distance\n",
      "  return lib.distance(a, b, **kwargs)\n"
     ]
    },
    {
     "name": "stdout",
     "output_type": "stream",
     "text": [
      "[INFO] Tentando sem tipo de via: 'GIOVANNI GRONCHI'\n"
     ]
    },
    {
     "name": "stderr",
     "output_type": "stream",
     "text": [
      "C:\\Users\\vitor.braz\\AppData\\Roaming\\Python\\Python312\\site-packages\\shapely\\measurement.py:72: RuntimeWarning: invalid value encountered in distance\n",
      "  return lib.distance(a, b, **kwargs)\n",
      "C:\\Users\\vitor.braz\\AppData\\Roaming\\Python\\Python312\\site-packages\\shapely\\measurement.py:72: RuntimeWarning: invalid value encountered in distance\n",
      "  return lib.distance(a, b, **kwargs)\n",
      "C:\\Users\\vitor.braz\\AppData\\Roaming\\Python\\Python312\\site-packages\\shapely\\measurement.py:72: RuntimeWarning: invalid value encountered in distance\n",
      "  return lib.distance(a, b, **kwargs)\n",
      "C:\\Users\\vitor.braz\\AppData\\Roaming\\Python\\Python312\\site-packages\\shapely\\measurement.py:72: RuntimeWarning: invalid value encountered in distance\n",
      "  return lib.distance(a, b, **kwargs)\n",
      "C:\\Users\\vitor.braz\\AppData\\Roaming\\Python\\Python312\\site-packages\\shapely\\measurement.py:72: RuntimeWarning: invalid value encountered in distance\n",
      "  return lib.distance(a, b, **kwargs)\n",
      "C:\\Users\\vitor.braz\\AppData\\Roaming\\Python\\Python312\\site-packages\\shapely\\measurement.py:72: RuntimeWarning: invalid value encountered in distance\n",
      "  return lib.distance(a, b, **kwargs)\n",
      "C:\\Users\\vitor.braz\\AppData\\Roaming\\Python\\Python312\\site-packages\\shapely\\measurement.py:72: RuntimeWarning: invalid value encountered in distance\n",
      "  return lib.distance(a, b, **kwargs)\n",
      "C:\\Users\\vitor.braz\\AppData\\Roaming\\Python\\Python312\\site-packages\\shapely\\measurement.py:72: RuntimeWarning: invalid value encountered in distance\n",
      "  return lib.distance(a, b, **kwargs)\n",
      "C:\\Users\\vitor.braz\\AppData\\Roaming\\Python\\Python312\\site-packages\\shapely\\measurement.py:72: RuntimeWarning: invalid value encountered in distance\n",
      "  return lib.distance(a, b, **kwargs)\n"
     ]
    },
    {
     "name": "stdout",
     "output_type": "stream",
     "text": [
      "[INFO] Tentando sem tipo de via: 'PARA MARGINAL PINHEIROS EXPRESSA SENTIDO NO'\n"
     ]
    },
    {
     "name": "stderr",
     "output_type": "stream",
     "text": [
      "C:\\Users\\vitor.braz\\AppData\\Roaming\\Python\\Python312\\site-packages\\shapely\\measurement.py:72: RuntimeWarning: invalid value encountered in distance\n",
      "  return lib.distance(a, b, **kwargs)\n",
      "C:\\Users\\vitor.braz\\AppData\\Roaming\\Python\\Python312\\site-packages\\shapely\\measurement.py:72: RuntimeWarning: invalid value encountered in distance\n",
      "  return lib.distance(a, b, **kwargs)\n"
     ]
    },
    {
     "name": "stdout",
     "output_type": "stream",
     "text": [
      "[INFO] Tentando sem tipo de via: 'JOÃO VINTE E TRES'\n"
     ]
    },
    {
     "name": "stderr",
     "output_type": "stream",
     "text": [
      "C:\\Users\\vitor.braz\\AppData\\Roaming\\Python\\Python312\\site-packages\\shapely\\measurement.py:72: RuntimeWarning: invalid value encountered in distance\n",
      "  return lib.distance(a, b, **kwargs)\n",
      "C:\\Users\\vitor.braz\\AppData\\Roaming\\Python\\Python312\\site-packages\\shapely\\measurement.py:72: RuntimeWarning: invalid value encountered in distance\n",
      "  return lib.distance(a, b, **kwargs)\n",
      "C:\\Users\\vitor.braz\\AppData\\Roaming\\Python\\Python312\\site-packages\\shapely\\measurement.py:72: RuntimeWarning: invalid value encountered in distance\n",
      "  return lib.distance(a, b, **kwargs)\n",
      "C:\\Users\\vitor.braz\\AppData\\Roaming\\Python\\Python312\\site-packages\\shapely\\measurement.py:72: RuntimeWarning: invalid value encountered in distance\n",
      "  return lib.distance(a, b, **kwargs)\n",
      "C:\\Users\\vitor.braz\\AppData\\Roaming\\Python\\Python312\\site-packages\\shapely\\measurement.py:72: RuntimeWarning: invalid value encountered in distance\n",
      "  return lib.distance(a, b, **kwargs)\n",
      "C:\\Users\\vitor.braz\\AppData\\Roaming\\Python\\Python312\\site-packages\\shapely\\measurement.py:72: RuntimeWarning: invalid value encountered in distance\n",
      "  return lib.distance(a, b, **kwargs)\n",
      "C:\\Users\\vitor.braz\\AppData\\Roaming\\Python\\Python312\\site-packages\\shapely\\measurement.py:72: RuntimeWarning: invalid value encountered in distance\n",
      "  return lib.distance(a, b, **kwargs)\n",
      "C:\\Users\\vitor.braz\\AppData\\Roaming\\Python\\Python312\\site-packages\\shapely\\measurement.py:72: RuntimeWarning: invalid value encountered in distance\n",
      "  return lib.distance(a, b, **kwargs)\n",
      "C:\\Users\\vitor.braz\\AppData\\Roaming\\Python\\Python312\\site-packages\\shapely\\measurement.py:72: RuntimeWarning: invalid value encountered in distance\n",
      "  return lib.distance(a, b, **kwargs)\n",
      "C:\\Users\\vitor.braz\\AppData\\Roaming\\Python\\Python312\\site-packages\\shapely\\measurement.py:72: RuntimeWarning: invalid value encountered in distance\n",
      "  return lib.distance(a, b, **kwargs)\n",
      "C:\\Users\\vitor.braz\\AppData\\Roaming\\Python\\Python312\\site-packages\\shapely\\measurement.py:72: RuntimeWarning: invalid value encountered in distance\n",
      "  return lib.distance(a, b, **kwargs)\n",
      "C:\\Users\\vitor.braz\\AppData\\Roaming\\Python\\Python312\\site-packages\\shapely\\measurement.py:72: RuntimeWarning: invalid value encountered in distance\n",
      "  return lib.distance(a, b, **kwargs)\n",
      "C:\\Users\\vitor.braz\\AppData\\Roaming\\Python\\Python312\\site-packages\\shapely\\measurement.py:72: RuntimeWarning: invalid value encountered in distance\n",
      "  return lib.distance(a, b, **kwargs)\n",
      "C:\\Users\\vitor.braz\\AppData\\Roaming\\Python\\Python312\\site-packages\\shapely\\measurement.py:72: RuntimeWarning: invalid value encountered in distance\n",
      "  return lib.distance(a, b, **kwargs)\n",
      "C:\\Users\\vitor.braz\\AppData\\Roaming\\Python\\Python312\\site-packages\\shapely\\measurement.py:72: RuntimeWarning: invalid value encountered in distance\n",
      "  return lib.distance(a, b, **kwargs)\n",
      "C:\\Users\\vitor.braz\\AppData\\Roaming\\Python\\Python312\\site-packages\\shapely\\measurement.py:72: RuntimeWarning: invalid value encountered in distance\n",
      "  return lib.distance(a, b, **kwargs)\n",
      "C:\\Users\\vitor.braz\\AppData\\Roaming\\Python\\Python312\\site-packages\\shapely\\measurement.py:72: RuntimeWarning: invalid value encountered in distance\n",
      "  return lib.distance(a, b, **kwargs)\n",
      "C:\\Users\\vitor.braz\\AppData\\Roaming\\Python\\Python312\\site-packages\\shapely\\measurement.py:72: RuntimeWarning: invalid value encountered in distance\n",
      "  return lib.distance(a, b, **kwargs)\n",
      "C:\\Users\\vitor.braz\\AppData\\Roaming\\Python\\Python312\\site-packages\\shapely\\measurement.py:72: RuntimeWarning: invalid value encountered in distance\n",
      "  return lib.distance(a, b, **kwargs)\n",
      "C:\\Users\\vitor.braz\\AppData\\Roaming\\Python\\Python312\\site-packages\\shapely\\measurement.py:72: RuntimeWarning: invalid value encountered in distance\n",
      "  return lib.distance(a, b, **kwargs)\n",
      "C:\\Users\\vitor.braz\\AppData\\Roaming\\Python\\Python312\\site-packages\\shapely\\measurement.py:72: RuntimeWarning: invalid value encountered in distance\n",
      "  return lib.distance(a, b, **kwargs)\n"
     ]
    },
    {
     "name": "stdout",
     "output_type": "stream",
     "text": [
      "[INFO] Tentando sem tipo de via: 'JACUPESSEGO'\n"
     ]
    },
    {
     "name": "stderr",
     "output_type": "stream",
     "text": [
      "C:\\Users\\vitor.braz\\AppData\\Roaming\\Python\\Python312\\site-packages\\shapely\\measurement.py:72: RuntimeWarning: invalid value encountered in distance\n",
      "  return lib.distance(a, b, **kwargs)\n",
      "C:\\Users\\vitor.braz\\AppData\\Roaming\\Python\\Python312\\site-packages\\shapely\\measurement.py:72: RuntimeWarning: invalid value encountered in distance\n",
      "  return lib.distance(a, b, **kwargs)\n"
     ]
    },
    {
     "name": "stdout",
     "output_type": "stream",
     "text": [
      "[INFO] Tentando sem tipo de via: 'ANTONIO ESTÊVÃO DE CARVALHO NO SENTIDO CENTRO'\n"
     ]
    },
    {
     "name": "stderr",
     "output_type": "stream",
     "text": [
      "C:\\Users\\vitor.braz\\AppData\\Roaming\\Python\\Python312\\site-packages\\shapely\\measurement.py:72: RuntimeWarning: invalid value encountered in distance\n",
      "  return lib.distance(a, b, **kwargs)\n",
      "C:\\Users\\vitor.braz\\AppData\\Roaming\\Python\\Python312\\site-packages\\shapely\\measurement.py:72: RuntimeWarning: invalid value encountered in distance\n",
      "  return lib.distance(a, b, **kwargs)\n",
      "C:\\Users\\vitor.braz\\AppData\\Roaming\\Python\\Python312\\site-packages\\shapely\\measurement.py:72: RuntimeWarning: invalid value encountered in distance\n",
      "  return lib.distance(a, b, **kwargs)\n",
      "C:\\Users\\vitor.braz\\AppData\\Roaming\\Python\\Python312\\site-packages\\shapely\\measurement.py:72: RuntimeWarning: invalid value encountered in distance\n",
      "  return lib.distance(a, b, **kwargs)\n",
      "C:\\Users\\vitor.braz\\AppData\\Roaming\\Python\\Python312\\site-packages\\shapely\\measurement.py:72: RuntimeWarning: invalid value encountered in distance\n",
      "  return lib.distance(a, b, **kwargs)\n",
      "C:\\Users\\vitor.braz\\AppData\\Roaming\\Python\\Python312\\site-packages\\shapely\\measurement.py:72: RuntimeWarning: invalid value encountered in distance\n",
      "  return lib.distance(a, b, **kwargs)\n",
      "C:\\Users\\vitor.braz\\AppData\\Roaming\\Python\\Python312\\site-packages\\shapely\\measurement.py:72: RuntimeWarning: invalid value encountered in distance\n",
      "  return lib.distance(a, b, **kwargs)\n",
      "C:\\Users\\vitor.braz\\AppData\\Roaming\\Python\\Python312\\site-packages\\shapely\\measurement.py:72: RuntimeWarning: invalid value encountered in distance\n",
      "  return lib.distance(a, b, **kwargs)\n",
      "C:\\Users\\vitor.braz\\AppData\\Roaming\\Python\\Python312\\site-packages\\shapely\\measurement.py:72: RuntimeWarning: invalid value encountered in distance\n",
      "  return lib.distance(a, b, **kwargs)\n",
      "C:\\Users\\vitor.braz\\AppData\\Roaming\\Python\\Python312\\site-packages\\shapely\\measurement.py:72: RuntimeWarning: invalid value encountered in distance\n",
      "  return lib.distance(a, b, **kwargs)\n",
      "C:\\Users\\vitor.braz\\AppData\\Roaming\\Python\\Python312\\site-packages\\shapely\\measurement.py:72: RuntimeWarning: invalid value encountered in distance\n",
      "  return lib.distance(a, b, **kwargs)\n",
      "C:\\Users\\vitor.braz\\AppData\\Roaming\\Python\\Python312\\site-packages\\shapely\\measurement.py:72: RuntimeWarning: invalid value encountered in distance\n",
      "  return lib.distance(a, b, **kwargs)\n",
      "C:\\Users\\vitor.braz\\AppData\\Roaming\\Python\\Python312\\site-packages\\shapely\\measurement.py:72: RuntimeWarning: invalid value encountered in distance\n",
      "  return lib.distance(a, b, **kwargs)\n",
      "C:\\Users\\vitor.braz\\AppData\\Roaming\\Python\\Python312\\site-packages\\shapely\\measurement.py:72: RuntimeWarning: invalid value encountered in distance\n",
      "  return lib.distance(a, b, **kwargs)\n",
      "C:\\Users\\vitor.braz\\AppData\\Roaming\\Python\\Python312\\site-packages\\shapely\\measurement.py:72: RuntimeWarning: invalid value encountered in distance\n",
      "  return lib.distance(a, b, **kwargs)\n",
      "C:\\Users\\vitor.braz\\AppData\\Roaming\\Python\\Python312\\site-packages\\shapely\\measurement.py:72: RuntimeWarning: invalid value encountered in distance\n",
      "  return lib.distance(a, b, **kwargs)\n",
      "C:\\Users\\vitor.braz\\AppData\\Roaming\\Python\\Python312\\site-packages\\shapely\\measurement.py:72: RuntimeWarning: invalid value encountered in distance\n",
      "  return lib.distance(a, b, **kwargs)\n",
      "C:\\Users\\vitor.braz\\AppData\\Roaming\\Python\\Python312\\site-packages\\shapely\\measurement.py:72: RuntimeWarning: invalid value encountered in distance\n",
      "  return lib.distance(a, b, **kwargs)\n",
      "C:\\Users\\vitor.braz\\AppData\\Roaming\\Python\\Python312\\site-packages\\shapely\\measurement.py:72: RuntimeWarning: invalid value encountered in distance\n",
      "  return lib.distance(a, b, **kwargs)\n",
      "C:\\Users\\vitor.braz\\AppData\\Roaming\\Python\\Python312\\site-packages\\shapely\\measurement.py:72: RuntimeWarning: invalid value encountered in distance\n",
      "  return lib.distance(a, b, **kwargs)\n",
      "C:\\Users\\vitor.braz\\AppData\\Roaming\\Python\\Python312\\site-packages\\shapely\\measurement.py:72: RuntimeWarning: invalid value encountered in distance\n",
      "  return lib.distance(a, b, **kwargs)\n",
      "C:\\Users\\vitor.braz\\AppData\\Roaming\\Python\\Python312\\site-packages\\shapely\\measurement.py:72: RuntimeWarning: invalid value encountered in distance\n",
      "  return lib.distance(a, b, **kwargs)\n",
      "C:\\Users\\vitor.braz\\AppData\\Roaming\\Python\\Python312\\site-packages\\shapely\\measurement.py:72: RuntimeWarning: invalid value encountered in distance\n",
      "  return lib.distance(a, b, **kwargs)\n",
      "C:\\Users\\vitor.braz\\AppData\\Roaming\\Python\\Python312\\site-packages\\shapely\\measurement.py:72: RuntimeWarning: invalid value encountered in distance\n",
      "  return lib.distance(a, b, **kwargs)\n",
      "C:\\Users\\vitor.braz\\AppData\\Roaming\\Python\\Python312\\site-packages\\shapely\\measurement.py:72: RuntimeWarning: invalid value encountered in distance\n",
      "  return lib.distance(a, b, **kwargs)\n",
      "C:\\Users\\vitor.braz\\AppData\\Roaming\\Python\\Python312\\site-packages\\shapely\\measurement.py:72: RuntimeWarning: invalid value encountered in distance\n",
      "  return lib.distance(a, b, **kwargs)\n",
      "C:\\Users\\vitor.braz\\AppData\\Roaming\\Python\\Python312\\site-packages\\shapely\\measurement.py:72: RuntimeWarning: invalid value encountered in distance\n",
      "  return lib.distance(a, b, **kwargs)\n",
      "C:\\Users\\vitor.braz\\AppData\\Roaming\\Python\\Python312\\site-packages\\shapely\\measurement.py:72: RuntimeWarning: invalid value encountered in distance\n",
      "  return lib.distance(a, b, **kwargs)\n",
      "C:\\Users\\vitor.braz\\AppData\\Roaming\\Python\\Python312\\site-packages\\shapely\\measurement.py:72: RuntimeWarning: invalid value encountered in distance\n",
      "  return lib.distance(a, b, **kwargs)\n",
      "C:\\Users\\vitor.braz\\AppData\\Roaming\\Python\\Python312\\site-packages\\shapely\\measurement.py:72: RuntimeWarning: invalid value encountered in distance\n",
      "  return lib.distance(a, b, **kwargs)\n",
      "C:\\Users\\vitor.braz\\AppData\\Roaming\\Python\\Python312\\site-packages\\shapely\\measurement.py:72: RuntimeWarning: invalid value encountered in distance\n",
      "  return lib.distance(a, b, **kwargs)\n",
      "C:\\Users\\vitor.braz\\AppData\\Roaming\\Python\\Python312\\site-packages\\shapely\\measurement.py:72: RuntimeWarning: invalid value encountered in distance\n",
      "  return lib.distance(a, b, **kwargs)\n",
      "C:\\Users\\vitor.braz\\AppData\\Roaming\\Python\\Python312\\site-packages\\shapely\\measurement.py:72: RuntimeWarning: invalid value encountered in distance\n",
      "  return lib.distance(a, b, **kwargs)\n"
     ]
    },
    {
     "name": "stdout",
     "output_type": "stream",
     "text": [
      "[INFO] Tentando sem tipo de via: 'MIGUEL ESTEFANO'\n"
     ]
    },
    {
     "name": "stderr",
     "output_type": "stream",
     "text": [
      "C:\\Users\\vitor.braz\\AppData\\Roaming\\Python\\Python312\\site-packages\\shapely\\measurement.py:72: RuntimeWarning: invalid value encountered in distance\n",
      "  return lib.distance(a, b, **kwargs)\n",
      "C:\\Users\\vitor.braz\\AppData\\Roaming\\Python\\Python312\\site-packages\\shapely\\measurement.py:72: RuntimeWarning: invalid value encountered in distance\n",
      "  return lib.distance(a, b, **kwargs)\n",
      "C:\\Users\\vitor.braz\\AppData\\Roaming\\Python\\Python312\\site-packages\\shapely\\measurement.py:72: RuntimeWarning: invalid value encountered in distance\n",
      "  return lib.distance(a, b, **kwargs)\n",
      "C:\\Users\\vitor.braz\\AppData\\Roaming\\Python\\Python312\\site-packages\\shapely\\measurement.py:72: RuntimeWarning: invalid value encountered in distance\n",
      "  return lib.distance(a, b, **kwargs)\n",
      "C:\\Users\\vitor.braz\\AppData\\Roaming\\Python\\Python312\\site-packages\\shapely\\measurement.py:72: RuntimeWarning: invalid value encountered in distance\n",
      "  return lib.distance(a, b, **kwargs)\n",
      "C:\\Users\\vitor.braz\\AppData\\Roaming\\Python\\Python312\\site-packages\\shapely\\measurement.py:72: RuntimeWarning: invalid value encountered in distance\n",
      "  return lib.distance(a, b, **kwargs)\n"
     ]
    },
    {
     "name": "stdout",
     "output_type": "stream",
     "text": [
      "[INFO] Tentando sem tipo de via: 'ANTONIO CARLOS BENJAMIM DOS SANTOS'\n"
     ]
    },
    {
     "name": "stderr",
     "output_type": "stream",
     "text": [
      "C:\\Users\\vitor.braz\\AppData\\Roaming\\Python\\Python312\\site-packages\\shapely\\measurement.py:72: RuntimeWarning: invalid value encountered in distance\n",
      "  return lib.distance(a, b, **kwargs)\n",
      "C:\\Users\\vitor.braz\\AppData\\Roaming\\Python\\Python312\\site-packages\\shapely\\measurement.py:72: RuntimeWarning: invalid value encountered in distance\n",
      "  return lib.distance(a, b, **kwargs)\n",
      "C:\\Users\\vitor.braz\\AppData\\Roaming\\Python\\Python312\\site-packages\\shapely\\measurement.py:72: RuntimeWarning: invalid value encountered in distance\n",
      "  return lib.distance(a, b, **kwargs)\n",
      "C:\\Users\\vitor.braz\\AppData\\Roaming\\Python\\Python312\\site-packages\\shapely\\measurement.py:72: RuntimeWarning: invalid value encountered in distance\n",
      "  return lib.distance(a, b, **kwargs)\n"
     ]
    },
    {
     "name": "stdout",
     "output_type": "stream",
     "text": [
      "[INFO] Tentando sem tipo de via: 'COMENDADOR SANTANNA'\n"
     ]
    },
    {
     "name": "stderr",
     "output_type": "stream",
     "text": [
      "C:\\Users\\vitor.braz\\AppData\\Roaming\\Python\\Python312\\site-packages\\shapely\\measurement.py:72: RuntimeWarning: invalid value encountered in distance\n",
      "  return lib.distance(a, b, **kwargs)\n",
      "C:\\Users\\vitor.braz\\AppData\\Roaming\\Python\\Python312\\site-packages\\shapely\\measurement.py:72: RuntimeWarning: invalid value encountered in distance\n",
      "  return lib.distance(a, b, **kwargs)\n",
      "C:\\Users\\vitor.braz\\AppData\\Roaming\\Python\\Python312\\site-packages\\shapely\\measurement.py:72: RuntimeWarning: invalid value encountered in distance\n",
      "  return lib.distance(a, b, **kwargs)\n",
      "C:\\Users\\vitor.braz\\AppData\\Roaming\\Python\\Python312\\site-packages\\shapely\\measurement.py:72: RuntimeWarning: invalid value encountered in distance\n",
      "  return lib.distance(a, b, **kwargs)\n",
      "C:\\Users\\vitor.braz\\AppData\\Roaming\\Python\\Python312\\site-packages\\shapely\\measurement.py:72: RuntimeWarning: invalid value encountered in distance\n",
      "  return lib.distance(a, b, **kwargs)\n",
      "C:\\Users\\vitor.braz\\AppData\\Roaming\\Python\\Python312\\site-packages\\shapely\\measurement.py:72: RuntimeWarning: invalid value encountered in distance\n",
      "  return lib.distance(a, b, **kwargs)\n",
      "C:\\Users\\vitor.braz\\AppData\\Roaming\\Python\\Python312\\site-packages\\shapely\\measurement.py:72: RuntimeWarning: invalid value encountered in distance\n",
      "  return lib.distance(a, b, **kwargs)\n",
      "C:\\Users\\vitor.braz\\AppData\\Roaming\\Python\\Python312\\site-packages\\shapely\\measurement.py:72: RuntimeWarning: invalid value encountered in distance\n",
      "  return lib.distance(a, b, **kwargs)\n",
      "C:\\Users\\vitor.braz\\AppData\\Roaming\\Python\\Python312\\site-packages\\shapely\\measurement.py:72: RuntimeWarning: invalid value encountered in distance\n",
      "  return lib.distance(a, b, **kwargs)\n",
      "C:\\Users\\vitor.braz\\AppData\\Roaming\\Python\\Python312\\site-packages\\shapely\\measurement.py:72: RuntimeWarning: invalid value encountered in distance\n",
      "  return lib.distance(a, b, **kwargs)\n",
      "C:\\Users\\vitor.braz\\AppData\\Roaming\\Python\\Python312\\site-packages\\shapely\\measurement.py:72: RuntimeWarning: invalid value encountered in distance\n",
      "  return lib.distance(a, b, **kwargs)\n",
      "C:\\Users\\vitor.braz\\AppData\\Roaming\\Python\\Python312\\site-packages\\shapely\\measurement.py:72: RuntimeWarning: invalid value encountered in distance\n",
      "  return lib.distance(a, b, **kwargs)\n",
      "C:\\Users\\vitor.braz\\AppData\\Roaming\\Python\\Python312\\site-packages\\shapely\\measurement.py:72: RuntimeWarning: invalid value encountered in distance\n",
      "  return lib.distance(a, b, **kwargs)\n",
      "C:\\Users\\vitor.braz\\AppData\\Roaming\\Python\\Python312\\site-packages\\shapely\\measurement.py:72: RuntimeWarning: invalid value encountered in distance\n",
      "  return lib.distance(a, b, **kwargs)\n",
      "C:\\Users\\vitor.braz\\AppData\\Roaming\\Python\\Python312\\site-packages\\shapely\\measurement.py:72: RuntimeWarning: invalid value encountered in distance\n",
      "  return lib.distance(a, b, **kwargs)\n"
     ]
    },
    {
     "name": "stdout",
     "output_type": "stream",
     "text": [
      "[INFO] Tentando sem tipo de via: 'DO M'BOI MIRIM'\n"
     ]
    },
    {
     "name": "stderr",
     "output_type": "stream",
     "text": [
      "C:\\Users\\vitor.braz\\AppData\\Roaming\\Python\\Python312\\site-packages\\shapely\\measurement.py:72: RuntimeWarning: invalid value encountered in distance\n",
      "  return lib.distance(a, b, **kwargs)\n",
      "C:\\Users\\vitor.braz\\AppData\\Roaming\\Python\\Python312\\site-packages\\shapely\\measurement.py:72: RuntimeWarning: invalid value encountered in distance\n",
      "  return lib.distance(a, b, **kwargs)\n",
      "C:\\Users\\vitor.braz\\AppData\\Roaming\\Python\\Python312\\site-packages\\shapely\\measurement.py:72: RuntimeWarning: invalid value encountered in distance\n",
      "  return lib.distance(a, b, **kwargs)\n",
      "C:\\Users\\vitor.braz\\AppData\\Roaming\\Python\\Python312\\site-packages\\shapely\\measurement.py:72: RuntimeWarning: invalid value encountered in distance\n",
      "  return lib.distance(a, b, **kwargs)\n",
      "C:\\Users\\vitor.braz\\AppData\\Roaming\\Python\\Python312\\site-packages\\shapely\\measurement.py:72: RuntimeWarning: invalid value encountered in distance\n",
      "  return lib.distance(a, b, **kwargs)\n",
      "C:\\Users\\vitor.braz\\AppData\\Roaming\\Python\\Python312\\site-packages\\shapely\\measurement.py:72: RuntimeWarning: invalid value encountered in distance\n",
      "  return lib.distance(a, b, **kwargs)\n",
      "C:\\Users\\vitor.braz\\AppData\\Roaming\\Python\\Python312\\site-packages\\shapely\\measurement.py:72: RuntimeWarning: invalid value encountered in distance\n",
      "  return lib.distance(a, b, **kwargs)\n",
      "C:\\Users\\vitor.braz\\AppData\\Roaming\\Python\\Python312\\site-packages\\shapely\\measurement.py:72: RuntimeWarning: invalid value encountered in distance\n",
      "  return lib.distance(a, b, **kwargs)\n",
      "C:\\Users\\vitor.braz\\AppData\\Roaming\\Python\\Python312\\site-packages\\shapely\\measurement.py:72: RuntimeWarning: invalid value encountered in distance\n",
      "  return lib.distance(a, b, **kwargs)\n",
      "C:\\Users\\vitor.braz\\AppData\\Roaming\\Python\\Python312\\site-packages\\shapely\\measurement.py:72: RuntimeWarning: invalid value encountered in distance\n",
      "  return lib.distance(a, b, **kwargs)\n",
      "C:\\Users\\vitor.braz\\AppData\\Roaming\\Python\\Python312\\site-packages\\shapely\\measurement.py:72: RuntimeWarning: invalid value encountered in distance\n",
      "  return lib.distance(a, b, **kwargs)\n",
      "C:\\Users\\vitor.braz\\AppData\\Roaming\\Python\\Python312\\site-packages\\shapely\\measurement.py:72: RuntimeWarning: invalid value encountered in distance\n",
      "  return lib.distance(a, b, **kwargs)\n",
      "C:\\Users\\vitor.braz\\AppData\\Roaming\\Python\\Python312\\site-packages\\shapely\\measurement.py:72: RuntimeWarning: invalid value encountered in distance\n",
      "  return lib.distance(a, b, **kwargs)\n"
     ]
    },
    {
     "name": "stdout",
     "output_type": "stream",
     "text": [
      "[INFO] Tentando sem tipo de via: 'DO M'BOI MIRIM'\n"
     ]
    },
    {
     "name": "stderr",
     "output_type": "stream",
     "text": [
      "C:\\Users\\vitor.braz\\AppData\\Roaming\\Python\\Python312\\site-packages\\shapely\\measurement.py:72: RuntimeWarning: invalid value encountered in distance\n",
      "  return lib.distance(a, b, **kwargs)\n",
      "C:\\Users\\vitor.braz\\AppData\\Roaming\\Python\\Python312\\site-packages\\shapely\\measurement.py:72: RuntimeWarning: invalid value encountered in distance\n",
      "  return lib.distance(a, b, **kwargs)\n",
      "C:\\Users\\vitor.braz\\AppData\\Roaming\\Python\\Python312\\site-packages\\shapely\\measurement.py:72: RuntimeWarning: invalid value encountered in distance\n",
      "  return lib.distance(a, b, **kwargs)\n",
      "C:\\Users\\vitor.braz\\AppData\\Roaming\\Python\\Python312\\site-packages\\shapely\\measurement.py:72: RuntimeWarning: invalid value encountered in distance\n",
      "  return lib.distance(a, b, **kwargs)\n",
      "C:\\Users\\vitor.braz\\AppData\\Roaming\\Python\\Python312\\site-packages\\shapely\\measurement.py:72: RuntimeWarning: invalid value encountered in distance\n",
      "  return lib.distance(a, b, **kwargs)\n",
      "C:\\Users\\vitor.braz\\AppData\\Roaming\\Python\\Python312\\site-packages\\shapely\\measurement.py:72: RuntimeWarning: invalid value encountered in distance\n",
      "  return lib.distance(a, b, **kwargs)\n",
      "C:\\Users\\vitor.braz\\AppData\\Roaming\\Python\\Python312\\site-packages\\shapely\\measurement.py:72: RuntimeWarning: invalid value encountered in distance\n",
      "  return lib.distance(a, b, **kwargs)\n",
      "C:\\Users\\vitor.braz\\AppData\\Roaming\\Python\\Python312\\site-packages\\shapely\\measurement.py:72: RuntimeWarning: invalid value encountered in distance\n",
      "  return lib.distance(a, b, **kwargs)\n",
      "C:\\Users\\vitor.braz\\AppData\\Roaming\\Python\\Python312\\site-packages\\shapely\\measurement.py:72: RuntimeWarning: invalid value encountered in distance\n",
      "  return lib.distance(a, b, **kwargs)\n",
      "C:\\Users\\vitor.braz\\AppData\\Roaming\\Python\\Python312\\site-packages\\shapely\\measurement.py:72: RuntimeWarning: invalid value encountered in distance\n",
      "  return lib.distance(a, b, **kwargs)\n",
      "C:\\Users\\vitor.braz\\AppData\\Roaming\\Python\\Python312\\site-packages\\shapely\\measurement.py:72: RuntimeWarning: invalid value encountered in distance\n",
      "  return lib.distance(a, b, **kwargs)\n",
      "C:\\Users\\vitor.braz\\AppData\\Roaming\\Python\\Python312\\site-packages\\shapely\\measurement.py:72: RuntimeWarning: invalid value encountered in distance\n",
      "  return lib.distance(a, b, **kwargs)\n",
      "C:\\Users\\vitor.braz\\AppData\\Roaming\\Python\\Python312\\site-packages\\shapely\\measurement.py:72: RuntimeWarning: invalid value encountered in distance\n",
      "  return lib.distance(a, b, **kwargs)\n",
      "C:\\Users\\vitor.braz\\AppData\\Roaming\\Python\\Python312\\site-packages\\shapely\\measurement.py:72: RuntimeWarning: invalid value encountered in distance\n",
      "  return lib.distance(a, b, **kwargs)\n",
      "C:\\Users\\vitor.braz\\AppData\\Roaming\\Python\\Python312\\site-packages\\shapely\\measurement.py:72: RuntimeWarning: invalid value encountered in distance\n",
      "  return lib.distance(a, b, **kwargs)\n",
      "C:\\Users\\vitor.braz\\AppData\\Roaming\\Python\\Python312\\site-packages\\shapely\\measurement.py:72: RuntimeWarning: invalid value encountered in distance\n",
      "  return lib.distance(a, b, **kwargs)\n",
      "C:\\Users\\vitor.braz\\AppData\\Roaming\\Python\\Python312\\site-packages\\shapely\\measurement.py:72: RuntimeWarning: invalid value encountered in distance\n",
      "  return lib.distance(a, b, **kwargs)\n",
      "C:\\Users\\vitor.braz\\AppData\\Roaming\\Python\\Python312\\site-packages\\shapely\\measurement.py:72: RuntimeWarning: invalid value encountered in distance\n",
      "  return lib.distance(a, b, **kwargs)\n",
      "C:\\Users\\vitor.braz\\AppData\\Roaming\\Python\\Python312\\site-packages\\shapely\\measurement.py:72: RuntimeWarning: invalid value encountered in distance\n",
      "  return lib.distance(a, b, **kwargs)\n",
      "C:\\Users\\vitor.braz\\AppData\\Roaming\\Python\\Python312\\site-packages\\shapely\\measurement.py:72: RuntimeWarning: invalid value encountered in distance\n",
      "  return lib.distance(a, b, **kwargs)\n",
      "C:\\Users\\vitor.braz\\AppData\\Roaming\\Python\\Python312\\site-packages\\shapely\\measurement.py:72: RuntimeWarning: invalid value encountered in distance\n",
      "  return lib.distance(a, b, **kwargs)\n",
      "C:\\Users\\vitor.braz\\AppData\\Roaming\\Python\\Python312\\site-packages\\shapely\\measurement.py:72: RuntimeWarning: invalid value encountered in distance\n",
      "  return lib.distance(a, b, **kwargs)\n",
      "C:\\Users\\vitor.braz\\AppData\\Roaming\\Python\\Python312\\site-packages\\shapely\\measurement.py:72: RuntimeWarning: invalid value encountered in distance\n",
      "  return lib.distance(a, b, **kwargs)\n",
      "C:\\Users\\vitor.braz\\AppData\\Roaming\\Python\\Python312\\site-packages\\shapely\\measurement.py:72: RuntimeWarning: invalid value encountered in distance\n",
      "  return lib.distance(a, b, **kwargs)\n",
      "C:\\Users\\vitor.braz\\AppData\\Roaming\\Python\\Python312\\site-packages\\shapely\\measurement.py:72: RuntimeWarning: invalid value encountered in distance\n",
      "  return lib.distance(a, b, **kwargs)\n",
      "C:\\Users\\vitor.braz\\AppData\\Roaming\\Python\\Python312\\site-packages\\shapely\\measurement.py:72: RuntimeWarning: invalid value encountered in distance\n",
      "  return lib.distance(a, b, **kwargs)\n",
      "C:\\Users\\vitor.braz\\AppData\\Roaming\\Python\\Python312\\site-packages\\shapely\\measurement.py:72: RuntimeWarning: invalid value encountered in distance\n",
      "  return lib.distance(a, b, **kwargs)\n",
      "C:\\Users\\vitor.braz\\AppData\\Roaming\\Python\\Python312\\site-packages\\shapely\\measurement.py:72: RuntimeWarning: invalid value encountered in distance\n",
      "  return lib.distance(a, b, **kwargs)\n",
      "C:\\Users\\vitor.braz\\AppData\\Roaming\\Python\\Python312\\site-packages\\shapely\\measurement.py:72: RuntimeWarning: invalid value encountered in distance\n",
      "  return lib.distance(a, b, **kwargs)\n",
      "C:\\Users\\vitor.braz\\AppData\\Roaming\\Python\\Python312\\site-packages\\shapely\\measurement.py:72: RuntimeWarning: invalid value encountered in distance\n",
      "  return lib.distance(a, b, **kwargs)\n",
      "C:\\Users\\vitor.braz\\AppData\\Roaming\\Python\\Python312\\site-packages\\shapely\\measurement.py:72: RuntimeWarning: invalid value encountered in distance\n",
      "  return lib.distance(a, b, **kwargs)\n",
      "C:\\Users\\vitor.braz\\AppData\\Roaming\\Python\\Python312\\site-packages\\shapely\\measurement.py:72: RuntimeWarning: invalid value encountered in distance\n",
      "  return lib.distance(a, b, **kwargs)\n",
      "C:\\Users\\vitor.braz\\AppData\\Roaming\\Python\\Python312\\site-packages\\shapely\\measurement.py:72: RuntimeWarning: invalid value encountered in distance\n",
      "  return lib.distance(a, b, **kwargs)\n",
      "C:\\Users\\vitor.braz\\AppData\\Roaming\\Python\\Python312\\site-packages\\shapely\\measurement.py:72: RuntimeWarning: invalid value encountered in distance\n",
      "  return lib.distance(a, b, **kwargs)\n",
      "C:\\Users\\vitor.braz\\AppData\\Roaming\\Python\\Python312\\site-packages\\shapely\\measurement.py:72: RuntimeWarning: invalid value encountered in distance\n",
      "  return lib.distance(a, b, **kwargs)\n",
      "C:\\Users\\vitor.braz\\AppData\\Roaming\\Python\\Python312\\site-packages\\shapely\\measurement.py:72: RuntimeWarning: invalid value encountered in distance\n",
      "  return lib.distance(a, b, **kwargs)\n",
      "C:\\Users\\vitor.braz\\AppData\\Roaming\\Python\\Python312\\site-packages\\shapely\\measurement.py:72: RuntimeWarning: invalid value encountered in distance\n",
      "  return lib.distance(a, b, **kwargs)\n",
      "C:\\Users\\vitor.braz\\AppData\\Roaming\\Python\\Python312\\site-packages\\shapely\\measurement.py:72: RuntimeWarning: invalid value encountered in distance\n",
      "  return lib.distance(a, b, **kwargs)\n",
      "C:\\Users\\vitor.braz\\AppData\\Roaming\\Python\\Python312\\site-packages\\shapely\\measurement.py:72: RuntimeWarning: invalid value encountered in distance\n",
      "  return lib.distance(a, b, **kwargs)\n",
      "C:\\Users\\vitor.braz\\AppData\\Roaming\\Python\\Python312\\site-packages\\shapely\\measurement.py:72: RuntimeWarning: invalid value encountered in distance\n",
      "  return lib.distance(a, b, **kwargs)\n",
      "C:\\Users\\vitor.braz\\AppData\\Roaming\\Python\\Python312\\site-packages\\shapely\\measurement.py:72: RuntimeWarning: invalid value encountered in distance\n",
      "  return lib.distance(a, b, **kwargs)\n",
      "C:\\Users\\vitor.braz\\AppData\\Roaming\\Python\\Python312\\site-packages\\shapely\\measurement.py:72: RuntimeWarning: invalid value encountered in distance\n",
      "  return lib.distance(a, b, **kwargs)\n",
      "C:\\Users\\vitor.braz\\AppData\\Roaming\\Python\\Python312\\site-packages\\shapely\\measurement.py:72: RuntimeWarning: invalid value encountered in distance\n",
      "  return lib.distance(a, b, **kwargs)\n"
     ]
    },
    {
     "name": "stdout",
     "output_type": "stream",
     "text": [
      "[INFO] Tentando sem tipo de via: 'DO M'BOI MIRIM'\n"
     ]
    },
    {
     "name": "stderr",
     "output_type": "stream",
     "text": [
      "C:\\Users\\vitor.braz\\AppData\\Roaming\\Python\\Python312\\site-packages\\shapely\\measurement.py:72: RuntimeWarning: invalid value encountered in distance\n",
      "  return lib.distance(a, b, **kwargs)\n",
      "C:\\Users\\vitor.braz\\AppData\\Roaming\\Python\\Python312\\site-packages\\shapely\\measurement.py:72: RuntimeWarning: invalid value encountered in distance\n",
      "  return lib.distance(a, b, **kwargs)\n",
      "C:\\Users\\vitor.braz\\AppData\\Roaming\\Python\\Python312\\site-packages\\shapely\\measurement.py:72: RuntimeWarning: invalid value encountered in distance\n",
      "  return lib.distance(a, b, **kwargs)\n"
     ]
    },
    {
     "name": "stdout",
     "output_type": "stream",
     "text": [
      "[INFO] Tentando sem tipo de via: 'JOÃO VINTE E TRES'\n"
     ]
    },
    {
     "name": "stderr",
     "output_type": "stream",
     "text": [
      "C:\\Users\\vitor.braz\\AppData\\Roaming\\Python\\Python312\\site-packages\\shapely\\measurement.py:72: RuntimeWarning: invalid value encountered in distance\n",
      "  return lib.distance(a, b, **kwargs)\n",
      "C:\\Users\\vitor.braz\\AppData\\Roaming\\Python\\Python312\\site-packages\\shapely\\measurement.py:72: RuntimeWarning: invalid value encountered in distance\n",
      "  return lib.distance(a, b, **kwargs)\n",
      "C:\\Users\\vitor.braz\\AppData\\Roaming\\Python\\Python312\\site-packages\\shapely\\measurement.py:72: RuntimeWarning: invalid value encountered in distance\n",
      "  return lib.distance(a, b, **kwargs)\n",
      "C:\\Users\\vitor.braz\\AppData\\Roaming\\Python\\Python312\\site-packages\\shapely\\measurement.py:72: RuntimeWarning: invalid value encountered in distance\n",
      "  return lib.distance(a, b, **kwargs)\n",
      "C:\\Users\\vitor.braz\\AppData\\Roaming\\Python\\Python312\\site-packages\\shapely\\measurement.py:72: RuntimeWarning: invalid value encountered in distance\n",
      "  return lib.distance(a, b, **kwargs)\n"
     ]
    },
    {
     "name": "stdout",
     "output_type": "stream",
     "text": [
      "[INFO] Tentando sem tipo de via: 'MIGUEL ESTEFANO'\n"
     ]
    },
    {
     "name": "stderr",
     "output_type": "stream",
     "text": [
      "C:\\Users\\vitor.braz\\AppData\\Roaming\\Python\\Python312\\site-packages\\shapely\\measurement.py:72: RuntimeWarning: invalid value encountered in distance\n",
      "  return lib.distance(a, b, **kwargs)\n",
      "C:\\Users\\vitor.braz\\AppData\\Roaming\\Python\\Python312\\site-packages\\shapely\\measurement.py:72: RuntimeWarning: invalid value encountered in distance\n",
      "  return lib.distance(a, b, **kwargs)\n",
      "C:\\Users\\vitor.braz\\AppData\\Roaming\\Python\\Python312\\site-packages\\shapely\\measurement.py:72: RuntimeWarning: invalid value encountered in distance\n",
      "  return lib.distance(a, b, **kwargs)\n",
      "C:\\Users\\vitor.braz\\AppData\\Roaming\\Python\\Python312\\site-packages\\shapely\\measurement.py:72: RuntimeWarning: invalid value encountered in distance\n",
      "  return lib.distance(a, b, **kwargs)\n"
     ]
    },
    {
     "name": "stdout",
     "output_type": "stream",
     "text": [
      "[INFO] Tentando sem tipo de via: 'DA LAPA'\n"
     ]
    },
    {
     "name": "stderr",
     "output_type": "stream",
     "text": [
      "C:\\Users\\vitor.braz\\AppData\\Roaming\\Python\\Python312\\site-packages\\shapely\\measurement.py:72: RuntimeWarning: invalid value encountered in distance\n",
      "  return lib.distance(a, b, **kwargs)\n",
      "C:\\Users\\vitor.braz\\AppData\\Roaming\\Python\\Python312\\site-packages\\shapely\\measurement.py:72: RuntimeWarning: invalid value encountered in distance\n",
      "  return lib.distance(a, b, **kwargs)\n",
      "C:\\Users\\vitor.braz\\AppData\\Roaming\\Python\\Python312\\site-packages\\shapely\\measurement.py:72: RuntimeWarning: invalid value encountered in distance\n",
      "  return lib.distance(a, b, **kwargs)\n",
      "C:\\Users\\vitor.braz\\AppData\\Roaming\\Python\\Python312\\site-packages\\shapely\\measurement.py:72: RuntimeWarning: invalid value encountered in distance\n",
      "  return lib.distance(a, b, **kwargs)\n"
     ]
    },
    {
     "name": "stdout",
     "output_type": "stream",
     "text": [
      "[INFO] Tentando sem tipo de via: 'VATICANO'\n"
     ]
    },
    {
     "name": "stderr",
     "output_type": "stream",
     "text": [
      "C:\\Users\\vitor.braz\\AppData\\Roaming\\Python\\Python312\\site-packages\\shapely\\measurement.py:72: RuntimeWarning: invalid value encountered in distance\n",
      "  return lib.distance(a, b, **kwargs)\n",
      "C:\\Users\\vitor.braz\\AppData\\Roaming\\Python\\Python312\\site-packages\\shapely\\measurement.py:72: RuntimeWarning: invalid value encountered in distance\n",
      "  return lib.distance(a, b, **kwargs)\n"
     ]
    },
    {
     "name": "stdout",
     "output_type": "stream",
     "text": [
      "[INFO] Tentando sem tipo de via: 'AVENIDA ALEXANDRE COLARES'\n"
     ]
    },
    {
     "name": "stderr",
     "output_type": "stream",
     "text": [
      "C:\\Users\\vitor.braz\\AppData\\Roaming\\Python\\Python312\\site-packages\\shapely\\measurement.py:72: RuntimeWarning: invalid value encountered in distance\n",
      "  return lib.distance(a, b, **kwargs)\n",
      "C:\\Users\\vitor.braz\\AppData\\Roaming\\Python\\Python312\\site-packages\\shapely\\measurement.py:72: RuntimeWarning: invalid value encountered in distance\n",
      "  return lib.distance(a, b, **kwargs)\n",
      "C:\\Users\\vitor.braz\\AppData\\Roaming\\Python\\Python312\\site-packages\\shapely\\measurement.py:72: RuntimeWarning: invalid value encountered in distance\n",
      "  return lib.distance(a, b, **kwargs)\n",
      "C:\\Users\\vitor.braz\\AppData\\Roaming\\Python\\Python312\\site-packages\\shapely\\measurement.py:72: RuntimeWarning: invalid value encountered in distance\n",
      "  return lib.distance(a, b, **kwargs)\n",
      "C:\\Users\\vitor.braz\\AppData\\Roaming\\Python\\Python312\\site-packages\\shapely\\measurement.py:72: RuntimeWarning: invalid value encountered in distance\n",
      "  return lib.distance(a, b, **kwargs)\n",
      "C:\\Users\\vitor.braz\\AppData\\Roaming\\Python\\Python312\\site-packages\\shapely\\measurement.py:72: RuntimeWarning: invalid value encountered in distance\n",
      "  return lib.distance(a, b, **kwargs)\n",
      "C:\\Users\\vitor.braz\\AppData\\Roaming\\Python\\Python312\\site-packages\\shapely\\measurement.py:72: RuntimeWarning: invalid value encountered in distance\n",
      "  return lib.distance(a, b, **kwargs)\n"
     ]
    },
    {
     "name": "stdout",
     "output_type": "stream",
     "text": [
      "[INFO] Tentando sem tipo de via: 'DOUTOR ASSIS RIBEIRO'\n"
     ]
    },
    {
     "name": "stderr",
     "output_type": "stream",
     "text": [
      "C:\\Users\\vitor.braz\\AppData\\Roaming\\Python\\Python312\\site-packages\\shapely\\measurement.py:72: RuntimeWarning: invalid value encountered in distance\n",
      "  return lib.distance(a, b, **kwargs)\n"
     ]
    },
    {
     "name": "stdout",
     "output_type": "stream",
     "text": [
      "[INFO] Tentando sem tipo de via: 'PARA MARGINAL TIETE CENTRAL'\n"
     ]
    },
    {
     "name": "stderr",
     "output_type": "stream",
     "text": [
      "C:\\Users\\vitor.braz\\AppData\\Roaming\\Python\\Python312\\site-packages\\shapely\\measurement.py:72: RuntimeWarning: invalid value encountered in distance\n",
      "  return lib.distance(a, b, **kwargs)\n",
      "C:\\Users\\vitor.braz\\AppData\\Roaming\\Python\\Python312\\site-packages\\shapely\\measurement.py:72: RuntimeWarning: invalid value encountered in distance\n",
      "  return lib.distance(a, b, **kwargs)\n",
      "C:\\Users\\vitor.braz\\AppData\\Roaming\\Python\\Python312\\site-packages\\shapely\\measurement.py:72: RuntimeWarning: invalid value encountered in distance\n",
      "  return lib.distance(a, b, **kwargs)\n",
      "C:\\Users\\vitor.braz\\AppData\\Roaming\\Python\\Python312\\site-packages\\shapely\\measurement.py:72: RuntimeWarning: invalid value encountered in distance\n",
      "  return lib.distance(a, b, **kwargs)\n",
      "C:\\Users\\vitor.braz\\AppData\\Roaming\\Python\\Python312\\site-packages\\shapely\\measurement.py:72: RuntimeWarning: invalid value encountered in distance\n",
      "  return lib.distance(a, b, **kwargs)\n",
      "C:\\Users\\vitor.braz\\AppData\\Roaming\\Python\\Python312\\site-packages\\shapely\\measurement.py:72: RuntimeWarning: invalid value encountered in distance\n",
      "  return lib.distance(a, b, **kwargs)\n",
      "C:\\Users\\vitor.braz\\AppData\\Roaming\\Python\\Python312\\site-packages\\shapely\\measurement.py:72: RuntimeWarning: invalid value encountered in distance\n",
      "  return lib.distance(a, b, **kwargs)\n",
      "C:\\Users\\vitor.braz\\AppData\\Roaming\\Python\\Python312\\site-packages\\shapely\\measurement.py:72: RuntimeWarning: invalid value encountered in distance\n",
      "  return lib.distance(a, b, **kwargs)\n",
      "C:\\Users\\vitor.braz\\AppData\\Roaming\\Python\\Python312\\site-packages\\shapely\\measurement.py:72: RuntimeWarning: invalid value encountered in distance\n",
      "  return lib.distance(a, b, **kwargs)\n"
     ]
    },
    {
     "name": "stdout",
     "output_type": "stream",
     "text": [
      "[INFO] Tentando sem tipo de via: 'PINHAL X AV DR LUIS AIRES'\n"
     ]
    },
    {
     "name": "stderr",
     "output_type": "stream",
     "text": [
      "C:\\Users\\vitor.braz\\AppData\\Roaming\\Python\\Python312\\site-packages\\shapely\\measurement.py:72: RuntimeWarning: invalid value encountered in distance\n",
      "  return lib.distance(a, b, **kwargs)\n",
      "C:\\Users\\vitor.braz\\AppData\\Roaming\\Python\\Python312\\site-packages\\shapely\\measurement.py:72: RuntimeWarning: invalid value encountered in distance\n",
      "  return lib.distance(a, b, **kwargs)\n",
      "C:\\Users\\vitor.braz\\AppData\\Roaming\\Python\\Python312\\site-packages\\shapely\\measurement.py:72: RuntimeWarning: invalid value encountered in distance\n",
      "  return lib.distance(a, b, **kwargs)\n",
      "C:\\Users\\vitor.braz\\AppData\\Roaming\\Python\\Python312\\site-packages\\shapely\\measurement.py:72: RuntimeWarning: invalid value encountered in distance\n",
      "  return lib.distance(a, b, **kwargs)\n",
      "C:\\Users\\vitor.braz\\AppData\\Roaming\\Python\\Python312\\site-packages\\shapely\\measurement.py:72: RuntimeWarning: invalid value encountered in distance\n",
      "  return lib.distance(a, b, **kwargs)\n",
      "C:\\Users\\vitor.braz\\AppData\\Roaming\\Python\\Python312\\site-packages\\shapely\\measurement.py:72: RuntimeWarning: invalid value encountered in distance\n",
      "  return lib.distance(a, b, **kwargs)\n",
      "C:\\Users\\vitor.braz\\AppData\\Roaming\\Python\\Python312\\site-packages\\shapely\\measurement.py:72: RuntimeWarning: invalid value encountered in distance\n",
      "  return lib.distance(a, b, **kwargs)\n",
      "C:\\Users\\vitor.braz\\AppData\\Roaming\\Python\\Python312\\site-packages\\shapely\\measurement.py:72: RuntimeWarning: invalid value encountered in distance\n",
      "  return lib.distance(a, b, **kwargs)\n",
      "C:\\Users\\vitor.braz\\AppData\\Roaming\\Python\\Python312\\site-packages\\shapely\\measurement.py:72: RuntimeWarning: invalid value encountered in distance\n",
      "  return lib.distance(a, b, **kwargs)\n",
      "C:\\Users\\vitor.braz\\AppData\\Roaming\\Python\\Python312\\site-packages\\shapely\\measurement.py:72: RuntimeWarning: invalid value encountered in distance\n",
      "  return lib.distance(a, b, **kwargs)\n",
      "C:\\Users\\vitor.braz\\AppData\\Roaming\\Python\\Python312\\site-packages\\shapely\\measurement.py:72: RuntimeWarning: invalid value encountered in distance\n",
      "  return lib.distance(a, b, **kwargs)\n",
      "C:\\Users\\vitor.braz\\AppData\\Roaming\\Python\\Python312\\site-packages\\shapely\\measurement.py:72: RuntimeWarning: invalid value encountered in distance\n",
      "  return lib.distance(a, b, **kwargs)\n",
      "C:\\Users\\vitor.braz\\AppData\\Roaming\\Python\\Python312\\site-packages\\shapely\\measurement.py:72: RuntimeWarning: invalid value encountered in distance\n",
      "  return lib.distance(a, b, **kwargs)\n",
      "C:\\Users\\vitor.braz\\AppData\\Roaming\\Python\\Python312\\site-packages\\shapely\\measurement.py:72: RuntimeWarning: invalid value encountered in distance\n",
      "  return lib.distance(a, b, **kwargs)\n",
      "C:\\Users\\vitor.braz\\AppData\\Roaming\\Python\\Python312\\site-packages\\shapely\\measurement.py:72: RuntimeWarning: invalid value encountered in distance\n",
      "  return lib.distance(a, b, **kwargs)\n",
      "C:\\Users\\vitor.braz\\AppData\\Roaming\\Python\\Python312\\site-packages\\shapely\\measurement.py:72: RuntimeWarning: invalid value encountered in distance\n",
      "  return lib.distance(a, b, **kwargs)\n",
      "C:\\Users\\vitor.braz\\AppData\\Roaming\\Python\\Python312\\site-packages\\shapely\\measurement.py:72: RuntimeWarning: invalid value encountered in distance\n",
      "  return lib.distance(a, b, **kwargs)\n",
      "C:\\Users\\vitor.braz\\AppData\\Roaming\\Python\\Python312\\site-packages\\shapely\\measurement.py:72: RuntimeWarning: invalid value encountered in distance\n",
      "  return lib.distance(a, b, **kwargs)\n",
      "C:\\Users\\vitor.braz\\AppData\\Roaming\\Python\\Python312\\site-packages\\shapely\\measurement.py:72: RuntimeWarning: invalid value encountered in distance\n",
      "  return lib.distance(a, b, **kwargs)\n",
      "C:\\Users\\vitor.braz\\AppData\\Roaming\\Python\\Python312\\site-packages\\shapely\\measurement.py:72: RuntimeWarning: invalid value encountered in distance\n",
      "  return lib.distance(a, b, **kwargs)\n",
      "C:\\Users\\vitor.braz\\AppData\\Roaming\\Python\\Python312\\site-packages\\shapely\\measurement.py:72: RuntimeWarning: invalid value encountered in distance\n",
      "  return lib.distance(a, b, **kwargs)\n",
      "C:\\Users\\vitor.braz\\AppData\\Roaming\\Python\\Python312\\site-packages\\shapely\\measurement.py:72: RuntimeWarning: invalid value encountered in distance\n",
      "  return lib.distance(a, b, **kwargs)\n",
      "C:\\Users\\vitor.braz\\AppData\\Roaming\\Python\\Python312\\site-packages\\shapely\\measurement.py:72: RuntimeWarning: invalid value encountered in distance\n",
      "  return lib.distance(a, b, **kwargs)\n",
      "C:\\Users\\vitor.braz\\AppData\\Roaming\\Python\\Python312\\site-packages\\shapely\\measurement.py:72: RuntimeWarning: invalid value encountered in distance\n",
      "  return lib.distance(a, b, **kwargs)\n",
      "C:\\Users\\vitor.braz\\AppData\\Roaming\\Python\\Python312\\site-packages\\shapely\\measurement.py:72: RuntimeWarning: invalid value encountered in distance\n",
      "  return lib.distance(a, b, **kwargs)\n",
      "C:\\Users\\vitor.braz\\AppData\\Roaming\\Python\\Python312\\site-packages\\shapely\\measurement.py:72: RuntimeWarning: invalid value encountered in distance\n",
      "  return lib.distance(a, b, **kwargs)\n",
      "C:\\Users\\vitor.braz\\AppData\\Roaming\\Python\\Python312\\site-packages\\shapely\\measurement.py:72: RuntimeWarning: invalid value encountered in distance\n",
      "  return lib.distance(a, b, **kwargs)\n",
      "C:\\Users\\vitor.braz\\AppData\\Roaming\\Python\\Python312\\site-packages\\shapely\\measurement.py:72: RuntimeWarning: invalid value encountered in distance\n",
      "  return lib.distance(a, b, **kwargs)\n"
     ]
    },
    {
     "name": "stdout",
     "output_type": "stream",
     "text": [
      "[INFO] Tentando sem tipo de via: 'DO M'BOI MIRIM'\n"
     ]
    },
    {
     "name": "stderr",
     "output_type": "stream",
     "text": [
      "C:\\Users\\vitor.braz\\AppData\\Roaming\\Python\\Python312\\site-packages\\shapely\\measurement.py:72: RuntimeWarning: invalid value encountered in distance\n",
      "  return lib.distance(a, b, **kwargs)\n",
      "C:\\Users\\vitor.braz\\AppData\\Roaming\\Python\\Python312\\site-packages\\shapely\\measurement.py:72: RuntimeWarning: invalid value encountered in distance\n",
      "  return lib.distance(a, b, **kwargs)\n"
     ]
    },
    {
     "name": "stdout",
     "output_type": "stream",
     "text": [
      "[INFO] Tentando sem tipo de via: 'SADAMU INOUE'\n"
     ]
    },
    {
     "name": "stderr",
     "output_type": "stream",
     "text": [
      "C:\\Users\\vitor.braz\\AppData\\Roaming\\Python\\Python312\\site-packages\\shapely\\measurement.py:72: RuntimeWarning: invalid value encountered in distance\n",
      "  return lib.distance(a, b, **kwargs)\n",
      "C:\\Users\\vitor.braz\\AppData\\Roaming\\Python\\Python312\\site-packages\\shapely\\measurement.py:72: RuntimeWarning: invalid value encountered in distance\n",
      "  return lib.distance(a, b, **kwargs)\n",
      "C:\\Users\\vitor.braz\\AppData\\Roaming\\Python\\Python312\\site-packages\\shapely\\measurement.py:72: RuntimeWarning: invalid value encountered in distance\n",
      "  return lib.distance(a, b, **kwargs)\n",
      "C:\\Users\\vitor.braz\\AppData\\Roaming\\Python\\Python312\\site-packages\\shapely\\measurement.py:72: RuntimeWarning: invalid value encountered in distance\n",
      "  return lib.distance(a, b, **kwargs)\n",
      "C:\\Users\\vitor.braz\\AppData\\Roaming\\Python\\Python312\\site-packages\\shapely\\measurement.py:72: RuntimeWarning: invalid value encountered in distance\n",
      "  return lib.distance(a, b, **kwargs)\n",
      "C:\\Users\\vitor.braz\\AppData\\Roaming\\Python\\Python312\\site-packages\\shapely\\measurement.py:72: RuntimeWarning: invalid value encountered in distance\n",
      "  return lib.distance(a, b, **kwargs)\n",
      "C:\\Users\\vitor.braz\\AppData\\Roaming\\Python\\Python312\\site-packages\\shapely\\measurement.py:72: RuntimeWarning: invalid value encountered in distance\n",
      "  return lib.distance(a, b, **kwargs)\n",
      "C:\\Users\\vitor.braz\\AppData\\Roaming\\Python\\Python312\\site-packages\\shapely\\measurement.py:72: RuntimeWarning: invalid value encountered in distance\n",
      "  return lib.distance(a, b, **kwargs)\n",
      "C:\\Users\\vitor.braz\\AppData\\Roaming\\Python\\Python312\\site-packages\\shapely\\measurement.py:72: RuntimeWarning: invalid value encountered in distance\n",
      "  return lib.distance(a, b, **kwargs)\n",
      "C:\\Users\\vitor.braz\\AppData\\Roaming\\Python\\Python312\\site-packages\\shapely\\measurement.py:72: RuntimeWarning: invalid value encountered in distance\n",
      "  return lib.distance(a, b, **kwargs)\n",
      "C:\\Users\\vitor.braz\\AppData\\Roaming\\Python\\Python312\\site-packages\\shapely\\measurement.py:72: RuntimeWarning: invalid value encountered in distance\n",
      "  return lib.distance(a, b, **kwargs)\n",
      "C:\\Users\\vitor.braz\\AppData\\Roaming\\Python\\Python312\\site-packages\\shapely\\measurement.py:72: RuntimeWarning: invalid value encountered in distance\n",
      "  return lib.distance(a, b, **kwargs)\n",
      "C:\\Users\\vitor.braz\\AppData\\Roaming\\Python\\Python312\\site-packages\\shapely\\measurement.py:72: RuntimeWarning: invalid value encountered in distance\n",
      "  return lib.distance(a, b, **kwargs)\n",
      "C:\\Users\\vitor.braz\\AppData\\Roaming\\Python\\Python312\\site-packages\\shapely\\measurement.py:72: RuntimeWarning: invalid value encountered in distance\n",
      "  return lib.distance(a, b, **kwargs)\n",
      "C:\\Users\\vitor.braz\\AppData\\Roaming\\Python\\Python312\\site-packages\\shapely\\measurement.py:72: RuntimeWarning: invalid value encountered in distance\n",
      "  return lib.distance(a, b, **kwargs)\n",
      "C:\\Users\\vitor.braz\\AppData\\Roaming\\Python\\Python312\\site-packages\\shapely\\measurement.py:72: RuntimeWarning: invalid value encountered in distance\n",
      "  return lib.distance(a, b, **kwargs)\n",
      "C:\\Users\\vitor.braz\\AppData\\Roaming\\Python\\Python312\\site-packages\\shapely\\measurement.py:72: RuntimeWarning: invalid value encountered in distance\n",
      "  return lib.distance(a, b, **kwargs)\n",
      "C:\\Users\\vitor.braz\\AppData\\Roaming\\Python\\Python312\\site-packages\\shapely\\measurement.py:72: RuntimeWarning: invalid value encountered in distance\n",
      "  return lib.distance(a, b, **kwargs)\n",
      "C:\\Users\\vitor.braz\\AppData\\Roaming\\Python\\Python312\\site-packages\\shapely\\measurement.py:72: RuntimeWarning: invalid value encountered in distance\n",
      "  return lib.distance(a, b, **kwargs)\n",
      "C:\\Users\\vitor.braz\\AppData\\Roaming\\Python\\Python312\\site-packages\\shapely\\measurement.py:72: RuntimeWarning: invalid value encountered in distance\n",
      "  return lib.distance(a, b, **kwargs)\n",
      "C:\\Users\\vitor.braz\\AppData\\Roaming\\Python\\Python312\\site-packages\\shapely\\measurement.py:72: RuntimeWarning: invalid value encountered in distance\n",
      "  return lib.distance(a, b, **kwargs)\n",
      "C:\\Users\\vitor.braz\\AppData\\Roaming\\Python\\Python312\\site-packages\\shapely\\measurement.py:72: RuntimeWarning: invalid value encountered in distance\n",
      "  return lib.distance(a, b, **kwargs)\n"
     ]
    },
    {
     "name": "stdout",
     "output_type": "stream",
     "text": [
      "[INFO] Tentando sem tipo de via: 'DO M'BOI MIRIM'\n"
     ]
    },
    {
     "name": "stderr",
     "output_type": "stream",
     "text": [
      "C:\\Users\\vitor.braz\\AppData\\Roaming\\Python\\Python312\\site-packages\\shapely\\measurement.py:72: RuntimeWarning: invalid value encountered in distance\n",
      "  return lib.distance(a, b, **kwargs)\n",
      "C:\\Users\\vitor.braz\\AppData\\Roaming\\Python\\Python312\\site-packages\\shapely\\measurement.py:72: RuntimeWarning: invalid value encountered in distance\n",
      "  return lib.distance(a, b, **kwargs)\n",
      "C:\\Users\\vitor.braz\\AppData\\Roaming\\Python\\Python312\\site-packages\\shapely\\measurement.py:72: RuntimeWarning: invalid value encountered in distance\n",
      "  return lib.distance(a, b, **kwargs)\n",
      "C:\\Users\\vitor.braz\\AppData\\Roaming\\Python\\Python312\\site-packages\\shapely\\measurement.py:72: RuntimeWarning: invalid value encountered in distance\n",
      "  return lib.distance(a, b, **kwargs)\n",
      "C:\\Users\\vitor.braz\\AppData\\Roaming\\Python\\Python312\\site-packages\\shapely\\measurement.py:72: RuntimeWarning: invalid value encountered in distance\n",
      "  return lib.distance(a, b, **kwargs)\n",
      "C:\\Users\\vitor.braz\\AppData\\Roaming\\Python\\Python312\\site-packages\\shapely\\measurement.py:72: RuntimeWarning: invalid value encountered in distance\n",
      "  return lib.distance(a, b, **kwargs)\n",
      "C:\\Users\\vitor.braz\\AppData\\Roaming\\Python\\Python312\\site-packages\\shapely\\measurement.py:72: RuntimeWarning: invalid value encountered in distance\n",
      "  return lib.distance(a, b, **kwargs)\n",
      "C:\\Users\\vitor.braz\\AppData\\Roaming\\Python\\Python312\\site-packages\\shapely\\measurement.py:72: RuntimeWarning: invalid value encountered in distance\n",
      "  return lib.distance(a, b, **kwargs)\n"
     ]
    },
    {
     "name": "stdout",
     "output_type": "stream",
     "text": [
      "[INFO] Tentando sem tipo de via: 'DO M'BOI MIRIM'\n"
     ]
    },
    {
     "name": "stderr",
     "output_type": "stream",
     "text": [
      "C:\\Users\\vitor.braz\\AppData\\Roaming\\Python\\Python312\\site-packages\\shapely\\measurement.py:72: RuntimeWarning: invalid value encountered in distance\n",
      "  return lib.distance(a, b, **kwargs)\n",
      "C:\\Users\\vitor.braz\\AppData\\Roaming\\Python\\Python312\\site-packages\\shapely\\measurement.py:72: RuntimeWarning: invalid value encountered in distance\n",
      "  return lib.distance(a, b, **kwargs)\n",
      "C:\\Users\\vitor.braz\\AppData\\Roaming\\Python\\Python312\\site-packages\\shapely\\measurement.py:72: RuntimeWarning: invalid value encountered in distance\n",
      "  return lib.distance(a, b, **kwargs)\n",
      "C:\\Users\\vitor.braz\\AppData\\Roaming\\Python\\Python312\\site-packages\\shapely\\measurement.py:72: RuntimeWarning: invalid value encountered in distance\n",
      "  return lib.distance(a, b, **kwargs)\n",
      "C:\\Users\\vitor.braz\\AppData\\Roaming\\Python\\Python312\\site-packages\\shapely\\measurement.py:72: RuntimeWarning: invalid value encountered in distance\n",
      "  return lib.distance(a, b, **kwargs)\n",
      "C:\\Users\\vitor.braz\\AppData\\Roaming\\Python\\Python312\\site-packages\\shapely\\measurement.py:72: RuntimeWarning: invalid value encountered in distance\n",
      "  return lib.distance(a, b, **kwargs)\n",
      "C:\\Users\\vitor.braz\\AppData\\Roaming\\Python\\Python312\\site-packages\\shapely\\measurement.py:72: RuntimeWarning: invalid value encountered in distance\n",
      "  return lib.distance(a, b, **kwargs)\n",
      "C:\\Users\\vitor.braz\\AppData\\Roaming\\Python\\Python312\\site-packages\\shapely\\measurement.py:72: RuntimeWarning: invalid value encountered in distance\n",
      "  return lib.distance(a, b, **kwargs)\n",
      "C:\\Users\\vitor.braz\\AppData\\Roaming\\Python\\Python312\\site-packages\\shapely\\measurement.py:72: RuntimeWarning: invalid value encountered in distance\n",
      "  return lib.distance(a, b, **kwargs)\n",
      "C:\\Users\\vitor.braz\\AppData\\Roaming\\Python\\Python312\\site-packages\\shapely\\measurement.py:72: RuntimeWarning: invalid value encountered in distance\n",
      "  return lib.distance(a, b, **kwargs)\n",
      "C:\\Users\\vitor.braz\\AppData\\Roaming\\Python\\Python312\\site-packages\\shapely\\measurement.py:72: RuntimeWarning: invalid value encountered in distance\n",
      "  return lib.distance(a, b, **kwargs)\n",
      "C:\\Users\\vitor.braz\\AppData\\Roaming\\Python\\Python312\\site-packages\\shapely\\measurement.py:72: RuntimeWarning: invalid value encountered in distance\n",
      "  return lib.distance(a, b, **kwargs)\n",
      "C:\\Users\\vitor.braz\\AppData\\Roaming\\Python\\Python312\\site-packages\\shapely\\measurement.py:72: RuntimeWarning: invalid value encountered in distance\n",
      "  return lib.distance(a, b, **kwargs)\n"
     ]
    },
    {
     "name": "stdout",
     "output_type": "stream",
     "text": [
      "[INFO] Tentando sem tipo de via: 'ALDA'\n"
     ]
    },
    {
     "name": "stderr",
     "output_type": "stream",
     "text": [
      "C:\\Users\\vitor.braz\\AppData\\Roaming\\Python\\Python312\\site-packages\\shapely\\measurement.py:72: RuntimeWarning: invalid value encountered in distance\n",
      "  return lib.distance(a, b, **kwargs)\n"
     ]
    },
    {
     "name": "stdout",
     "output_type": "stream",
     "text": [
      "[INFO] Tentando sem tipo de via: 'DO M'BOI MIRIM'\n"
     ]
    },
    {
     "name": "stderr",
     "output_type": "stream",
     "text": [
      "C:\\Users\\vitor.braz\\AppData\\Roaming\\Python\\Python312\\site-packages\\shapely\\measurement.py:72: RuntimeWarning: invalid value encountered in distance\n",
      "  return lib.distance(a, b, **kwargs)\n",
      "C:\\Users\\vitor.braz\\AppData\\Roaming\\Python\\Python312\\site-packages\\shapely\\measurement.py:72: RuntimeWarning: invalid value encountered in distance\n",
      "  return lib.distance(a, b, **kwargs)\n",
      "C:\\Users\\vitor.braz\\AppData\\Roaming\\Python\\Python312\\site-packages\\shapely\\measurement.py:72: RuntimeWarning: invalid value encountered in distance\n",
      "  return lib.distance(a, b, **kwargs)\n",
      "C:\\Users\\vitor.braz\\AppData\\Roaming\\Python\\Python312\\site-packages\\shapely\\measurement.py:72: RuntimeWarning: invalid value encountered in distance\n",
      "  return lib.distance(a, b, **kwargs)\n",
      "C:\\Users\\vitor.braz\\AppData\\Roaming\\Python\\Python312\\site-packages\\shapely\\measurement.py:72: RuntimeWarning: invalid value encountered in distance\n",
      "  return lib.distance(a, b, **kwargs)\n",
      "C:\\Users\\vitor.braz\\AppData\\Roaming\\Python\\Python312\\site-packages\\shapely\\measurement.py:72: RuntimeWarning: invalid value encountered in distance\n",
      "  return lib.distance(a, b, **kwargs)\n",
      "C:\\Users\\vitor.braz\\AppData\\Roaming\\Python\\Python312\\site-packages\\shapely\\measurement.py:72: RuntimeWarning: invalid value encountered in distance\n",
      "  return lib.distance(a, b, **kwargs)\n"
     ]
    },
    {
     "name": "stdout",
     "output_type": "stream",
     "text": [
      "[INFO] Tentando sem tipo de via: 'MARIO COVAS'\n"
     ]
    },
    {
     "name": "stderr",
     "output_type": "stream",
     "text": [
      "C:\\Users\\vitor.braz\\AppData\\Roaming\\Python\\Python312\\site-packages\\shapely\\measurement.py:72: RuntimeWarning: invalid value encountered in distance\n",
      "  return lib.distance(a, b, **kwargs)\n",
      "C:\\Users\\vitor.braz\\AppData\\Roaming\\Python\\Python312\\site-packages\\shapely\\measurement.py:72: RuntimeWarning: invalid value encountered in distance\n",
      "  return lib.distance(a, b, **kwargs)\n"
     ]
    },
    {
     "name": "stdout",
     "output_type": "stream",
     "text": [
      "[INFO] Tentando sem tipo de via: 'DO M'BOI MIRIM'\n"
     ]
    },
    {
     "name": "stderr",
     "output_type": "stream",
     "text": [
      "C:\\Users\\vitor.braz\\AppData\\Roaming\\Python\\Python312\\site-packages\\shapely\\measurement.py:72: RuntimeWarning: invalid value encountered in distance\n",
      "  return lib.distance(a, b, **kwargs)\n",
      "C:\\Users\\vitor.braz\\AppData\\Roaming\\Python\\Python312\\site-packages\\shapely\\measurement.py:72: RuntimeWarning: invalid value encountered in distance\n",
      "  return lib.distance(a, b, **kwargs)\n",
      "C:\\Users\\vitor.braz\\AppData\\Roaming\\Python\\Python312\\site-packages\\shapely\\measurement.py:72: RuntimeWarning: invalid value encountered in distance\n",
      "  return lib.distance(a, b, **kwargs)\n",
      "C:\\Users\\vitor.braz\\AppData\\Roaming\\Python\\Python312\\site-packages\\shapely\\measurement.py:72: RuntimeWarning: invalid value encountered in distance\n",
      "  return lib.distance(a, b, **kwargs)\n",
      "C:\\Users\\vitor.braz\\AppData\\Roaming\\Python\\Python312\\site-packages\\shapely\\measurement.py:72: RuntimeWarning: invalid value encountered in distance\n",
      "  return lib.distance(a, b, **kwargs)\n"
     ]
    },
    {
     "name": "stdout",
     "output_type": "stream",
     "text": [
      "[INFO] Tentando sem tipo de via: 'PARA MARGINAL TIETE CENTRAL'\n"
     ]
    },
    {
     "name": "stderr",
     "output_type": "stream",
     "text": [
      "C:\\Users\\vitor.braz\\AppData\\Roaming\\Python\\Python312\\site-packages\\shapely\\measurement.py:72: RuntimeWarning: invalid value encountered in distance\n",
      "  return lib.distance(a, b, **kwargs)\n",
      "C:\\Users\\vitor.braz\\AppData\\Roaming\\Python\\Python312\\site-packages\\shapely\\measurement.py:72: RuntimeWarning: invalid value encountered in distance\n",
      "  return lib.distance(a, b, **kwargs)\n",
      "C:\\Users\\vitor.braz\\AppData\\Roaming\\Python\\Python312\\site-packages\\shapely\\measurement.py:72: RuntimeWarning: invalid value encountered in distance\n",
      "  return lib.distance(a, b, **kwargs)\n",
      "C:\\Users\\vitor.braz\\AppData\\Roaming\\Python\\Python312\\site-packages\\shapely\\measurement.py:72: RuntimeWarning: invalid value encountered in distance\n",
      "  return lib.distance(a, b, **kwargs)\n",
      "C:\\Users\\vitor.braz\\AppData\\Roaming\\Python\\Python312\\site-packages\\shapely\\measurement.py:72: RuntimeWarning: invalid value encountered in distance\n",
      "  return lib.distance(a, b, **kwargs)\n",
      "C:\\Users\\vitor.braz\\AppData\\Roaming\\Python\\Python312\\site-packages\\shapely\\measurement.py:72: RuntimeWarning: invalid value encountered in distance\n",
      "  return lib.distance(a, b, **kwargs)\n"
     ]
    },
    {
     "name": "stdout",
     "output_type": "stream",
     "text": [
      "[INFO] Tentando sem tipo de via: 'PRES CASTELO BRANCO 100M ANTES PONTE DO LIMÃO'\n"
     ]
    },
    {
     "name": "stderr",
     "output_type": "stream",
     "text": [
      "C:\\Users\\vitor.braz\\AppData\\Roaming\\Python\\Python312\\site-packages\\shapely\\measurement.py:72: RuntimeWarning: invalid value encountered in distance\n",
      "  return lib.distance(a, b, **kwargs)\n",
      "C:\\Users\\vitor.braz\\AppData\\Roaming\\Python\\Python312\\site-packages\\shapely\\measurement.py:72: RuntimeWarning: invalid value encountered in distance\n",
      "  return lib.distance(a, b, **kwargs)\n",
      "C:\\Users\\vitor.braz\\AppData\\Roaming\\Python\\Python312\\site-packages\\shapely\\measurement.py:72: RuntimeWarning: invalid value encountered in distance\n",
      "  return lib.distance(a, b, **kwargs)\n",
      "C:\\Users\\vitor.braz\\AppData\\Roaming\\Python\\Python312\\site-packages\\shapely\\measurement.py:72: RuntimeWarning: invalid value encountered in distance\n",
      "  return lib.distance(a, b, **kwargs)\n",
      "C:\\Users\\vitor.braz\\AppData\\Roaming\\Python\\Python312\\site-packages\\shapely\\measurement.py:72: RuntimeWarning: invalid value encountered in distance\n",
      "  return lib.distance(a, b, **kwargs)\n",
      "C:\\Users\\vitor.braz\\AppData\\Roaming\\Python\\Python312\\site-packages\\shapely\\measurement.py:72: RuntimeWarning: invalid value encountered in distance\n",
      "  return lib.distance(a, b, **kwargs)\n"
     ]
    },
    {
     "name": "stdout",
     "output_type": "stream",
     "text": [
      "[INFO] Tentando sem tipo de via: 'DAVI CANABARRO'\n",
      "[INFO] Tentando sem tipo de via: 'CACHOEIRA DO ARREPENDIDO'\n"
     ]
    },
    {
     "name": "stderr",
     "output_type": "stream",
     "text": [
      "C:\\Users\\vitor.braz\\AppData\\Roaming\\Python\\Python312\\site-packages\\shapely\\measurement.py:72: RuntimeWarning: invalid value encountered in distance\n",
      "  return lib.distance(a, b, **kwargs)\n",
      "C:\\Users\\vitor.braz\\AppData\\Roaming\\Python\\Python312\\site-packages\\shapely\\measurement.py:72: RuntimeWarning: invalid value encountered in distance\n",
      "  return lib.distance(a, b, **kwargs)\n",
      "C:\\Users\\vitor.braz\\AppData\\Roaming\\Python\\Python312\\site-packages\\shapely\\measurement.py:72: RuntimeWarning: invalid value encountered in distance\n",
      "  return lib.distance(a, b, **kwargs)\n",
      "C:\\Users\\vitor.braz\\AppData\\Roaming\\Python\\Python312\\site-packages\\shapely\\measurement.py:72: RuntimeWarning: invalid value encountered in distance\n",
      "  return lib.distance(a, b, **kwargs)\n",
      "C:\\Users\\vitor.braz\\AppData\\Roaming\\Python\\Python312\\site-packages\\shapely\\measurement.py:72: RuntimeWarning: invalid value encountered in distance\n",
      "  return lib.distance(a, b, **kwargs)\n",
      "C:\\Users\\vitor.braz\\AppData\\Roaming\\Python\\Python312\\site-packages\\shapely\\measurement.py:72: RuntimeWarning: invalid value encountered in distance\n",
      "  return lib.distance(a, b, **kwargs)\n",
      "C:\\Users\\vitor.braz\\AppData\\Roaming\\Python\\Python312\\site-packages\\shapely\\measurement.py:72: RuntimeWarning: invalid value encountered in distance\n",
      "  return lib.distance(a, b, **kwargs)\n",
      "C:\\Users\\vitor.braz\\AppData\\Roaming\\Python\\Python312\\site-packages\\shapely\\measurement.py:72: RuntimeWarning: invalid value encountered in distance\n",
      "  return lib.distance(a, b, **kwargs)\n",
      "C:\\Users\\vitor.braz\\AppData\\Roaming\\Python\\Python312\\site-packages\\shapely\\measurement.py:72: RuntimeWarning: invalid value encountered in distance\n",
      "  return lib.distance(a, b, **kwargs)\n",
      "C:\\Users\\vitor.braz\\AppData\\Roaming\\Python\\Python312\\site-packages\\shapely\\measurement.py:72: RuntimeWarning: invalid value encountered in distance\n",
      "  return lib.distance(a, b, **kwargs)\n",
      "C:\\Users\\vitor.braz\\AppData\\Roaming\\Python\\Python312\\site-packages\\shapely\\measurement.py:72: RuntimeWarning: invalid value encountered in distance\n",
      "  return lib.distance(a, b, **kwargs)\n",
      "C:\\Users\\vitor.braz\\AppData\\Roaming\\Python\\Python312\\site-packages\\shapely\\measurement.py:72: RuntimeWarning: invalid value encountered in distance\n",
      "  return lib.distance(a, b, **kwargs)\n"
     ]
    },
    {
     "name": "stdout",
     "output_type": "stream",
     "text": [
      "[INFO] Tentando sem tipo de via: 'RADIAL LESTE CENTRO'\n"
     ]
    },
    {
     "name": "stderr",
     "output_type": "stream",
     "text": [
      "C:\\Users\\vitor.braz\\AppData\\Roaming\\Python\\Python312\\site-packages\\shapely\\measurement.py:72: RuntimeWarning: invalid value encountered in distance\n",
      "  return lib.distance(a, b, **kwargs)\n",
      "C:\\Users\\vitor.braz\\AppData\\Roaming\\Python\\Python312\\site-packages\\shapely\\measurement.py:72: RuntimeWarning: invalid value encountered in distance\n",
      "  return lib.distance(a, b, **kwargs)\n",
      "C:\\Users\\vitor.braz\\AppData\\Roaming\\Python\\Python312\\site-packages\\shapely\\measurement.py:72: RuntimeWarning: invalid value encountered in distance\n",
      "  return lib.distance(a, b, **kwargs)\n",
      "C:\\Users\\vitor.braz\\AppData\\Roaming\\Python\\Python312\\site-packages\\shapely\\measurement.py:72: RuntimeWarning: invalid value encountered in distance\n",
      "  return lib.distance(a, b, **kwargs)\n",
      "C:\\Users\\vitor.braz\\AppData\\Roaming\\Python\\Python312\\site-packages\\shapely\\measurement.py:72: RuntimeWarning: invalid value encountered in distance\n",
      "  return lib.distance(a, b, **kwargs)\n"
     ]
    },
    {
     "name": "stdout",
     "output_type": "stream",
     "text": [
      "[INFO] Tentando sem tipo de via: 'ASSIS CHATEAUBRIAND X AV MARSENETTI SORCINELLI'\n"
     ]
    },
    {
     "name": "stderr",
     "output_type": "stream",
     "text": [
      "C:\\Users\\vitor.braz\\AppData\\Roaming\\Python\\Python312\\site-packages\\shapely\\measurement.py:72: RuntimeWarning: invalid value encountered in distance\n",
      "  return lib.distance(a, b, **kwargs)\n"
     ]
    },
    {
     "name": "stdout",
     "output_type": "stream",
     "text": [
      "[INFO] Tentando sem tipo de via: 'DOUTOR SALOMAO DE VASCONCELOS'\n"
     ]
    },
    {
     "name": "stderr",
     "output_type": "stream",
     "text": [
      "C:\\Users\\vitor.braz\\AppData\\Roaming\\Python\\Python312\\site-packages\\shapely\\measurement.py:72: RuntimeWarning: invalid value encountered in distance\n",
      "  return lib.distance(a, b, **kwargs)\n",
      "C:\\Users\\vitor.braz\\AppData\\Roaming\\Python\\Python312\\site-packages\\shapely\\measurement.py:72: RuntimeWarning: invalid value encountered in distance\n",
      "  return lib.distance(a, b, **kwargs)\n",
      "C:\\Users\\vitor.braz\\AppData\\Roaming\\Python\\Python312\\site-packages\\shapely\\measurement.py:72: RuntimeWarning: invalid value encountered in distance\n",
      "  return lib.distance(a, b, **kwargs)\n",
      "C:\\Users\\vitor.braz\\AppData\\Roaming\\Python\\Python312\\site-packages\\shapely\\measurement.py:72: RuntimeWarning: invalid value encountered in distance\n",
      "  return lib.distance(a, b, **kwargs)\n",
      "C:\\Users\\vitor.braz\\AppData\\Roaming\\Python\\Python312\\site-packages\\shapely\\measurement.py:72: RuntimeWarning: invalid value encountered in distance\n",
      "  return lib.distance(a, b, **kwargs)\n",
      "C:\\Users\\vitor.braz\\AppData\\Roaming\\Python\\Python312\\site-packages\\shapely\\measurement.py:72: RuntimeWarning: invalid value encountered in distance\n",
      "  return lib.distance(a, b, **kwargs)\n",
      "C:\\Users\\vitor.braz\\AppData\\Roaming\\Python\\Python312\\site-packages\\shapely\\measurement.py:72: RuntimeWarning: invalid value encountered in distance\n",
      "  return lib.distance(a, b, **kwargs)\n"
     ]
    },
    {
     "name": "stdout",
     "output_type": "stream",
     "text": [
      "[INFO] Tentando sem tipo de via: 'DO M'BOI MIRIM'\n"
     ]
    },
    {
     "name": "stderr",
     "output_type": "stream",
     "text": [
      "C:\\Users\\vitor.braz\\AppData\\Roaming\\Python\\Python312\\site-packages\\shapely\\measurement.py:72: RuntimeWarning: invalid value encountered in distance\n",
      "  return lib.distance(a, b, **kwargs)\n",
      "C:\\Users\\vitor.braz\\AppData\\Roaming\\Python\\Python312\\site-packages\\shapely\\measurement.py:72: RuntimeWarning: invalid value encountered in distance\n",
      "  return lib.distance(a, b, **kwargs)\n",
      "C:\\Users\\vitor.braz\\AppData\\Roaming\\Python\\Python312\\site-packages\\shapely\\measurement.py:72: RuntimeWarning: invalid value encountered in distance\n",
      "  return lib.distance(a, b, **kwargs)\n",
      "C:\\Users\\vitor.braz\\AppData\\Roaming\\Python\\Python312\\site-packages\\shapely\\measurement.py:72: RuntimeWarning: invalid value encountered in distance\n",
      "  return lib.distance(a, b, **kwargs)\n",
      "C:\\Users\\vitor.braz\\AppData\\Roaming\\Python\\Python312\\site-packages\\shapely\\measurement.py:72: RuntimeWarning: invalid value encountered in distance\n",
      "  return lib.distance(a, b, **kwargs)\n",
      "C:\\Users\\vitor.braz\\AppData\\Roaming\\Python\\Python312\\site-packages\\shapely\\measurement.py:72: RuntimeWarning: invalid value encountered in distance\n",
      "  return lib.distance(a, b, **kwargs)\n"
     ]
    },
    {
     "name": "stdout",
     "output_type": "stream",
     "text": [
      "[INFO] Tentando sem tipo de via: 'DOUTOR JOSE GUILHERME EIRAS × RUA PEDRO SOARES'\n"
     ]
    },
    {
     "name": "stderr",
     "output_type": "stream",
     "text": [
      "C:\\Users\\vitor.braz\\AppData\\Roaming\\Python\\Python312\\site-packages\\shapely\\measurement.py:72: RuntimeWarning: invalid value encountered in distance\n",
      "  return lib.distance(a, b, **kwargs)\n",
      "C:\\Users\\vitor.braz\\AppData\\Roaming\\Python\\Python312\\site-packages\\shapely\\measurement.py:72: RuntimeWarning: invalid value encountered in distance\n",
      "  return lib.distance(a, b, **kwargs)\n",
      "C:\\Users\\vitor.braz\\AppData\\Roaming\\Python\\Python312\\site-packages\\shapely\\measurement.py:72: RuntimeWarning: invalid value encountered in distance\n",
      "  return lib.distance(a, b, **kwargs)\n",
      "C:\\Users\\vitor.braz\\AppData\\Roaming\\Python\\Python312\\site-packages\\shapely\\measurement.py:72: RuntimeWarning: invalid value encountered in distance\n",
      "  return lib.distance(a, b, **kwargs)\n",
      "C:\\Users\\vitor.braz\\AppData\\Roaming\\Python\\Python312\\site-packages\\shapely\\measurement.py:72: RuntimeWarning: invalid value encountered in distance\n",
      "  return lib.distance(a, b, **kwargs)\n",
      "C:\\Users\\vitor.braz\\AppData\\Roaming\\Python\\Python312\\site-packages\\shapely\\measurement.py:72: RuntimeWarning: invalid value encountered in distance\n",
      "  return lib.distance(a, b, **kwargs)\n",
      "C:\\Users\\vitor.braz\\AppData\\Roaming\\Python\\Python312\\site-packages\\shapely\\measurement.py:72: RuntimeWarning: invalid value encountered in distance\n",
      "  return lib.distance(a, b, **kwargs)\n",
      "C:\\Users\\vitor.braz\\AppData\\Roaming\\Python\\Python312\\site-packages\\shapely\\measurement.py:72: RuntimeWarning: invalid value encountered in distance\n",
      "  return lib.distance(a, b, **kwargs)\n",
      "C:\\Users\\vitor.braz\\AppData\\Roaming\\Python\\Python312\\site-packages\\shapely\\measurement.py:72: RuntimeWarning: invalid value encountered in distance\n",
      "  return lib.distance(a, b, **kwargs)\n",
      "C:\\Users\\vitor.braz\\AppData\\Roaming\\Python\\Python312\\site-packages\\shapely\\measurement.py:72: RuntimeWarning: invalid value encountered in distance\n",
      "  return lib.distance(a, b, **kwargs)\n",
      "C:\\Users\\vitor.braz\\AppData\\Roaming\\Python\\Python312\\site-packages\\shapely\\measurement.py:72: RuntimeWarning: invalid value encountered in distance\n",
      "  return lib.distance(a, b, **kwargs)\n",
      "C:\\Users\\vitor.braz\\AppData\\Roaming\\Python\\Python312\\site-packages\\shapely\\measurement.py:72: RuntimeWarning: invalid value encountered in distance\n",
      "  return lib.distance(a, b, **kwargs)\n",
      "C:\\Users\\vitor.braz\\AppData\\Roaming\\Python\\Python312\\site-packages\\shapely\\measurement.py:72: RuntimeWarning: invalid value encountered in distance\n",
      "  return lib.distance(a, b, **kwargs)\n",
      "C:\\Users\\vitor.braz\\AppData\\Roaming\\Python\\Python312\\site-packages\\shapely\\measurement.py:72: RuntimeWarning: invalid value encountered in distance\n",
      "  return lib.distance(a, b, **kwargs)\n"
     ]
    },
    {
     "name": "stdout",
     "output_type": "stream",
     "text": [
      "[INFO] Tentando sem tipo de via: 'DR LUIS AYRES'\n"
     ]
    },
    {
     "name": "stderr",
     "output_type": "stream",
     "text": [
      "C:\\Users\\vitor.braz\\AppData\\Roaming\\Python\\Python312\\site-packages\\shapely\\measurement.py:72: RuntimeWarning: invalid value encountered in distance\n",
      "  return lib.distance(a, b, **kwargs)\n",
      "C:\\Users\\vitor.braz\\AppData\\Roaming\\Python\\Python312\\site-packages\\shapely\\measurement.py:72: RuntimeWarning: invalid value encountered in distance\n",
      "  return lib.distance(a, b, **kwargs)\n",
      "C:\\Users\\vitor.braz\\AppData\\Roaming\\Python\\Python312\\site-packages\\shapely\\measurement.py:72: RuntimeWarning: invalid value encountered in distance\n",
      "  return lib.distance(a, b, **kwargs)\n"
     ]
    },
    {
     "name": "stdout",
     "output_type": "stream",
     "text": [
      "[INFO] Tentando sem tipo de via: 'CDE DE FRONTIN X RUA: JOAQUIM MARRA OPOSTO'\n"
     ]
    },
    {
     "name": "stderr",
     "output_type": "stream",
     "text": [
      "C:\\Users\\vitor.braz\\AppData\\Roaming\\Python\\Python312\\site-packages\\shapely\\measurement.py:72: RuntimeWarning: invalid value encountered in distance\n",
      "  return lib.distance(a, b, **kwargs)\n",
      "C:\\Users\\vitor.braz\\AppData\\Roaming\\Python\\Python312\\site-packages\\shapely\\measurement.py:72: RuntimeWarning: invalid value encountered in distance\n",
      "  return lib.distance(a, b, **kwargs)\n"
     ]
    },
    {
     "name": "stdout",
     "output_type": "stream",
     "text": [
      "[INFO] Tentando sem tipo de via: 'SADAMU INOUE'\n"
     ]
    },
    {
     "name": "stderr",
     "output_type": "stream",
     "text": [
      "C:\\Users\\vitor.braz\\AppData\\Roaming\\Python\\Python312\\site-packages\\shapely\\measurement.py:72: RuntimeWarning: invalid value encountered in distance\n",
      "  return lib.distance(a, b, **kwargs)\n",
      "C:\\Users\\vitor.braz\\AppData\\Roaming\\Python\\Python312\\site-packages\\shapely\\measurement.py:72: RuntimeWarning: invalid value encountered in distance\n",
      "  return lib.distance(a, b, **kwargs)\n"
     ]
    },
    {
     "name": "stdout",
     "output_type": "stream",
     "text": [
      "[INFO] Tentando sem tipo de via: 'NOSSA SENHORA DO SABARA'\n"
     ]
    },
    {
     "name": "stderr",
     "output_type": "stream",
     "text": [
      "C:\\Users\\vitor.braz\\AppData\\Roaming\\Python\\Python312\\site-packages\\shapely\\measurement.py:72: RuntimeWarning: invalid value encountered in distance\n",
      "  return lib.distance(a, b, **kwargs)\n",
      "C:\\Users\\vitor.braz\\AppData\\Roaming\\Python\\Python312\\site-packages\\shapely\\measurement.py:72: RuntimeWarning: invalid value encountered in distance\n",
      "  return lib.distance(a, b, **kwargs)\n",
      "C:\\Users\\vitor.braz\\AppData\\Roaming\\Python\\Python312\\site-packages\\shapely\\measurement.py:72: RuntimeWarning: invalid value encountered in distance\n",
      "  return lib.distance(a, b, **kwargs)\n"
     ]
    },
    {
     "name": "stdout",
     "output_type": "stream",
     "text": [
      "[INFO] Tentando sem tipo de via: 'DO M'BOI MIRIM'\n"
     ]
    },
    {
     "name": "stderr",
     "output_type": "stream",
     "text": [
      "C:\\Users\\vitor.braz\\AppData\\Roaming\\Python\\Python312\\site-packages\\shapely\\measurement.py:72: RuntimeWarning: invalid value encountered in distance\n",
      "  return lib.distance(a, b, **kwargs)\n",
      "C:\\Users\\vitor.braz\\AppData\\Roaming\\Python\\Python312\\site-packages\\shapely\\measurement.py:72: RuntimeWarning: invalid value encountered in distance\n",
      "  return lib.distance(a, b, **kwargs)\n",
      "C:\\Users\\vitor.braz\\AppData\\Roaming\\Python\\Python312\\site-packages\\shapely\\measurement.py:72: RuntimeWarning: invalid value encountered in distance\n",
      "  return lib.distance(a, b, **kwargs)\n",
      "C:\\Users\\vitor.braz\\AppData\\Roaming\\Python\\Python312\\site-packages\\shapely\\measurement.py:72: RuntimeWarning: invalid value encountered in distance\n",
      "  return lib.distance(a, b, **kwargs)\n",
      "C:\\Users\\vitor.braz\\AppData\\Roaming\\Python\\Python312\\site-packages\\shapely\\measurement.py:72: RuntimeWarning: invalid value encountered in distance\n",
      "  return lib.distance(a, b, **kwargs)\n",
      "C:\\Users\\vitor.braz\\AppData\\Roaming\\Python\\Python312\\site-packages\\shapely\\measurement.py:72: RuntimeWarning: invalid value encountered in distance\n",
      "  return lib.distance(a, b, **kwargs)\n",
      "C:\\Users\\vitor.braz\\AppData\\Roaming\\Python\\Python312\\site-packages\\shapely\\measurement.py:72: RuntimeWarning: invalid value encountered in distance\n",
      "  return lib.distance(a, b, **kwargs)\n",
      "C:\\Users\\vitor.braz\\AppData\\Roaming\\Python\\Python312\\site-packages\\shapely\\measurement.py:72: RuntimeWarning: invalid value encountered in distance\n",
      "  return lib.distance(a, b, **kwargs)\n"
     ]
    },
    {
     "name": "stdout",
     "output_type": "stream",
     "text": [
      "[INFO] Tentando sem tipo de via: 'PARA VIA ANHANGUERA'\n"
     ]
    },
    {
     "name": "stderr",
     "output_type": "stream",
     "text": [
      "C:\\Users\\vitor.braz\\AppData\\Roaming\\Python\\Python312\\site-packages\\shapely\\measurement.py:72: RuntimeWarning: invalid value encountered in distance\n",
      "  return lib.distance(a, b, **kwargs)\n",
      "C:\\Users\\vitor.braz\\AppData\\Roaming\\Python\\Python312\\site-packages\\shapely\\measurement.py:72: RuntimeWarning: invalid value encountered in distance\n",
      "  return lib.distance(a, b, **kwargs)\n",
      "C:\\Users\\vitor.braz\\AppData\\Roaming\\Python\\Python312\\site-packages\\shapely\\measurement.py:72: RuntimeWarning: invalid value encountered in distance\n",
      "  return lib.distance(a, b, **kwargs)\n",
      "C:\\Users\\vitor.braz\\AppData\\Roaming\\Python\\Python312\\site-packages\\shapely\\measurement.py:72: RuntimeWarning: invalid value encountered in distance\n",
      "  return lib.distance(a, b, **kwargs)\n",
      "C:\\Users\\vitor.braz\\AppData\\Roaming\\Python\\Python312\\site-packages\\shapely\\measurement.py:72: RuntimeWarning: invalid value encountered in distance\n",
      "  return lib.distance(a, b, **kwargs)\n",
      "C:\\Users\\vitor.braz\\AppData\\Roaming\\Python\\Python312\\site-packages\\shapely\\measurement.py:72: RuntimeWarning: invalid value encountered in distance\n",
      "  return lib.distance(a, b, **kwargs)\n",
      "C:\\Users\\vitor.braz\\AppData\\Roaming\\Python\\Python312\\site-packages\\shapely\\measurement.py:72: RuntimeWarning: invalid value encountered in distance\n",
      "  return lib.distance(a, b, **kwargs)\n",
      "C:\\Users\\vitor.braz\\AppData\\Roaming\\Python\\Python312\\site-packages\\shapely\\measurement.py:72: RuntimeWarning: invalid value encountered in distance\n",
      "  return lib.distance(a, b, **kwargs)\n",
      "C:\\Users\\vitor.braz\\AppData\\Roaming\\Python\\Python312\\site-packages\\shapely\\measurement.py:72: RuntimeWarning: invalid value encountered in distance\n",
      "  return lib.distance(a, b, **kwargs)\n",
      "C:\\Users\\vitor.braz\\AppData\\Roaming\\Python\\Python312\\site-packages\\shapely\\measurement.py:72: RuntimeWarning: invalid value encountered in distance\n",
      "  return lib.distance(a, b, **kwargs)\n",
      "C:\\Users\\vitor.braz\\AppData\\Roaming\\Python\\Python312\\site-packages\\shapely\\measurement.py:72: RuntimeWarning: invalid value encountered in distance\n",
      "  return lib.distance(a, b, **kwargs)\n",
      "C:\\Users\\vitor.braz\\AppData\\Roaming\\Python\\Python312\\site-packages\\shapely\\measurement.py:72: RuntimeWarning: invalid value encountered in distance\n",
      "  return lib.distance(a, b, **kwargs)\n",
      "C:\\Users\\vitor.braz\\AppData\\Roaming\\Python\\Python312\\site-packages\\shapely\\measurement.py:72: RuntimeWarning: invalid value encountered in distance\n",
      "  return lib.distance(a, b, **kwargs)\n",
      "C:\\Users\\vitor.braz\\AppData\\Roaming\\Python\\Python312\\site-packages\\shapely\\measurement.py:72: RuntimeWarning: invalid value encountered in distance\n",
      "  return lib.distance(a, b, **kwargs)\n"
     ]
    },
    {
     "name": "stdout",
     "output_type": "stream",
     "text": [
      "[INFO] Tentando sem tipo de via: 'GRANDE SAO PAULO IPIRANGA'\n"
     ]
    },
    {
     "name": "stderr",
     "output_type": "stream",
     "text": [
      "C:\\Users\\vitor.braz\\AppData\\Roaming\\Python\\Python312\\site-packages\\shapely\\measurement.py:72: RuntimeWarning: invalid value encountered in distance\n",
      "  return lib.distance(a, b, **kwargs)\n",
      "C:\\Users\\vitor.braz\\AppData\\Roaming\\Python\\Python312\\site-packages\\shapely\\measurement.py:72: RuntimeWarning: invalid value encountered in distance\n",
      "  return lib.distance(a, b, **kwargs)\n",
      "C:\\Users\\vitor.braz\\AppData\\Roaming\\Python\\Python312\\site-packages\\shapely\\measurement.py:72: RuntimeWarning: invalid value encountered in distance\n",
      "  return lib.distance(a, b, **kwargs)\n",
      "C:\\Users\\vitor.braz\\AppData\\Roaming\\Python\\Python312\\site-packages\\shapely\\measurement.py:72: RuntimeWarning: invalid value encountered in distance\n",
      "  return lib.distance(a, b, **kwargs)\n",
      "C:\\Users\\vitor.braz\\AppData\\Roaming\\Python\\Python312\\site-packages\\shapely\\measurement.py:72: RuntimeWarning: invalid value encountered in distance\n",
      "  return lib.distance(a, b, **kwargs)\n",
      "C:\\Users\\vitor.braz\\AppData\\Roaming\\Python\\Python312\\site-packages\\shapely\\measurement.py:72: RuntimeWarning: invalid value encountered in distance\n",
      "  return lib.distance(a, b, **kwargs)\n",
      "C:\\Users\\vitor.braz\\AppData\\Roaming\\Python\\Python312\\site-packages\\shapely\\measurement.py:72: RuntimeWarning: invalid value encountered in distance\n",
      "  return lib.distance(a, b, **kwargs)\n",
      "C:\\Users\\vitor.braz\\AppData\\Roaming\\Python\\Python312\\site-packages\\shapely\\measurement.py:72: RuntimeWarning: invalid value encountered in distance\n",
      "  return lib.distance(a, b, **kwargs)\n",
      "C:\\Users\\vitor.braz\\AppData\\Roaming\\Python\\Python312\\site-packages\\shapely\\measurement.py:72: RuntimeWarning: invalid value encountered in distance\n",
      "  return lib.distance(a, b, **kwargs)\n"
     ]
    },
    {
     "name": "stdout",
     "output_type": "stream",
     "text": [
      "[INFO] Tentando sem tipo de via: 'PARA MARGINAL PINHEIROS EXPRESSA SENTIDO NO'\n"
     ]
    },
    {
     "name": "stderr",
     "output_type": "stream",
     "text": [
      "C:\\Users\\vitor.braz\\AppData\\Roaming\\Python\\Python312\\site-packages\\shapely\\measurement.py:72: RuntimeWarning: invalid value encountered in distance\n",
      "  return lib.distance(a, b, **kwargs)\n",
      "C:\\Users\\vitor.braz\\AppData\\Roaming\\Python\\Python312\\site-packages\\shapely\\measurement.py:72: RuntimeWarning: invalid value encountered in distance\n",
      "  return lib.distance(a, b, **kwargs)\n"
     ]
    },
    {
     "name": "stdout",
     "output_type": "stream",
     "text": [
      "[INFO] Tentando sem tipo de via: 'ESTRADA DAS LAGRIMAS'\n"
     ]
    },
    {
     "name": "stderr",
     "output_type": "stream",
     "text": [
      "C:\\Users\\vitor.braz\\AppData\\Roaming\\Python\\Python312\\site-packages\\shapely\\measurement.py:72: RuntimeWarning: invalid value encountered in distance\n",
      "  return lib.distance(a, b, **kwargs)\n",
      "C:\\Users\\vitor.braz\\AppData\\Roaming\\Python\\Python312\\site-packages\\shapely\\measurement.py:72: RuntimeWarning: invalid value encountered in distance\n",
      "  return lib.distance(a, b, **kwargs)\n",
      "C:\\Users\\vitor.braz\\AppData\\Roaming\\Python\\Python312\\site-packages\\shapely\\measurement.py:72: RuntimeWarning: invalid value encountered in distance\n",
      "  return lib.distance(a, b, **kwargs)\n",
      "C:\\Users\\vitor.braz\\AppData\\Roaming\\Python\\Python312\\site-packages\\shapely\\measurement.py:72: RuntimeWarning: invalid value encountered in distance\n",
      "  return lib.distance(a, b, **kwargs)\n",
      "C:\\Users\\vitor.braz\\AppData\\Roaming\\Python\\Python312\\site-packages\\shapely\\measurement.py:72: RuntimeWarning: invalid value encountered in distance\n",
      "  return lib.distance(a, b, **kwargs)\n"
     ]
    },
    {
     "name": "stdout",
     "output_type": "stream",
     "text": [
      "[INFO] Tentando sem tipo de via: 'MARGINAL TIETÊ KM 17 CENTRAL SENT LESTE'\n"
     ]
    },
    {
     "name": "stderr",
     "output_type": "stream",
     "text": [
      "C:\\Users\\vitor.braz\\AppData\\Roaming\\Python\\Python312\\site-packages\\shapely\\measurement.py:72: RuntimeWarning: invalid value encountered in distance\n",
      "  return lib.distance(a, b, **kwargs)\n"
     ]
    },
    {
     "name": "stdout",
     "output_type": "stream",
     "text": [
      "[INFO] Tentando sem tipo de via: 'ACESSO AVENIDA PROFESSOR LUIZ IGNACIO ANHAI'\n"
     ]
    },
    {
     "name": "stderr",
     "output_type": "stream",
     "text": [
      "C:\\Users\\vitor.braz\\AppData\\Roaming\\Python\\Python312\\site-packages\\shapely\\measurement.py:72: RuntimeWarning: invalid value encountered in distance\n",
      "  return lib.distance(a, b, **kwargs)\n",
      "C:\\Users\\vitor.braz\\AppData\\Roaming\\Python\\Python312\\site-packages\\shapely\\measurement.py:72: RuntimeWarning: invalid value encountered in distance\n",
      "  return lib.distance(a, b, **kwargs)\n",
      "C:\\Users\\vitor.braz\\AppData\\Roaming\\Python\\Python312\\site-packages\\shapely\\measurement.py:72: RuntimeWarning: invalid value encountered in distance\n",
      "  return lib.distance(a, b, **kwargs)\n",
      "C:\\Users\\vitor.braz\\AppData\\Roaming\\Python\\Python312\\site-packages\\shapely\\measurement.py:72: RuntimeWarning: invalid value encountered in distance\n",
      "  return lib.distance(a, b, **kwargs)\n",
      "C:\\Users\\vitor.braz\\AppData\\Roaming\\Python\\Python312\\site-packages\\shapely\\measurement.py:72: RuntimeWarning: invalid value encountered in distance\n",
      "  return lib.distance(a, b, **kwargs)\n",
      "C:\\Users\\vitor.braz\\AppData\\Roaming\\Python\\Python312\\site-packages\\shapely\\measurement.py:72: RuntimeWarning: invalid value encountered in distance\n",
      "  return lib.distance(a, b, **kwargs)\n",
      "C:\\Users\\vitor.braz\\AppData\\Roaming\\Python\\Python312\\site-packages\\shapely\\measurement.py:72: RuntimeWarning: invalid value encountered in distance\n",
      "  return lib.distance(a, b, **kwargs)\n",
      "C:\\Users\\vitor.braz\\AppData\\Roaming\\Python\\Python312\\site-packages\\shapely\\measurement.py:72: RuntimeWarning: invalid value encountered in distance\n",
      "  return lib.distance(a, b, **kwargs)\n",
      "C:\\Users\\vitor.braz\\AppData\\Roaming\\Python\\Python312\\site-packages\\shapely\\measurement.py:72: RuntimeWarning: invalid value encountered in distance\n",
      "  return lib.distance(a, b, **kwargs)\n",
      "C:\\Users\\vitor.braz\\AppData\\Roaming\\Python\\Python312\\site-packages\\shapely\\measurement.py:72: RuntimeWarning: invalid value encountered in distance\n",
      "  return lib.distance(a, b, **kwargs)\n",
      "C:\\Users\\vitor.braz\\AppData\\Roaming\\Python\\Python312\\site-packages\\shapely\\measurement.py:72: RuntimeWarning: invalid value encountered in distance\n",
      "  return lib.distance(a, b, **kwargs)\n",
      "C:\\Users\\vitor.braz\\AppData\\Roaming\\Python\\Python312\\site-packages\\shapely\\measurement.py:72: RuntimeWarning: invalid value encountered in distance\n",
      "  return lib.distance(a, b, **kwargs)\n",
      "C:\\Users\\vitor.braz\\AppData\\Roaming\\Python\\Python312\\site-packages\\shapely\\measurement.py:72: RuntimeWarning: invalid value encountered in distance\n",
      "  return lib.distance(a, b, **kwargs)\n",
      "C:\\Users\\vitor.braz\\AppData\\Roaming\\Python\\Python312\\site-packages\\shapely\\measurement.py:72: RuntimeWarning: invalid value encountered in distance\n",
      "  return lib.distance(a, b, **kwargs)\n",
      "C:\\Users\\vitor.braz\\AppData\\Roaming\\Python\\Python312\\site-packages\\shapely\\measurement.py:72: RuntimeWarning: invalid value encountered in distance\n",
      "  return lib.distance(a, b, **kwargs)\n"
     ]
    },
    {
     "name": "stdout",
     "output_type": "stream",
     "text": [
      "[INFO] Tentando sem tipo de via: 'CONDE DE FRONTIN SENTIDO BAIRRO'\n"
     ]
    },
    {
     "name": "stderr",
     "output_type": "stream",
     "text": [
      "C:\\Users\\vitor.braz\\AppData\\Roaming\\Python\\Python312\\site-packages\\shapely\\measurement.py:72: RuntimeWarning: invalid value encountered in distance\n",
      "  return lib.distance(a, b, **kwargs)\n",
      "C:\\Users\\vitor.braz\\AppData\\Roaming\\Python\\Python312\\site-packages\\shapely\\measurement.py:72: RuntimeWarning: invalid value encountered in distance\n",
      "  return lib.distance(a, b, **kwargs)\n",
      "C:\\Users\\vitor.braz\\AppData\\Roaming\\Python\\Python312\\site-packages\\shapely\\measurement.py:72: RuntimeWarning: invalid value encountered in distance\n",
      "  return lib.distance(a, b, **kwargs)\n",
      "C:\\Users\\vitor.braz\\AppData\\Roaming\\Python\\Python312\\site-packages\\shapely\\measurement.py:72: RuntimeWarning: invalid value encountered in distance\n",
      "  return lib.distance(a, b, **kwargs)\n",
      "C:\\Users\\vitor.braz\\AppData\\Roaming\\Python\\Python312\\site-packages\\shapely\\measurement.py:72: RuntimeWarning: invalid value encountered in distance\n",
      "  return lib.distance(a, b, **kwargs)\n",
      "C:\\Users\\vitor.braz\\AppData\\Roaming\\Python\\Python312\\site-packages\\shapely\\measurement.py:72: RuntimeWarning: invalid value encountered in distance\n",
      "  return lib.distance(a, b, **kwargs)\n",
      "C:\\Users\\vitor.braz\\AppData\\Roaming\\Python\\Python312\\site-packages\\shapely\\measurement.py:72: RuntimeWarning: invalid value encountered in distance\n",
      "  return lib.distance(a, b, **kwargs)\n",
      "C:\\Users\\vitor.braz\\AppData\\Roaming\\Python\\Python312\\site-packages\\shapely\\measurement.py:72: RuntimeWarning: invalid value encountered in distance\n",
      "  return lib.distance(a, b, **kwargs)\n",
      "C:\\Users\\vitor.braz\\AppData\\Roaming\\Python\\Python312\\site-packages\\shapely\\measurement.py:72: RuntimeWarning: invalid value encountered in distance\n",
      "  return lib.distance(a, b, **kwargs)\n",
      "C:\\Users\\vitor.braz\\AppData\\Roaming\\Python\\Python312\\site-packages\\shapely\\measurement.py:72: RuntimeWarning: invalid value encountered in distance\n",
      "  return lib.distance(a, b, **kwargs)\n",
      "C:\\Users\\vitor.braz\\AppData\\Roaming\\Python\\Python312\\site-packages\\shapely\\measurement.py:72: RuntimeWarning: invalid value encountered in distance\n",
      "  return lib.distance(a, b, **kwargs)\n",
      "C:\\Users\\vitor.braz\\AppData\\Roaming\\Python\\Python312\\site-packages\\shapely\\measurement.py:72: RuntimeWarning: invalid value encountered in distance\n",
      "  return lib.distance(a, b, **kwargs)\n",
      "C:\\Users\\vitor.braz\\AppData\\Roaming\\Python\\Python312\\site-packages\\shapely\\measurement.py:72: RuntimeWarning: invalid value encountered in distance\n",
      "  return lib.distance(a, b, **kwargs)\n",
      "C:\\Users\\vitor.braz\\AppData\\Roaming\\Python\\Python312\\site-packages\\shapely\\measurement.py:72: RuntimeWarning: invalid value encountered in distance\n",
      "  return lib.distance(a, b, **kwargs)\n",
      "C:\\Users\\vitor.braz\\AppData\\Roaming\\Python\\Python312\\site-packages\\shapely\\measurement.py:72: RuntimeWarning: invalid value encountered in distance\n",
      "  return lib.distance(a, b, **kwargs)\n",
      "C:\\Users\\vitor.braz\\AppData\\Roaming\\Python\\Python312\\site-packages\\shapely\\measurement.py:72: RuntimeWarning: invalid value encountered in distance\n",
      "  return lib.distance(a, b, **kwargs)\n",
      "C:\\Users\\vitor.braz\\AppData\\Roaming\\Python\\Python312\\site-packages\\shapely\\measurement.py:72: RuntimeWarning: invalid value encountered in distance\n",
      "  return lib.distance(a, b, **kwargs)\n",
      "C:\\Users\\vitor.braz\\AppData\\Roaming\\Python\\Python312\\site-packages\\shapely\\measurement.py:72: RuntimeWarning: invalid value encountered in distance\n",
      "  return lib.distance(a, b, **kwargs)\n",
      "C:\\Users\\vitor.braz\\AppData\\Roaming\\Python\\Python312\\site-packages\\shapely\\measurement.py:72: RuntimeWarning: invalid value encountered in distance\n",
      "  return lib.distance(a, b, **kwargs)\n",
      "C:\\Users\\vitor.braz\\AppData\\Roaming\\Python\\Python312\\site-packages\\shapely\\measurement.py:72: RuntimeWarning: invalid value encountered in distance\n",
      "  return lib.distance(a, b, **kwargs)\n",
      "C:\\Users\\vitor.braz\\AppData\\Roaming\\Python\\Python312\\site-packages\\shapely\\measurement.py:72: RuntimeWarning: invalid value encountered in distance\n",
      "  return lib.distance(a, b, **kwargs)\n",
      "C:\\Users\\vitor.braz\\AppData\\Roaming\\Python\\Python312\\site-packages\\shapely\\measurement.py:72: RuntimeWarning: invalid value encountered in distance\n",
      "  return lib.distance(a, b, **kwargs)\n"
     ]
    },
    {
     "name": "stdout",
     "output_type": "stream",
     "text": [
      "[INFO] Tentando sem tipo de via: 'MIGUEL ESTEFANO'\n"
     ]
    },
    {
     "name": "stderr",
     "output_type": "stream",
     "text": [
      "C:\\Users\\vitor.braz\\AppData\\Roaming\\Python\\Python312\\site-packages\\shapely\\measurement.py:72: RuntimeWarning: invalid value encountered in distance\n",
      "  return lib.distance(a, b, **kwargs)\n",
      "C:\\Users\\vitor.braz\\AppData\\Roaming\\Python\\Python312\\site-packages\\shapely\\measurement.py:72: RuntimeWarning: invalid value encountered in distance\n",
      "  return lib.distance(a, b, **kwargs)\n",
      "C:\\Users\\vitor.braz\\AppData\\Roaming\\Python\\Python312\\site-packages\\shapely\\measurement.py:72: RuntimeWarning: invalid value encountered in distance\n",
      "  return lib.distance(a, b, **kwargs)\n"
     ]
    },
    {
     "name": "stdout",
     "output_type": "stream",
     "text": [
      "[INFO] Tentando sem tipo de via: 'DOUTOR JOSE MARIO TEIXEIRA DE LEAO'\n"
     ]
    },
    {
     "name": "stderr",
     "output_type": "stream",
     "text": [
      "C:\\Users\\vitor.braz\\AppData\\Roaming\\Python\\Python312\\site-packages\\shapely\\measurement.py:72: RuntimeWarning: invalid value encountered in distance\n",
      "  return lib.distance(a, b, **kwargs)\n"
     ]
    },
    {
     "name": "stdout",
     "output_type": "stream",
     "text": [
      "[INFO] Tentando sem tipo de via: 'DO M'BOI MIRIM'\n"
     ]
    },
    {
     "name": "stderr",
     "output_type": "stream",
     "text": [
      "C:\\Users\\vitor.braz\\AppData\\Roaming\\Python\\Python312\\site-packages\\shapely\\measurement.py:72: RuntimeWarning: invalid value encountered in distance\n",
      "  return lib.distance(a, b, **kwargs)\n",
      "C:\\Users\\vitor.braz\\AppData\\Roaming\\Python\\Python312\\site-packages\\shapely\\measurement.py:72: RuntimeWarning: invalid value encountered in distance\n",
      "  return lib.distance(a, b, **kwargs)\n",
      "C:\\Users\\vitor.braz\\AppData\\Roaming\\Python\\Python312\\site-packages\\shapely\\measurement.py:72: RuntimeWarning: invalid value encountered in distance\n",
      "  return lib.distance(a, b, **kwargs)\n",
      "C:\\Users\\vitor.braz\\AppData\\Roaming\\Python\\Python312\\site-packages\\shapely\\measurement.py:72: RuntimeWarning: invalid value encountered in distance\n",
      "  return lib.distance(a, b, **kwargs)\n",
      "C:\\Users\\vitor.braz\\AppData\\Roaming\\Python\\Python312\\site-packages\\shapely\\measurement.py:72: RuntimeWarning: invalid value encountered in distance\n",
      "  return lib.distance(a, b, **kwargs)\n",
      "C:\\Users\\vitor.braz\\AppData\\Roaming\\Python\\Python312\\site-packages\\shapely\\measurement.py:72: RuntimeWarning: invalid value encountered in distance\n",
      "  return lib.distance(a, b, **kwargs)\n",
      "C:\\Users\\vitor.braz\\AppData\\Roaming\\Python\\Python312\\site-packages\\shapely\\measurement.py:72: RuntimeWarning: invalid value encountered in distance\n",
      "  return lib.distance(a, b, **kwargs)\n",
      "C:\\Users\\vitor.braz\\AppData\\Roaming\\Python\\Python312\\site-packages\\shapely\\measurement.py:72: RuntimeWarning: invalid value encountered in distance\n",
      "  return lib.distance(a, b, **kwargs)\n",
      "C:\\Users\\vitor.braz\\AppData\\Roaming\\Python\\Python312\\site-packages\\shapely\\measurement.py:72: RuntimeWarning: invalid value encountered in distance\n",
      "  return lib.distance(a, b, **kwargs)\n",
      "C:\\Users\\vitor.braz\\AppData\\Roaming\\Python\\Python312\\site-packages\\shapely\\measurement.py:72: RuntimeWarning: invalid value encountered in distance\n",
      "  return lib.distance(a, b, **kwargs)\n",
      "C:\\Users\\vitor.braz\\AppData\\Roaming\\Python\\Python312\\site-packages\\shapely\\measurement.py:72: RuntimeWarning: invalid value encountered in distance\n",
      "  return lib.distance(a, b, **kwargs)\n",
      "C:\\Users\\vitor.braz\\AppData\\Roaming\\Python\\Python312\\site-packages\\shapely\\measurement.py:72: RuntimeWarning: invalid value encountered in distance\n",
      "  return lib.distance(a, b, **kwargs)\n",
      "C:\\Users\\vitor.braz\\AppData\\Roaming\\Python\\Python312\\site-packages\\shapely\\measurement.py:72: RuntimeWarning: invalid value encountered in distance\n",
      "  return lib.distance(a, b, **kwargs)\n",
      "C:\\Users\\vitor.braz\\AppData\\Roaming\\Python\\Python312\\site-packages\\shapely\\measurement.py:72: RuntimeWarning: invalid value encountered in distance\n",
      "  return lib.distance(a, b, **kwargs)\n",
      "C:\\Users\\vitor.braz\\AppData\\Roaming\\Python\\Python312\\site-packages\\shapely\\measurement.py:72: RuntimeWarning: invalid value encountered in distance\n",
      "  return lib.distance(a, b, **kwargs)\n",
      "C:\\Users\\vitor.braz\\AppData\\Roaming\\Python\\Python312\\site-packages\\shapely\\measurement.py:72: RuntimeWarning: invalid value encountered in distance\n",
      "  return lib.distance(a, b, **kwargs)\n",
      "C:\\Users\\vitor.braz\\AppData\\Roaming\\Python\\Python312\\site-packages\\shapely\\measurement.py:72: RuntimeWarning: invalid value encountered in distance\n",
      "  return lib.distance(a, b, **kwargs)\n",
      "C:\\Users\\vitor.braz\\AppData\\Roaming\\Python\\Python312\\site-packages\\shapely\\measurement.py:72: RuntimeWarning: invalid value encountered in distance\n",
      "  return lib.distance(a, b, **kwargs)\n",
      "C:\\Users\\vitor.braz\\AppData\\Roaming\\Python\\Python312\\site-packages\\shapely\\measurement.py:72: RuntimeWarning: invalid value encountered in distance\n",
      "  return lib.distance(a, b, **kwargs)\n",
      "C:\\Users\\vitor.braz\\AppData\\Roaming\\Python\\Python312\\site-packages\\shapely\\measurement.py:72: RuntimeWarning: invalid value encountered in distance\n",
      "  return lib.distance(a, b, **kwargs)\n",
      "C:\\Users\\vitor.braz\\AppData\\Roaming\\Python\\Python312\\site-packages\\shapely\\measurement.py:72: RuntimeWarning: invalid value encountered in distance\n",
      "  return lib.distance(a, b, **kwargs)\n",
      "C:\\Users\\vitor.braz\\AppData\\Roaming\\Python\\Python312\\site-packages\\shapely\\measurement.py:72: RuntimeWarning: invalid value encountered in distance\n",
      "  return lib.distance(a, b, **kwargs)\n",
      "C:\\Users\\vitor.braz\\AppData\\Roaming\\Python\\Python312\\site-packages\\shapely\\measurement.py:72: RuntimeWarning: invalid value encountered in distance\n",
      "  return lib.distance(a, b, **kwargs)\n",
      "C:\\Users\\vitor.braz\\AppData\\Roaming\\Python\\Python312\\site-packages\\shapely\\measurement.py:72: RuntimeWarning: invalid value encountered in distance\n",
      "  return lib.distance(a, b, **kwargs)\n",
      "C:\\Users\\vitor.braz\\AppData\\Roaming\\Python\\Python312\\site-packages\\shapely\\measurement.py:72: RuntimeWarning: invalid value encountered in distance\n",
      "  return lib.distance(a, b, **kwargs)\n",
      "C:\\Users\\vitor.braz\\AppData\\Roaming\\Python\\Python312\\site-packages\\shapely\\measurement.py:72: RuntimeWarning: invalid value encountered in distance\n",
      "  return lib.distance(a, b, **kwargs)\n"
     ]
    },
    {
     "name": "stdout",
     "output_type": "stream",
     "text": [
      "[INFO] Tentando sem tipo de via: 'PARA MARGINAL TIETE EXPRESSA'\n"
     ]
    },
    {
     "name": "stderr",
     "output_type": "stream",
     "text": [
      "C:\\Users\\vitor.braz\\AppData\\Roaming\\Python\\Python312\\site-packages\\shapely\\measurement.py:72: RuntimeWarning: invalid value encountered in distance\n",
      "  return lib.distance(a, b, **kwargs)\n",
      "C:\\Users\\vitor.braz\\AppData\\Roaming\\Python\\Python312\\site-packages\\shapely\\measurement.py:72: RuntimeWarning: invalid value encountered in distance\n",
      "  return lib.distance(a, b, **kwargs)\n",
      "C:\\Users\\vitor.braz\\AppData\\Roaming\\Python\\Python312\\site-packages\\shapely\\measurement.py:72: RuntimeWarning: invalid value encountered in distance\n",
      "  return lib.distance(a, b, **kwargs)\n",
      "C:\\Users\\vitor.braz\\AppData\\Roaming\\Python\\Python312\\site-packages\\shapely\\measurement.py:72: RuntimeWarning: invalid value encountered in distance\n",
      "  return lib.distance(a, b, **kwargs)\n",
      "C:\\Users\\vitor.braz\\AppData\\Roaming\\Python\\Python312\\site-packages\\shapely\\measurement.py:72: RuntimeWarning: invalid value encountered in distance\n",
      "  return lib.distance(a, b, **kwargs)\n",
      "C:\\Users\\vitor.braz\\AppData\\Roaming\\Python\\Python312\\site-packages\\shapely\\measurement.py:72: RuntimeWarning: invalid value encountered in distance\n",
      "  return lib.distance(a, b, **kwargs)\n",
      "C:\\Users\\vitor.braz\\AppData\\Roaming\\Python\\Python312\\site-packages\\shapely\\measurement.py:72: RuntimeWarning: invalid value encountered in distance\n",
      "  return lib.distance(a, b, **kwargs)\n",
      "C:\\Users\\vitor.braz\\AppData\\Roaming\\Python\\Python312\\site-packages\\shapely\\measurement.py:72: RuntimeWarning: invalid value encountered in distance\n",
      "  return lib.distance(a, b, **kwargs)\n"
     ]
    },
    {
     "name": "stdout",
     "output_type": "stream",
     "text": [
      "[INFO] Tentando sem tipo de via: 'DOMINGOS DE MENDONCA'\n"
     ]
    },
    {
     "name": "stderr",
     "output_type": "stream",
     "text": [
      "C:\\Users\\vitor.braz\\AppData\\Roaming\\Python\\Python312\\site-packages\\shapely\\measurement.py:72: RuntimeWarning: invalid value encountered in distance\n",
      "  return lib.distance(a, b, **kwargs)\n",
      "C:\\Users\\vitor.braz\\AppData\\Roaming\\Python\\Python312\\site-packages\\shapely\\measurement.py:72: RuntimeWarning: invalid value encountered in distance\n",
      "  return lib.distance(a, b, **kwargs)\n",
      "C:\\Users\\vitor.braz\\AppData\\Roaming\\Python\\Python312\\site-packages\\shapely\\measurement.py:72: RuntimeWarning: invalid value encountered in distance\n",
      "  return lib.distance(a, b, **kwargs)\n",
      "C:\\Users\\vitor.braz\\AppData\\Roaming\\Python\\Python312\\site-packages\\shapely\\measurement.py:72: RuntimeWarning: invalid value encountered in distance\n",
      "  return lib.distance(a, b, **kwargs)\n"
     ]
    },
    {
     "name": "stdout",
     "output_type": "stream",
     "text": [
      "[INFO] Tentando sem tipo de via: 'DO M'BOI MIRIM'\n"
     ]
    },
    {
     "name": "stderr",
     "output_type": "stream",
     "text": [
      "C:\\Users\\vitor.braz\\AppData\\Roaming\\Python\\Python312\\site-packages\\shapely\\measurement.py:72: RuntimeWarning: invalid value encountered in distance\n",
      "  return lib.distance(a, b, **kwargs)\n",
      "C:\\Users\\vitor.braz\\AppData\\Roaming\\Python\\Python312\\site-packages\\shapely\\measurement.py:72: RuntimeWarning: invalid value encountered in distance\n",
      "  return lib.distance(a, b, **kwargs)\n",
      "C:\\Users\\vitor.braz\\AppData\\Roaming\\Python\\Python312\\site-packages\\shapely\\measurement.py:72: RuntimeWarning: invalid value encountered in distance\n",
      "  return lib.distance(a, b, **kwargs)\n",
      "C:\\Users\\vitor.braz\\AppData\\Roaming\\Python\\Python312\\site-packages\\shapely\\measurement.py:72: RuntimeWarning: invalid value encountered in distance\n",
      "  return lib.distance(a, b, **kwargs)\n",
      "C:\\Users\\vitor.braz\\AppData\\Roaming\\Python\\Python312\\site-packages\\shapely\\measurement.py:72: RuntimeWarning: invalid value encountered in distance\n",
      "  return lib.distance(a, b, **kwargs)\n",
      "C:\\Users\\vitor.braz\\AppData\\Roaming\\Python\\Python312\\site-packages\\shapely\\measurement.py:72: RuntimeWarning: invalid value encountered in distance\n",
      "  return lib.distance(a, b, **kwargs)\n",
      "C:\\Users\\vitor.braz\\AppData\\Roaming\\Python\\Python312\\site-packages\\shapely\\measurement.py:72: RuntimeWarning: invalid value encountered in distance\n",
      "  return lib.distance(a, b, **kwargs)\n",
      "C:\\Users\\vitor.braz\\AppData\\Roaming\\Python\\Python312\\site-packages\\shapely\\measurement.py:72: RuntimeWarning: invalid value encountered in distance\n",
      "  return lib.distance(a, b, **kwargs)\n",
      "C:\\Users\\vitor.braz\\AppData\\Roaming\\Python\\Python312\\site-packages\\shapely\\measurement.py:72: RuntimeWarning: invalid value encountered in distance\n",
      "  return lib.distance(a, b, **kwargs)\n",
      "C:\\Users\\vitor.braz\\AppData\\Roaming\\Python\\Python312\\site-packages\\shapely\\measurement.py:72: RuntimeWarning: invalid value encountered in distance\n",
      "  return lib.distance(a, b, **kwargs)\n",
      "C:\\Users\\vitor.braz\\AppData\\Roaming\\Python\\Python312\\site-packages\\shapely\\measurement.py:72: RuntimeWarning: invalid value encountered in distance\n",
      "  return lib.distance(a, b, **kwargs)\n",
      "C:\\Users\\vitor.braz\\AppData\\Roaming\\Python\\Python312\\site-packages\\shapely\\measurement.py:72: RuntimeWarning: invalid value encountered in distance\n",
      "  return lib.distance(a, b, **kwargs)\n",
      "C:\\Users\\vitor.braz\\AppData\\Roaming\\Python\\Python312\\site-packages\\shapely\\measurement.py:72: RuntimeWarning: invalid value encountered in distance\n",
      "  return lib.distance(a, b, **kwargs)\n",
      "C:\\Users\\vitor.braz\\AppData\\Roaming\\Python\\Python312\\site-packages\\shapely\\measurement.py:72: RuntimeWarning: invalid value encountered in distance\n",
      "  return lib.distance(a, b, **kwargs)\n",
      "C:\\Users\\vitor.braz\\AppData\\Roaming\\Python\\Python312\\site-packages\\shapely\\measurement.py:72: RuntimeWarning: invalid value encountered in distance\n",
      "  return lib.distance(a, b, **kwargs)\n",
      "C:\\Users\\vitor.braz\\AppData\\Roaming\\Python\\Python312\\site-packages\\shapely\\measurement.py:72: RuntimeWarning: invalid value encountered in distance\n",
      "  return lib.distance(a, b, **kwargs)\n",
      "C:\\Users\\vitor.braz\\AppData\\Roaming\\Python\\Python312\\site-packages\\shapely\\measurement.py:72: RuntimeWarning: invalid value encountered in distance\n",
      "  return lib.distance(a, b, **kwargs)\n",
      "C:\\Users\\vitor.braz\\AppData\\Roaming\\Python\\Python312\\site-packages\\shapely\\measurement.py:72: RuntimeWarning: invalid value encountered in distance\n",
      "  return lib.distance(a, b, **kwargs)\n",
      "C:\\Users\\vitor.braz\\AppData\\Roaming\\Python\\Python312\\site-packages\\shapely\\measurement.py:72: RuntimeWarning: invalid value encountered in distance\n",
      "  return lib.distance(a, b, **kwargs)\n",
      "C:\\Users\\vitor.braz\\AppData\\Roaming\\Python\\Python312\\site-packages\\shapely\\measurement.py:72: RuntimeWarning: invalid value encountered in distance\n",
      "  return lib.distance(a, b, **kwargs)\n",
      "C:\\Users\\vitor.braz\\AppData\\Roaming\\Python\\Python312\\site-packages\\shapely\\measurement.py:72: RuntimeWarning: invalid value encountered in distance\n",
      "  return lib.distance(a, b, **kwargs)\n"
     ]
    },
    {
     "name": "stdout",
     "output_type": "stream",
     "text": [
      "[INFO] Tentando sem tipo de via: 'DA PASSAGEM FUNDA'\n"
     ]
    },
    {
     "name": "stderr",
     "output_type": "stream",
     "text": [
      "C:\\Users\\vitor.braz\\AppData\\Roaming\\Python\\Python312\\site-packages\\shapely\\measurement.py:72: RuntimeWarning: invalid value encountered in distance\n",
      "  return lib.distance(a, b, **kwargs)\n",
      "C:\\Users\\vitor.braz\\AppData\\Roaming\\Python\\Python312\\site-packages\\shapely\\measurement.py:72: RuntimeWarning: invalid value encountered in distance\n",
      "  return lib.distance(a, b, **kwargs)\n",
      "C:\\Users\\vitor.braz\\AppData\\Roaming\\Python\\Python312\\site-packages\\shapely\\measurement.py:72: RuntimeWarning: invalid value encountered in distance\n",
      "  return lib.distance(a, b, **kwargs)\n",
      "C:\\Users\\vitor.braz\\AppData\\Roaming\\Python\\Python312\\site-packages\\shapely\\measurement.py:72: RuntimeWarning: invalid value encountered in distance\n",
      "  return lib.distance(a, b, **kwargs)\n"
     ]
    },
    {
     "name": "stdout",
     "output_type": "stream",
     "text": [
      "[INFO] Tentando sem tipo de via: 'DO M'BOI MIRIM'\n"
     ]
    },
    {
     "name": "stderr",
     "output_type": "stream",
     "text": [
      "C:\\Users\\vitor.braz\\AppData\\Roaming\\Python\\Python312\\site-packages\\shapely\\measurement.py:72: RuntimeWarning: invalid value encountered in distance\n",
      "  return lib.distance(a, b, **kwargs)\n",
      "C:\\Users\\vitor.braz\\AppData\\Roaming\\Python\\Python312\\site-packages\\shapely\\measurement.py:72: RuntimeWarning: invalid value encountered in distance\n",
      "  return lib.distance(a, b, **kwargs)\n",
      "C:\\Users\\vitor.braz\\AppData\\Roaming\\Python\\Python312\\site-packages\\shapely\\measurement.py:72: RuntimeWarning: invalid value encountered in distance\n",
      "  return lib.distance(a, b, **kwargs)\n",
      "C:\\Users\\vitor.braz\\AppData\\Roaming\\Python\\Python312\\site-packages\\shapely\\measurement.py:72: RuntimeWarning: invalid value encountered in distance\n",
      "  return lib.distance(a, b, **kwargs)\n",
      "C:\\Users\\vitor.braz\\AppData\\Roaming\\Python\\Python312\\site-packages\\shapely\\measurement.py:72: RuntimeWarning: invalid value encountered in distance\n",
      "  return lib.distance(a, b, **kwargs)\n",
      "C:\\Users\\vitor.braz\\AppData\\Roaming\\Python\\Python312\\site-packages\\shapely\\measurement.py:72: RuntimeWarning: invalid value encountered in distance\n",
      "  return lib.distance(a, b, **kwargs)\n",
      "C:\\Users\\vitor.braz\\AppData\\Roaming\\Python\\Python312\\site-packages\\shapely\\measurement.py:72: RuntimeWarning: invalid value encountered in distance\n",
      "  return lib.distance(a, b, **kwargs)\n",
      "C:\\Users\\vitor.braz\\AppData\\Roaming\\Python\\Python312\\site-packages\\shapely\\measurement.py:72: RuntimeWarning: invalid value encountered in distance\n",
      "  return lib.distance(a, b, **kwargs)\n",
      "C:\\Users\\vitor.braz\\AppData\\Roaming\\Python\\Python312\\site-packages\\shapely\\measurement.py:72: RuntimeWarning: invalid value encountered in distance\n",
      "  return lib.distance(a, b, **kwargs)\n",
      "C:\\Users\\vitor.braz\\AppData\\Roaming\\Python\\Python312\\site-packages\\shapely\\measurement.py:72: RuntimeWarning: invalid value encountered in distance\n",
      "  return lib.distance(a, b, **kwargs)\n"
     ]
    },
    {
     "name": "stdout",
     "output_type": "stream",
     "text": [
      "[INFO] Tentando sem tipo de via: 'DR RUTH CARDOSO'\n"
     ]
    },
    {
     "name": "stderr",
     "output_type": "stream",
     "text": [
      "C:\\Users\\vitor.braz\\AppData\\Roaming\\Python\\Python312\\site-packages\\shapely\\measurement.py:72: RuntimeWarning: invalid value encountered in distance\n",
      "  return lib.distance(a, b, **kwargs)\n",
      "C:\\Users\\vitor.braz\\AppData\\Roaming\\Python\\Python312\\site-packages\\shapely\\measurement.py:72: RuntimeWarning: invalid value encountered in distance\n",
      "  return lib.distance(a, b, **kwargs)\n",
      "C:\\Users\\vitor.braz\\AppData\\Roaming\\Python\\Python312\\site-packages\\shapely\\measurement.py:72: RuntimeWarning: invalid value encountered in distance\n",
      "  return lib.distance(a, b, **kwargs)\n",
      "C:\\Users\\vitor.braz\\AppData\\Roaming\\Python\\Python312\\site-packages\\shapely\\measurement.py:72: RuntimeWarning: invalid value encountered in distance\n",
      "  return lib.distance(a, b, **kwargs)\n",
      "C:\\Users\\vitor.braz\\AppData\\Roaming\\Python\\Python312\\site-packages\\shapely\\measurement.py:72: RuntimeWarning: invalid value encountered in distance\n",
      "  return lib.distance(a, b, **kwargs)\n"
     ]
    },
    {
     "name": "stdout",
     "output_type": "stream",
     "text": [
      "[INFO] Tentando sem tipo de via: 'DO M'BOI MIRIM'\n"
     ]
    },
    {
     "name": "stderr",
     "output_type": "stream",
     "text": [
      "C:\\Users\\vitor.braz\\AppData\\Roaming\\Python\\Python312\\site-packages\\shapely\\measurement.py:72: RuntimeWarning: invalid value encountered in distance\n",
      "  return lib.distance(a, b, **kwargs)\n",
      "C:\\Users\\vitor.braz\\AppData\\Roaming\\Python\\Python312\\site-packages\\shapely\\measurement.py:72: RuntimeWarning: invalid value encountered in distance\n",
      "  return lib.distance(a, b, **kwargs)\n",
      "C:\\Users\\vitor.braz\\AppData\\Roaming\\Python\\Python312\\site-packages\\shapely\\measurement.py:72: RuntimeWarning: invalid value encountered in distance\n",
      "  return lib.distance(a, b, **kwargs)\n",
      "C:\\Users\\vitor.braz\\AppData\\Roaming\\Python\\Python312\\site-packages\\shapely\\measurement.py:72: RuntimeWarning: invalid value encountered in distance\n",
      "  return lib.distance(a, b, **kwargs)\n",
      "C:\\Users\\vitor.braz\\AppData\\Roaming\\Python\\Python312\\site-packages\\shapely\\measurement.py:72: RuntimeWarning: invalid value encountered in distance\n",
      "  return lib.distance(a, b, **kwargs)\n",
      "C:\\Users\\vitor.braz\\AppData\\Roaming\\Python\\Python312\\site-packages\\shapely\\measurement.py:72: RuntimeWarning: invalid value encountered in distance\n",
      "  return lib.distance(a, b, **kwargs)\n",
      "C:\\Users\\vitor.braz\\AppData\\Roaming\\Python\\Python312\\site-packages\\shapely\\measurement.py:72: RuntimeWarning: invalid value encountered in distance\n",
      "  return lib.distance(a, b, **kwargs)\n",
      "C:\\Users\\vitor.braz\\AppData\\Roaming\\Python\\Python312\\site-packages\\shapely\\measurement.py:72: RuntimeWarning: invalid value encountered in distance\n",
      "  return lib.distance(a, b, **kwargs)\n",
      "C:\\Users\\vitor.braz\\AppData\\Roaming\\Python\\Python312\\site-packages\\shapely\\measurement.py:72: RuntimeWarning: invalid value encountered in distance\n",
      "  return lib.distance(a, b, **kwargs)\n",
      "C:\\Users\\vitor.braz\\AppData\\Roaming\\Python\\Python312\\site-packages\\shapely\\measurement.py:72: RuntimeWarning: invalid value encountered in distance\n",
      "  return lib.distance(a, b, **kwargs)\n",
      "C:\\Users\\vitor.braz\\AppData\\Roaming\\Python\\Python312\\site-packages\\shapely\\measurement.py:72: RuntimeWarning: invalid value encountered in distance\n",
      "  return lib.distance(a, b, **kwargs)\n",
      "C:\\Users\\vitor.braz\\AppData\\Roaming\\Python\\Python312\\site-packages\\shapely\\measurement.py:72: RuntimeWarning: invalid value encountered in distance\n",
      "  return lib.distance(a, b, **kwargs)\n",
      "C:\\Users\\vitor.braz\\AppData\\Roaming\\Python\\Python312\\site-packages\\shapely\\measurement.py:72: RuntimeWarning: invalid value encountered in distance\n",
      "  return lib.distance(a, b, **kwargs)\n",
      "C:\\Users\\vitor.braz\\AppData\\Roaming\\Python\\Python312\\site-packages\\shapely\\measurement.py:72: RuntimeWarning: invalid value encountered in distance\n",
      "  return lib.distance(a, b, **kwargs)\n",
      "C:\\Users\\vitor.braz\\AppData\\Roaming\\Python\\Python312\\site-packages\\shapely\\measurement.py:72: RuntimeWarning: invalid value encountered in distance\n",
      "  return lib.distance(a, b, **kwargs)\n",
      "C:\\Users\\vitor.braz\\AppData\\Roaming\\Python\\Python312\\site-packages\\shapely\\measurement.py:72: RuntimeWarning: invalid value encountered in distance\n",
      "  return lib.distance(a, b, **kwargs)\n"
     ]
    },
    {
     "name": "stdout",
     "output_type": "stream",
     "text": [
      "[INFO] Tentando sem tipo de via: 'DO M'BOI MIRIM'\n"
     ]
    },
    {
     "name": "stderr",
     "output_type": "stream",
     "text": [
      "C:\\Users\\vitor.braz\\AppData\\Roaming\\Python\\Python312\\site-packages\\shapely\\measurement.py:72: RuntimeWarning: invalid value encountered in distance\n",
      "  return lib.distance(a, b, **kwargs)\n",
      "C:\\Users\\vitor.braz\\AppData\\Roaming\\Python\\Python312\\site-packages\\shapely\\measurement.py:72: RuntimeWarning: invalid value encountered in distance\n",
      "  return lib.distance(a, b, **kwargs)\n",
      "C:\\Users\\vitor.braz\\AppData\\Roaming\\Python\\Python312\\site-packages\\shapely\\measurement.py:72: RuntimeWarning: invalid value encountered in distance\n",
      "  return lib.distance(a, b, **kwargs)\n",
      "C:\\Users\\vitor.braz\\AppData\\Roaming\\Python\\Python312\\site-packages\\shapely\\measurement.py:72: RuntimeWarning: invalid value encountered in distance\n",
      "  return lib.distance(a, b, **kwargs)\n",
      "C:\\Users\\vitor.braz\\AppData\\Roaming\\Python\\Python312\\site-packages\\shapely\\measurement.py:72: RuntimeWarning: invalid value encountered in distance\n",
      "  return lib.distance(a, b, **kwargs)\n",
      "C:\\Users\\vitor.braz\\AppData\\Roaming\\Python\\Python312\\site-packages\\shapely\\measurement.py:72: RuntimeWarning: invalid value encountered in distance\n",
      "  return lib.distance(a, b, **kwargs)\n",
      "C:\\Users\\vitor.braz\\AppData\\Roaming\\Python\\Python312\\site-packages\\shapely\\measurement.py:72: RuntimeWarning: invalid value encountered in distance\n",
      "  return lib.distance(a, b, **kwargs)\n",
      "C:\\Users\\vitor.braz\\AppData\\Roaming\\Python\\Python312\\site-packages\\shapely\\measurement.py:72: RuntimeWarning: invalid value encountered in distance\n",
      "  return lib.distance(a, b, **kwargs)\n"
     ]
    },
    {
     "name": "stdout",
     "output_type": "stream",
     "text": [
      "[INFO] Tentando sem tipo de via: 'RADIAL LESTE CENTRO'\n"
     ]
    },
    {
     "name": "stderr",
     "output_type": "stream",
     "text": [
      "C:\\Users\\vitor.braz\\AppData\\Roaming\\Python\\Python312\\site-packages\\shapely\\measurement.py:72: RuntimeWarning: invalid value encountered in distance\n",
      "  return lib.distance(a, b, **kwargs)\n",
      "C:\\Users\\vitor.braz\\AppData\\Roaming\\Python\\Python312\\site-packages\\shapely\\measurement.py:72: RuntimeWarning: invalid value encountered in distance\n",
      "  return lib.distance(a, b, **kwargs)\n",
      "C:\\Users\\vitor.braz\\AppData\\Roaming\\Python\\Python312\\site-packages\\shapely\\measurement.py:72: RuntimeWarning: invalid value encountered in distance\n",
      "  return lib.distance(a, b, **kwargs)\n",
      "C:\\Users\\vitor.braz\\AppData\\Roaming\\Python\\Python312\\site-packages\\shapely\\measurement.py:72: RuntimeWarning: invalid value encountered in distance\n",
      "  return lib.distance(a, b, **kwargs)\n",
      "C:\\Users\\vitor.braz\\AppData\\Roaming\\Python\\Python312\\site-packages\\shapely\\measurement.py:72: RuntimeWarning: invalid value encountered in distance\n",
      "  return lib.distance(a, b, **kwargs)\n",
      "C:\\Users\\vitor.braz\\AppData\\Roaming\\Python\\Python312\\site-packages\\shapely\\measurement.py:72: RuntimeWarning: invalid value encountered in distance\n",
      "  return lib.distance(a, b, **kwargs)\n",
      "C:\\Users\\vitor.braz\\AppData\\Roaming\\Python\\Python312\\site-packages\\shapely\\measurement.py:72: RuntimeWarning: invalid value encountered in distance\n",
      "  return lib.distance(a, b, **kwargs)\n",
      "C:\\Users\\vitor.braz\\AppData\\Roaming\\Python\\Python312\\site-packages\\shapely\\measurement.py:72: RuntimeWarning: invalid value encountered in distance\n",
      "  return lib.distance(a, b, **kwargs)\n",
      "C:\\Users\\vitor.braz\\AppData\\Roaming\\Python\\Python312\\site-packages\\shapely\\measurement.py:72: RuntimeWarning: invalid value encountered in distance\n",
      "  return lib.distance(a, b, **kwargs)\n",
      "C:\\Users\\vitor.braz\\AppData\\Roaming\\Python\\Python312\\site-packages\\shapely\\measurement.py:72: RuntimeWarning: invalid value encountered in distance\n",
      "  return lib.distance(a, b, **kwargs)\n",
      "C:\\Users\\vitor.braz\\AppData\\Roaming\\Python\\Python312\\site-packages\\shapely\\measurement.py:72: RuntimeWarning: invalid value encountered in distance\n",
      "  return lib.distance(a, b, **kwargs)\n",
      "C:\\Users\\vitor.braz\\AppData\\Roaming\\Python\\Python312\\site-packages\\shapely\\measurement.py:72: RuntimeWarning: invalid value encountered in distance\n",
      "  return lib.distance(a, b, **kwargs)\n",
      "C:\\Users\\vitor.braz\\AppData\\Roaming\\Python\\Python312\\site-packages\\shapely\\measurement.py:72: RuntimeWarning: invalid value encountered in distance\n",
      "  return lib.distance(a, b, **kwargs)\n",
      "C:\\Users\\vitor.braz\\AppData\\Roaming\\Python\\Python312\\site-packages\\shapely\\measurement.py:72: RuntimeWarning: invalid value encountered in distance\n",
      "  return lib.distance(a, b, **kwargs)\n",
      "C:\\Users\\vitor.braz\\AppData\\Roaming\\Python\\Python312\\site-packages\\shapely\\measurement.py:72: RuntimeWarning: invalid value encountered in distance\n",
      "  return lib.distance(a, b, **kwargs)\n",
      "C:\\Users\\vitor.braz\\AppData\\Roaming\\Python\\Python312\\site-packages\\shapely\\measurement.py:72: RuntimeWarning: invalid value encountered in distance\n",
      "  return lib.distance(a, b, **kwargs)\n",
      "C:\\Users\\vitor.braz\\AppData\\Roaming\\Python\\Python312\\site-packages\\shapely\\measurement.py:72: RuntimeWarning: invalid value encountered in distance\n",
      "  return lib.distance(a, b, **kwargs)\n",
      "C:\\Users\\vitor.braz\\AppData\\Roaming\\Python\\Python312\\site-packages\\shapely\\measurement.py:72: RuntimeWarning: invalid value encountered in distance\n",
      "  return lib.distance(a, b, **kwargs)\n",
      "C:\\Users\\vitor.braz\\AppData\\Roaming\\Python\\Python312\\site-packages\\shapely\\measurement.py:72: RuntimeWarning: invalid value encountered in distance\n",
      "  return lib.distance(a, b, **kwargs)\n",
      "C:\\Users\\vitor.braz\\AppData\\Roaming\\Python\\Python312\\site-packages\\shapely\\measurement.py:72: RuntimeWarning: invalid value encountered in distance\n",
      "  return lib.distance(a, b, **kwargs)\n",
      "C:\\Users\\vitor.braz\\AppData\\Roaming\\Python\\Python312\\site-packages\\shapely\\measurement.py:72: RuntimeWarning: invalid value encountered in distance\n",
      "  return lib.distance(a, b, **kwargs)\n",
      "C:\\Users\\vitor.braz\\AppData\\Roaming\\Python\\Python312\\site-packages\\shapely\\measurement.py:72: RuntimeWarning: invalid value encountered in distance\n",
      "  return lib.distance(a, b, **kwargs)\n",
      "C:\\Users\\vitor.braz\\AppData\\Roaming\\Python\\Python312\\site-packages\\shapely\\measurement.py:72: RuntimeWarning: invalid value encountered in distance\n",
      "  return lib.distance(a, b, **kwargs)\n",
      "C:\\Users\\vitor.braz\\AppData\\Roaming\\Python\\Python312\\site-packages\\shapely\\measurement.py:72: RuntimeWarning: invalid value encountered in distance\n",
      "  return lib.distance(a, b, **kwargs)\n",
      "C:\\Users\\vitor.braz\\AppData\\Roaming\\Python\\Python312\\site-packages\\shapely\\measurement.py:72: RuntimeWarning: invalid value encountered in distance\n",
      "  return lib.distance(a, b, **kwargs)\n",
      "C:\\Users\\vitor.braz\\AppData\\Roaming\\Python\\Python312\\site-packages\\shapely\\measurement.py:72: RuntimeWarning: invalid value encountered in distance\n",
      "  return lib.distance(a, b, **kwargs)\n",
      "C:\\Users\\vitor.braz\\AppData\\Roaming\\Python\\Python312\\site-packages\\shapely\\measurement.py:72: RuntimeWarning: invalid value encountered in distance\n",
      "  return lib.distance(a, b, **kwargs)\n",
      "C:\\Users\\vitor.braz\\AppData\\Roaming\\Python\\Python312\\site-packages\\shapely\\measurement.py:72: RuntimeWarning: invalid value encountered in distance\n",
      "  return lib.distance(a, b, **kwargs)\n",
      "C:\\Users\\vitor.braz\\AppData\\Roaming\\Python\\Python312\\site-packages\\shapely\\measurement.py:72: RuntimeWarning: invalid value encountered in distance\n",
      "  return lib.distance(a, b, **kwargs)\n",
      "C:\\Users\\vitor.braz\\AppData\\Roaming\\Python\\Python312\\site-packages\\shapely\\measurement.py:72: RuntimeWarning: invalid value encountered in distance\n",
      "  return lib.distance(a, b, **kwargs)\n",
      "C:\\Users\\vitor.braz\\AppData\\Roaming\\Python\\Python312\\site-packages\\shapely\\measurement.py:72: RuntimeWarning: invalid value encountered in distance\n",
      "  return lib.distance(a, b, **kwargs)\n",
      "C:\\Users\\vitor.braz\\AppData\\Roaming\\Python\\Python312\\site-packages\\shapely\\measurement.py:72: RuntimeWarning: invalid value encountered in distance\n",
      "  return lib.distance(a, b, **kwargs)\n",
      "C:\\Users\\vitor.braz\\AppData\\Roaming\\Python\\Python312\\site-packages\\shapely\\measurement.py:72: RuntimeWarning: invalid value encountered in distance\n",
      "  return lib.distance(a, b, **kwargs)\n",
      "C:\\Users\\vitor.braz\\AppData\\Roaming\\Python\\Python312\\site-packages\\shapely\\measurement.py:72: RuntimeWarning: invalid value encountered in distance\n",
      "  return lib.distance(a, b, **kwargs)\n",
      "C:\\Users\\vitor.braz\\AppData\\Roaming\\Python\\Python312\\site-packages\\shapely\\measurement.py:72: RuntimeWarning: invalid value encountered in distance\n",
      "  return lib.distance(a, b, **kwargs)\n",
      "C:\\Users\\vitor.braz\\AppData\\Roaming\\Python\\Python312\\site-packages\\shapely\\measurement.py:72: RuntimeWarning: invalid value encountered in distance\n",
      "  return lib.distance(a, b, **kwargs)\n"
     ]
    },
    {
     "name": "stdout",
     "output_type": "stream",
     "text": [
      "[INFO] Tentando sem tipo de via: 'MOACIR DANTAS ITAPICURU'\n"
     ]
    },
    {
     "name": "stderr",
     "output_type": "stream",
     "text": [
      "C:\\Users\\vitor.braz\\AppData\\Roaming\\Python\\Python312\\site-packages\\shapely\\measurement.py:72: RuntimeWarning: invalid value encountered in distance\n",
      "  return lib.distance(a, b, **kwargs)\n",
      "C:\\Users\\vitor.braz\\AppData\\Roaming\\Python\\Python312\\site-packages\\shapely\\measurement.py:72: RuntimeWarning: invalid value encountered in distance\n",
      "  return lib.distance(a, b, **kwargs)\n",
      "C:\\Users\\vitor.braz\\AppData\\Roaming\\Python\\Python312\\site-packages\\shapely\\measurement.py:72: RuntimeWarning: invalid value encountered in distance\n",
      "  return lib.distance(a, b, **kwargs)\n"
     ]
    },
    {
     "name": "stdout",
     "output_type": "stream",
     "text": [
      "[INFO] Tentando sem tipo de via: 'PARA MARGINAL TIETE CENTRAL SENTIDO GUARULH'\n"
     ]
    },
    {
     "name": "stderr",
     "output_type": "stream",
     "text": [
      "C:\\Users\\vitor.braz\\AppData\\Roaming\\Python\\Python312\\site-packages\\shapely\\measurement.py:72: RuntimeWarning: invalid value encountered in distance\n",
      "  return lib.distance(a, b, **kwargs)\n",
      "C:\\Users\\vitor.braz\\AppData\\Roaming\\Python\\Python312\\site-packages\\shapely\\measurement.py:72: RuntimeWarning: invalid value encountered in distance\n",
      "  return lib.distance(a, b, **kwargs)\n",
      "C:\\Users\\vitor.braz\\AppData\\Roaming\\Python\\Python312\\site-packages\\shapely\\measurement.py:72: RuntimeWarning: invalid value encountered in distance\n",
      "  return lib.distance(a, b, **kwargs)\n",
      "C:\\Users\\vitor.braz\\AppData\\Roaming\\Python\\Python312\\site-packages\\shapely\\measurement.py:72: RuntimeWarning: invalid value encountered in distance\n",
      "  return lib.distance(a, b, **kwargs)\n",
      "C:\\Users\\vitor.braz\\AppData\\Roaming\\Python\\Python312\\site-packages\\shapely\\measurement.py:72: RuntimeWarning: invalid value encountered in distance\n",
      "  return lib.distance(a, b, **kwargs)\n",
      "C:\\Users\\vitor.braz\\AppData\\Roaming\\Python\\Python312\\site-packages\\shapely\\measurement.py:72: RuntimeWarning: invalid value encountered in distance\n",
      "  return lib.distance(a, b, **kwargs)\n",
      "C:\\Users\\vitor.braz\\AppData\\Roaming\\Python\\Python312\\site-packages\\shapely\\measurement.py:72: RuntimeWarning: invalid value encountered in distance\n",
      "  return lib.distance(a, b, **kwargs)\n",
      "C:\\Users\\vitor.braz\\AppData\\Roaming\\Python\\Python312\\site-packages\\shapely\\measurement.py:72: RuntimeWarning: invalid value encountered in distance\n",
      "  return lib.distance(a, b, **kwargs)\n",
      "C:\\Users\\vitor.braz\\AppData\\Roaming\\Python\\Python312\\site-packages\\shapely\\measurement.py:72: RuntimeWarning: invalid value encountered in distance\n",
      "  return lib.distance(a, b, **kwargs)\n",
      "C:\\Users\\vitor.braz\\AppData\\Roaming\\Python\\Python312\\site-packages\\shapely\\measurement.py:72: RuntimeWarning: invalid value encountered in distance\n",
      "  return lib.distance(a, b, **kwargs)\n",
      "C:\\Users\\vitor.braz\\AppData\\Roaming\\Python\\Python312\\site-packages\\shapely\\measurement.py:72: RuntimeWarning: invalid value encountered in distance\n",
      "  return lib.distance(a, b, **kwargs)\n",
      "C:\\Users\\vitor.braz\\AppData\\Roaming\\Python\\Python312\\site-packages\\shapely\\measurement.py:72: RuntimeWarning: invalid value encountered in distance\n",
      "  return lib.distance(a, b, **kwargs)\n"
     ]
    },
    {
     "name": "stdout",
     "output_type": "stream",
     "text": [
      "[INFO] Tentando sem tipo de via: 'ALEXANDRE DE GUSMAO'\n"
     ]
    },
    {
     "name": "stderr",
     "output_type": "stream",
     "text": [
      "C:\\Users\\vitor.braz\\AppData\\Roaming\\Python\\Python312\\site-packages\\shapely\\measurement.py:72: RuntimeWarning: invalid value encountered in distance\n",
      "  return lib.distance(a, b, **kwargs)\n",
      "C:\\Users\\vitor.braz\\AppData\\Roaming\\Python\\Python312\\site-packages\\shapely\\measurement.py:72: RuntimeWarning: invalid value encountered in distance\n",
      "  return lib.distance(a, b, **kwargs)\n",
      "C:\\Users\\vitor.braz\\AppData\\Roaming\\Python\\Python312\\site-packages\\shapely\\measurement.py:72: RuntimeWarning: invalid value encountered in distance\n",
      "  return lib.distance(a, b, **kwargs)\n",
      "C:\\Users\\vitor.braz\\AppData\\Roaming\\Python\\Python312\\site-packages\\shapely\\measurement.py:72: RuntimeWarning: invalid value encountered in distance\n",
      "  return lib.distance(a, b, **kwargs)\n",
      "C:\\Users\\vitor.braz\\AppData\\Roaming\\Python\\Python312\\site-packages\\shapely\\measurement.py:72: RuntimeWarning: invalid value encountered in distance\n",
      "  return lib.distance(a, b, **kwargs)\n",
      "C:\\Users\\vitor.braz\\AppData\\Roaming\\Python\\Python312\\site-packages\\shapely\\measurement.py:72: RuntimeWarning: invalid value encountered in distance\n",
      "  return lib.distance(a, b, **kwargs)\n",
      "C:\\Users\\vitor.braz\\AppData\\Roaming\\Python\\Python312\\site-packages\\shapely\\measurement.py:72: RuntimeWarning: invalid value encountered in distance\n",
      "  return lib.distance(a, b, **kwargs)\n",
      "C:\\Users\\vitor.braz\\AppData\\Roaming\\Python\\Python312\\site-packages\\shapely\\measurement.py:72: RuntimeWarning: invalid value encountered in distance\n",
      "  return lib.distance(a, b, **kwargs)\n",
      "C:\\Users\\vitor.braz\\AppData\\Roaming\\Python\\Python312\\site-packages\\shapely\\measurement.py:72: RuntimeWarning: invalid value encountered in distance\n",
      "  return lib.distance(a, b, **kwargs)\n"
     ]
    },
    {
     "name": "stdout",
     "output_type": "stream",
     "text": [
      "[INFO] Tentando sem tipo de via: 'MARGINAL TIETE, KM 10, PISTA CENTRAL'\n"
     ]
    },
    {
     "name": "stderr",
     "output_type": "stream",
     "text": [
      "C:\\Users\\vitor.braz\\AppData\\Roaming\\Python\\Python312\\site-packages\\shapely\\measurement.py:72: RuntimeWarning: invalid value encountered in distance\n",
      "  return lib.distance(a, b, **kwargs)\n",
      "C:\\Users\\vitor.braz\\AppData\\Roaming\\Python\\Python312\\site-packages\\shapely\\measurement.py:72: RuntimeWarning: invalid value encountered in distance\n",
      "  return lib.distance(a, b, **kwargs)\n",
      "C:\\Users\\vitor.braz\\AppData\\Roaming\\Python\\Python312\\site-packages\\shapely\\measurement.py:72: RuntimeWarning: invalid value encountered in distance\n",
      "  return lib.distance(a, b, **kwargs)\n",
      "C:\\Users\\vitor.braz\\AppData\\Roaming\\Python\\Python312\\site-packages\\shapely\\measurement.py:72: RuntimeWarning: invalid value encountered in distance\n",
      "  return lib.distance(a, b, **kwargs)\n",
      "C:\\Users\\vitor.braz\\AppData\\Roaming\\Python\\Python312\\site-packages\\shapely\\measurement.py:72: RuntimeWarning: invalid value encountered in distance\n",
      "  return lib.distance(a, b, **kwargs)\n",
      "C:\\Users\\vitor.braz\\AppData\\Roaming\\Python\\Python312\\site-packages\\shapely\\measurement.py:72: RuntimeWarning: invalid value encountered in distance\n",
      "  return lib.distance(a, b, **kwargs)\n",
      "C:\\Users\\vitor.braz\\AppData\\Roaming\\Python\\Python312\\site-packages\\shapely\\measurement.py:72: RuntimeWarning: invalid value encountered in distance\n",
      "  return lib.distance(a, b, **kwargs)\n",
      "C:\\Users\\vitor.braz\\AppData\\Roaming\\Python\\Python312\\site-packages\\shapely\\measurement.py:72: RuntimeWarning: invalid value encountered in distance\n",
      "  return lib.distance(a, b, **kwargs)\n",
      "C:\\Users\\vitor.braz\\AppData\\Roaming\\Python\\Python312\\site-packages\\shapely\\measurement.py:72: RuntimeWarning: invalid value encountered in distance\n",
      "  return lib.distance(a, b, **kwargs)\n",
      "C:\\Users\\vitor.braz\\AppData\\Roaming\\Python\\Python312\\site-packages\\shapely\\measurement.py:72: RuntimeWarning: invalid value encountered in distance\n",
      "  return lib.distance(a, b, **kwargs)\n",
      "C:\\Users\\vitor.braz\\AppData\\Roaming\\Python\\Python312\\site-packages\\shapely\\measurement.py:72: RuntimeWarning: invalid value encountered in distance\n",
      "  return lib.distance(a, b, **kwargs)\n"
     ]
    },
    {
     "name": "stdout",
     "output_type": "stream",
     "text": [
      "[INFO] Tentando sem tipo de via: 'DO M'BOI MIRIM'\n"
     ]
    },
    {
     "name": "stderr",
     "output_type": "stream",
     "text": [
      "C:\\Users\\vitor.braz\\AppData\\Roaming\\Python\\Python312\\site-packages\\shapely\\measurement.py:72: RuntimeWarning: invalid value encountered in distance\n",
      "  return lib.distance(a, b, **kwargs)\n"
     ]
    },
    {
     "name": "stdout",
     "output_type": "stream",
     "text": [
      "[INFO] Tentando sem tipo de via: 'MARGINAL TIETE KM 18 SENTIDO LESTE'\n"
     ]
    },
    {
     "name": "stderr",
     "output_type": "stream",
     "text": [
      "C:\\Users\\vitor.braz\\AppData\\Roaming\\Python\\Python312\\site-packages\\shapely\\measurement.py:72: RuntimeWarning: invalid value encountered in distance\n",
      "  return lib.distance(a, b, **kwargs)\n",
      "C:\\Users\\vitor.braz\\AppData\\Roaming\\Python\\Python312\\site-packages\\shapely\\measurement.py:72: RuntimeWarning: invalid value encountered in distance\n",
      "  return lib.distance(a, b, **kwargs)\n",
      "C:\\Users\\vitor.braz\\AppData\\Roaming\\Python\\Python312\\site-packages\\shapely\\measurement.py:72: RuntimeWarning: invalid value encountered in distance\n",
      "  return lib.distance(a, b, **kwargs)\n",
      "C:\\Users\\vitor.braz\\AppData\\Roaming\\Python\\Python312\\site-packages\\shapely\\measurement.py:72: RuntimeWarning: invalid value encountered in distance\n",
      "  return lib.distance(a, b, **kwargs)\n",
      "C:\\Users\\vitor.braz\\AppData\\Roaming\\Python\\Python312\\site-packages\\shapely\\measurement.py:72: RuntimeWarning: invalid value encountered in distance\n",
      "  return lib.distance(a, b, **kwargs)\n",
      "C:\\Users\\vitor.braz\\AppData\\Roaming\\Python\\Python312\\site-packages\\shapely\\measurement.py:72: RuntimeWarning: invalid value encountered in distance\n",
      "  return lib.distance(a, b, **kwargs)\n",
      "C:\\Users\\vitor.braz\\AppData\\Roaming\\Python\\Python312\\site-packages\\shapely\\measurement.py:72: RuntimeWarning: invalid value encountered in distance\n",
      "  return lib.distance(a, b, **kwargs)\n",
      "C:\\Users\\vitor.braz\\AppData\\Roaming\\Python\\Python312\\site-packages\\shapely\\measurement.py:72: RuntimeWarning: invalid value encountered in distance\n",
      "  return lib.distance(a, b, **kwargs)\n",
      "C:\\Users\\vitor.braz\\AppData\\Roaming\\Python\\Python312\\site-packages\\shapely\\measurement.py:72: RuntimeWarning: invalid value encountered in distance\n",
      "  return lib.distance(a, b, **kwargs)\n",
      "C:\\Users\\vitor.braz\\AppData\\Roaming\\Python\\Python312\\site-packages\\shapely\\measurement.py:72: RuntimeWarning: invalid value encountered in distance\n",
      "  return lib.distance(a, b, **kwargs)\n",
      "C:\\Users\\vitor.braz\\AppData\\Roaming\\Python\\Python312\\site-packages\\shapely\\measurement.py:72: RuntimeWarning: invalid value encountered in distance\n",
      "  return lib.distance(a, b, **kwargs)\n",
      "C:\\Users\\vitor.braz\\AppData\\Roaming\\Python\\Python312\\site-packages\\shapely\\measurement.py:72: RuntimeWarning: invalid value encountered in distance\n",
      "  return lib.distance(a, b, **kwargs)\n",
      "C:\\Users\\vitor.braz\\AppData\\Roaming\\Python\\Python312\\site-packages\\shapely\\measurement.py:72: RuntimeWarning: invalid value encountered in distance\n",
      "  return lib.distance(a, b, **kwargs)\n",
      "C:\\Users\\vitor.braz\\AppData\\Roaming\\Python\\Python312\\site-packages\\shapely\\measurement.py:72: RuntimeWarning: invalid value encountered in distance\n",
      "  return lib.distance(a, b, **kwargs)\n",
      "C:\\Users\\vitor.braz\\AppData\\Roaming\\Python\\Python312\\site-packages\\shapely\\measurement.py:72: RuntimeWarning: invalid value encountered in distance\n",
      "  return lib.distance(a, b, **kwargs)\n"
     ]
    },
    {
     "name": "stdout",
     "output_type": "stream",
     "text": [
      "[INFO] Tentando sem tipo de via: 'MARIO COVAS'\n"
     ]
    },
    {
     "name": "stderr",
     "output_type": "stream",
     "text": [
      "C:\\Users\\vitor.braz\\AppData\\Roaming\\Python\\Python312\\site-packages\\shapely\\measurement.py:72: RuntimeWarning: invalid value encountered in distance\n",
      "  return lib.distance(a, b, **kwargs)\n",
      "C:\\Users\\vitor.braz\\AppData\\Roaming\\Python\\Python312\\site-packages\\shapely\\measurement.py:72: RuntimeWarning: invalid value encountered in distance\n",
      "  return lib.distance(a, b, **kwargs)\n",
      "C:\\Users\\vitor.braz\\AppData\\Roaming\\Python\\Python312\\site-packages\\shapely\\measurement.py:72: RuntimeWarning: invalid value encountered in distance\n",
      "  return lib.distance(a, b, **kwargs)\n",
      "C:\\Users\\vitor.braz\\AppData\\Roaming\\Python\\Python312\\site-packages\\shapely\\measurement.py:72: RuntimeWarning: invalid value encountered in distance\n",
      "  return lib.distance(a, b, **kwargs)\n",
      "C:\\Users\\vitor.braz\\AppData\\Roaming\\Python\\Python312\\site-packages\\shapely\\measurement.py:72: RuntimeWarning: invalid value encountered in distance\n",
      "  return lib.distance(a, b, **kwargs)\n",
      "C:\\Users\\vitor.braz\\AppData\\Roaming\\Python\\Python312\\site-packages\\shapely\\measurement.py:72: RuntimeWarning: invalid value encountered in distance\n",
      "  return lib.distance(a, b, **kwargs)\n",
      "C:\\Users\\vitor.braz\\AppData\\Roaming\\Python\\Python312\\site-packages\\shapely\\measurement.py:72: RuntimeWarning: invalid value encountered in distance\n",
      "  return lib.distance(a, b, **kwargs)\n"
     ]
    },
    {
     "name": "stdout",
     "output_type": "stream",
     "text": [
      "[INFO] Tentando sem tipo de via: 'PARA MARGINAL PINHEIROS EXPRESSA SENTIDO SU'\n"
     ]
    },
    {
     "name": "stderr",
     "output_type": "stream",
     "text": [
      "C:\\Users\\vitor.braz\\AppData\\Roaming\\Python\\Python312\\site-packages\\shapely\\measurement.py:72: RuntimeWarning: invalid value encountered in distance\n",
      "  return lib.distance(a, b, **kwargs)\n",
      "C:\\Users\\vitor.braz\\AppData\\Roaming\\Python\\Python312\\site-packages\\shapely\\measurement.py:72: RuntimeWarning: invalid value encountered in distance\n",
      "  return lib.distance(a, b, **kwargs)\n",
      "C:\\Users\\vitor.braz\\AppData\\Roaming\\Python\\Python312\\site-packages\\shapely\\measurement.py:72: RuntimeWarning: invalid value encountered in distance\n",
      "  return lib.distance(a, b, **kwargs)\n",
      "C:\\Users\\vitor.braz\\AppData\\Roaming\\Python\\Python312\\site-packages\\shapely\\measurement.py:72: RuntimeWarning: invalid value encountered in distance\n",
      "  return lib.distance(a, b, **kwargs)\n",
      "C:\\Users\\vitor.braz\\AppData\\Roaming\\Python\\Python312\\site-packages\\shapely\\measurement.py:72: RuntimeWarning: invalid value encountered in distance\n",
      "  return lib.distance(a, b, **kwargs)\n",
      "C:\\Users\\vitor.braz\\AppData\\Roaming\\Python\\Python312\\site-packages\\shapely\\measurement.py:72: RuntimeWarning: invalid value encountered in distance\n",
      "  return lib.distance(a, b, **kwargs)\n",
      "C:\\Users\\vitor.braz\\AppData\\Roaming\\Python\\Python312\\site-packages\\shapely\\measurement.py:72: RuntimeWarning: invalid value encountered in distance\n",
      "  return lib.distance(a, b, **kwargs)\n",
      "C:\\Users\\vitor.braz\\AppData\\Roaming\\Python\\Python312\\site-packages\\shapely\\measurement.py:72: RuntimeWarning: invalid value encountered in distance\n",
      "  return lib.distance(a, b, **kwargs)\n",
      "C:\\Users\\vitor.braz\\AppData\\Roaming\\Python\\Python312\\site-packages\\shapely\\measurement.py:72: RuntimeWarning: invalid value encountered in distance\n",
      "  return lib.distance(a, b, **kwargs)\n",
      "C:\\Users\\vitor.braz\\AppData\\Roaming\\Python\\Python312\\site-packages\\shapely\\measurement.py:72: RuntimeWarning: invalid value encountered in distance\n",
      "  return lib.distance(a, b, **kwargs)\n",
      "C:\\Users\\vitor.braz\\AppData\\Roaming\\Python\\Python312\\site-packages\\shapely\\measurement.py:72: RuntimeWarning: invalid value encountered in distance\n",
      "  return lib.distance(a, b, **kwargs)\n",
      "C:\\Users\\vitor.braz\\AppData\\Roaming\\Python\\Python312\\site-packages\\shapely\\measurement.py:72: RuntimeWarning: invalid value encountered in distance\n",
      "  return lib.distance(a, b, **kwargs)\n",
      "C:\\Users\\vitor.braz\\AppData\\Roaming\\Python\\Python312\\site-packages\\shapely\\measurement.py:72: RuntimeWarning: invalid value encountered in distance\n",
      "  return lib.distance(a, b, **kwargs)\n",
      "C:\\Users\\vitor.braz\\AppData\\Roaming\\Python\\Python312\\site-packages\\shapely\\measurement.py:72: RuntimeWarning: invalid value encountered in distance\n",
      "  return lib.distance(a, b, **kwargs)\n",
      "C:\\Users\\vitor.braz\\AppData\\Roaming\\Python\\Python312\\site-packages\\shapely\\measurement.py:72: RuntimeWarning: invalid value encountered in distance\n",
      "  return lib.distance(a, b, **kwargs)\n",
      "C:\\Users\\vitor.braz\\AppData\\Roaming\\Python\\Python312\\site-packages\\shapely\\measurement.py:72: RuntimeWarning: invalid value encountered in distance\n",
      "  return lib.distance(a, b, **kwargs)\n",
      "C:\\Users\\vitor.braz\\AppData\\Roaming\\Python\\Python312\\site-packages\\shapely\\measurement.py:72: RuntimeWarning: invalid value encountered in distance\n",
      "  return lib.distance(a, b, **kwargs)\n",
      "C:\\Users\\vitor.braz\\AppData\\Roaming\\Python\\Python312\\site-packages\\shapely\\measurement.py:72: RuntimeWarning: invalid value encountered in distance\n",
      "  return lib.distance(a, b, **kwargs)\n",
      "C:\\Users\\vitor.braz\\AppData\\Roaming\\Python\\Python312\\site-packages\\shapely\\measurement.py:72: RuntimeWarning: invalid value encountered in distance\n",
      "  return lib.distance(a, b, **kwargs)\n",
      "C:\\Users\\vitor.braz\\AppData\\Roaming\\Python\\Python312\\site-packages\\shapely\\measurement.py:72: RuntimeWarning: invalid value encountered in distance\n",
      "  return lib.distance(a, b, **kwargs)\n",
      "C:\\Users\\vitor.braz\\AppData\\Roaming\\Python\\Python312\\site-packages\\shapely\\measurement.py:72: RuntimeWarning: invalid value encountered in distance\n",
      "  return lib.distance(a, b, **kwargs)\n",
      "C:\\Users\\vitor.braz\\AppData\\Roaming\\Python\\Python312\\site-packages\\shapely\\measurement.py:72: RuntimeWarning: invalid value encountered in distance\n",
      "  return lib.distance(a, b, **kwargs)\n",
      "C:\\Users\\vitor.braz\\AppData\\Roaming\\Python\\Python312\\site-packages\\shapely\\measurement.py:72: RuntimeWarning: invalid value encountered in distance\n",
      "  return lib.distance(a, b, **kwargs)\n",
      "C:\\Users\\vitor.braz\\AppData\\Roaming\\Python\\Python312\\site-packages\\shapely\\measurement.py:72: RuntimeWarning: invalid value encountered in distance\n",
      "  return lib.distance(a, b, **kwargs)\n",
      "C:\\Users\\vitor.braz\\AppData\\Roaming\\Python\\Python312\\site-packages\\shapely\\measurement.py:72: RuntimeWarning: invalid value encountered in distance\n",
      "  return lib.distance(a, b, **kwargs)\n",
      "C:\\Users\\vitor.braz\\AppData\\Roaming\\Python\\Python312\\site-packages\\shapely\\measurement.py:72: RuntimeWarning: invalid value encountered in distance\n",
      "  return lib.distance(a, b, **kwargs)\n",
      "C:\\Users\\vitor.braz\\AppData\\Roaming\\Python\\Python312\\site-packages\\shapely\\measurement.py:72: RuntimeWarning: invalid value encountered in distance\n",
      "  return lib.distance(a, b, **kwargs)\n",
      "C:\\Users\\vitor.braz\\AppData\\Roaming\\Python\\Python312\\site-packages\\shapely\\measurement.py:72: RuntimeWarning: invalid value encountered in distance\n",
      "  return lib.distance(a, b, **kwargs)\n"
     ]
    },
    {
     "name": "stdout",
     "output_type": "stream",
     "text": [
      "[INFO] Tentando sem tipo de via: 'PARA MARGINAL TIETE CENTRAL'\n"
     ]
    },
    {
     "name": "stderr",
     "output_type": "stream",
     "text": [
      "C:\\Users\\vitor.braz\\AppData\\Roaming\\Python\\Python312\\site-packages\\shapely\\measurement.py:72: RuntimeWarning: invalid value encountered in distance\n",
      "  return lib.distance(a, b, **kwargs)\n",
      "C:\\Users\\vitor.braz\\AppData\\Roaming\\Python\\Python312\\site-packages\\shapely\\measurement.py:72: RuntimeWarning: invalid value encountered in distance\n",
      "  return lib.distance(a, b, **kwargs)\n",
      "C:\\Users\\vitor.braz\\AppData\\Roaming\\Python\\Python312\\site-packages\\shapely\\measurement.py:72: RuntimeWarning: invalid value encountered in distance\n",
      "  return lib.distance(a, b, **kwargs)\n",
      "C:\\Users\\vitor.braz\\AppData\\Roaming\\Python\\Python312\\site-packages\\shapely\\measurement.py:72: RuntimeWarning: invalid value encountered in distance\n",
      "  return lib.distance(a, b, **kwargs)\n",
      "C:\\Users\\vitor.braz\\AppData\\Roaming\\Python\\Python312\\site-packages\\shapely\\measurement.py:72: RuntimeWarning: invalid value encountered in distance\n",
      "  return lib.distance(a, b, **kwargs)\n",
      "C:\\Users\\vitor.braz\\AppData\\Roaming\\Python\\Python312\\site-packages\\shapely\\measurement.py:72: RuntimeWarning: invalid value encountered in distance\n",
      "  return lib.distance(a, b, **kwargs)\n",
      "C:\\Users\\vitor.braz\\AppData\\Roaming\\Python\\Python312\\site-packages\\shapely\\measurement.py:72: RuntimeWarning: invalid value encountered in distance\n",
      "  return lib.distance(a, b, **kwargs)\n",
      "C:\\Users\\vitor.braz\\AppData\\Roaming\\Python\\Python312\\site-packages\\shapely\\measurement.py:72: RuntimeWarning: invalid value encountered in distance\n",
      "  return lib.distance(a, b, **kwargs)\n"
     ]
    },
    {
     "name": "stdout",
     "output_type": "stream",
     "text": [
      "[INFO] Tentando sem tipo de via: 'JUREMA ARAUJO SILVEIRA'\n"
     ]
    },
    {
     "name": "stderr",
     "output_type": "stream",
     "text": [
      "C:\\Users\\vitor.braz\\AppData\\Roaming\\Python\\Python312\\site-packages\\shapely\\measurement.py:72: RuntimeWarning: invalid value encountered in distance\n",
      "  return lib.distance(a, b, **kwargs)\n",
      "C:\\Users\\vitor.braz\\AppData\\Roaming\\Python\\Python312\\site-packages\\shapely\\measurement.py:72: RuntimeWarning: invalid value encountered in distance\n",
      "  return lib.distance(a, b, **kwargs)\n",
      "C:\\Users\\vitor.braz\\AppData\\Roaming\\Python\\Python312\\site-packages\\shapely\\measurement.py:72: RuntimeWarning: invalid value encountered in distance\n",
      "  return lib.distance(a, b, **kwargs)\n",
      "C:\\Users\\vitor.braz\\AppData\\Roaming\\Python\\Python312\\site-packages\\shapely\\measurement.py:72: RuntimeWarning: invalid value encountered in distance\n",
      "  return lib.distance(a, b, **kwargs)\n",
      "C:\\Users\\vitor.braz\\AppData\\Roaming\\Python\\Python312\\site-packages\\shapely\\measurement.py:72: RuntimeWarning: invalid value encountered in distance\n",
      "  return lib.distance(a, b, **kwargs)\n",
      "C:\\Users\\vitor.braz\\AppData\\Roaming\\Python\\Python312\\site-packages\\shapely\\measurement.py:72: RuntimeWarning: invalid value encountered in distance\n",
      "  return lib.distance(a, b, **kwargs)\n",
      "C:\\Users\\vitor.braz\\AppData\\Roaming\\Python\\Python312\\site-packages\\shapely\\measurement.py:72: RuntimeWarning: invalid value encountered in distance\n",
      "  return lib.distance(a, b, **kwargs)\n"
     ]
    },
    {
     "name": "stdout",
     "output_type": "stream",
     "text": [
      "[INFO] Tentando sem tipo de via: 'RADIAL ZONA SUL'\n"
     ]
    },
    {
     "name": "stderr",
     "output_type": "stream",
     "text": [
      "C:\\Users\\vitor.braz\\AppData\\Roaming\\Python\\Python312\\site-packages\\shapely\\measurement.py:72: RuntimeWarning: invalid value encountered in distance\n",
      "  return lib.distance(a, b, **kwargs)\n",
      "C:\\Users\\vitor.braz\\AppData\\Roaming\\Python\\Python312\\site-packages\\shapely\\measurement.py:72: RuntimeWarning: invalid value encountered in distance\n",
      "  return lib.distance(a, b, **kwargs)\n",
      "C:\\Users\\vitor.braz\\AppData\\Roaming\\Python\\Python312\\site-packages\\shapely\\measurement.py:72: RuntimeWarning: invalid value encountered in distance\n",
      "  return lib.distance(a, b, **kwargs)\n",
      "C:\\Users\\vitor.braz\\AppData\\Roaming\\Python\\Python312\\site-packages\\shapely\\measurement.py:72: RuntimeWarning: invalid value encountered in distance\n",
      "  return lib.distance(a, b, **kwargs)\n"
     ]
    },
    {
     "name": "stdout",
     "output_type": "stream",
     "text": [
      "[INFO] Tentando sem tipo de via: 'SADAMU INOUE'\n"
     ]
    },
    {
     "name": "stderr",
     "output_type": "stream",
     "text": [
      "C:\\Users\\vitor.braz\\AppData\\Roaming\\Python\\Python312\\site-packages\\shapely\\measurement.py:72: RuntimeWarning: invalid value encountered in distance\n",
      "  return lib.distance(a, b, **kwargs)\n",
      "C:\\Users\\vitor.braz\\AppData\\Roaming\\Python\\Python312\\site-packages\\shapely\\measurement.py:72: RuntimeWarning: invalid value encountered in distance\n",
      "  return lib.distance(a, b, **kwargs)\n",
      "C:\\Users\\vitor.braz\\AppData\\Roaming\\Python\\Python312\\site-packages\\shapely\\measurement.py:72: RuntimeWarning: invalid value encountered in distance\n",
      "  return lib.distance(a, b, **kwargs)\n",
      "C:\\Users\\vitor.braz\\AppData\\Roaming\\Python\\Python312\\site-packages\\shapely\\measurement.py:72: RuntimeWarning: invalid value encountered in distance\n",
      "  return lib.distance(a, b, **kwargs)\n",
      "C:\\Users\\vitor.braz\\AppData\\Roaming\\Python\\Python312\\site-packages\\shapely\\measurement.py:72: RuntimeWarning: invalid value encountered in distance\n",
      "  return lib.distance(a, b, **kwargs)\n",
      "C:\\Users\\vitor.braz\\AppData\\Roaming\\Python\\Python312\\site-packages\\shapely\\measurement.py:72: RuntimeWarning: invalid value encountered in distance\n",
      "  return lib.distance(a, b, **kwargs)\n",
      "C:\\Users\\vitor.braz\\AppData\\Roaming\\Python\\Python312\\site-packages\\shapely\\measurement.py:72: RuntimeWarning: invalid value encountered in distance\n",
      "  return lib.distance(a, b, **kwargs)\n",
      "C:\\Users\\vitor.braz\\AppData\\Roaming\\Python\\Python312\\site-packages\\shapely\\measurement.py:72: RuntimeWarning: invalid value encountered in distance\n",
      "  return lib.distance(a, b, **kwargs)\n",
      "C:\\Users\\vitor.braz\\AppData\\Roaming\\Python\\Python312\\site-packages\\shapely\\measurement.py:72: RuntimeWarning: invalid value encountered in distance\n",
      "  return lib.distance(a, b, **kwargs)\n",
      "C:\\Users\\vitor.braz\\AppData\\Roaming\\Python\\Python312\\site-packages\\shapely\\measurement.py:72: RuntimeWarning: invalid value encountered in distance\n",
      "  return lib.distance(a, b, **kwargs)\n",
      "C:\\Users\\vitor.braz\\AppData\\Roaming\\Python\\Python312\\site-packages\\shapely\\measurement.py:72: RuntimeWarning: invalid value encountered in distance\n",
      "  return lib.distance(a, b, **kwargs)\n",
      "C:\\Users\\vitor.braz\\AppData\\Roaming\\Python\\Python312\\site-packages\\shapely\\measurement.py:72: RuntimeWarning: invalid value encountered in distance\n",
      "  return lib.distance(a, b, **kwargs)\n"
     ]
    },
    {
     "name": "stdout",
     "output_type": "stream",
     "text": [
      "[INFO] Tentando sem tipo de via: 'DE ACESSO A RADIAL LESTE'\n"
     ]
    },
    {
     "name": "stderr",
     "output_type": "stream",
     "text": [
      "C:\\Users\\vitor.braz\\AppData\\Roaming\\Python\\Python312\\site-packages\\shapely\\measurement.py:72: RuntimeWarning: invalid value encountered in distance\n",
      "  return lib.distance(a, b, **kwargs)\n",
      "C:\\Users\\vitor.braz\\AppData\\Roaming\\Python\\Python312\\site-packages\\shapely\\measurement.py:72: RuntimeWarning: invalid value encountered in distance\n",
      "  return lib.distance(a, b, **kwargs)\n"
     ]
    },
    {
     "name": "stdout",
     "output_type": "stream",
     "text": [
      "[INFO] Tentando sem tipo de via: 'DO M'BOI MIRIM'\n"
     ]
    },
    {
     "name": "stderr",
     "output_type": "stream",
     "text": [
      "C:\\Users\\vitor.braz\\AppData\\Roaming\\Python\\Python312\\site-packages\\shapely\\measurement.py:72: RuntimeWarning: invalid value encountered in distance\n",
      "  return lib.distance(a, b, **kwargs)\n",
      "C:\\Users\\vitor.braz\\AppData\\Roaming\\Python\\Python312\\site-packages\\shapely\\measurement.py:72: RuntimeWarning: invalid value encountered in distance\n",
      "  return lib.distance(a, b, **kwargs)\n",
      "C:\\Users\\vitor.braz\\AppData\\Roaming\\Python\\Python312\\site-packages\\shapely\\measurement.py:72: RuntimeWarning: invalid value encountered in distance\n",
      "  return lib.distance(a, b, **kwargs)\n",
      "C:\\Users\\vitor.braz\\AppData\\Roaming\\Python\\Python312\\site-packages\\shapely\\measurement.py:72: RuntimeWarning: invalid value encountered in distance\n",
      "  return lib.distance(a, b, **kwargs)\n",
      "C:\\Users\\vitor.braz\\AppData\\Roaming\\Python\\Python312\\site-packages\\shapely\\measurement.py:72: RuntimeWarning: invalid value encountered in distance\n",
      "  return lib.distance(a, b, **kwargs)\n",
      "C:\\Users\\vitor.braz\\AppData\\Roaming\\Python\\Python312\\site-packages\\shapely\\measurement.py:72: RuntimeWarning: invalid value encountered in distance\n",
      "  return lib.distance(a, b, **kwargs)\n",
      "C:\\Users\\vitor.braz\\AppData\\Roaming\\Python\\Python312\\site-packages\\shapely\\measurement.py:72: RuntimeWarning: invalid value encountered in distance\n",
      "  return lib.distance(a, b, **kwargs)\n"
     ]
    },
    {
     "name": "stdout",
     "output_type": "stream",
     "text": [
      "[INFO] Tentando sem tipo de via: 'SADAMU INOUE'\n",
      "[INFO] Tentando sem tipo de via: 'ISILDA ILDA BARBOSA'\n"
     ]
    },
    {
     "name": "stderr",
     "output_type": "stream",
     "text": [
      "C:\\Users\\vitor.braz\\AppData\\Roaming\\Python\\Python312\\site-packages\\shapely\\measurement.py:72: RuntimeWarning: invalid value encountered in distance\n",
      "  return lib.distance(a, b, **kwargs)\n",
      "C:\\Users\\vitor.braz\\AppData\\Roaming\\Python\\Python312\\site-packages\\shapely\\measurement.py:72: RuntimeWarning: invalid value encountered in distance\n",
      "  return lib.distance(a, b, **kwargs)\n",
      "C:\\Users\\vitor.braz\\AppData\\Roaming\\Python\\Python312\\site-packages\\shapely\\measurement.py:72: RuntimeWarning: invalid value encountered in distance\n",
      "  return lib.distance(a, b, **kwargs)\n",
      "C:\\Users\\vitor.braz\\AppData\\Roaming\\Python\\Python312\\site-packages\\shapely\\measurement.py:72: RuntimeWarning: invalid value encountered in distance\n",
      "  return lib.distance(a, b, **kwargs)\n",
      "C:\\Users\\vitor.braz\\AppData\\Roaming\\Python\\Python312\\site-packages\\shapely\\measurement.py:72: RuntimeWarning: invalid value encountered in distance\n",
      "  return lib.distance(a, b, **kwargs)\n",
      "C:\\Users\\vitor.braz\\AppData\\Roaming\\Python\\Python312\\site-packages\\shapely\\measurement.py:72: RuntimeWarning: invalid value encountered in distance\n",
      "  return lib.distance(a, b, **kwargs)\n",
      "C:\\Users\\vitor.braz\\AppData\\Roaming\\Python\\Python312\\site-packages\\shapely\\measurement.py:72: RuntimeWarning: invalid value encountered in distance\n",
      "  return lib.distance(a, b, **kwargs)\n",
      "C:\\Users\\vitor.braz\\AppData\\Roaming\\Python\\Python312\\site-packages\\shapely\\measurement.py:72: RuntimeWarning: invalid value encountered in distance\n",
      "  return lib.distance(a, b, **kwargs)\n",
      "C:\\Users\\vitor.braz\\AppData\\Roaming\\Python\\Python312\\site-packages\\shapely\\measurement.py:72: RuntimeWarning: invalid value encountered in distance\n",
      "  return lib.distance(a, b, **kwargs)\n",
      "C:\\Users\\vitor.braz\\AppData\\Roaming\\Python\\Python312\\site-packages\\shapely\\measurement.py:72: RuntimeWarning: invalid value encountered in distance\n",
      "  return lib.distance(a, b, **kwargs)\n",
      "C:\\Users\\vitor.braz\\AppData\\Roaming\\Python\\Python312\\site-packages\\shapely\\measurement.py:72: RuntimeWarning: invalid value encountered in distance\n",
      "  return lib.distance(a, b, **kwargs)\n",
      "C:\\Users\\vitor.braz\\AppData\\Roaming\\Python\\Python312\\site-packages\\shapely\\measurement.py:72: RuntimeWarning: invalid value encountered in distance\n",
      "  return lib.distance(a, b, **kwargs)\n",
      "C:\\Users\\vitor.braz\\AppData\\Roaming\\Python\\Python312\\site-packages\\shapely\\measurement.py:72: RuntimeWarning: invalid value encountered in distance\n",
      "  return lib.distance(a, b, **kwargs)\n",
      "C:\\Users\\vitor.braz\\AppData\\Roaming\\Python\\Python312\\site-packages\\shapely\\measurement.py:72: RuntimeWarning: invalid value encountered in distance\n",
      "  return lib.distance(a, b, **kwargs)\n",
      "C:\\Users\\vitor.braz\\AppData\\Roaming\\Python\\Python312\\site-packages\\shapely\\measurement.py:72: RuntimeWarning: invalid value encountered in distance\n",
      "  return lib.distance(a, b, **kwargs)\n",
      "C:\\Users\\vitor.braz\\AppData\\Roaming\\Python\\Python312\\site-packages\\shapely\\measurement.py:72: RuntimeWarning: invalid value encountered in distance\n",
      "  return lib.distance(a, b, **kwargs)\n",
      "C:\\Users\\vitor.braz\\AppData\\Roaming\\Python\\Python312\\site-packages\\shapely\\measurement.py:72: RuntimeWarning: invalid value encountered in distance\n",
      "  return lib.distance(a, b, **kwargs)\n",
      "C:\\Users\\vitor.braz\\AppData\\Roaming\\Python\\Python312\\site-packages\\shapely\\measurement.py:72: RuntimeWarning: invalid value encountered in distance\n",
      "  return lib.distance(a, b, **kwargs)\n",
      "C:\\Users\\vitor.braz\\AppData\\Roaming\\Python\\Python312\\site-packages\\shapely\\measurement.py:72: RuntimeWarning: invalid value encountered in distance\n",
      "  return lib.distance(a, b, **kwargs)\n"
     ]
    },
    {
     "name": "stdout",
     "output_type": "stream",
     "text": [
      "[INFO] Tentando sem tipo de via: 'DO M'BOI MIRIM'\n"
     ]
    },
    {
     "name": "stderr",
     "output_type": "stream",
     "text": [
      "C:\\Users\\vitor.braz\\AppData\\Roaming\\Python\\Python312\\site-packages\\shapely\\measurement.py:72: RuntimeWarning: invalid value encountered in distance\n",
      "  return lib.distance(a, b, **kwargs)\n",
      "C:\\Users\\vitor.braz\\AppData\\Roaming\\Python\\Python312\\site-packages\\shapely\\measurement.py:72: RuntimeWarning: invalid value encountered in distance\n",
      "  return lib.distance(a, b, **kwargs)\n",
      "C:\\Users\\vitor.braz\\AppData\\Roaming\\Python\\Python312\\site-packages\\shapely\\measurement.py:72: RuntimeWarning: invalid value encountered in distance\n",
      "  return lib.distance(a, b, **kwargs)\n",
      "C:\\Users\\vitor.braz\\AppData\\Roaming\\Python\\Python312\\site-packages\\shapely\\measurement.py:72: RuntimeWarning: invalid value encountered in distance\n",
      "  return lib.distance(a, b, **kwargs)\n",
      "C:\\Users\\vitor.braz\\AppData\\Roaming\\Python\\Python312\\site-packages\\shapely\\measurement.py:72: RuntimeWarning: invalid value encountered in distance\n",
      "  return lib.distance(a, b, **kwargs)\n",
      "C:\\Users\\vitor.braz\\AppData\\Roaming\\Python\\Python312\\site-packages\\shapely\\measurement.py:72: RuntimeWarning: invalid value encountered in distance\n",
      "  return lib.distance(a, b, **kwargs)\n"
     ]
    },
    {
     "name": "stdout",
     "output_type": "stream",
     "text": [
      "[INFO] Tentando sem tipo de via: 'CORDAO DE S FRANCISCO'\n"
     ]
    },
    {
     "name": "stderr",
     "output_type": "stream",
     "text": [
      "C:\\Users\\vitor.braz\\AppData\\Roaming\\Python\\Python312\\site-packages\\shapely\\measurement.py:72: RuntimeWarning: invalid value encountered in distance\n",
      "  return lib.distance(a, b, **kwargs)\n",
      "C:\\Users\\vitor.braz\\AppData\\Roaming\\Python\\Python312\\site-packages\\shapely\\measurement.py:72: RuntimeWarning: invalid value encountered in distance\n",
      "  return lib.distance(a, b, **kwargs)\n",
      "C:\\Users\\vitor.braz\\AppData\\Roaming\\Python\\Python312\\site-packages\\shapely\\measurement.py:72: RuntimeWarning: invalid value encountered in distance\n",
      "  return lib.distance(a, b, **kwargs)\n",
      "C:\\Users\\vitor.braz\\AppData\\Roaming\\Python\\Python312\\site-packages\\shapely\\measurement.py:72: RuntimeWarning: invalid value encountered in distance\n",
      "  return lib.distance(a, b, **kwargs)\n",
      "C:\\Users\\vitor.braz\\AppData\\Roaming\\Python\\Python312\\site-packages\\shapely\\measurement.py:72: RuntimeWarning: invalid value encountered in distance\n",
      "  return lib.distance(a, b, **kwargs)\n",
      "C:\\Users\\vitor.braz\\AppData\\Roaming\\Python\\Python312\\site-packages\\shapely\\measurement.py:72: RuntimeWarning: invalid value encountered in distance\n",
      "  return lib.distance(a, b, **kwargs)\n",
      "C:\\Users\\vitor.braz\\AppData\\Roaming\\Python\\Python312\\site-packages\\shapely\\measurement.py:72: RuntimeWarning: invalid value encountered in distance\n",
      "  return lib.distance(a, b, **kwargs)\n",
      "C:\\Users\\vitor.braz\\AppData\\Roaming\\Python\\Python312\\site-packages\\shapely\\measurement.py:72: RuntimeWarning: invalid value encountered in distance\n",
      "  return lib.distance(a, b, **kwargs)\n",
      "C:\\Users\\vitor.braz\\AppData\\Roaming\\Python\\Python312\\site-packages\\shapely\\measurement.py:72: RuntimeWarning: invalid value encountered in distance\n",
      "  return lib.distance(a, b, **kwargs)\n",
      "C:\\Users\\vitor.braz\\AppData\\Roaming\\Python\\Python312\\site-packages\\shapely\\measurement.py:72: RuntimeWarning: invalid value encountered in distance\n",
      "  return lib.distance(a, b, **kwargs)\n",
      "C:\\Users\\vitor.braz\\AppData\\Roaming\\Python\\Python312\\site-packages\\shapely\\measurement.py:72: RuntimeWarning: invalid value encountered in distance\n",
      "  return lib.distance(a, b, **kwargs)\n",
      "C:\\Users\\vitor.braz\\AppData\\Roaming\\Python\\Python312\\site-packages\\shapely\\measurement.py:72: RuntimeWarning: invalid value encountered in distance\n",
      "  return lib.distance(a, b, **kwargs)\n",
      "C:\\Users\\vitor.braz\\AppData\\Roaming\\Python\\Python312\\site-packages\\shapely\\measurement.py:72: RuntimeWarning: invalid value encountered in distance\n",
      "  return lib.distance(a, b, **kwargs)\n",
      "C:\\Users\\vitor.braz\\AppData\\Roaming\\Python\\Python312\\site-packages\\shapely\\measurement.py:72: RuntimeWarning: invalid value encountered in distance\n",
      "  return lib.distance(a, b, **kwargs)\n",
      "C:\\Users\\vitor.braz\\AppData\\Roaming\\Python\\Python312\\site-packages\\shapely\\measurement.py:72: RuntimeWarning: invalid value encountered in distance\n",
      "  return lib.distance(a, b, **kwargs)\n"
     ]
    },
    {
     "name": "stdout",
     "output_type": "stream",
     "text": [
      "[INFO] Tentando sem tipo de via: 'ANTONIO CARLOS BENJAMIM DOS SANTOS'\n"
     ]
    },
    {
     "name": "stderr",
     "output_type": "stream",
     "text": [
      "C:\\Users\\vitor.braz\\AppData\\Roaming\\Python\\Python312\\site-packages\\shapely\\measurement.py:72: RuntimeWarning: invalid value encountered in distance\n",
      "  return lib.distance(a, b, **kwargs)\n",
      "C:\\Users\\vitor.braz\\AppData\\Roaming\\Python\\Python312\\site-packages\\shapely\\measurement.py:72: RuntimeWarning: invalid value encountered in distance\n",
      "  return lib.distance(a, b, **kwargs)\n",
      "C:\\Users\\vitor.braz\\AppData\\Roaming\\Python\\Python312\\site-packages\\shapely\\measurement.py:72: RuntimeWarning: invalid value encountered in distance\n",
      "  return lib.distance(a, b, **kwargs)\n",
      "C:\\Users\\vitor.braz\\AppData\\Roaming\\Python\\Python312\\site-packages\\shapely\\measurement.py:72: RuntimeWarning: invalid value encountered in distance\n",
      "  return lib.distance(a, b, **kwargs)\n",
      "C:\\Users\\vitor.braz\\AppData\\Roaming\\Python\\Python312\\site-packages\\shapely\\measurement.py:72: RuntimeWarning: invalid value encountered in distance\n",
      "  return lib.distance(a, b, **kwargs)\n",
      "C:\\Users\\vitor.braz\\AppData\\Roaming\\Python\\Python312\\site-packages\\shapely\\measurement.py:72: RuntimeWarning: invalid value encountered in distance\n",
      "  return lib.distance(a, b, **kwargs)\n",
      "C:\\Users\\vitor.braz\\AppData\\Roaming\\Python\\Python312\\site-packages\\shapely\\measurement.py:72: RuntimeWarning: invalid value encountered in distance\n",
      "  return lib.distance(a, b, **kwargs)\n",
      "C:\\Users\\vitor.braz\\AppData\\Roaming\\Python\\Python312\\site-packages\\shapely\\measurement.py:72: RuntimeWarning: invalid value encountered in distance\n",
      "  return lib.distance(a, b, **kwargs)\n",
      "C:\\Users\\vitor.braz\\AppData\\Roaming\\Python\\Python312\\site-packages\\shapely\\measurement.py:72: RuntimeWarning: invalid value encountered in distance\n",
      "  return lib.distance(a, b, **kwargs)\n",
      "C:\\Users\\vitor.braz\\AppData\\Roaming\\Python\\Python312\\site-packages\\shapely\\measurement.py:72: RuntimeWarning: invalid value encountered in distance\n",
      "  return lib.distance(a, b, **kwargs)\n"
     ]
    },
    {
     "name": "stdout",
     "output_type": "stream",
     "text": [
      "[INFO] Tentando sem tipo de via: 'JOAO FERNANDES CAMISA NOVA JUNIOR'\n"
     ]
    },
    {
     "name": "stderr",
     "output_type": "stream",
     "text": [
      "C:\\Users\\vitor.braz\\AppData\\Roaming\\Python\\Python312\\site-packages\\shapely\\measurement.py:72: RuntimeWarning: invalid value encountered in distance\n",
      "  return lib.distance(a, b, **kwargs)\n"
     ]
    },
    {
     "name": "stdout",
     "output_type": "stream",
     "text": [
      "[INFO] Tentando sem tipo de via: 'DR LUIZ GUSHIKEN'\n"
     ]
    },
    {
     "name": "stderr",
     "output_type": "stream",
     "text": [
      "C:\\Users\\vitor.braz\\AppData\\Roaming\\Python\\Python312\\site-packages\\shapely\\measurement.py:72: RuntimeWarning: invalid value encountered in distance\n",
      "  return lib.distance(a, b, **kwargs)\n"
     ]
    },
    {
     "name": "stdout",
     "output_type": "stream",
     "text": [
      "[INFO] Tentando sem tipo de via: 'AVENIDA JACUPESSEGO'\n"
     ]
    },
    {
     "name": "stderr",
     "output_type": "stream",
     "text": [
      "C:\\Users\\vitor.braz\\AppData\\Roaming\\Python\\Python312\\site-packages\\shapely\\measurement.py:72: RuntimeWarning: invalid value encountered in distance\n",
      "  return lib.distance(a, b, **kwargs)\n",
      "C:\\Users\\vitor.braz\\AppData\\Roaming\\Python\\Python312\\site-packages\\shapely\\measurement.py:72: RuntimeWarning: invalid value encountered in distance\n",
      "  return lib.distance(a, b, **kwargs)\n",
      "C:\\Users\\vitor.braz\\AppData\\Roaming\\Python\\Python312\\site-packages\\shapely\\measurement.py:72: RuntimeWarning: invalid value encountered in distance\n",
      "  return lib.distance(a, b, **kwargs)\n",
      "C:\\Users\\vitor.braz\\AppData\\Roaming\\Python\\Python312\\site-packages\\shapely\\measurement.py:72: RuntimeWarning: invalid value encountered in distance\n",
      "  return lib.distance(a, b, **kwargs)\n",
      "C:\\Users\\vitor.braz\\AppData\\Roaming\\Python\\Python312\\site-packages\\shapely\\measurement.py:72: RuntimeWarning: invalid value encountered in distance\n",
      "  return lib.distance(a, b, **kwargs)\n",
      "C:\\Users\\vitor.braz\\AppData\\Roaming\\Python\\Python312\\site-packages\\shapely\\measurement.py:72: RuntimeWarning: invalid value encountered in distance\n",
      "  return lib.distance(a, b, **kwargs)\n",
      "C:\\Users\\vitor.braz\\AppData\\Roaming\\Python\\Python312\\site-packages\\shapely\\measurement.py:72: RuntimeWarning: invalid value encountered in distance\n",
      "  return lib.distance(a, b, **kwargs)\n",
      "C:\\Users\\vitor.braz\\AppData\\Roaming\\Python\\Python312\\site-packages\\shapely\\measurement.py:72: RuntimeWarning: invalid value encountered in distance\n",
      "  return lib.distance(a, b, **kwargs)\n",
      "C:\\Users\\vitor.braz\\AppData\\Roaming\\Python\\Python312\\site-packages\\shapely\\measurement.py:72: RuntimeWarning: invalid value encountered in distance\n",
      "  return lib.distance(a, b, **kwargs)\n",
      "C:\\Users\\vitor.braz\\AppData\\Roaming\\Python\\Python312\\site-packages\\shapely\\measurement.py:72: RuntimeWarning: invalid value encountered in distance\n",
      "  return lib.distance(a, b, **kwargs)\n",
      "C:\\Users\\vitor.braz\\AppData\\Roaming\\Python\\Python312\\site-packages\\shapely\\measurement.py:72: RuntimeWarning: invalid value encountered in distance\n",
      "  return lib.distance(a, b, **kwargs)\n"
     ]
    },
    {
     "name": "stdout",
     "output_type": "stream",
     "text": [
      "[INFO] Tentando sem tipo de via: 'PARA MARGINAL PINHEIROS EXPRESSA SENTIDO SU'\n"
     ]
    },
    {
     "name": "stderr",
     "output_type": "stream",
     "text": [
      "C:\\Users\\vitor.braz\\AppData\\Roaming\\Python\\Python312\\site-packages\\shapely\\measurement.py:72: RuntimeWarning: invalid value encountered in distance\n",
      "  return lib.distance(a, b, **kwargs)\n",
      "C:\\Users\\vitor.braz\\AppData\\Roaming\\Python\\Python312\\site-packages\\shapely\\measurement.py:72: RuntimeWarning: invalid value encountered in distance\n",
      "  return lib.distance(a, b, **kwargs)\n",
      "C:\\Users\\vitor.braz\\AppData\\Roaming\\Python\\Python312\\site-packages\\shapely\\measurement.py:72: RuntimeWarning: invalid value encountered in distance\n",
      "  return lib.distance(a, b, **kwargs)\n"
     ]
    },
    {
     "name": "stdout",
     "output_type": "stream",
     "text": [
      "[INFO] Tentando sem tipo de via: 'PROF L I ANHAIA MELLO'\n",
      "[INFO] Tentando sem tipo de via: '1'\n"
     ]
    },
    {
     "name": "stderr",
     "output_type": "stream",
     "text": [
      "C:\\Users\\vitor.braz\\AppData\\Roaming\\Python\\Python312\\site-packages\\shapely\\measurement.py:72: RuntimeWarning: invalid value encountered in distance\n",
      "  return lib.distance(a, b, **kwargs)\n",
      "C:\\Users\\vitor.braz\\AppData\\Roaming\\Python\\Python312\\site-packages\\shapely\\measurement.py:72: RuntimeWarning: invalid value encountered in distance\n",
      "  return lib.distance(a, b, **kwargs)\n",
      "C:\\Users\\vitor.braz\\AppData\\Roaming\\Python\\Python312\\site-packages\\shapely\\measurement.py:72: RuntimeWarning: invalid value encountered in distance\n",
      "  return lib.distance(a, b, **kwargs)\n",
      "C:\\Users\\vitor.braz\\AppData\\Roaming\\Python\\Python312\\site-packages\\shapely\\measurement.py:72: RuntimeWarning: invalid value encountered in distance\n",
      "  return lib.distance(a, b, **kwargs)\n",
      "C:\\Users\\vitor.braz\\AppData\\Roaming\\Python\\Python312\\site-packages\\shapely\\measurement.py:72: RuntimeWarning: invalid value encountered in distance\n",
      "  return lib.distance(a, b, **kwargs)\n"
     ]
    },
    {
     "name": "stdout",
     "output_type": "stream",
     "text": [
      "[INFO] Tentando sem tipo de via: 'DO M'BOI MIRIM'\n"
     ]
    },
    {
     "name": "stderr",
     "output_type": "stream",
     "text": [
      "C:\\Users\\vitor.braz\\AppData\\Roaming\\Python\\Python312\\site-packages\\shapely\\measurement.py:72: RuntimeWarning: invalid value encountered in distance\n",
      "  return lib.distance(a, b, **kwargs)\n",
      "C:\\Users\\vitor.braz\\AppData\\Roaming\\Python\\Python312\\site-packages\\shapely\\measurement.py:72: RuntimeWarning: invalid value encountered in distance\n",
      "  return lib.distance(a, b, **kwargs)\n",
      "C:\\Users\\vitor.braz\\AppData\\Roaming\\Python\\Python312\\site-packages\\shapely\\measurement.py:72: RuntimeWarning: invalid value encountered in distance\n",
      "  return lib.distance(a, b, **kwargs)\n",
      "C:\\Users\\vitor.braz\\AppData\\Roaming\\Python\\Python312\\site-packages\\shapely\\measurement.py:72: RuntimeWarning: invalid value encountered in distance\n",
      "  return lib.distance(a, b, **kwargs)\n",
      "C:\\Users\\vitor.braz\\AppData\\Roaming\\Python\\Python312\\site-packages\\shapely\\measurement.py:72: RuntimeWarning: invalid value encountered in distance\n",
      "  return lib.distance(a, b, **kwargs)\n",
      "C:\\Users\\vitor.braz\\AppData\\Roaming\\Python\\Python312\\site-packages\\shapely\\measurement.py:72: RuntimeWarning: invalid value encountered in distance\n",
      "  return lib.distance(a, b, **kwargs)\n"
     ]
    },
    {
     "name": "stdout",
     "output_type": "stream",
     "text": [
      "[INFO] Tentando sem tipo de via: 'MIGUEL ESTEFANO'\n"
     ]
    },
    {
     "name": "stderr",
     "output_type": "stream",
     "text": [
      "C:\\Users\\vitor.braz\\AppData\\Roaming\\Python\\Python312\\site-packages\\shapely\\measurement.py:72: RuntimeWarning: invalid value encountered in distance\n",
      "  return lib.distance(a, b, **kwargs)\n",
      "C:\\Users\\vitor.braz\\AppData\\Roaming\\Python\\Python312\\site-packages\\shapely\\measurement.py:72: RuntimeWarning: invalid value encountered in distance\n",
      "  return lib.distance(a, b, **kwargs)\n",
      "C:\\Users\\vitor.braz\\AppData\\Roaming\\Python\\Python312\\site-packages\\shapely\\measurement.py:72: RuntimeWarning: invalid value encountered in distance\n",
      "  return lib.distance(a, b, **kwargs)\n",
      "C:\\Users\\vitor.braz\\AppData\\Roaming\\Python\\Python312\\site-packages\\shapely\\measurement.py:72: RuntimeWarning: invalid value encountered in distance\n",
      "  return lib.distance(a, b, **kwargs)\n",
      "C:\\Users\\vitor.braz\\AppData\\Roaming\\Python\\Python312\\site-packages\\shapely\\measurement.py:72: RuntimeWarning: invalid value encountered in distance\n",
      "  return lib.distance(a, b, **kwargs)\n",
      "C:\\Users\\vitor.braz\\AppData\\Roaming\\Python\\Python312\\site-packages\\shapely\\measurement.py:72: RuntimeWarning: invalid value encountered in distance\n",
      "  return lib.distance(a, b, **kwargs)\n",
      "C:\\Users\\vitor.braz\\AppData\\Roaming\\Python\\Python312\\site-packages\\shapely\\measurement.py:72: RuntimeWarning: invalid value encountered in distance\n",
      "  return lib.distance(a, b, **kwargs)\n",
      "C:\\Users\\vitor.braz\\AppData\\Roaming\\Python\\Python312\\site-packages\\shapely\\measurement.py:72: RuntimeWarning: invalid value encountered in distance\n",
      "  return lib.distance(a, b, **kwargs)\n",
      "C:\\Users\\vitor.braz\\AppData\\Roaming\\Python\\Python312\\site-packages\\shapely\\measurement.py:72: RuntimeWarning: invalid value encountered in distance\n",
      "  return lib.distance(a, b, **kwargs)\n",
      "C:\\Users\\vitor.braz\\AppData\\Roaming\\Python\\Python312\\site-packages\\shapely\\measurement.py:72: RuntimeWarning: invalid value encountered in distance\n",
      "  return lib.distance(a, b, **kwargs)\n",
      "C:\\Users\\vitor.braz\\AppData\\Roaming\\Python\\Python312\\site-packages\\shapely\\measurement.py:72: RuntimeWarning: invalid value encountered in distance\n",
      "  return lib.distance(a, b, **kwargs)\n",
      "C:\\Users\\vitor.braz\\AppData\\Roaming\\Python\\Python312\\site-packages\\shapely\\measurement.py:72: RuntimeWarning: invalid value encountered in distance\n",
      "  return lib.distance(a, b, **kwargs)\n",
      "C:\\Users\\vitor.braz\\AppData\\Roaming\\Python\\Python312\\site-packages\\shapely\\measurement.py:72: RuntimeWarning: invalid value encountered in distance\n",
      "  return lib.distance(a, b, **kwargs)\n",
      "C:\\Users\\vitor.braz\\AppData\\Roaming\\Python\\Python312\\site-packages\\shapely\\measurement.py:72: RuntimeWarning: invalid value encountered in distance\n",
      "  return lib.distance(a, b, **kwargs)\n",
      "C:\\Users\\vitor.braz\\AppData\\Roaming\\Python\\Python312\\site-packages\\shapely\\measurement.py:72: RuntimeWarning: invalid value encountered in distance\n",
      "  return lib.distance(a, b, **kwargs)\n",
      "C:\\Users\\vitor.braz\\AppData\\Roaming\\Python\\Python312\\site-packages\\shapely\\measurement.py:72: RuntimeWarning: invalid value encountered in distance\n",
      "  return lib.distance(a, b, **kwargs)\n",
      "C:\\Users\\vitor.braz\\AppData\\Roaming\\Python\\Python312\\site-packages\\shapely\\measurement.py:72: RuntimeWarning: invalid value encountered in distance\n",
      "  return lib.distance(a, b, **kwargs)\n"
     ]
    },
    {
     "name": "stdout",
     "output_type": "stream",
     "text": [
      "[INFO] Tentando sem tipo de via: 'GUAVIRUTUBA'\n"
     ]
    },
    {
     "name": "stderr",
     "output_type": "stream",
     "text": [
      "C:\\Users\\vitor.braz\\AppData\\Roaming\\Python\\Python312\\site-packages\\shapely\\measurement.py:72: RuntimeWarning: invalid value encountered in distance\n",
      "  return lib.distance(a, b, **kwargs)\n",
      "C:\\Users\\vitor.braz\\AppData\\Roaming\\Python\\Python312\\site-packages\\shapely\\measurement.py:72: RuntimeWarning: invalid value encountered in distance\n",
      "  return lib.distance(a, b, **kwargs)\n",
      "C:\\Users\\vitor.braz\\AppData\\Roaming\\Python\\Python312\\site-packages\\shapely\\measurement.py:72: RuntimeWarning: invalid value encountered in distance\n",
      "  return lib.distance(a, b, **kwargs)\n",
      "C:\\Users\\vitor.braz\\AppData\\Roaming\\Python\\Python312\\site-packages\\shapely\\measurement.py:72: RuntimeWarning: invalid value encountered in distance\n",
      "  return lib.distance(a, b, **kwargs)\n",
      "C:\\Users\\vitor.braz\\AppData\\Roaming\\Python\\Python312\\site-packages\\shapely\\measurement.py:72: RuntimeWarning: invalid value encountered in distance\n",
      "  return lib.distance(a, b, **kwargs)\n",
      "C:\\Users\\vitor.braz\\AppData\\Roaming\\Python\\Python312\\site-packages\\shapely\\measurement.py:72: RuntimeWarning: invalid value encountered in distance\n",
      "  return lib.distance(a, b, **kwargs)\n",
      "C:\\Users\\vitor.braz\\AppData\\Roaming\\Python\\Python312\\site-packages\\shapely\\measurement.py:72: RuntimeWarning: invalid value encountered in distance\n",
      "  return lib.distance(a, b, **kwargs)\n",
      "C:\\Users\\vitor.braz\\AppData\\Roaming\\Python\\Python312\\site-packages\\shapely\\measurement.py:72: RuntimeWarning: invalid value encountered in distance\n",
      "  return lib.distance(a, b, **kwargs)\n",
      "C:\\Users\\vitor.braz\\AppData\\Roaming\\Python\\Python312\\site-packages\\shapely\\measurement.py:72: RuntimeWarning: invalid value encountered in distance\n",
      "  return lib.distance(a, b, **kwargs)\n",
      "C:\\Users\\vitor.braz\\AppData\\Roaming\\Python\\Python312\\site-packages\\shapely\\measurement.py:72: RuntimeWarning: invalid value encountered in distance\n",
      "  return lib.distance(a, b, **kwargs)\n",
      "C:\\Users\\vitor.braz\\AppData\\Roaming\\Python\\Python312\\site-packages\\shapely\\measurement.py:72: RuntimeWarning: invalid value encountered in distance\n",
      "  return lib.distance(a, b, **kwargs)\n"
     ]
    },
    {
     "name": "stdout",
     "output_type": "stream",
     "text": [
      "[INFO] Tentando sem tipo de via: 'MARIO COVAS'\n"
     ]
    },
    {
     "name": "stderr",
     "output_type": "stream",
     "text": [
      "C:\\Users\\vitor.braz\\AppData\\Roaming\\Python\\Python312\\site-packages\\shapely\\measurement.py:72: RuntimeWarning: invalid value encountered in distance\n",
      "  return lib.distance(a, b, **kwargs)\n",
      "C:\\Users\\vitor.braz\\AppData\\Roaming\\Python\\Python312\\site-packages\\shapely\\measurement.py:72: RuntimeWarning: invalid value encountered in distance\n",
      "  return lib.distance(a, b, **kwargs)\n"
     ]
    },
    {
     "name": "stdout",
     "output_type": "stream",
     "text": [
      "[INFO] Tentando sem tipo de via: 'ESTRADA DO M'BOI MIRIM'\n"
     ]
    },
    {
     "name": "stderr",
     "output_type": "stream",
     "text": [
      "C:\\Users\\vitor.braz\\AppData\\Roaming\\Python\\Python312\\site-packages\\shapely\\measurement.py:72: RuntimeWarning: invalid value encountered in distance\n",
      "  return lib.distance(a, b, **kwargs)\n",
      "C:\\Users\\vitor.braz\\AppData\\Roaming\\Python\\Python312\\site-packages\\shapely\\measurement.py:72: RuntimeWarning: invalid value encountered in distance\n",
      "  return lib.distance(a, b, **kwargs)\n",
      "C:\\Users\\vitor.braz\\AppData\\Roaming\\Python\\Python312\\site-packages\\shapely\\measurement.py:72: RuntimeWarning: invalid value encountered in distance\n",
      "  return lib.distance(a, b, **kwargs)\n"
     ]
    },
    {
     "name": "stdout",
     "output_type": "stream",
     "text": [
      "[INFO] Tentando sem tipo de via: 'AVENIDA SENADOR TEOTONIO VILELA'\n"
     ]
    },
    {
     "name": "stderr",
     "output_type": "stream",
     "text": [
      "C:\\Users\\vitor.braz\\AppData\\Roaming\\Python\\Python312\\site-packages\\shapely\\measurement.py:72: RuntimeWarning: invalid value encountered in distance\n",
      "  return lib.distance(a, b, **kwargs)\n",
      "C:\\Users\\vitor.braz\\AppData\\Roaming\\Python\\Python312\\site-packages\\shapely\\measurement.py:72: RuntimeWarning: invalid value encountered in distance\n",
      "  return lib.distance(a, b, **kwargs)\n",
      "C:\\Users\\vitor.braz\\AppData\\Roaming\\Python\\Python312\\site-packages\\shapely\\measurement.py:72: RuntimeWarning: invalid value encountered in distance\n",
      "  return lib.distance(a, b, **kwargs)\n",
      "C:\\Users\\vitor.braz\\AppData\\Roaming\\Python\\Python312\\site-packages\\shapely\\measurement.py:72: RuntimeWarning: invalid value encountered in distance\n",
      "  return lib.distance(a, b, **kwargs)\n"
     ]
    },
    {
     "name": "stdout",
     "output_type": "stream",
     "text": [
      "[INFO] Tentando sem tipo de via: 'AVENIDA PROFESSOR LUIZ IGNACIO ANHAIA MELLO'\n"
     ]
    },
    {
     "name": "stderr",
     "output_type": "stream",
     "text": [
      "C:\\Users\\vitor.braz\\AppData\\Roaming\\Python\\Python312\\site-packages\\shapely\\measurement.py:72: RuntimeWarning: invalid value encountered in distance\n",
      "  return lib.distance(a, b, **kwargs)\n",
      "C:\\Users\\vitor.braz\\AppData\\Roaming\\Python\\Python312\\site-packages\\shapely\\measurement.py:72: RuntimeWarning: invalid value encountered in distance\n",
      "  return lib.distance(a, b, **kwargs)\n",
      "C:\\Users\\vitor.braz\\AppData\\Roaming\\Python\\Python312\\site-packages\\shapely\\measurement.py:72: RuntimeWarning: invalid value encountered in distance\n",
      "  return lib.distance(a, b, **kwargs)\n",
      "C:\\Users\\vitor.braz\\AppData\\Roaming\\Python\\Python312\\site-packages\\shapely\\measurement.py:72: RuntimeWarning: invalid value encountered in distance\n",
      "  return lib.distance(a, b, **kwargs)\n",
      "C:\\Users\\vitor.braz\\AppData\\Roaming\\Python\\Python312\\site-packages\\shapely\\measurement.py:72: RuntimeWarning: invalid value encountered in distance\n",
      "  return lib.distance(a, b, **kwargs)\n",
      "C:\\Users\\vitor.braz\\AppData\\Roaming\\Python\\Python312\\site-packages\\shapely\\measurement.py:72: RuntimeWarning: invalid value encountered in distance\n",
      "  return lib.distance(a, b, **kwargs)\n",
      "C:\\Users\\vitor.braz\\AppData\\Roaming\\Python\\Python312\\site-packages\\shapely\\measurement.py:72: RuntimeWarning: invalid value encountered in distance\n",
      "  return lib.distance(a, b, **kwargs)\n",
      "C:\\Users\\vitor.braz\\AppData\\Roaming\\Python\\Python312\\site-packages\\shapely\\measurement.py:72: RuntimeWarning: invalid value encountered in distance\n",
      "  return lib.distance(a, b, **kwargs)\n",
      "C:\\Users\\vitor.braz\\AppData\\Roaming\\Python\\Python312\\site-packages\\shapely\\measurement.py:72: RuntimeWarning: invalid value encountered in distance\n",
      "  return lib.distance(a, b, **kwargs)\n",
      "C:\\Users\\vitor.braz\\AppData\\Roaming\\Python\\Python312\\site-packages\\shapely\\measurement.py:72: RuntimeWarning: invalid value encountered in distance\n",
      "  return lib.distance(a, b, **kwargs)\n",
      "C:\\Users\\vitor.braz\\AppData\\Roaming\\Python\\Python312\\site-packages\\shapely\\measurement.py:72: RuntimeWarning: invalid value encountered in distance\n",
      "  return lib.distance(a, b, **kwargs)\n",
      "C:\\Users\\vitor.braz\\AppData\\Roaming\\Python\\Python312\\site-packages\\shapely\\measurement.py:72: RuntimeWarning: invalid value encountered in distance\n",
      "  return lib.distance(a, b, **kwargs)\n",
      "C:\\Users\\vitor.braz\\AppData\\Roaming\\Python\\Python312\\site-packages\\shapely\\measurement.py:72: RuntimeWarning: invalid value encountered in distance\n",
      "  return lib.distance(a, b, **kwargs)\n"
     ]
    },
    {
     "name": "stdout",
     "output_type": "stream",
     "text": [
      "[INFO] Tentando sem tipo de via: 'MARIO COVAS'\n"
     ]
    },
    {
     "name": "stderr",
     "output_type": "stream",
     "text": [
      "C:\\Users\\vitor.braz\\AppData\\Roaming\\Python\\Python312\\site-packages\\shapely\\measurement.py:72: RuntimeWarning: invalid value encountered in distance\n",
      "  return lib.distance(a, b, **kwargs)\n",
      "C:\\Users\\vitor.braz\\AppData\\Roaming\\Python\\Python312\\site-packages\\shapely\\measurement.py:72: RuntimeWarning: invalid value encountered in distance\n",
      "  return lib.distance(a, b, **kwargs)\n",
      "C:\\Users\\vitor.braz\\AppData\\Roaming\\Python\\Python312\\site-packages\\shapely\\measurement.py:72: RuntimeWarning: invalid value encountered in distance\n",
      "  return lib.distance(a, b, **kwargs)\n",
      "C:\\Users\\vitor.braz\\AppData\\Roaming\\Python\\Python312\\site-packages\\shapely\\measurement.py:72: RuntimeWarning: invalid value encountered in distance\n",
      "  return lib.distance(a, b, **kwargs)\n",
      "C:\\Users\\vitor.braz\\AppData\\Roaming\\Python\\Python312\\site-packages\\shapely\\measurement.py:72: RuntimeWarning: invalid value encountered in distance\n",
      "  return lib.distance(a, b, **kwargs)\n",
      "C:\\Users\\vitor.braz\\AppData\\Roaming\\Python\\Python312\\site-packages\\shapely\\measurement.py:72: RuntimeWarning: invalid value encountered in distance\n",
      "  return lib.distance(a, b, **kwargs)\n",
      "C:\\Users\\vitor.braz\\AppData\\Roaming\\Python\\Python312\\site-packages\\shapely\\measurement.py:72: RuntimeWarning: invalid value encountered in distance\n",
      "  return lib.distance(a, b, **kwargs)\n",
      "C:\\Users\\vitor.braz\\AppData\\Roaming\\Python\\Python312\\site-packages\\shapely\\measurement.py:72: RuntimeWarning: invalid value encountered in distance\n",
      "  return lib.distance(a, b, **kwargs)\n",
      "C:\\Users\\vitor.braz\\AppData\\Roaming\\Python\\Python312\\site-packages\\shapely\\measurement.py:72: RuntimeWarning: invalid value encountered in distance\n",
      "  return lib.distance(a, b, **kwargs)\n",
      "C:\\Users\\vitor.braz\\AppData\\Roaming\\Python\\Python312\\site-packages\\shapely\\measurement.py:72: RuntimeWarning: invalid value encountered in distance\n",
      "  return lib.distance(a, b, **kwargs)\n",
      "C:\\Users\\vitor.braz\\AppData\\Roaming\\Python\\Python312\\site-packages\\shapely\\measurement.py:72: RuntimeWarning: invalid value encountered in distance\n",
      "  return lib.distance(a, b, **kwargs)\n",
      "C:\\Users\\vitor.braz\\AppData\\Roaming\\Python\\Python312\\site-packages\\shapely\\measurement.py:72: RuntimeWarning: invalid value encountered in distance\n",
      "  return lib.distance(a, b, **kwargs)\n",
      "C:\\Users\\vitor.braz\\AppData\\Roaming\\Python\\Python312\\site-packages\\shapely\\measurement.py:72: RuntimeWarning: invalid value encountered in distance\n",
      "  return lib.distance(a, b, **kwargs)\n"
     ]
    },
    {
     "name": "stdout",
     "output_type": "stream",
     "text": [
      "[INFO] Tentando sem tipo de via: 'DO M'BOI MIRIM'\n"
     ]
    },
    {
     "name": "stderr",
     "output_type": "stream",
     "text": [
      "C:\\Users\\vitor.braz\\AppData\\Roaming\\Python\\Python312\\site-packages\\shapely\\measurement.py:72: RuntimeWarning: invalid value encountered in distance\n",
      "  return lib.distance(a, b, **kwargs)\n",
      "C:\\Users\\vitor.braz\\AppData\\Roaming\\Python\\Python312\\site-packages\\shapely\\measurement.py:72: RuntimeWarning: invalid value encountered in distance\n",
      "  return lib.distance(a, b, **kwargs)\n",
      "C:\\Users\\vitor.braz\\AppData\\Roaming\\Python\\Python312\\site-packages\\shapely\\measurement.py:72: RuntimeWarning: invalid value encountered in distance\n",
      "  return lib.distance(a, b, **kwargs)\n",
      "C:\\Users\\vitor.braz\\AppData\\Roaming\\Python\\Python312\\site-packages\\shapely\\measurement.py:72: RuntimeWarning: invalid value encountered in distance\n",
      "  return lib.distance(a, b, **kwargs)\n",
      "C:\\Users\\vitor.braz\\AppData\\Roaming\\Python\\Python312\\site-packages\\shapely\\measurement.py:72: RuntimeWarning: invalid value encountered in distance\n",
      "  return lib.distance(a, b, **kwargs)\n",
      "C:\\Users\\vitor.braz\\AppData\\Roaming\\Python\\Python312\\site-packages\\shapely\\measurement.py:72: RuntimeWarning: invalid value encountered in distance\n",
      "  return lib.distance(a, b, **kwargs)\n",
      "C:\\Users\\vitor.braz\\AppData\\Roaming\\Python\\Python312\\site-packages\\shapely\\measurement.py:72: RuntimeWarning: invalid value encountered in distance\n",
      "  return lib.distance(a, b, **kwargs)\n",
      "C:\\Users\\vitor.braz\\AppData\\Roaming\\Python\\Python312\\site-packages\\shapely\\measurement.py:72: RuntimeWarning: invalid value encountered in distance\n",
      "  return lib.distance(a, b, **kwargs)\n",
      "C:\\Users\\vitor.braz\\AppData\\Roaming\\Python\\Python312\\site-packages\\shapely\\measurement.py:72: RuntimeWarning: invalid value encountered in distance\n",
      "  return lib.distance(a, b, **kwargs)\n",
      "C:\\Users\\vitor.braz\\AppData\\Roaming\\Python\\Python312\\site-packages\\shapely\\measurement.py:72: RuntimeWarning: invalid value encountered in distance\n",
      "  return lib.distance(a, b, **kwargs)\n",
      "C:\\Users\\vitor.braz\\AppData\\Roaming\\Python\\Python312\\site-packages\\shapely\\measurement.py:72: RuntimeWarning: invalid value encountered in distance\n",
      "  return lib.distance(a, b, **kwargs)\n",
      "C:\\Users\\vitor.braz\\AppData\\Roaming\\Python\\Python312\\site-packages\\shapely\\measurement.py:72: RuntimeWarning: invalid value encountered in distance\n",
      "  return lib.distance(a, b, **kwargs)\n",
      "C:\\Users\\vitor.braz\\AppData\\Roaming\\Python\\Python312\\site-packages\\shapely\\measurement.py:72: RuntimeWarning: invalid value encountered in distance\n",
      "  return lib.distance(a, b, **kwargs)\n",
      "C:\\Users\\vitor.braz\\AppData\\Roaming\\Python\\Python312\\site-packages\\shapely\\measurement.py:72: RuntimeWarning: invalid value encountered in distance\n",
      "  return lib.distance(a, b, **kwargs)\n",
      "C:\\Users\\vitor.braz\\AppData\\Roaming\\Python\\Python312\\site-packages\\shapely\\measurement.py:72: RuntimeWarning: invalid value encountered in distance\n",
      "  return lib.distance(a, b, **kwargs)\n",
      "C:\\Users\\vitor.braz\\AppData\\Roaming\\Python\\Python312\\site-packages\\shapely\\measurement.py:72: RuntimeWarning: invalid value encountered in distance\n",
      "  return lib.distance(a, b, **kwargs)\n",
      "C:\\Users\\vitor.braz\\AppData\\Roaming\\Python\\Python312\\site-packages\\shapely\\measurement.py:72: RuntimeWarning: invalid value encountered in distance\n",
      "  return lib.distance(a, b, **kwargs)\n",
      "C:\\Users\\vitor.braz\\AppData\\Roaming\\Python\\Python312\\site-packages\\shapely\\measurement.py:72: RuntimeWarning: invalid value encountered in distance\n",
      "  return lib.distance(a, b, **kwargs)\n"
     ]
    },
    {
     "name": "stdout",
     "output_type": "stream",
     "text": [
      "[INFO] Tentando sem tipo de via: 'DAS IMBIRAS'\n"
     ]
    },
    {
     "name": "stderr",
     "output_type": "stream",
     "text": [
      "C:\\Users\\vitor.braz\\AppData\\Roaming\\Python\\Python312\\site-packages\\shapely\\measurement.py:72: RuntimeWarning: invalid value encountered in distance\n",
      "  return lib.distance(a, b, **kwargs)\n",
      "C:\\Users\\vitor.braz\\AppData\\Roaming\\Python\\Python312\\site-packages\\shapely\\measurement.py:72: RuntimeWarning: invalid value encountered in distance\n",
      "  return lib.distance(a, b, **kwargs)\n",
      "C:\\Users\\vitor.braz\\AppData\\Roaming\\Python\\Python312\\site-packages\\shapely\\measurement.py:72: RuntimeWarning: invalid value encountered in distance\n",
      "  return lib.distance(a, b, **kwargs)\n",
      "C:\\Users\\vitor.braz\\AppData\\Roaming\\Python\\Python312\\site-packages\\shapely\\measurement.py:72: RuntimeWarning: invalid value encountered in distance\n",
      "  return lib.distance(a, b, **kwargs)\n",
      "C:\\Users\\vitor.braz\\AppData\\Roaming\\Python\\Python312\\site-packages\\shapely\\measurement.py:72: RuntimeWarning: invalid value encountered in distance\n",
      "  return lib.distance(a, b, **kwargs)\n",
      "C:\\Users\\vitor.braz\\AppData\\Roaming\\Python\\Python312\\site-packages\\shapely\\measurement.py:72: RuntimeWarning: invalid value encountered in distance\n",
      "  return lib.distance(a, b, **kwargs)\n",
      "C:\\Users\\vitor.braz\\AppData\\Roaming\\Python\\Python312\\site-packages\\shapely\\measurement.py:72: RuntimeWarning: invalid value encountered in distance\n",
      "  return lib.distance(a, b, **kwargs)\n",
      "C:\\Users\\vitor.braz\\AppData\\Roaming\\Python\\Python312\\site-packages\\shapely\\measurement.py:72: RuntimeWarning: invalid value encountered in distance\n",
      "  return lib.distance(a, b, **kwargs)\n",
      "C:\\Users\\vitor.braz\\AppData\\Roaming\\Python\\Python312\\site-packages\\shapely\\measurement.py:72: RuntimeWarning: invalid value encountered in distance\n",
      "  return lib.distance(a, b, **kwargs)\n",
      "C:\\Users\\vitor.braz\\AppData\\Roaming\\Python\\Python312\\site-packages\\shapely\\measurement.py:72: RuntimeWarning: invalid value encountered in distance\n",
      "  return lib.distance(a, b, **kwargs)\n",
      "C:\\Users\\vitor.braz\\AppData\\Roaming\\Python\\Python312\\site-packages\\shapely\\measurement.py:72: RuntimeWarning: invalid value encountered in distance\n",
      "  return lib.distance(a, b, **kwargs)\n",
      "C:\\Users\\vitor.braz\\AppData\\Roaming\\Python\\Python312\\site-packages\\shapely\\measurement.py:72: RuntimeWarning: invalid value encountered in distance\n",
      "  return lib.distance(a, b, **kwargs)\n",
      "C:\\Users\\vitor.braz\\AppData\\Roaming\\Python\\Python312\\site-packages\\shapely\\measurement.py:72: RuntimeWarning: invalid value encountered in distance\n",
      "  return lib.distance(a, b, **kwargs)\n",
      "C:\\Users\\vitor.braz\\AppData\\Roaming\\Python\\Python312\\site-packages\\shapely\\measurement.py:72: RuntimeWarning: invalid value encountered in distance\n",
      "  return lib.distance(a, b, **kwargs)\n",
      "C:\\Users\\vitor.braz\\AppData\\Roaming\\Python\\Python312\\site-packages\\shapely\\measurement.py:72: RuntimeWarning: invalid value encountered in distance\n",
      "  return lib.distance(a, b, **kwargs)\n",
      "C:\\Users\\vitor.braz\\AppData\\Roaming\\Python\\Python312\\site-packages\\shapely\\measurement.py:72: RuntimeWarning: invalid value encountered in distance\n",
      "  return lib.distance(a, b, **kwargs)\n",
      "C:\\Users\\vitor.braz\\AppData\\Roaming\\Python\\Python312\\site-packages\\shapely\\measurement.py:72: RuntimeWarning: invalid value encountered in distance\n",
      "  return lib.distance(a, b, **kwargs)\n"
     ]
    },
    {
     "name": "stdout",
     "output_type": "stream",
     "text": [
      "[INFO] Tentando sem tipo de via: 'LUIS LUCHIQUEM'\n"
     ]
    },
    {
     "name": "stderr",
     "output_type": "stream",
     "text": [
      "C:\\Users\\vitor.braz\\AppData\\Roaming\\Python\\Python312\\site-packages\\shapely\\measurement.py:72: RuntimeWarning: invalid value encountered in distance\n",
      "  return lib.distance(a, b, **kwargs)\n",
      "C:\\Users\\vitor.braz\\AppData\\Roaming\\Python\\Python312\\site-packages\\shapely\\measurement.py:72: RuntimeWarning: invalid value encountered in distance\n",
      "  return lib.distance(a, b, **kwargs)\n",
      "C:\\Users\\vitor.braz\\AppData\\Roaming\\Python\\Python312\\site-packages\\shapely\\measurement.py:72: RuntimeWarning: invalid value encountered in distance\n",
      "  return lib.distance(a, b, **kwargs)\n",
      "C:\\Users\\vitor.braz\\AppData\\Roaming\\Python\\Python312\\site-packages\\shapely\\measurement.py:72: RuntimeWarning: invalid value encountered in distance\n",
      "  return lib.distance(a, b, **kwargs)\n",
      "C:\\Users\\vitor.braz\\AppData\\Roaming\\Python\\Python312\\site-packages\\shapely\\measurement.py:72: RuntimeWarning: invalid value encountered in distance\n",
      "  return lib.distance(a, b, **kwargs)\n",
      "C:\\Users\\vitor.braz\\AppData\\Roaming\\Python\\Python312\\site-packages\\shapely\\measurement.py:72: RuntimeWarning: invalid value encountered in distance\n",
      "  return lib.distance(a, b, **kwargs)\n",
      "C:\\Users\\vitor.braz\\AppData\\Roaming\\Python\\Python312\\site-packages\\shapely\\measurement.py:72: RuntimeWarning: invalid value encountered in distance\n",
      "  return lib.distance(a, b, **kwargs)\n"
     ]
    },
    {
     "name": "stdout",
     "output_type": "stream",
     "text": [
      "[INFO] Tentando sem tipo de via: 'DA BORONESA'\n"
     ]
    },
    {
     "name": "stderr",
     "output_type": "stream",
     "text": [
      "C:\\Users\\vitor.braz\\AppData\\Roaming\\Python\\Python312\\site-packages\\shapely\\measurement.py:72: RuntimeWarning: invalid value encountered in distance\n",
      "  return lib.distance(a, b, **kwargs)\n",
      "C:\\Users\\vitor.braz\\AppData\\Roaming\\Python\\Python312\\site-packages\\shapely\\measurement.py:72: RuntimeWarning: invalid value encountered in distance\n",
      "  return lib.distance(a, b, **kwargs)\n",
      "C:\\Users\\vitor.braz\\AppData\\Roaming\\Python\\Python312\\site-packages\\shapely\\measurement.py:72: RuntimeWarning: invalid value encountered in distance\n",
      "  return lib.distance(a, b, **kwargs)\n",
      "C:\\Users\\vitor.braz\\AppData\\Roaming\\Python\\Python312\\site-packages\\shapely\\measurement.py:72: RuntimeWarning: invalid value encountered in distance\n",
      "  return lib.distance(a, b, **kwargs)\n",
      "C:\\Users\\vitor.braz\\AppData\\Roaming\\Python\\Python312\\site-packages\\shapely\\measurement.py:72: RuntimeWarning: invalid value encountered in distance\n",
      "  return lib.distance(a, b, **kwargs)\n",
      "C:\\Users\\vitor.braz\\AppData\\Roaming\\Python\\Python312\\site-packages\\shapely\\measurement.py:72: RuntimeWarning: invalid value encountered in distance\n",
      "  return lib.distance(a, b, **kwargs)\n",
      "C:\\Users\\vitor.braz\\AppData\\Roaming\\Python\\Python312\\site-packages\\shapely\\measurement.py:72: RuntimeWarning: invalid value encountered in distance\n",
      "  return lib.distance(a, b, **kwargs)\n",
      "C:\\Users\\vitor.braz\\AppData\\Roaming\\Python\\Python312\\site-packages\\shapely\\measurement.py:72: RuntimeWarning: invalid value encountered in distance\n",
      "  return lib.distance(a, b, **kwargs)\n",
      "C:\\Users\\vitor.braz\\AppData\\Roaming\\Python\\Python312\\site-packages\\shapely\\measurement.py:72: RuntimeWarning: invalid value encountered in distance\n",
      "  return lib.distance(a, b, **kwargs)\n",
      "C:\\Users\\vitor.braz\\AppData\\Roaming\\Python\\Python312\\site-packages\\shapely\\measurement.py:72: RuntimeWarning: invalid value encountered in distance\n",
      "  return lib.distance(a, b, **kwargs)\n",
      "C:\\Users\\vitor.braz\\AppData\\Roaming\\Python\\Python312\\site-packages\\shapely\\measurement.py:72: RuntimeWarning: invalid value encountered in distance\n",
      "  return lib.distance(a, b, **kwargs)\n",
      "C:\\Users\\vitor.braz\\AppData\\Roaming\\Python\\Python312\\site-packages\\shapely\\measurement.py:72: RuntimeWarning: invalid value encountered in distance\n",
      "  return lib.distance(a, b, **kwargs)\n",
      "C:\\Users\\vitor.braz\\AppData\\Roaming\\Python\\Python312\\site-packages\\shapely\\measurement.py:72: RuntimeWarning: invalid value encountered in distance\n",
      "  return lib.distance(a, b, **kwargs)\n",
      "C:\\Users\\vitor.braz\\AppData\\Roaming\\Python\\Python312\\site-packages\\shapely\\measurement.py:72: RuntimeWarning: invalid value encountered in distance\n",
      "  return lib.distance(a, b, **kwargs)\n"
     ]
    },
    {
     "name": "stdout",
     "output_type": "stream",
     "text": [
      "[INFO] Tentando sem tipo de via: 'MMDC'\n"
     ]
    },
    {
     "name": "stderr",
     "output_type": "stream",
     "text": [
      "C:\\Users\\vitor.braz\\AppData\\Roaming\\Python\\Python312\\site-packages\\shapely\\measurement.py:72: RuntimeWarning: invalid value encountered in distance\n",
      "  return lib.distance(a, b, **kwargs)\n",
      "C:\\Users\\vitor.braz\\AppData\\Roaming\\Python\\Python312\\site-packages\\shapely\\measurement.py:72: RuntimeWarning: invalid value encountered in distance\n",
      "  return lib.distance(a, b, **kwargs)\n",
      "C:\\Users\\vitor.braz\\AppData\\Roaming\\Python\\Python312\\site-packages\\shapely\\measurement.py:72: RuntimeWarning: invalid value encountered in distance\n",
      "  return lib.distance(a, b, **kwargs)\n",
      "C:\\Users\\vitor.braz\\AppData\\Roaming\\Python\\Python312\\site-packages\\shapely\\measurement.py:72: RuntimeWarning: invalid value encountered in distance\n",
      "  return lib.distance(a, b, **kwargs)\n",
      "C:\\Users\\vitor.braz\\AppData\\Roaming\\Python\\Python312\\site-packages\\shapely\\measurement.py:72: RuntimeWarning: invalid value encountered in distance\n",
      "  return lib.distance(a, b, **kwargs)\n",
      "C:\\Users\\vitor.braz\\AppData\\Roaming\\Python\\Python312\\site-packages\\shapely\\measurement.py:72: RuntimeWarning: invalid value encountered in distance\n",
      "  return lib.distance(a, b, **kwargs)\n",
      "C:\\Users\\vitor.braz\\AppData\\Roaming\\Python\\Python312\\site-packages\\shapely\\measurement.py:72: RuntimeWarning: invalid value encountered in distance\n",
      "  return lib.distance(a, b, **kwargs)\n",
      "C:\\Users\\vitor.braz\\AppData\\Roaming\\Python\\Python312\\site-packages\\shapely\\measurement.py:72: RuntimeWarning: invalid value encountered in distance\n",
      "  return lib.distance(a, b, **kwargs)\n",
      "C:\\Users\\vitor.braz\\AppData\\Roaming\\Python\\Python312\\site-packages\\shapely\\measurement.py:72: RuntimeWarning: invalid value encountered in distance\n",
      "  return lib.distance(a, b, **kwargs)\n",
      "C:\\Users\\vitor.braz\\AppData\\Roaming\\Python\\Python312\\site-packages\\shapely\\measurement.py:72: RuntimeWarning: invalid value encountered in distance\n",
      "  return lib.distance(a, b, **kwargs)\n"
     ]
    },
    {
     "name": "stdout",
     "output_type": "stream",
     "text": [
      "[INFO] Tentando sem tipo de via: 'DO M'BOI MIRIM'\n"
     ]
    },
    {
     "name": "stderr",
     "output_type": "stream",
     "text": [
      "C:\\Users\\vitor.braz\\AppData\\Roaming\\Python\\Python312\\site-packages\\shapely\\measurement.py:72: RuntimeWarning: invalid value encountered in distance\n",
      "  return lib.distance(a, b, **kwargs)\n",
      "C:\\Users\\vitor.braz\\AppData\\Roaming\\Python\\Python312\\site-packages\\shapely\\measurement.py:72: RuntimeWarning: invalid value encountered in distance\n",
      "  return lib.distance(a, b, **kwargs)\n",
      "C:\\Users\\vitor.braz\\AppData\\Roaming\\Python\\Python312\\site-packages\\shapely\\measurement.py:72: RuntimeWarning: invalid value encountered in distance\n",
      "  return lib.distance(a, b, **kwargs)\n",
      "C:\\Users\\vitor.braz\\AppData\\Roaming\\Python\\Python312\\site-packages\\shapely\\measurement.py:72: RuntimeWarning: invalid value encountered in distance\n",
      "  return lib.distance(a, b, **kwargs)\n",
      "C:\\Users\\vitor.braz\\AppData\\Roaming\\Python\\Python312\\site-packages\\shapely\\measurement.py:72: RuntimeWarning: invalid value encountered in distance\n",
      "  return lib.distance(a, b, **kwargs)\n",
      "C:\\Users\\vitor.braz\\AppData\\Roaming\\Python\\Python312\\site-packages\\shapely\\measurement.py:72: RuntimeWarning: invalid value encountered in distance\n",
      "  return lib.distance(a, b, **kwargs)\n"
     ]
    },
    {
     "name": "stdout",
     "output_type": "stream",
     "text": [
      "[INFO] Tentando sem tipo de via: 'DO M'BOI MIRIM'\n"
     ]
    },
    {
     "name": "stderr",
     "output_type": "stream",
     "text": [
      "C:\\Users\\vitor.braz\\AppData\\Roaming\\Python\\Python312\\site-packages\\shapely\\measurement.py:72: RuntimeWarning: invalid value encountered in distance\n",
      "  return lib.distance(a, b, **kwargs)\n"
     ]
    },
    {
     "name": "stdout",
     "output_type": "stream",
     "text": [
      "[INFO] Tentando sem tipo de via: 'DOUTOR BERNARDINO BRITO FONSECA DE CARVALH'\n"
     ]
    },
    {
     "name": "stderr",
     "output_type": "stream",
     "text": [
      "C:\\Users\\vitor.braz\\AppData\\Roaming\\Python\\Python312\\site-packages\\shapely\\measurement.py:72: RuntimeWarning: invalid value encountered in distance\n",
      "  return lib.distance(a, b, **kwargs)\n",
      "C:\\Users\\vitor.braz\\AppData\\Roaming\\Python\\Python312\\site-packages\\shapely\\measurement.py:72: RuntimeWarning: invalid value encountered in distance\n",
      "  return lib.distance(a, b, **kwargs)\n",
      "C:\\Users\\vitor.braz\\AppData\\Roaming\\Python\\Python312\\site-packages\\shapely\\measurement.py:72: RuntimeWarning: invalid value encountered in distance\n",
      "  return lib.distance(a, b, **kwargs)\n",
      "C:\\Users\\vitor.braz\\AppData\\Roaming\\Python\\Python312\\site-packages\\shapely\\measurement.py:72: RuntimeWarning: invalid value encountered in distance\n",
      "  return lib.distance(a, b, **kwargs)\n",
      "C:\\Users\\vitor.braz\\AppData\\Roaming\\Python\\Python312\\site-packages\\shapely\\measurement.py:72: RuntimeWarning: invalid value encountered in distance\n",
      "  return lib.distance(a, b, **kwargs)\n"
     ]
    },
    {
     "name": "stdout",
     "output_type": "stream",
     "text": [
      "[INFO] Tentando sem tipo de via: 'CABO ROMEU CASA GRANDE'\n"
     ]
    },
    {
     "name": "stderr",
     "output_type": "stream",
     "text": [
      "C:\\Users\\vitor.braz\\AppData\\Roaming\\Python\\Python312\\site-packages\\shapely\\measurement.py:72: RuntimeWarning: invalid value encountered in distance\n",
      "  return lib.distance(a, b, **kwargs)\n",
      "C:\\Users\\vitor.braz\\AppData\\Roaming\\Python\\Python312\\site-packages\\shapely\\measurement.py:72: RuntimeWarning: invalid value encountered in distance\n",
      "  return lib.distance(a, b, **kwargs)\n",
      "C:\\Users\\vitor.braz\\AppData\\Roaming\\Python\\Python312\\site-packages\\shapely\\measurement.py:72: RuntimeWarning: invalid value encountered in distance\n",
      "  return lib.distance(a, b, **kwargs)\n"
     ]
    },
    {
     "name": "stdout",
     "output_type": "stream",
     "text": [
      "[INFO] Tentando sem tipo de via: 'ANTONIO ESTEVAM DE CARVALHO'\n"
     ]
    },
    {
     "name": "stderr",
     "output_type": "stream",
     "text": [
      "C:\\Users\\vitor.braz\\AppData\\Roaming\\Python\\Python312\\site-packages\\shapely\\measurement.py:72: RuntimeWarning: invalid value encountered in distance\n",
      "  return lib.distance(a, b, **kwargs)\n",
      "C:\\Users\\vitor.braz\\AppData\\Roaming\\Python\\Python312\\site-packages\\shapely\\measurement.py:72: RuntimeWarning: invalid value encountered in distance\n",
      "  return lib.distance(a, b, **kwargs)\n"
     ]
    },
    {
     "name": "stdout",
     "output_type": "stream",
     "text": [
      "[INFO] Tentando sem tipo de via: 'RADIAL LESTE CENTRO'\n"
     ]
    },
    {
     "name": "stderr",
     "output_type": "stream",
     "text": [
      "C:\\Users\\vitor.braz\\AppData\\Roaming\\Python\\Python312\\site-packages\\shapely\\measurement.py:72: RuntimeWarning: invalid value encountered in distance\n",
      "  return lib.distance(a, b, **kwargs)\n",
      "C:\\Users\\vitor.braz\\AppData\\Roaming\\Python\\Python312\\site-packages\\shapely\\measurement.py:72: RuntimeWarning: invalid value encountered in distance\n",
      "  return lib.distance(a, b, **kwargs)\n",
      "C:\\Users\\vitor.braz\\AppData\\Roaming\\Python\\Python312\\site-packages\\shapely\\measurement.py:72: RuntimeWarning: invalid value encountered in distance\n",
      "  return lib.distance(a, b, **kwargs)\n",
      "C:\\Users\\vitor.braz\\AppData\\Roaming\\Python\\Python312\\site-packages\\shapely\\measurement.py:72: RuntimeWarning: invalid value encountered in distance\n",
      "  return lib.distance(a, b, **kwargs)\n",
      "C:\\Users\\vitor.braz\\AppData\\Roaming\\Python\\Python312\\site-packages\\shapely\\measurement.py:72: RuntimeWarning: invalid value encountered in distance\n",
      "  return lib.distance(a, b, **kwargs)\n",
      "C:\\Users\\vitor.braz\\AppData\\Roaming\\Python\\Python312\\site-packages\\shapely\\measurement.py:72: RuntimeWarning: invalid value encountered in distance\n",
      "  return lib.distance(a, b, **kwargs)\n",
      "C:\\Users\\vitor.braz\\AppData\\Roaming\\Python\\Python312\\site-packages\\shapely\\measurement.py:72: RuntimeWarning: invalid value encountered in distance\n",
      "  return lib.distance(a, b, **kwargs)\n",
      "C:\\Users\\vitor.braz\\AppData\\Roaming\\Python\\Python312\\site-packages\\shapely\\measurement.py:72: RuntimeWarning: invalid value encountered in distance\n",
      "  return lib.distance(a, b, **kwargs)\n",
      "C:\\Users\\vitor.braz\\AppData\\Roaming\\Python\\Python312\\site-packages\\shapely\\measurement.py:72: RuntimeWarning: invalid value encountered in distance\n",
      "  return lib.distance(a, b, **kwargs)\n",
      "C:\\Users\\vitor.braz\\AppData\\Roaming\\Python\\Python312\\site-packages\\shapely\\measurement.py:72: RuntimeWarning: invalid value encountered in distance\n",
      "  return lib.distance(a, b, **kwargs)\n",
      "C:\\Users\\vitor.braz\\AppData\\Roaming\\Python\\Python312\\site-packages\\shapely\\measurement.py:72: RuntimeWarning: invalid value encountered in distance\n",
      "  return lib.distance(a, b, **kwargs)\n",
      "C:\\Users\\vitor.braz\\AppData\\Roaming\\Python\\Python312\\site-packages\\shapely\\measurement.py:72: RuntimeWarning: invalid value encountered in distance\n",
      "  return lib.distance(a, b, **kwargs)\n",
      "C:\\Users\\vitor.braz\\AppData\\Roaming\\Python\\Python312\\site-packages\\shapely\\measurement.py:72: RuntimeWarning: invalid value encountered in distance\n",
      "  return lib.distance(a, b, **kwargs)\n",
      "C:\\Users\\vitor.braz\\AppData\\Roaming\\Python\\Python312\\site-packages\\shapely\\measurement.py:72: RuntimeWarning: invalid value encountered in distance\n",
      "  return lib.distance(a, b, **kwargs)\n",
      "C:\\Users\\vitor.braz\\AppData\\Roaming\\Python\\Python312\\site-packages\\shapely\\measurement.py:72: RuntimeWarning: invalid value encountered in distance\n",
      "  return lib.distance(a, b, **kwargs)\n",
      "C:\\Users\\vitor.braz\\AppData\\Roaming\\Python\\Python312\\site-packages\\shapely\\measurement.py:72: RuntimeWarning: invalid value encountered in distance\n",
      "  return lib.distance(a, b, **kwargs)\n",
      "C:\\Users\\vitor.braz\\AppData\\Roaming\\Python\\Python312\\site-packages\\shapely\\measurement.py:72: RuntimeWarning: invalid value encountered in distance\n",
      "  return lib.distance(a, b, **kwargs)\n",
      "C:\\Users\\vitor.braz\\AppData\\Roaming\\Python\\Python312\\site-packages\\shapely\\measurement.py:72: RuntimeWarning: invalid value encountered in distance\n",
      "  return lib.distance(a, b, **kwargs)\n",
      "C:\\Users\\vitor.braz\\AppData\\Roaming\\Python\\Python312\\site-packages\\shapely\\measurement.py:72: RuntimeWarning: invalid value encountered in distance\n",
      "  return lib.distance(a, b, **kwargs)\n",
      "C:\\Users\\vitor.braz\\AppData\\Roaming\\Python\\Python312\\site-packages\\shapely\\measurement.py:72: RuntimeWarning: invalid value encountered in distance\n",
      "  return lib.distance(a, b, **kwargs)\n",
      "C:\\Users\\vitor.braz\\AppData\\Roaming\\Python\\Python312\\site-packages\\shapely\\measurement.py:72: RuntimeWarning: invalid value encountered in distance\n",
      "  return lib.distance(a, b, **kwargs)\n",
      "C:\\Users\\vitor.braz\\AppData\\Roaming\\Python\\Python312\\site-packages\\shapely\\measurement.py:72: RuntimeWarning: invalid value encountered in distance\n",
      "  return lib.distance(a, b, **kwargs)\n",
      "C:\\Users\\vitor.braz\\AppData\\Roaming\\Python\\Python312\\site-packages\\shapely\\measurement.py:72: RuntimeWarning: invalid value encountered in distance\n",
      "  return lib.distance(a, b, **kwargs)\n",
      "C:\\Users\\vitor.braz\\AppData\\Roaming\\Python\\Python312\\site-packages\\shapely\\measurement.py:72: RuntimeWarning: invalid value encountered in distance\n",
      "  return lib.distance(a, b, **kwargs)\n"
     ]
    },
    {
     "name": "stdout",
     "output_type": "stream",
     "text": [
      "[INFO] Tentando sem tipo de via: 'CANAL DE COCAIA'\n"
     ]
    },
    {
     "name": "stderr",
     "output_type": "stream",
     "text": [
      "C:\\Users\\vitor.braz\\AppData\\Roaming\\Python\\Python312\\site-packages\\shapely\\measurement.py:72: RuntimeWarning: invalid value encountered in distance\n",
      "  return lib.distance(a, b, **kwargs)\n",
      "C:\\Users\\vitor.braz\\AppData\\Roaming\\Python\\Python312\\site-packages\\shapely\\measurement.py:72: RuntimeWarning: invalid value encountered in distance\n",
      "  return lib.distance(a, b, **kwargs)\n",
      "C:\\Users\\vitor.braz\\AppData\\Roaming\\Python\\Python312\\site-packages\\shapely\\measurement.py:72: RuntimeWarning: invalid value encountered in distance\n",
      "  return lib.distance(a, b, **kwargs)\n",
      "C:\\Users\\vitor.braz\\AppData\\Roaming\\Python\\Python312\\site-packages\\shapely\\measurement.py:72: RuntimeWarning: invalid value encountered in distance\n",
      "  return lib.distance(a, b, **kwargs)\n",
      "C:\\Users\\vitor.braz\\AppData\\Roaming\\Python\\Python312\\site-packages\\shapely\\measurement.py:72: RuntimeWarning: invalid value encountered in distance\n",
      "  return lib.distance(a, b, **kwargs)\n",
      "C:\\Users\\vitor.braz\\AppData\\Roaming\\Python\\Python312\\site-packages\\shapely\\measurement.py:72: RuntimeWarning: invalid value encountered in distance\n",
      "  return lib.distance(a, b, **kwargs)\n",
      "C:\\Users\\vitor.braz\\AppData\\Roaming\\Python\\Python312\\site-packages\\shapely\\measurement.py:72: RuntimeWarning: invalid value encountered in distance\n",
      "  return lib.distance(a, b, **kwargs)\n",
      "C:\\Users\\vitor.braz\\AppData\\Roaming\\Python\\Python312\\site-packages\\shapely\\measurement.py:72: RuntimeWarning: invalid value encountered in distance\n",
      "  return lib.distance(a, b, **kwargs)\n"
     ]
    },
    {
     "name": "stdout",
     "output_type": "stream",
     "text": [
      "[INFO] Tentando sem tipo de via: 'DO GLICERIO'\n"
     ]
    },
    {
     "name": "stderr",
     "output_type": "stream",
     "text": [
      "C:\\Users\\vitor.braz\\AppData\\Roaming\\Python\\Python312\\site-packages\\shapely\\measurement.py:72: RuntimeWarning: invalid value encountered in distance\n",
      "  return lib.distance(a, b, **kwargs)\n",
      "C:\\Users\\vitor.braz\\AppData\\Roaming\\Python\\Python312\\site-packages\\shapely\\measurement.py:72: RuntimeWarning: invalid value encountered in distance\n",
      "  return lib.distance(a, b, **kwargs)\n",
      "C:\\Users\\vitor.braz\\AppData\\Roaming\\Python\\Python312\\site-packages\\shapely\\measurement.py:72: RuntimeWarning: invalid value encountered in distance\n",
      "  return lib.distance(a, b, **kwargs)\n",
      "C:\\Users\\vitor.braz\\AppData\\Roaming\\Python\\Python312\\site-packages\\shapely\\measurement.py:72: RuntimeWarning: invalid value encountered in distance\n",
      "  return lib.distance(a, b, **kwargs)\n",
      "C:\\Users\\vitor.braz\\AppData\\Roaming\\Python\\Python312\\site-packages\\shapely\\measurement.py:72: RuntimeWarning: invalid value encountered in distance\n",
      "  return lib.distance(a, b, **kwargs)\n",
      "C:\\Users\\vitor.braz\\AppData\\Roaming\\Python\\Python312\\site-packages\\shapely\\measurement.py:72: RuntimeWarning: invalid value encountered in distance\n",
      "  return lib.distance(a, b, **kwargs)\n",
      "C:\\Users\\vitor.braz\\AppData\\Roaming\\Python\\Python312\\site-packages\\shapely\\measurement.py:72: RuntimeWarning: invalid value encountered in distance\n",
      "  return lib.distance(a, b, **kwargs)\n",
      "C:\\Users\\vitor.braz\\AppData\\Roaming\\Python\\Python312\\site-packages\\shapely\\measurement.py:72: RuntimeWarning: invalid value encountered in distance\n",
      "  return lib.distance(a, b, **kwargs)\n",
      "C:\\Users\\vitor.braz\\AppData\\Roaming\\Python\\Python312\\site-packages\\shapely\\measurement.py:72: RuntimeWarning: invalid value encountered in distance\n",
      "  return lib.distance(a, b, **kwargs)\n",
      "C:\\Users\\vitor.braz\\AppData\\Roaming\\Python\\Python312\\site-packages\\shapely\\measurement.py:72: RuntimeWarning: invalid value encountered in distance\n",
      "  return lib.distance(a, b, **kwargs)\n",
      "C:\\Users\\vitor.braz\\AppData\\Roaming\\Python\\Python312\\site-packages\\shapely\\measurement.py:72: RuntimeWarning: invalid value encountered in distance\n",
      "  return lib.distance(a, b, **kwargs)\n",
      "C:\\Users\\vitor.braz\\AppData\\Roaming\\Python\\Python312\\site-packages\\shapely\\measurement.py:72: RuntimeWarning: invalid value encountered in distance\n",
      "  return lib.distance(a, b, **kwargs)\n",
      "C:\\Users\\vitor.braz\\AppData\\Roaming\\Python\\Python312\\site-packages\\shapely\\measurement.py:72: RuntimeWarning: invalid value encountered in distance\n",
      "  return lib.distance(a, b, **kwargs)\n",
      "C:\\Users\\vitor.braz\\AppData\\Roaming\\Python\\Python312\\site-packages\\shapely\\measurement.py:72: RuntimeWarning: invalid value encountered in distance\n",
      "  return lib.distance(a, b, **kwargs)\n",
      "C:\\Users\\vitor.braz\\AppData\\Roaming\\Python\\Python312\\site-packages\\shapely\\measurement.py:72: RuntimeWarning: invalid value encountered in distance\n",
      "  return lib.distance(a, b, **kwargs)\n",
      "C:\\Users\\vitor.braz\\AppData\\Roaming\\Python\\Python312\\site-packages\\shapely\\measurement.py:72: RuntimeWarning: invalid value encountered in distance\n",
      "  return lib.distance(a, b, **kwargs)\n",
      "C:\\Users\\vitor.braz\\AppData\\Roaming\\Python\\Python312\\site-packages\\shapely\\measurement.py:72: RuntimeWarning: invalid value encountered in distance\n",
      "  return lib.distance(a, b, **kwargs)\n",
      "C:\\Users\\vitor.braz\\AppData\\Roaming\\Python\\Python312\\site-packages\\shapely\\measurement.py:72: RuntimeWarning: invalid value encountered in distance\n",
      "  return lib.distance(a, b, **kwargs)\n",
      "C:\\Users\\vitor.braz\\AppData\\Roaming\\Python\\Python312\\site-packages\\shapely\\measurement.py:72: RuntimeWarning: invalid value encountered in distance\n",
      "  return lib.distance(a, b, **kwargs)\n",
      "C:\\Users\\vitor.braz\\AppData\\Roaming\\Python\\Python312\\site-packages\\shapely\\measurement.py:72: RuntimeWarning: invalid value encountered in distance\n",
      "  return lib.distance(a, b, **kwargs)\n",
      "C:\\Users\\vitor.braz\\AppData\\Roaming\\Python\\Python312\\site-packages\\shapely\\measurement.py:72: RuntimeWarning: invalid value encountered in distance\n",
      "  return lib.distance(a, b, **kwargs)\n",
      "C:\\Users\\vitor.braz\\AppData\\Roaming\\Python\\Python312\\site-packages\\shapely\\measurement.py:72: RuntimeWarning: invalid value encountered in distance\n",
      "  return lib.distance(a, b, **kwargs)\n",
      "C:\\Users\\vitor.braz\\AppData\\Roaming\\Python\\Python312\\site-packages\\shapely\\measurement.py:72: RuntimeWarning: invalid value encountered in distance\n",
      "  return lib.distance(a, b, **kwargs)\n",
      "C:\\Users\\vitor.braz\\AppData\\Roaming\\Python\\Python312\\site-packages\\shapely\\measurement.py:72: RuntimeWarning: invalid value encountered in distance\n",
      "  return lib.distance(a, b, **kwargs)\n",
      "C:\\Users\\vitor.braz\\AppData\\Roaming\\Python\\Python312\\site-packages\\shapely\\measurement.py:72: RuntimeWarning: invalid value encountered in distance\n",
      "  return lib.distance(a, b, **kwargs)\n",
      "C:\\Users\\vitor.braz\\AppData\\Roaming\\Python\\Python312\\site-packages\\shapely\\measurement.py:72: RuntimeWarning: invalid value encountered in distance\n",
      "  return lib.distance(a, b, **kwargs)\n",
      "C:\\Users\\vitor.braz\\AppData\\Roaming\\Python\\Python312\\site-packages\\shapely\\measurement.py:72: RuntimeWarning: invalid value encountered in distance\n",
      "  return lib.distance(a, b, **kwargs)\n",
      "C:\\Users\\vitor.braz\\AppData\\Roaming\\Python\\Python312\\site-packages\\shapely\\measurement.py:72: RuntimeWarning: invalid value encountered in distance\n",
      "  return lib.distance(a, b, **kwargs)\n",
      "C:\\Users\\vitor.braz\\AppData\\Roaming\\Python\\Python312\\site-packages\\shapely\\measurement.py:72: RuntimeWarning: invalid value encountered in distance\n",
      "  return lib.distance(a, b, **kwargs)\n",
      "C:\\Users\\vitor.braz\\AppData\\Roaming\\Python\\Python312\\site-packages\\shapely\\measurement.py:72: RuntimeWarning: invalid value encountered in distance\n",
      "  return lib.distance(a, b, **kwargs)\n",
      "C:\\Users\\vitor.braz\\AppData\\Roaming\\Python\\Python312\\site-packages\\shapely\\measurement.py:72: RuntimeWarning: invalid value encountered in distance\n",
      "  return lib.distance(a, b, **kwargs)\n",
      "C:\\Users\\vitor.braz\\AppData\\Roaming\\Python\\Python312\\site-packages\\shapely\\measurement.py:72: RuntimeWarning: invalid value encountered in distance\n",
      "  return lib.distance(a, b, **kwargs)\n"
     ]
    },
    {
     "name": "stdout",
     "output_type": "stream",
     "text": [
      "[INFO] Tentando sem tipo de via: 'MIGUEL ESTEFANO'\n"
     ]
    },
    {
     "name": "stderr",
     "output_type": "stream",
     "text": [
      "C:\\Users\\vitor.braz\\AppData\\Roaming\\Python\\Python312\\site-packages\\shapely\\measurement.py:72: RuntimeWarning: invalid value encountered in distance\n",
      "  return lib.distance(a, b, **kwargs)\n",
      "C:\\Users\\vitor.braz\\AppData\\Roaming\\Python\\Python312\\site-packages\\shapely\\measurement.py:72: RuntimeWarning: invalid value encountered in distance\n",
      "  return lib.distance(a, b, **kwargs)\n",
      "C:\\Users\\vitor.braz\\AppData\\Roaming\\Python\\Python312\\site-packages\\shapely\\measurement.py:72: RuntimeWarning: invalid value encountered in distance\n",
      "  return lib.distance(a, b, **kwargs)\n",
      "C:\\Users\\vitor.braz\\AppData\\Roaming\\Python\\Python312\\site-packages\\shapely\\measurement.py:72: RuntimeWarning: invalid value encountered in distance\n",
      "  return lib.distance(a, b, **kwargs)\n",
      "C:\\Users\\vitor.braz\\AppData\\Roaming\\Python\\Python312\\site-packages\\shapely\\measurement.py:72: RuntimeWarning: invalid value encountered in distance\n",
      "  return lib.distance(a, b, **kwargs)\n",
      "C:\\Users\\vitor.braz\\AppData\\Roaming\\Python\\Python312\\site-packages\\shapely\\measurement.py:72: RuntimeWarning: invalid value encountered in distance\n",
      "  return lib.distance(a, b, **kwargs)\n",
      "C:\\Users\\vitor.braz\\AppData\\Roaming\\Python\\Python312\\site-packages\\shapely\\measurement.py:72: RuntimeWarning: invalid value encountered in distance\n",
      "  return lib.distance(a, b, **kwargs)\n",
      "C:\\Users\\vitor.braz\\AppData\\Roaming\\Python\\Python312\\site-packages\\shapely\\measurement.py:72: RuntimeWarning: invalid value encountered in distance\n",
      "  return lib.distance(a, b, **kwargs)\n",
      "C:\\Users\\vitor.braz\\AppData\\Roaming\\Python\\Python312\\site-packages\\shapely\\measurement.py:72: RuntimeWarning: invalid value encountered in distance\n",
      "  return lib.distance(a, b, **kwargs)\n",
      "C:\\Users\\vitor.braz\\AppData\\Roaming\\Python\\Python312\\site-packages\\shapely\\measurement.py:72: RuntimeWarning: invalid value encountered in distance\n",
      "  return lib.distance(a, b, **kwargs)\n",
      "C:\\Users\\vitor.braz\\AppData\\Roaming\\Python\\Python312\\site-packages\\shapely\\measurement.py:72: RuntimeWarning: invalid value encountered in distance\n",
      "  return lib.distance(a, b, **kwargs)\n",
      "C:\\Users\\vitor.braz\\AppData\\Roaming\\Python\\Python312\\site-packages\\shapely\\measurement.py:72: RuntimeWarning: invalid value encountered in distance\n",
      "  return lib.distance(a, b, **kwargs)\n",
      "C:\\Users\\vitor.braz\\AppData\\Roaming\\Python\\Python312\\site-packages\\shapely\\measurement.py:72: RuntimeWarning: invalid value encountered in distance\n",
      "  return lib.distance(a, b, **kwargs)\n",
      "C:\\Users\\vitor.braz\\AppData\\Roaming\\Python\\Python312\\site-packages\\shapely\\measurement.py:72: RuntimeWarning: invalid value encountered in distance\n",
      "  return lib.distance(a, b, **kwargs)\n",
      "C:\\Users\\vitor.braz\\AppData\\Roaming\\Python\\Python312\\site-packages\\shapely\\measurement.py:72: RuntimeWarning: invalid value encountered in distance\n",
      "  return lib.distance(a, b, **kwargs)\n",
      "C:\\Users\\vitor.braz\\AppData\\Roaming\\Python\\Python312\\site-packages\\shapely\\measurement.py:72: RuntimeWarning: invalid value encountered in distance\n",
      "  return lib.distance(a, b, **kwargs)\n",
      "C:\\Users\\vitor.braz\\AppData\\Roaming\\Python\\Python312\\site-packages\\shapely\\measurement.py:72: RuntimeWarning: invalid value encountered in distance\n",
      "  return lib.distance(a, b, **kwargs)\n"
     ]
    },
    {
     "name": "stdout",
     "output_type": "stream",
     "text": [
      "[INFO] Tentando sem tipo de via: 'DO M'BOI MIRIM'\n"
     ]
    },
    {
     "name": "stderr",
     "output_type": "stream",
     "text": [
      "C:\\Users\\vitor.braz\\AppData\\Roaming\\Python\\Python312\\site-packages\\shapely\\measurement.py:72: RuntimeWarning: invalid value encountered in distance\n",
      "  return lib.distance(a, b, **kwargs)\n",
      "C:\\Users\\vitor.braz\\AppData\\Roaming\\Python\\Python312\\site-packages\\shapely\\measurement.py:72: RuntimeWarning: invalid value encountered in distance\n",
      "  return lib.distance(a, b, **kwargs)\n",
      "C:\\Users\\vitor.braz\\AppData\\Roaming\\Python\\Python312\\site-packages\\shapely\\measurement.py:72: RuntimeWarning: invalid value encountered in distance\n",
      "  return lib.distance(a, b, **kwargs)\n",
      "C:\\Users\\vitor.braz\\AppData\\Roaming\\Python\\Python312\\site-packages\\shapely\\measurement.py:72: RuntimeWarning: invalid value encountered in distance\n",
      "  return lib.distance(a, b, **kwargs)\n",
      "C:\\Users\\vitor.braz\\AppData\\Roaming\\Python\\Python312\\site-packages\\shapely\\measurement.py:72: RuntimeWarning: invalid value encountered in distance\n",
      "  return lib.distance(a, b, **kwargs)\n",
      "C:\\Users\\vitor.braz\\AppData\\Roaming\\Python\\Python312\\site-packages\\shapely\\measurement.py:72: RuntimeWarning: invalid value encountered in distance\n",
      "  return lib.distance(a, b, **kwargs)\n",
      "C:\\Users\\vitor.braz\\AppData\\Roaming\\Python\\Python312\\site-packages\\shapely\\measurement.py:72: RuntimeWarning: invalid value encountered in distance\n",
      "  return lib.distance(a, b, **kwargs)\n",
      "C:\\Users\\vitor.braz\\AppData\\Roaming\\Python\\Python312\\site-packages\\shapely\\measurement.py:72: RuntimeWarning: invalid value encountered in distance\n",
      "  return lib.distance(a, b, **kwargs)\n",
      "C:\\Users\\vitor.braz\\AppData\\Roaming\\Python\\Python312\\site-packages\\shapely\\measurement.py:72: RuntimeWarning: invalid value encountered in distance\n",
      "  return lib.distance(a, b, **kwargs)\n",
      "C:\\Users\\vitor.braz\\AppData\\Roaming\\Python\\Python312\\site-packages\\shapely\\measurement.py:72: RuntimeWarning: invalid value encountered in distance\n",
      "  return lib.distance(a, b, **kwargs)\n",
      "C:\\Users\\vitor.braz\\AppData\\Roaming\\Python\\Python312\\site-packages\\shapely\\measurement.py:72: RuntimeWarning: invalid value encountered in distance\n",
      "  return lib.distance(a, b, **kwargs)\n",
      "C:\\Users\\vitor.braz\\AppData\\Roaming\\Python\\Python312\\site-packages\\shapely\\measurement.py:72: RuntimeWarning: invalid value encountered in distance\n",
      "  return lib.distance(a, b, **kwargs)\n",
      "C:\\Users\\vitor.braz\\AppData\\Roaming\\Python\\Python312\\site-packages\\shapely\\measurement.py:72: RuntimeWarning: invalid value encountered in distance\n",
      "  return lib.distance(a, b, **kwargs)\n",
      "C:\\Users\\vitor.braz\\AppData\\Roaming\\Python\\Python312\\site-packages\\shapely\\measurement.py:72: RuntimeWarning: invalid value encountered in distance\n",
      "  return lib.distance(a, b, **kwargs)\n",
      "C:\\Users\\vitor.braz\\AppData\\Roaming\\Python\\Python312\\site-packages\\shapely\\measurement.py:72: RuntimeWarning: invalid value encountered in distance\n",
      "  return lib.distance(a, b, **kwargs)\n",
      "C:\\Users\\vitor.braz\\AppData\\Roaming\\Python\\Python312\\site-packages\\shapely\\measurement.py:72: RuntimeWarning: invalid value encountered in distance\n",
      "  return lib.distance(a, b, **kwargs)\n",
      "C:\\Users\\vitor.braz\\AppData\\Roaming\\Python\\Python312\\site-packages\\shapely\\measurement.py:72: RuntimeWarning: invalid value encountered in distance\n",
      "  return lib.distance(a, b, **kwargs)\n",
      "C:\\Users\\vitor.braz\\AppData\\Roaming\\Python\\Python312\\site-packages\\shapely\\measurement.py:72: RuntimeWarning: invalid value encountered in distance\n",
      "  return lib.distance(a, b, **kwargs)\n",
      "C:\\Users\\vitor.braz\\AppData\\Roaming\\Python\\Python312\\site-packages\\shapely\\measurement.py:72: RuntimeWarning: invalid value encountered in distance\n",
      "  return lib.distance(a, b, **kwargs)\n",
      "C:\\Users\\vitor.braz\\AppData\\Roaming\\Python\\Python312\\site-packages\\shapely\\measurement.py:72: RuntimeWarning: invalid value encountered in distance\n",
      "  return lib.distance(a, b, **kwargs)\n",
      "C:\\Users\\vitor.braz\\AppData\\Roaming\\Python\\Python312\\site-packages\\shapely\\measurement.py:72: RuntimeWarning: invalid value encountered in distance\n",
      "  return lib.distance(a, b, **kwargs)\n"
     ]
    },
    {
     "name": "stdout",
     "output_type": "stream",
     "text": [
      "[INFO] Tentando sem tipo de via: 'JOAO PAULO PRIMEIRO'\n",
      "[INFO] Tentando sem tipo de via: 'EDUCADOR PAULO FREIRE'\n",
      "[INFO] Tentando sem tipo de via: 'DA PASSAGEM FUNDA'\n"
     ]
    },
    {
     "name": "stderr",
     "output_type": "stream",
     "text": [
      "C:\\Users\\vitor.braz\\AppData\\Roaming\\Python\\Python312\\site-packages\\shapely\\measurement.py:72: RuntimeWarning: invalid value encountered in distance\n",
      "  return lib.distance(a, b, **kwargs)\n",
      "C:\\Users\\vitor.braz\\AppData\\Roaming\\Python\\Python312\\site-packages\\shapely\\measurement.py:72: RuntimeWarning: invalid value encountered in distance\n",
      "  return lib.distance(a, b, **kwargs)\n"
     ]
    },
    {
     "name": "stdout",
     "output_type": "stream",
     "text": [
      "[INFO] Tentando sem tipo de via: 'GRANDE SAO PAULO VILA PRUDENTE'\n"
     ]
    },
    {
     "name": "stderr",
     "output_type": "stream",
     "text": [
      "C:\\Users\\vitor.braz\\AppData\\Roaming\\Python\\Python312\\site-packages\\shapely\\measurement.py:72: RuntimeWarning: invalid value encountered in distance\n",
      "  return lib.distance(a, b, **kwargs)\n",
      "C:\\Users\\vitor.braz\\AppData\\Roaming\\Python\\Python312\\site-packages\\shapely\\measurement.py:72: RuntimeWarning: invalid value encountered in distance\n",
      "  return lib.distance(a, b, **kwargs)\n",
      "C:\\Users\\vitor.braz\\AppData\\Roaming\\Python\\Python312\\site-packages\\shapely\\measurement.py:72: RuntimeWarning: invalid value encountered in distance\n",
      "  return lib.distance(a, b, **kwargs)\n",
      "C:\\Users\\vitor.braz\\AppData\\Roaming\\Python\\Python312\\site-packages\\shapely\\measurement.py:72: RuntimeWarning: invalid value encountered in distance\n",
      "  return lib.distance(a, b, **kwargs)\n"
     ]
    },
    {
     "name": "stdout",
     "output_type": "stream",
     "text": [
      "[INFO] Tentando sem tipo de via: 'DO M'BOI MIRIM'\n"
     ]
    },
    {
     "name": "stderr",
     "output_type": "stream",
     "text": [
      "C:\\Users\\vitor.braz\\AppData\\Roaming\\Python\\Python312\\site-packages\\shapely\\measurement.py:72: RuntimeWarning: invalid value encountered in distance\n",
      "  return lib.distance(a, b, **kwargs)\n",
      "C:\\Users\\vitor.braz\\AppData\\Roaming\\Python\\Python312\\site-packages\\shapely\\measurement.py:72: RuntimeWarning: invalid value encountered in distance\n",
      "  return lib.distance(a, b, **kwargs)\n",
      "C:\\Users\\vitor.braz\\AppData\\Roaming\\Python\\Python312\\site-packages\\shapely\\measurement.py:72: RuntimeWarning: invalid value encountered in distance\n",
      "  return lib.distance(a, b, **kwargs)\n",
      "C:\\Users\\vitor.braz\\AppData\\Roaming\\Python\\Python312\\site-packages\\shapely\\measurement.py:72: RuntimeWarning: invalid value encountered in distance\n",
      "  return lib.distance(a, b, **kwargs)\n",
      "C:\\Users\\vitor.braz\\AppData\\Roaming\\Python\\Python312\\site-packages\\shapely\\measurement.py:72: RuntimeWarning: invalid value encountered in distance\n",
      "  return lib.distance(a, b, **kwargs)\n"
     ]
    },
    {
     "name": "stdout",
     "output_type": "stream",
     "text": [
      "[INFO] Tentando sem tipo de via: 'RADIAL LESTE CENTRO'\n"
     ]
    },
    {
     "name": "stderr",
     "output_type": "stream",
     "text": [
      "C:\\Users\\vitor.braz\\AppData\\Roaming\\Python\\Python312\\site-packages\\shapely\\measurement.py:72: RuntimeWarning: invalid value encountered in distance\n",
      "  return lib.distance(a, b, **kwargs)\n",
      "C:\\Users\\vitor.braz\\AppData\\Roaming\\Python\\Python312\\site-packages\\shapely\\measurement.py:72: RuntimeWarning: invalid value encountered in distance\n",
      "  return lib.distance(a, b, **kwargs)\n",
      "C:\\Users\\vitor.braz\\AppData\\Roaming\\Python\\Python312\\site-packages\\shapely\\measurement.py:72: RuntimeWarning: invalid value encountered in distance\n",
      "  return lib.distance(a, b, **kwargs)\n",
      "C:\\Users\\vitor.braz\\AppData\\Roaming\\Python\\Python312\\site-packages\\shapely\\measurement.py:72: RuntimeWarning: invalid value encountered in distance\n",
      "  return lib.distance(a, b, **kwargs)\n",
      "C:\\Users\\vitor.braz\\AppData\\Roaming\\Python\\Python312\\site-packages\\shapely\\measurement.py:72: RuntimeWarning: invalid value encountered in distance\n",
      "  return lib.distance(a, b, **kwargs)\n",
      "C:\\Users\\vitor.braz\\AppData\\Roaming\\Python\\Python312\\site-packages\\shapely\\measurement.py:72: RuntimeWarning: invalid value encountered in distance\n",
      "  return lib.distance(a, b, **kwargs)\n",
      "C:\\Users\\vitor.braz\\AppData\\Roaming\\Python\\Python312\\site-packages\\shapely\\measurement.py:72: RuntimeWarning: invalid value encountered in distance\n",
      "  return lib.distance(a, b, **kwargs)\n",
      "C:\\Users\\vitor.braz\\AppData\\Roaming\\Python\\Python312\\site-packages\\shapely\\measurement.py:72: RuntimeWarning: invalid value encountered in distance\n",
      "  return lib.distance(a, b, **kwargs)\n",
      "C:\\Users\\vitor.braz\\AppData\\Roaming\\Python\\Python312\\site-packages\\shapely\\measurement.py:72: RuntimeWarning: invalid value encountered in distance\n",
      "  return lib.distance(a, b, **kwargs)\n"
     ]
    },
    {
     "name": "stdout",
     "output_type": "stream",
     "text": [
      "[INFO] Tentando sem tipo de via: 'PARA MARGINAL TIETE CENTRAL'\n"
     ]
    },
    {
     "name": "stderr",
     "output_type": "stream",
     "text": [
      "C:\\Users\\vitor.braz\\AppData\\Roaming\\Python\\Python312\\site-packages\\shapely\\measurement.py:72: RuntimeWarning: invalid value encountered in distance\n",
      "  return lib.distance(a, b, **kwargs)\n",
      "C:\\Users\\vitor.braz\\AppData\\Roaming\\Python\\Python312\\site-packages\\shapely\\measurement.py:72: RuntimeWarning: invalid value encountered in distance\n",
      "  return lib.distance(a, b, **kwargs)\n",
      "C:\\Users\\vitor.braz\\AppData\\Roaming\\Python\\Python312\\site-packages\\shapely\\measurement.py:72: RuntimeWarning: invalid value encountered in distance\n",
      "  return lib.distance(a, b, **kwargs)\n",
      "C:\\Users\\vitor.braz\\AppData\\Roaming\\Python\\Python312\\site-packages\\shapely\\measurement.py:72: RuntimeWarning: invalid value encountered in distance\n",
      "  return lib.distance(a, b, **kwargs)\n",
      "C:\\Users\\vitor.braz\\AppData\\Roaming\\Python\\Python312\\site-packages\\shapely\\measurement.py:72: RuntimeWarning: invalid value encountered in distance\n",
      "  return lib.distance(a, b, **kwargs)\n"
     ]
    },
    {
     "name": "stdout",
     "output_type": "stream",
     "text": [
      "[INFO] Tentando sem tipo de via: 'DO M'BOI MIRIM'\n"
     ]
    },
    {
     "name": "stderr",
     "output_type": "stream",
     "text": [
      "C:\\Users\\vitor.braz\\AppData\\Roaming\\Python\\Python312\\site-packages\\shapely\\measurement.py:72: RuntimeWarning: invalid value encountered in distance\n",
      "  return lib.distance(a, b, **kwargs)\n",
      "C:\\Users\\vitor.braz\\AppData\\Roaming\\Python\\Python312\\site-packages\\shapely\\measurement.py:72: RuntimeWarning: invalid value encountered in distance\n",
      "  return lib.distance(a, b, **kwargs)\n",
      "C:\\Users\\vitor.braz\\AppData\\Roaming\\Python\\Python312\\site-packages\\shapely\\measurement.py:72: RuntimeWarning: invalid value encountered in distance\n",
      "  return lib.distance(a, b, **kwargs)\n",
      "C:\\Users\\vitor.braz\\AppData\\Roaming\\Python\\Python312\\site-packages\\shapely\\measurement.py:72: RuntimeWarning: invalid value encountered in distance\n",
      "  return lib.distance(a, b, **kwargs)\n",
      "C:\\Users\\vitor.braz\\AppData\\Roaming\\Python\\Python312\\site-packages\\shapely\\measurement.py:72: RuntimeWarning: invalid value encountered in distance\n",
      "  return lib.distance(a, b, **kwargs)\n",
      "C:\\Users\\vitor.braz\\AppData\\Roaming\\Python\\Python312\\site-packages\\shapely\\measurement.py:72: RuntimeWarning: invalid value encountered in distance\n",
      "  return lib.distance(a, b, **kwargs)\n",
      "C:\\Users\\vitor.braz\\AppData\\Roaming\\Python\\Python312\\site-packages\\shapely\\measurement.py:72: RuntimeWarning: invalid value encountered in distance\n",
      "  return lib.distance(a, b, **kwargs)\n",
      "C:\\Users\\vitor.braz\\AppData\\Roaming\\Python\\Python312\\site-packages\\shapely\\measurement.py:72: RuntimeWarning: invalid value encountered in distance\n",
      "  return lib.distance(a, b, **kwargs)\n"
     ]
    },
    {
     "name": "stdout",
     "output_type": "stream",
     "text": [
      "[INFO] Tentando sem tipo de via: 'RAPOSO TAVARES'\n"
     ]
    },
    {
     "name": "stderr",
     "output_type": "stream",
     "text": [
      "C:\\Users\\vitor.braz\\AppData\\Roaming\\Python\\Python312\\site-packages\\shapely\\measurement.py:72: RuntimeWarning: invalid value encountered in distance\n",
      "  return lib.distance(a, b, **kwargs)\n",
      "C:\\Users\\vitor.braz\\AppData\\Roaming\\Python\\Python312\\site-packages\\shapely\\measurement.py:72: RuntimeWarning: invalid value encountered in distance\n",
      "  return lib.distance(a, b, **kwargs)\n",
      "C:\\Users\\vitor.braz\\AppData\\Roaming\\Python\\Python312\\site-packages\\shapely\\measurement.py:72: RuntimeWarning: invalid value encountered in distance\n",
      "  return lib.distance(a, b, **kwargs)\n",
      "C:\\Users\\vitor.braz\\AppData\\Roaming\\Python\\Python312\\site-packages\\shapely\\measurement.py:72: RuntimeWarning: invalid value encountered in distance\n",
      "  return lib.distance(a, b, **kwargs)\n",
      "C:\\Users\\vitor.braz\\AppData\\Roaming\\Python\\Python312\\site-packages\\shapely\\measurement.py:72: RuntimeWarning: invalid value encountered in distance\n",
      "  return lib.distance(a, b, **kwargs)\n",
      "C:\\Users\\vitor.braz\\AppData\\Roaming\\Python\\Python312\\site-packages\\shapely\\measurement.py:72: RuntimeWarning: invalid value encountered in distance\n",
      "  return lib.distance(a, b, **kwargs)\n",
      "C:\\Users\\vitor.braz\\AppData\\Roaming\\Python\\Python312\\site-packages\\shapely\\measurement.py:72: RuntimeWarning: invalid value encountered in distance\n",
      "  return lib.distance(a, b, **kwargs)\n",
      "C:\\Users\\vitor.braz\\AppData\\Roaming\\Python\\Python312\\site-packages\\shapely\\measurement.py:72: RuntimeWarning: invalid value encountered in distance\n",
      "  return lib.distance(a, b, **kwargs)\n",
      "C:\\Users\\vitor.braz\\AppData\\Roaming\\Python\\Python312\\site-packages\\shapely\\measurement.py:72: RuntimeWarning: invalid value encountered in distance\n",
      "  return lib.distance(a, b, **kwargs)\n"
     ]
    },
    {
     "name": "stdout",
     "output_type": "stream",
     "text": [
      "[INFO] Tentando sem tipo de via: 'PARA MARGINAL TIETE CENTRAL'\n"
     ]
    },
    {
     "name": "stderr",
     "output_type": "stream",
     "text": [
      "C:\\Users\\vitor.braz\\AppData\\Roaming\\Python\\Python312\\site-packages\\shapely\\measurement.py:72: RuntimeWarning: invalid value encountered in distance\n",
      "  return lib.distance(a, b, **kwargs)\n",
      "C:\\Users\\vitor.braz\\AppData\\Roaming\\Python\\Python312\\site-packages\\shapely\\measurement.py:72: RuntimeWarning: invalid value encountered in distance\n",
      "  return lib.distance(a, b, **kwargs)\n",
      "C:\\Users\\vitor.braz\\AppData\\Roaming\\Python\\Python312\\site-packages\\shapely\\measurement.py:72: RuntimeWarning: invalid value encountered in distance\n",
      "  return lib.distance(a, b, **kwargs)\n",
      "C:\\Users\\vitor.braz\\AppData\\Roaming\\Python\\Python312\\site-packages\\shapely\\measurement.py:72: RuntimeWarning: invalid value encountered in distance\n",
      "  return lib.distance(a, b, **kwargs)\n",
      "C:\\Users\\vitor.braz\\AppData\\Roaming\\Python\\Python312\\site-packages\\shapely\\measurement.py:72: RuntimeWarning: invalid value encountered in distance\n",
      "  return lib.distance(a, b, **kwargs)\n",
      "C:\\Users\\vitor.braz\\AppData\\Roaming\\Python\\Python312\\site-packages\\shapely\\measurement.py:72: RuntimeWarning: invalid value encountered in distance\n",
      "  return lib.distance(a, b, **kwargs)\n",
      "C:\\Users\\vitor.braz\\AppData\\Roaming\\Python\\Python312\\site-packages\\shapely\\measurement.py:72: RuntimeWarning: invalid value encountered in distance\n",
      "  return lib.distance(a, b, **kwargs)\n"
     ]
    },
    {
     "name": "stdout",
     "output_type": "stream",
     "text": [
      "[INFO] Tentando sem tipo de via: 'PROFESSOR JOSE HORACIO MEIRELLES TEIXEIRA'\n"
     ]
    },
    {
     "name": "stderr",
     "output_type": "stream",
     "text": [
      "C:\\Users\\vitor.braz\\AppData\\Roaming\\Python\\Python312\\site-packages\\shapely\\measurement.py:72: RuntimeWarning: invalid value encountered in distance\n",
      "  return lib.distance(a, b, **kwargs)\n"
     ]
    },
    {
     "name": "stdout",
     "output_type": "stream",
     "text": [
      "[INFO] Tentando sem tipo de via: 'COMENDADOR SANTANNA'\n"
     ]
    },
    {
     "name": "stderr",
     "output_type": "stream",
     "text": [
      "C:\\Users\\vitor.braz\\AppData\\Roaming\\Python\\Python312\\site-packages\\shapely\\measurement.py:72: RuntimeWarning: invalid value encountered in distance\n",
      "  return lib.distance(a, b, **kwargs)\n",
      "C:\\Users\\vitor.braz\\AppData\\Roaming\\Python\\Python312\\site-packages\\shapely\\measurement.py:72: RuntimeWarning: invalid value encountered in distance\n",
      "  return lib.distance(a, b, **kwargs)\n",
      "C:\\Users\\vitor.braz\\AppData\\Roaming\\Python\\Python312\\site-packages\\shapely\\measurement.py:72: RuntimeWarning: invalid value encountered in distance\n",
      "  return lib.distance(a, b, **kwargs)\n",
      "C:\\Users\\vitor.braz\\AppData\\Roaming\\Python\\Python312\\site-packages\\shapely\\measurement.py:72: RuntimeWarning: invalid value encountered in distance\n",
      "  return lib.distance(a, b, **kwargs)\n",
      "C:\\Users\\vitor.braz\\AppData\\Roaming\\Python\\Python312\\site-packages\\shapely\\measurement.py:72: RuntimeWarning: invalid value encountered in distance\n",
      "  return lib.distance(a, b, **kwargs)\n",
      "C:\\Users\\vitor.braz\\AppData\\Roaming\\Python\\Python312\\site-packages\\shapely\\measurement.py:72: RuntimeWarning: invalid value encountered in distance\n",
      "  return lib.distance(a, b, **kwargs)\n",
      "C:\\Users\\vitor.braz\\AppData\\Roaming\\Python\\Python312\\site-packages\\shapely\\measurement.py:72: RuntimeWarning: invalid value encountered in distance\n",
      "  return lib.distance(a, b, **kwargs)\n",
      "C:\\Users\\vitor.braz\\AppData\\Roaming\\Python\\Python312\\site-packages\\shapely\\measurement.py:72: RuntimeWarning: invalid value encountered in distance\n",
      "  return lib.distance(a, b, **kwargs)\n",
      "C:\\Users\\vitor.braz\\AppData\\Roaming\\Python\\Python312\\site-packages\\shapely\\measurement.py:72: RuntimeWarning: invalid value encountered in distance\n",
      "  return lib.distance(a, b, **kwargs)\n",
      "C:\\Users\\vitor.braz\\AppData\\Roaming\\Python\\Python312\\site-packages\\shapely\\measurement.py:72: RuntimeWarning: invalid value encountered in distance\n",
      "  return lib.distance(a, b, **kwargs)\n",
      "C:\\Users\\vitor.braz\\AppData\\Roaming\\Python\\Python312\\site-packages\\shapely\\measurement.py:72: RuntimeWarning: invalid value encountered in distance\n",
      "  return lib.distance(a, b, **kwargs)\n",
      "C:\\Users\\vitor.braz\\AppData\\Roaming\\Python\\Python312\\site-packages\\shapely\\measurement.py:72: RuntimeWarning: invalid value encountered in distance\n",
      "  return lib.distance(a, b, **kwargs)\n",
      "C:\\Users\\vitor.braz\\AppData\\Roaming\\Python\\Python312\\site-packages\\shapely\\measurement.py:72: RuntimeWarning: invalid value encountered in distance\n",
      "  return lib.distance(a, b, **kwargs)\n",
      "C:\\Users\\vitor.braz\\AppData\\Roaming\\Python\\Python312\\site-packages\\shapely\\measurement.py:72: RuntimeWarning: invalid value encountered in distance\n",
      "  return lib.distance(a, b, **kwargs)\n",
      "C:\\Users\\vitor.braz\\AppData\\Roaming\\Python\\Python312\\site-packages\\shapely\\measurement.py:72: RuntimeWarning: invalid value encountered in distance\n",
      "  return lib.distance(a, b, **kwargs)\n",
      "C:\\Users\\vitor.braz\\AppData\\Roaming\\Python\\Python312\\site-packages\\shapely\\measurement.py:72: RuntimeWarning: invalid value encountered in distance\n",
      "  return lib.distance(a, b, **kwargs)\n",
      "C:\\Users\\vitor.braz\\AppData\\Roaming\\Python\\Python312\\site-packages\\shapely\\measurement.py:72: RuntimeWarning: invalid value encountered in distance\n",
      "  return lib.distance(a, b, **kwargs)\n",
      "C:\\Users\\vitor.braz\\AppData\\Roaming\\Python\\Python312\\site-packages\\shapely\\measurement.py:72: RuntimeWarning: invalid value encountered in distance\n",
      "  return lib.distance(a, b, **kwargs)\n",
      "C:\\Users\\vitor.braz\\AppData\\Roaming\\Python\\Python312\\site-packages\\shapely\\measurement.py:72: RuntimeWarning: invalid value encountered in distance\n",
      "  return lib.distance(a, b, **kwargs)\n",
      "C:\\Users\\vitor.braz\\AppData\\Roaming\\Python\\Python312\\site-packages\\shapely\\measurement.py:72: RuntimeWarning: invalid value encountered in distance\n",
      "  return lib.distance(a, b, **kwargs)\n",
      "C:\\Users\\vitor.braz\\AppData\\Roaming\\Python\\Python312\\site-packages\\shapely\\measurement.py:72: RuntimeWarning: invalid value encountered in distance\n",
      "  return lib.distance(a, b, **kwargs)\n",
      "C:\\Users\\vitor.braz\\AppData\\Roaming\\Python\\Python312\\site-packages\\shapely\\measurement.py:72: RuntimeWarning: invalid value encountered in distance\n",
      "  return lib.distance(a, b, **kwargs)\n"
     ]
    },
    {
     "name": "stdout",
     "output_type": "stream",
     "text": [
      "[INFO] Tentando sem tipo de via: 'DO M'BOI MIRIM'\n"
     ]
    },
    {
     "name": "stderr",
     "output_type": "stream",
     "text": [
      "C:\\Users\\vitor.braz\\AppData\\Roaming\\Python\\Python312\\site-packages\\shapely\\measurement.py:72: RuntimeWarning: invalid value encountered in distance\n",
      "  return lib.distance(a, b, **kwargs)\n",
      "C:\\Users\\vitor.braz\\AppData\\Roaming\\Python\\Python312\\site-packages\\shapely\\measurement.py:72: RuntimeWarning: invalid value encountered in distance\n",
      "  return lib.distance(a, b, **kwargs)\n"
     ]
    },
    {
     "name": "stdout",
     "output_type": "stream",
     "text": [
      "[INFO] Tentando sem tipo de via: 'DO M'BOI MIRIM'\n"
     ]
    },
    {
     "name": "stderr",
     "output_type": "stream",
     "text": [
      "C:\\Users\\vitor.braz\\AppData\\Roaming\\Python\\Python312\\site-packages\\shapely\\measurement.py:72: RuntimeWarning: invalid value encountered in distance\n",
      "  return lib.distance(a, b, **kwargs)\n",
      "C:\\Users\\vitor.braz\\AppData\\Roaming\\Python\\Python312\\site-packages\\shapely\\measurement.py:72: RuntimeWarning: invalid value encountered in distance\n",
      "  return lib.distance(a, b, **kwargs)\n",
      "C:\\Users\\vitor.braz\\AppData\\Roaming\\Python\\Python312\\site-packages\\shapely\\measurement.py:72: RuntimeWarning: invalid value encountered in distance\n",
      "  return lib.distance(a, b, **kwargs)\n",
      "C:\\Users\\vitor.braz\\AppData\\Roaming\\Python\\Python312\\site-packages\\shapely\\measurement.py:72: RuntimeWarning: invalid value encountered in distance\n",
      "  return lib.distance(a, b, **kwargs)\n",
      "C:\\Users\\vitor.braz\\AppData\\Roaming\\Python\\Python312\\site-packages\\shapely\\measurement.py:72: RuntimeWarning: invalid value encountered in distance\n",
      "  return lib.distance(a, b, **kwargs)\n",
      "C:\\Users\\vitor.braz\\AppData\\Roaming\\Python\\Python312\\site-packages\\shapely\\measurement.py:72: RuntimeWarning: invalid value encountered in distance\n",
      "  return lib.distance(a, b, **kwargs)\n",
      "C:\\Users\\vitor.braz\\AppData\\Roaming\\Python\\Python312\\site-packages\\shapely\\measurement.py:72: RuntimeWarning: invalid value encountered in distance\n",
      "  return lib.distance(a, b, **kwargs)\n",
      "C:\\Users\\vitor.braz\\AppData\\Roaming\\Python\\Python312\\site-packages\\shapely\\measurement.py:72: RuntimeWarning: invalid value encountered in distance\n",
      "  return lib.distance(a, b, **kwargs)\n",
      "C:\\Users\\vitor.braz\\AppData\\Roaming\\Python\\Python312\\site-packages\\shapely\\measurement.py:72: RuntimeWarning: invalid value encountered in distance\n",
      "  return lib.distance(a, b, **kwargs)\n",
      "C:\\Users\\vitor.braz\\AppData\\Roaming\\Python\\Python312\\site-packages\\shapely\\measurement.py:72: RuntimeWarning: invalid value encountered in distance\n",
      "  return lib.distance(a, b, **kwargs)\n",
      "C:\\Users\\vitor.braz\\AppData\\Roaming\\Python\\Python312\\site-packages\\shapely\\measurement.py:72: RuntimeWarning: invalid value encountered in distance\n",
      "  return lib.distance(a, b, **kwargs)\n",
      "C:\\Users\\vitor.braz\\AppData\\Roaming\\Python\\Python312\\site-packages\\shapely\\measurement.py:72: RuntimeWarning: invalid value encountered in distance\n",
      "  return lib.distance(a, b, **kwargs)\n",
      "C:\\Users\\vitor.braz\\AppData\\Roaming\\Python\\Python312\\site-packages\\shapely\\measurement.py:72: RuntimeWarning: invalid value encountered in distance\n",
      "  return lib.distance(a, b, **kwargs)\n",
      "C:\\Users\\vitor.braz\\AppData\\Roaming\\Python\\Python312\\site-packages\\shapely\\measurement.py:72: RuntimeWarning: invalid value encountered in distance\n",
      "  return lib.distance(a, b, **kwargs)\n",
      "C:\\Users\\vitor.braz\\AppData\\Roaming\\Python\\Python312\\site-packages\\shapely\\measurement.py:72: RuntimeWarning: invalid value encountered in distance\n",
      "  return lib.distance(a, b, **kwargs)\n"
     ]
    },
    {
     "name": "stdout",
     "output_type": "stream",
     "text": [
      "[INFO] Tentando sem tipo de via: 'PAPIRODOEGITO'\n"
     ]
    },
    {
     "name": "stderr",
     "output_type": "stream",
     "text": [
      "C:\\Users\\vitor.braz\\AppData\\Roaming\\Python\\Python312\\site-packages\\shapely\\measurement.py:72: RuntimeWarning: invalid value encountered in distance\n",
      "  return lib.distance(a, b, **kwargs)\n",
      "C:\\Users\\vitor.braz\\AppData\\Roaming\\Python\\Python312\\site-packages\\shapely\\measurement.py:72: RuntimeWarning: invalid value encountered in distance\n",
      "  return lib.distance(a, b, **kwargs)\n",
      "C:\\Users\\vitor.braz\\AppData\\Roaming\\Python\\Python312\\site-packages\\shapely\\measurement.py:72: RuntimeWarning: invalid value encountered in distance\n",
      "  return lib.distance(a, b, **kwargs)\n",
      "C:\\Users\\vitor.braz\\AppData\\Roaming\\Python\\Python312\\site-packages\\shapely\\measurement.py:72: RuntimeWarning: invalid value encountered in distance\n",
      "  return lib.distance(a, b, **kwargs)\n"
     ]
    },
    {
     "name": "stdout",
     "output_type": "stream",
     "text": [
      "[INFO] Tentando sem tipo de via: 'DO M'BOI MIRIM'\n"
     ]
    },
    {
     "name": "stderr",
     "output_type": "stream",
     "text": [
      "C:\\Users\\vitor.braz\\AppData\\Roaming\\Python\\Python312\\site-packages\\shapely\\measurement.py:72: RuntimeWarning: invalid value encountered in distance\n",
      "  return lib.distance(a, b, **kwargs)\n",
      "C:\\Users\\vitor.braz\\AppData\\Roaming\\Python\\Python312\\site-packages\\shapely\\measurement.py:72: RuntimeWarning: invalid value encountered in distance\n",
      "  return lib.distance(a, b, **kwargs)\n",
      "C:\\Users\\vitor.braz\\AppData\\Roaming\\Python\\Python312\\site-packages\\shapely\\measurement.py:72: RuntimeWarning: invalid value encountered in distance\n",
      "  return lib.distance(a, b, **kwargs)\n",
      "C:\\Users\\vitor.braz\\AppData\\Roaming\\Python\\Python312\\site-packages\\shapely\\measurement.py:72: RuntimeWarning: invalid value encountered in distance\n",
      "  return lib.distance(a, b, **kwargs)\n"
     ]
    },
    {
     "name": "stdout",
     "output_type": "stream",
     "text": [
      "[INFO] Tentando sem tipo de via: 'DO M'BOI MIRIM'\n"
     ]
    },
    {
     "name": "stderr",
     "output_type": "stream",
     "text": [
      "C:\\Users\\vitor.braz\\AppData\\Roaming\\Python\\Python312\\site-packages\\shapely\\measurement.py:72: RuntimeWarning: invalid value encountered in distance\n",
      "  return lib.distance(a, b, **kwargs)\n",
      "C:\\Users\\vitor.braz\\AppData\\Roaming\\Python\\Python312\\site-packages\\shapely\\measurement.py:72: RuntimeWarning: invalid value encountered in distance\n",
      "  return lib.distance(a, b, **kwargs)\n",
      "C:\\Users\\vitor.braz\\AppData\\Roaming\\Python\\Python312\\site-packages\\shapely\\measurement.py:72: RuntimeWarning: invalid value encountered in distance\n",
      "  return lib.distance(a, b, **kwargs)\n",
      "C:\\Users\\vitor.braz\\AppData\\Roaming\\Python\\Python312\\site-packages\\shapely\\measurement.py:72: RuntimeWarning: invalid value encountered in distance\n",
      "  return lib.distance(a, b, **kwargs)\n",
      "C:\\Users\\vitor.braz\\AppData\\Roaming\\Python\\Python312\\site-packages\\shapely\\measurement.py:72: RuntimeWarning: invalid value encountered in distance\n",
      "  return lib.distance(a, b, **kwargs)\n"
     ]
    },
    {
     "name": "stdout",
     "output_type": "stream",
     "text": [
      "[INFO] Tentando sem tipo de via: 'LEONOR FERNANDES COSTA ZACHARIAS'\n"
     ]
    },
    {
     "name": "stderr",
     "output_type": "stream",
     "text": [
      "C:\\Users\\vitor.braz\\AppData\\Roaming\\Python\\Python312\\site-packages\\shapely\\measurement.py:72: RuntimeWarning: invalid value encountered in distance\n",
      "  return lib.distance(a, b, **kwargs)\n"
     ]
    },
    {
     "name": "stdout",
     "output_type": "stream",
     "text": [
      "[INFO] Tentando sem tipo de via: 'AGRIMENSOR SUGAYA'\n"
     ]
    },
    {
     "name": "stderr",
     "output_type": "stream",
     "text": [
      "C:\\Users\\vitor.braz\\AppData\\Roaming\\Python\\Python312\\site-packages\\shapely\\measurement.py:72: RuntimeWarning: invalid value encountered in distance\n",
      "  return lib.distance(a, b, **kwargs)\n",
      "C:\\Users\\vitor.braz\\AppData\\Roaming\\Python\\Python312\\site-packages\\shapely\\measurement.py:72: RuntimeWarning: invalid value encountered in distance\n",
      "  return lib.distance(a, b, **kwargs)\n",
      "C:\\Users\\vitor.braz\\AppData\\Roaming\\Python\\Python312\\site-packages\\shapely\\measurement.py:72: RuntimeWarning: invalid value encountered in distance\n",
      "  return lib.distance(a, b, **kwargs)\n",
      "C:\\Users\\vitor.braz\\AppData\\Roaming\\Python\\Python312\\site-packages\\shapely\\measurement.py:72: RuntimeWarning: invalid value encountered in distance\n",
      "  return lib.distance(a, b, **kwargs)\n",
      "C:\\Users\\vitor.braz\\AppData\\Roaming\\Python\\Python312\\site-packages\\shapely\\measurement.py:72: RuntimeWarning: invalid value encountered in distance\n",
      "  return lib.distance(a, b, **kwargs)\n",
      "C:\\Users\\vitor.braz\\AppData\\Roaming\\Python\\Python312\\site-packages\\shapely\\measurement.py:72: RuntimeWarning: invalid value encountered in distance\n",
      "  return lib.distance(a, b, **kwargs)\n",
      "C:\\Users\\vitor.braz\\AppData\\Roaming\\Python\\Python312\\site-packages\\shapely\\measurement.py:72: RuntimeWarning: invalid value encountered in distance\n",
      "  return lib.distance(a, b, **kwargs)\n",
      "C:\\Users\\vitor.braz\\AppData\\Roaming\\Python\\Python312\\site-packages\\shapely\\measurement.py:72: RuntimeWarning: invalid value encountered in distance\n",
      "  return lib.distance(a, b, **kwargs)\n",
      "C:\\Users\\vitor.braz\\AppData\\Roaming\\Python\\Python312\\site-packages\\shapely\\measurement.py:72: RuntimeWarning: invalid value encountered in distance\n",
      "  return lib.distance(a, b, **kwargs)\n"
     ]
    },
    {
     "name": "stdout",
     "output_type": "stream",
     "text": [
      "[INFO] Tentando sem tipo de via: 'SADAMU INOUE'\n"
     ]
    },
    {
     "name": "stderr",
     "output_type": "stream",
     "text": [
      "C:\\Users\\vitor.braz\\AppData\\Roaming\\Python\\Python312\\site-packages\\shapely\\measurement.py:72: RuntimeWarning: invalid value encountered in distance\n",
      "  return lib.distance(a, b, **kwargs)\n",
      "C:\\Users\\vitor.braz\\AppData\\Roaming\\Python\\Python312\\site-packages\\shapely\\measurement.py:72: RuntimeWarning: invalid value encountered in distance\n",
      "  return lib.distance(a, b, **kwargs)\n",
      "C:\\Users\\vitor.braz\\AppData\\Roaming\\Python\\Python312\\site-packages\\shapely\\measurement.py:72: RuntimeWarning: invalid value encountered in distance\n",
      "  return lib.distance(a, b, **kwargs)\n",
      "C:\\Users\\vitor.braz\\AppData\\Roaming\\Python\\Python312\\site-packages\\shapely\\measurement.py:72: RuntimeWarning: invalid value encountered in distance\n",
      "  return lib.distance(a, b, **kwargs)\n",
      "C:\\Users\\vitor.braz\\AppData\\Roaming\\Python\\Python312\\site-packages\\shapely\\measurement.py:72: RuntimeWarning: invalid value encountered in distance\n",
      "  return lib.distance(a, b, **kwargs)\n",
      "C:\\Users\\vitor.braz\\AppData\\Roaming\\Python\\Python312\\site-packages\\shapely\\measurement.py:72: RuntimeWarning: invalid value encountered in distance\n",
      "  return lib.distance(a, b, **kwargs)\n",
      "C:\\Users\\vitor.braz\\AppData\\Roaming\\Python\\Python312\\site-packages\\shapely\\measurement.py:72: RuntimeWarning: invalid value encountered in distance\n",
      "  return lib.distance(a, b, **kwargs)\n",
      "C:\\Users\\vitor.braz\\AppData\\Roaming\\Python\\Python312\\site-packages\\shapely\\measurement.py:72: RuntimeWarning: invalid value encountered in distance\n",
      "  return lib.distance(a, b, **kwargs)\n",
      "C:\\Users\\vitor.braz\\AppData\\Roaming\\Python\\Python312\\site-packages\\shapely\\measurement.py:72: RuntimeWarning: invalid value encountered in distance\n",
      "  return lib.distance(a, b, **kwargs)\n",
      "C:\\Users\\vitor.braz\\AppData\\Roaming\\Python\\Python312\\site-packages\\shapely\\measurement.py:72: RuntimeWarning: invalid value encountered in distance\n",
      "  return lib.distance(a, b, **kwargs)\n",
      "C:\\Users\\vitor.braz\\AppData\\Roaming\\Python\\Python312\\site-packages\\shapely\\measurement.py:72: RuntimeWarning: invalid value encountered in distance\n",
      "  return lib.distance(a, b, **kwargs)\n",
      "C:\\Users\\vitor.braz\\AppData\\Roaming\\Python\\Python312\\site-packages\\shapely\\measurement.py:72: RuntimeWarning: invalid value encountered in distance\n",
      "  return lib.distance(a, b, **kwargs)\n",
      "C:\\Users\\vitor.braz\\AppData\\Roaming\\Python\\Python312\\site-packages\\shapely\\measurement.py:72: RuntimeWarning: invalid value encountered in distance\n",
      "  return lib.distance(a, b, **kwargs)\n",
      "C:\\Users\\vitor.braz\\AppData\\Roaming\\Python\\Python312\\site-packages\\shapely\\measurement.py:72: RuntimeWarning: invalid value encountered in distance\n",
      "  return lib.distance(a, b, **kwargs)\n"
     ]
    },
    {
     "name": "stdout",
     "output_type": "stream",
     "text": [
      "[INFO] Tentando sem tipo de via: 'PARA MARGINAL PINHEIROS EXPRESSA SENTIDO NO'\n"
     ]
    },
    {
     "name": "stderr",
     "output_type": "stream",
     "text": [
      "C:\\Users\\vitor.braz\\AppData\\Roaming\\Python\\Python312\\site-packages\\shapely\\measurement.py:72: RuntimeWarning: invalid value encountered in distance\n",
      "  return lib.distance(a, b, **kwargs)\n",
      "C:\\Users\\vitor.braz\\AppData\\Roaming\\Python\\Python312\\site-packages\\shapely\\measurement.py:72: RuntimeWarning: invalid value encountered in distance\n",
      "  return lib.distance(a, b, **kwargs)\n",
      "C:\\Users\\vitor.braz\\AppData\\Roaming\\Python\\Python312\\site-packages\\shapely\\measurement.py:72: RuntimeWarning: invalid value encountered in distance\n",
      "  return lib.distance(a, b, **kwargs)\n",
      "C:\\Users\\vitor.braz\\AppData\\Roaming\\Python\\Python312\\site-packages\\shapely\\measurement.py:72: RuntimeWarning: invalid value encountered in distance\n",
      "  return lib.distance(a, b, **kwargs)\n",
      "C:\\Users\\vitor.braz\\AppData\\Roaming\\Python\\Python312\\site-packages\\shapely\\measurement.py:72: RuntimeWarning: invalid value encountered in distance\n",
      "  return lib.distance(a, b, **kwargs)\n",
      "C:\\Users\\vitor.braz\\AppData\\Roaming\\Python\\Python312\\site-packages\\shapely\\measurement.py:72: RuntimeWarning: invalid value encountered in distance\n",
      "  return lib.distance(a, b, **kwargs)\n",
      "C:\\Users\\vitor.braz\\AppData\\Roaming\\Python\\Python312\\site-packages\\shapely\\measurement.py:72: RuntimeWarning: invalid value encountered in distance\n",
      "  return lib.distance(a, b, **kwargs)\n",
      "C:\\Users\\vitor.braz\\AppData\\Roaming\\Python\\Python312\\site-packages\\shapely\\measurement.py:72: RuntimeWarning: invalid value encountered in distance\n",
      "  return lib.distance(a, b, **kwargs)\n",
      "C:\\Users\\vitor.braz\\AppData\\Roaming\\Python\\Python312\\site-packages\\shapely\\measurement.py:72: RuntimeWarning: invalid value encountered in distance\n",
      "  return lib.distance(a, b, **kwargs)\n",
      "C:\\Users\\vitor.braz\\AppData\\Roaming\\Python\\Python312\\site-packages\\shapely\\measurement.py:72: RuntimeWarning: invalid value encountered in distance\n",
      "  return lib.distance(a, b, **kwargs)\n",
      "C:\\Users\\vitor.braz\\AppData\\Roaming\\Python\\Python312\\site-packages\\shapely\\measurement.py:72: RuntimeWarning: invalid value encountered in distance\n",
      "  return lib.distance(a, b, **kwargs)\n",
      "C:\\Users\\vitor.braz\\AppData\\Roaming\\Python\\Python312\\site-packages\\shapely\\measurement.py:72: RuntimeWarning: invalid value encountered in distance\n",
      "  return lib.distance(a, b, **kwargs)\n",
      "C:\\Users\\vitor.braz\\AppData\\Roaming\\Python\\Python312\\site-packages\\shapely\\measurement.py:72: RuntimeWarning: invalid value encountered in distance\n",
      "  return lib.distance(a, b, **kwargs)\n",
      "C:\\Users\\vitor.braz\\AppData\\Roaming\\Python\\Python312\\site-packages\\shapely\\measurement.py:72: RuntimeWarning: invalid value encountered in distance\n",
      "  return lib.distance(a, b, **kwargs)\n",
      "C:\\Users\\vitor.braz\\AppData\\Roaming\\Python\\Python312\\site-packages\\shapely\\measurement.py:72: RuntimeWarning: invalid value encountered in distance\n",
      "  return lib.distance(a, b, **kwargs)\n",
      "C:\\Users\\vitor.braz\\AppData\\Roaming\\Python\\Python312\\site-packages\\shapely\\measurement.py:72: RuntimeWarning: invalid value encountered in distance\n",
      "  return lib.distance(a, b, **kwargs)\n",
      "C:\\Users\\vitor.braz\\AppData\\Roaming\\Python\\Python312\\site-packages\\shapely\\measurement.py:72: RuntimeWarning: invalid value encountered in distance\n",
      "  return lib.distance(a, b, **kwargs)\n",
      "C:\\Users\\vitor.braz\\AppData\\Roaming\\Python\\Python312\\site-packages\\shapely\\measurement.py:72: RuntimeWarning: invalid value encountered in distance\n",
      "  return lib.distance(a, b, **kwargs)\n",
      "C:\\Users\\vitor.braz\\AppData\\Roaming\\Python\\Python312\\site-packages\\shapely\\measurement.py:72: RuntimeWarning: invalid value encountered in distance\n",
      "  return lib.distance(a, b, **kwargs)\n",
      "C:\\Users\\vitor.braz\\AppData\\Roaming\\Python\\Python312\\site-packages\\shapely\\measurement.py:72: RuntimeWarning: invalid value encountered in distance\n",
      "  return lib.distance(a, b, **kwargs)\n",
      "C:\\Users\\vitor.braz\\AppData\\Roaming\\Python\\Python312\\site-packages\\shapely\\measurement.py:72: RuntimeWarning: invalid value encountered in distance\n",
      "  return lib.distance(a, b, **kwargs)\n",
      "C:\\Users\\vitor.braz\\AppData\\Roaming\\Python\\Python312\\site-packages\\shapely\\measurement.py:72: RuntimeWarning: invalid value encountered in distance\n",
      "  return lib.distance(a, b, **kwargs)\n",
      "C:\\Users\\vitor.braz\\AppData\\Roaming\\Python\\Python312\\site-packages\\shapely\\measurement.py:72: RuntimeWarning: invalid value encountered in distance\n",
      "  return lib.distance(a, b, **kwargs)\n",
      "C:\\Users\\vitor.braz\\AppData\\Roaming\\Python\\Python312\\site-packages\\shapely\\measurement.py:72: RuntimeWarning: invalid value encountered in distance\n",
      "  return lib.distance(a, b, **kwargs)\n",
      "C:\\Users\\vitor.braz\\AppData\\Roaming\\Python\\Python312\\site-packages\\shapely\\measurement.py:72: RuntimeWarning: invalid value encountered in distance\n",
      "  return lib.distance(a, b, **kwargs)\n",
      "C:\\Users\\vitor.braz\\AppData\\Roaming\\Python\\Python312\\site-packages\\shapely\\measurement.py:72: RuntimeWarning: invalid value encountered in distance\n",
      "  return lib.distance(a, b, **kwargs)\n",
      "C:\\Users\\vitor.braz\\AppData\\Roaming\\Python\\Python312\\site-packages\\shapely\\measurement.py:72: RuntimeWarning: invalid value encountered in distance\n",
      "  return lib.distance(a, b, **kwargs)\n",
      "C:\\Users\\vitor.braz\\AppData\\Roaming\\Python\\Python312\\site-packages\\shapely\\measurement.py:72: RuntimeWarning: invalid value encountered in distance\n",
      "  return lib.distance(a, b, **kwargs)\n",
      "C:\\Users\\vitor.braz\\AppData\\Roaming\\Python\\Python312\\site-packages\\shapely\\measurement.py:72: RuntimeWarning: invalid value encountered in distance\n",
      "  return lib.distance(a, b, **kwargs)\n",
      "C:\\Users\\vitor.braz\\AppData\\Roaming\\Python\\Python312\\site-packages\\shapely\\measurement.py:72: RuntimeWarning: invalid value encountered in distance\n",
      "  return lib.distance(a, b, **kwargs)\n",
      "C:\\Users\\vitor.braz\\AppData\\Roaming\\Python\\Python312\\site-packages\\shapely\\measurement.py:72: RuntimeWarning: invalid value encountered in distance\n",
      "  return lib.distance(a, b, **kwargs)\n",
      "C:\\Users\\vitor.braz\\AppData\\Roaming\\Python\\Python312\\site-packages\\shapely\\measurement.py:72: RuntimeWarning: invalid value encountered in distance\n",
      "  return lib.distance(a, b, **kwargs)\n",
      "C:\\Users\\vitor.braz\\AppData\\Roaming\\Python\\Python312\\site-packages\\shapely\\measurement.py:72: RuntimeWarning: invalid value encountered in distance\n",
      "  return lib.distance(a, b, **kwargs)\n",
      "C:\\Users\\vitor.braz\\AppData\\Roaming\\Python\\Python312\\site-packages\\shapely\\measurement.py:72: RuntimeWarning: invalid value encountered in distance\n",
      "  return lib.distance(a, b, **kwargs)\n",
      "C:\\Users\\vitor.braz\\AppData\\Roaming\\Python\\Python312\\site-packages\\shapely\\measurement.py:72: RuntimeWarning: invalid value encountered in distance\n",
      "  return lib.distance(a, b, **kwargs)\n",
      "C:\\Users\\vitor.braz\\AppData\\Roaming\\Python\\Python312\\site-packages\\shapely\\measurement.py:72: RuntimeWarning: invalid value encountered in distance\n",
      "  return lib.distance(a, b, **kwargs)\n",
      "C:\\Users\\vitor.braz\\AppData\\Roaming\\Python\\Python312\\site-packages\\shapely\\measurement.py:72: RuntimeWarning: invalid value encountered in distance\n",
      "  return lib.distance(a, b, **kwargs)\n",
      "C:\\Users\\vitor.braz\\AppData\\Roaming\\Python\\Python312\\site-packages\\shapely\\measurement.py:72: RuntimeWarning: invalid value encountered in distance\n",
      "  return lib.distance(a, b, **kwargs)\n",
      "C:\\Users\\vitor.braz\\AppData\\Roaming\\Python\\Python312\\site-packages\\shapely\\measurement.py:72: RuntimeWarning: invalid value encountered in distance\n",
      "  return lib.distance(a, b, **kwargs)\n",
      "C:\\Users\\vitor.braz\\AppData\\Roaming\\Python\\Python312\\site-packages\\shapely\\measurement.py:72: RuntimeWarning: invalid value encountered in distance\n",
      "  return lib.distance(a, b, **kwargs)\n",
      "C:\\Users\\vitor.braz\\AppData\\Roaming\\Python\\Python312\\site-packages\\shapely\\measurement.py:72: RuntimeWarning: invalid value encountered in distance\n",
      "  return lib.distance(a, b, **kwargs)\n",
      "C:\\Users\\vitor.braz\\AppData\\Roaming\\Python\\Python312\\site-packages\\shapely\\measurement.py:72: RuntimeWarning: invalid value encountered in distance\n",
      "  return lib.distance(a, b, **kwargs)\n",
      "C:\\Users\\vitor.braz\\AppData\\Roaming\\Python\\Python312\\site-packages\\shapely\\measurement.py:72: RuntimeWarning: invalid value encountered in distance\n",
      "  return lib.distance(a, b, **kwargs)\n",
      "C:\\Users\\vitor.braz\\AppData\\Roaming\\Python\\Python312\\site-packages\\shapely\\measurement.py:72: RuntimeWarning: invalid value encountered in distance\n",
      "  return lib.distance(a, b, **kwargs)\n"
     ]
    },
    {
     "name": "stdout",
     "output_type": "stream",
     "text": [
      "[INFO] Tentando sem tipo de via: 'PADRE OLIVETANOS'\n"
     ]
    },
    {
     "name": "stderr",
     "output_type": "stream",
     "text": [
      "C:\\Users\\vitor.braz\\AppData\\Roaming\\Python\\Python312\\site-packages\\shapely\\measurement.py:72: RuntimeWarning: invalid value encountered in distance\n",
      "  return lib.distance(a, b, **kwargs)\n",
      "C:\\Users\\vitor.braz\\AppData\\Roaming\\Python\\Python312\\site-packages\\shapely\\measurement.py:72: RuntimeWarning: invalid value encountered in distance\n",
      "  return lib.distance(a, b, **kwargs)\n",
      "C:\\Users\\vitor.braz\\AppData\\Roaming\\Python\\Python312\\site-packages\\shapely\\measurement.py:72: RuntimeWarning: invalid value encountered in distance\n",
      "  return lib.distance(a, b, **kwargs)\n",
      "C:\\Users\\vitor.braz\\AppData\\Roaming\\Python\\Python312\\site-packages\\shapely\\measurement.py:72: RuntimeWarning: invalid value encountered in distance\n",
      "  return lib.distance(a, b, **kwargs)\n",
      "C:\\Users\\vitor.braz\\AppData\\Roaming\\Python\\Python312\\site-packages\\shapely\\measurement.py:72: RuntimeWarning: invalid value encountered in distance\n",
      "  return lib.distance(a, b, **kwargs)\n",
      "C:\\Users\\vitor.braz\\AppData\\Roaming\\Python\\Python312\\site-packages\\shapely\\measurement.py:72: RuntimeWarning: invalid value encountered in distance\n",
      "  return lib.distance(a, b, **kwargs)\n",
      "C:\\Users\\vitor.braz\\AppData\\Roaming\\Python\\Python312\\site-packages\\shapely\\measurement.py:72: RuntimeWarning: invalid value encountered in distance\n",
      "  return lib.distance(a, b, **kwargs)\n",
      "C:\\Users\\vitor.braz\\AppData\\Roaming\\Python\\Python312\\site-packages\\shapely\\measurement.py:72: RuntimeWarning: invalid value encountered in distance\n",
      "  return lib.distance(a, b, **kwargs)\n",
      "C:\\Users\\vitor.braz\\AppData\\Roaming\\Python\\Python312\\site-packages\\shapely\\measurement.py:72: RuntimeWarning: invalid value encountered in distance\n",
      "  return lib.distance(a, b, **kwargs)\n",
      "C:\\Users\\vitor.braz\\AppData\\Roaming\\Python\\Python312\\site-packages\\shapely\\measurement.py:72: RuntimeWarning: invalid value encountered in distance\n",
      "  return lib.distance(a, b, **kwargs)\n",
      "C:\\Users\\vitor.braz\\AppData\\Roaming\\Python\\Python312\\site-packages\\shapely\\measurement.py:72: RuntimeWarning: invalid value encountered in distance\n",
      "  return lib.distance(a, b, **kwargs)\n",
      "C:\\Users\\vitor.braz\\AppData\\Roaming\\Python\\Python312\\site-packages\\shapely\\measurement.py:72: RuntimeWarning: invalid value encountered in distance\n",
      "  return lib.distance(a, b, **kwargs)\n",
      "C:\\Users\\vitor.braz\\AppData\\Roaming\\Python\\Python312\\site-packages\\shapely\\measurement.py:72: RuntimeWarning: invalid value encountered in distance\n",
      "  return lib.distance(a, b, **kwargs)\n",
      "C:\\Users\\vitor.braz\\AppData\\Roaming\\Python\\Python312\\site-packages\\shapely\\measurement.py:72: RuntimeWarning: invalid value encountered in distance\n",
      "  return lib.distance(a, b, **kwargs)\n",
      "C:\\Users\\vitor.braz\\AppData\\Roaming\\Python\\Python312\\site-packages\\shapely\\measurement.py:72: RuntimeWarning: invalid value encountered in distance\n",
      "  return lib.distance(a, b, **kwargs)\n"
     ]
    },
    {
     "name": "stdout",
     "output_type": "stream",
     "text": [
      "[INFO] Tentando sem tipo de via: 'TRES J VIEIRA DE CARVALHO'\n"
     ]
    },
    {
     "name": "stderr",
     "output_type": "stream",
     "text": [
      "C:\\Users\\vitor.braz\\AppData\\Roaming\\Python\\Python312\\site-packages\\shapely\\measurement.py:72: RuntimeWarning: invalid value encountered in distance\n",
      "  return lib.distance(a, b, **kwargs)\n",
      "C:\\Users\\vitor.braz\\AppData\\Roaming\\Python\\Python312\\site-packages\\shapely\\measurement.py:72: RuntimeWarning: invalid value encountered in distance\n",
      "  return lib.distance(a, b, **kwargs)\n",
      "C:\\Users\\vitor.braz\\AppData\\Roaming\\Python\\Python312\\site-packages\\shapely\\measurement.py:72: RuntimeWarning: invalid value encountered in distance\n",
      "  return lib.distance(a, b, **kwargs)\n",
      "C:\\Users\\vitor.braz\\AppData\\Roaming\\Python\\Python312\\site-packages\\shapely\\measurement.py:72: RuntimeWarning: invalid value encountered in distance\n",
      "  return lib.distance(a, b, **kwargs)\n",
      "C:\\Users\\vitor.braz\\AppData\\Roaming\\Python\\Python312\\site-packages\\shapely\\measurement.py:72: RuntimeWarning: invalid value encountered in distance\n",
      "  return lib.distance(a, b, **kwargs)\n",
      "C:\\Users\\vitor.braz\\AppData\\Roaming\\Python\\Python312\\site-packages\\shapely\\measurement.py:72: RuntimeWarning: invalid value encountered in distance\n",
      "  return lib.distance(a, b, **kwargs)\n",
      "C:\\Users\\vitor.braz\\AppData\\Roaming\\Python\\Python312\\site-packages\\shapely\\measurement.py:72: RuntimeWarning: invalid value encountered in distance\n",
      "  return lib.distance(a, b, **kwargs)\n",
      "C:\\Users\\vitor.braz\\AppData\\Roaming\\Python\\Python312\\site-packages\\shapely\\measurement.py:72: RuntimeWarning: invalid value encountered in distance\n",
      "  return lib.distance(a, b, **kwargs)\n",
      "C:\\Users\\vitor.braz\\AppData\\Roaming\\Python\\Python312\\site-packages\\shapely\\measurement.py:72: RuntimeWarning: invalid value encountered in distance\n",
      "  return lib.distance(a, b, **kwargs)\n",
      "C:\\Users\\vitor.braz\\AppData\\Roaming\\Python\\Python312\\site-packages\\shapely\\measurement.py:72: RuntimeWarning: invalid value encountered in distance\n",
      "  return lib.distance(a, b, **kwargs)\n",
      "C:\\Users\\vitor.braz\\AppData\\Roaming\\Python\\Python312\\site-packages\\shapely\\measurement.py:72: RuntimeWarning: invalid value encountered in distance\n",
      "  return lib.distance(a, b, **kwargs)\n",
      "C:\\Users\\vitor.braz\\AppData\\Roaming\\Python\\Python312\\site-packages\\shapely\\measurement.py:72: RuntimeWarning: invalid value encountered in distance\n",
      "  return lib.distance(a, b, **kwargs)\n",
      "C:\\Users\\vitor.braz\\AppData\\Roaming\\Python\\Python312\\site-packages\\shapely\\measurement.py:72: RuntimeWarning: invalid value encountered in distance\n",
      "  return lib.distance(a, b, **kwargs)\n",
      "C:\\Users\\vitor.braz\\AppData\\Roaming\\Python\\Python312\\site-packages\\shapely\\measurement.py:72: RuntimeWarning: invalid value encountered in distance\n",
      "  return lib.distance(a, b, **kwargs)\n",
      "C:\\Users\\vitor.braz\\AppData\\Roaming\\Python\\Python312\\site-packages\\shapely\\measurement.py:72: RuntimeWarning: invalid value encountered in distance\n",
      "  return lib.distance(a, b, **kwargs)\n",
      "C:\\Users\\vitor.braz\\AppData\\Roaming\\Python\\Python312\\site-packages\\shapely\\measurement.py:72: RuntimeWarning: invalid value encountered in distance\n",
      "  return lib.distance(a, b, **kwargs)\n",
      "C:\\Users\\vitor.braz\\AppData\\Roaming\\Python\\Python312\\site-packages\\shapely\\measurement.py:72: RuntimeWarning: invalid value encountered in distance\n",
      "  return lib.distance(a, b, **kwargs)\n",
      "C:\\Users\\vitor.braz\\AppData\\Roaming\\Python\\Python312\\site-packages\\shapely\\measurement.py:72: RuntimeWarning: invalid value encountered in distance\n",
      "  return lib.distance(a, b, **kwargs)\n",
      "C:\\Users\\vitor.braz\\AppData\\Roaming\\Python\\Python312\\site-packages\\shapely\\measurement.py:72: RuntimeWarning: invalid value encountered in distance\n",
      "  return lib.distance(a, b, **kwargs)\n",
      "C:\\Users\\vitor.braz\\AppData\\Roaming\\Python\\Python312\\site-packages\\shapely\\measurement.py:72: RuntimeWarning: invalid value encountered in distance\n",
      "  return lib.distance(a, b, **kwargs)\n",
      "C:\\Users\\vitor.braz\\AppData\\Roaming\\Python\\Python312\\site-packages\\shapely\\measurement.py:72: RuntimeWarning: invalid value encountered in distance\n",
      "  return lib.distance(a, b, **kwargs)\n",
      "C:\\Users\\vitor.braz\\AppData\\Roaming\\Python\\Python312\\site-packages\\shapely\\measurement.py:72: RuntimeWarning: invalid value encountered in distance\n",
      "  return lib.distance(a, b, **kwargs)\n"
     ]
    },
    {
     "name": "stdout",
     "output_type": "stream",
     "text": [
      "[INFO] Tentando sem tipo de via: 'AVENIDA PROFESSOR LUIZ IGNACIO ANHAIA MELLO'\n"
     ]
    },
    {
     "name": "stderr",
     "output_type": "stream",
     "text": [
      "C:\\Users\\vitor.braz\\AppData\\Roaming\\Python\\Python312\\site-packages\\shapely\\measurement.py:72: RuntimeWarning: invalid value encountered in distance\n",
      "  return lib.distance(a, b, **kwargs)\n",
      "C:\\Users\\vitor.braz\\AppData\\Roaming\\Python\\Python312\\site-packages\\shapely\\measurement.py:72: RuntimeWarning: invalid value encountered in distance\n",
      "  return lib.distance(a, b, **kwargs)\n",
      "C:\\Users\\vitor.braz\\AppData\\Roaming\\Python\\Python312\\site-packages\\shapely\\measurement.py:72: RuntimeWarning: invalid value encountered in distance\n",
      "  return lib.distance(a, b, **kwargs)\n",
      "C:\\Users\\vitor.braz\\AppData\\Roaming\\Python\\Python312\\site-packages\\shapely\\measurement.py:72: RuntimeWarning: invalid value encountered in distance\n",
      "  return lib.distance(a, b, **kwargs)\n",
      "C:\\Users\\vitor.braz\\AppData\\Roaming\\Python\\Python312\\site-packages\\shapely\\measurement.py:72: RuntimeWarning: invalid value encountered in distance\n",
      "  return lib.distance(a, b, **kwargs)\n",
      "C:\\Users\\vitor.braz\\AppData\\Roaming\\Python\\Python312\\site-packages\\shapely\\measurement.py:72: RuntimeWarning: invalid value encountered in distance\n",
      "  return lib.distance(a, b, **kwargs)\n",
      "C:\\Users\\vitor.braz\\AppData\\Roaming\\Python\\Python312\\site-packages\\shapely\\measurement.py:72: RuntimeWarning: invalid value encountered in distance\n",
      "  return lib.distance(a, b, **kwargs)\n",
      "C:\\Users\\vitor.braz\\AppData\\Roaming\\Python\\Python312\\site-packages\\shapely\\measurement.py:72: RuntimeWarning: invalid value encountered in distance\n",
      "  return lib.distance(a, b, **kwargs)\n",
      "C:\\Users\\vitor.braz\\AppData\\Roaming\\Python\\Python312\\site-packages\\shapely\\measurement.py:72: RuntimeWarning: invalid value encountered in distance\n",
      "  return lib.distance(a, b, **kwargs)\n",
      "C:\\Users\\vitor.braz\\AppData\\Roaming\\Python\\Python312\\site-packages\\shapely\\measurement.py:72: RuntimeWarning: invalid value encountered in distance\n",
      "  return lib.distance(a, b, **kwargs)\n",
      "C:\\Users\\vitor.braz\\AppData\\Roaming\\Python\\Python312\\site-packages\\shapely\\measurement.py:72: RuntimeWarning: invalid value encountered in distance\n",
      "  return lib.distance(a, b, **kwargs)\n",
      "C:\\Users\\vitor.braz\\AppData\\Roaming\\Python\\Python312\\site-packages\\shapely\\measurement.py:72: RuntimeWarning: invalid value encountered in distance\n",
      "  return lib.distance(a, b, **kwargs)\n",
      "C:\\Users\\vitor.braz\\AppData\\Roaming\\Python\\Python312\\site-packages\\shapely\\measurement.py:72: RuntimeWarning: invalid value encountered in distance\n",
      "  return lib.distance(a, b, **kwargs)\n",
      "C:\\Users\\vitor.braz\\AppData\\Roaming\\Python\\Python312\\site-packages\\shapely\\measurement.py:72: RuntimeWarning: invalid value encountered in distance\n",
      "  return lib.distance(a, b, **kwargs)\n",
      "C:\\Users\\vitor.braz\\AppData\\Roaming\\Python\\Python312\\site-packages\\shapely\\measurement.py:72: RuntimeWarning: invalid value encountered in distance\n",
      "  return lib.distance(a, b, **kwargs)\n",
      "C:\\Users\\vitor.braz\\AppData\\Roaming\\Python\\Python312\\site-packages\\shapely\\measurement.py:72: RuntimeWarning: invalid value encountered in distance\n",
      "  return lib.distance(a, b, **kwargs)\n",
      "C:\\Users\\vitor.braz\\AppData\\Roaming\\Python\\Python312\\site-packages\\shapely\\measurement.py:72: RuntimeWarning: invalid value encountered in distance\n",
      "  return lib.distance(a, b, **kwargs)\n",
      "C:\\Users\\vitor.braz\\AppData\\Roaming\\Python\\Python312\\site-packages\\shapely\\measurement.py:72: RuntimeWarning: invalid value encountered in distance\n",
      "  return lib.distance(a, b, **kwargs)\n",
      "C:\\Users\\vitor.braz\\AppData\\Roaming\\Python\\Python312\\site-packages\\shapely\\measurement.py:72: RuntimeWarning: invalid value encountered in distance\n",
      "  return lib.distance(a, b, **kwargs)\n",
      "C:\\Users\\vitor.braz\\AppData\\Roaming\\Python\\Python312\\site-packages\\shapely\\measurement.py:72: RuntimeWarning: invalid value encountered in distance\n",
      "  return lib.distance(a, b, **kwargs)\n",
      "C:\\Users\\vitor.braz\\AppData\\Roaming\\Python\\Python312\\site-packages\\shapely\\measurement.py:72: RuntimeWarning: invalid value encountered in distance\n",
      "  return lib.distance(a, b, **kwargs)\n"
     ]
    },
    {
     "name": "stdout",
     "output_type": "stream",
     "text": [
      "[INFO] Tentando sem tipo de via: 'DO M'BOI MIRIM'\n"
     ]
    },
    {
     "name": "stderr",
     "output_type": "stream",
     "text": [
      "C:\\Users\\vitor.braz\\AppData\\Roaming\\Python\\Python312\\site-packages\\shapely\\measurement.py:72: RuntimeWarning: invalid value encountered in distance\n",
      "  return lib.distance(a, b, **kwargs)\n",
      "C:\\Users\\vitor.braz\\AppData\\Roaming\\Python\\Python312\\site-packages\\shapely\\measurement.py:72: RuntimeWarning: invalid value encountered in distance\n",
      "  return lib.distance(a, b, **kwargs)\n",
      "C:\\Users\\vitor.braz\\AppData\\Roaming\\Python\\Python312\\site-packages\\shapely\\measurement.py:72: RuntimeWarning: invalid value encountered in distance\n",
      "  return lib.distance(a, b, **kwargs)\n",
      "C:\\Users\\vitor.braz\\AppData\\Roaming\\Python\\Python312\\site-packages\\shapely\\measurement.py:72: RuntimeWarning: invalid value encountered in distance\n",
      "  return lib.distance(a, b, **kwargs)\n",
      "C:\\Users\\vitor.braz\\AppData\\Roaming\\Python\\Python312\\site-packages\\shapely\\measurement.py:72: RuntimeWarning: invalid value encountered in distance\n",
      "  return lib.distance(a, b, **kwargs)\n",
      "C:\\Users\\vitor.braz\\AppData\\Roaming\\Python\\Python312\\site-packages\\shapely\\measurement.py:72: RuntimeWarning: invalid value encountered in distance\n",
      "  return lib.distance(a, b, **kwargs)\n",
      "C:\\Users\\vitor.braz\\AppData\\Roaming\\Python\\Python312\\site-packages\\shapely\\measurement.py:72: RuntimeWarning: invalid value encountered in distance\n",
      "  return lib.distance(a, b, **kwargs)\n",
      "C:\\Users\\vitor.braz\\AppData\\Roaming\\Python\\Python312\\site-packages\\shapely\\measurement.py:72: RuntimeWarning: invalid value encountered in distance\n",
      "  return lib.distance(a, b, **kwargs)\n",
      "C:\\Users\\vitor.braz\\AppData\\Roaming\\Python\\Python312\\site-packages\\shapely\\measurement.py:72: RuntimeWarning: invalid value encountered in distance\n",
      "  return lib.distance(a, b, **kwargs)\n",
      "C:\\Users\\vitor.braz\\AppData\\Roaming\\Python\\Python312\\site-packages\\shapely\\measurement.py:72: RuntimeWarning: invalid value encountered in distance\n",
      "  return lib.distance(a, b, **kwargs)\n"
     ]
    },
    {
     "name": "stdout",
     "output_type": "stream",
     "text": [
      "[INFO] Tentando sem tipo de via: 'MARIO COVAS'\n"
     ]
    },
    {
     "name": "stderr",
     "output_type": "stream",
     "text": [
      "C:\\Users\\vitor.braz\\AppData\\Roaming\\Python\\Python312\\site-packages\\shapely\\measurement.py:72: RuntimeWarning: invalid value encountered in distance\n",
      "  return lib.distance(a, b, **kwargs)\n",
      "C:\\Users\\vitor.braz\\AppData\\Roaming\\Python\\Python312\\site-packages\\shapely\\measurement.py:72: RuntimeWarning: invalid value encountered in distance\n",
      "  return lib.distance(a, b, **kwargs)\n"
     ]
    },
    {
     "name": "stdout",
     "output_type": "stream",
     "text": [
      "[INFO] Tentando sem tipo de via: 'DO M'BOI MIRIM'\n"
     ]
    },
    {
     "name": "stderr",
     "output_type": "stream",
     "text": [
      "C:\\Users\\vitor.braz\\AppData\\Roaming\\Python\\Python312\\site-packages\\shapely\\measurement.py:72: RuntimeWarning: invalid value encountered in distance\n",
      "  return lib.distance(a, b, **kwargs)\n",
      "C:\\Users\\vitor.braz\\AppData\\Roaming\\Python\\Python312\\site-packages\\shapely\\measurement.py:72: RuntimeWarning: invalid value encountered in distance\n",
      "  return lib.distance(a, b, **kwargs)\n",
      "C:\\Users\\vitor.braz\\AppData\\Roaming\\Python\\Python312\\site-packages\\shapely\\measurement.py:72: RuntimeWarning: invalid value encountered in distance\n",
      "  return lib.distance(a, b, **kwargs)\n",
      "C:\\Users\\vitor.braz\\AppData\\Roaming\\Python\\Python312\\site-packages\\shapely\\measurement.py:72: RuntimeWarning: invalid value encountered in distance\n",
      "  return lib.distance(a, b, **kwargs)\n",
      "C:\\Users\\vitor.braz\\AppData\\Roaming\\Python\\Python312\\site-packages\\shapely\\measurement.py:72: RuntimeWarning: invalid value encountered in distance\n",
      "  return lib.distance(a, b, **kwargs)\n",
      "C:\\Users\\vitor.braz\\AppData\\Roaming\\Python\\Python312\\site-packages\\shapely\\measurement.py:72: RuntimeWarning: invalid value encountered in distance\n",
      "  return lib.distance(a, b, **kwargs)\n",
      "C:\\Users\\vitor.braz\\AppData\\Roaming\\Python\\Python312\\site-packages\\shapely\\measurement.py:72: RuntimeWarning: invalid value encountered in distance\n",
      "  return lib.distance(a, b, **kwargs)\n",
      "C:\\Users\\vitor.braz\\AppData\\Roaming\\Python\\Python312\\site-packages\\shapely\\measurement.py:72: RuntimeWarning: invalid value encountered in distance\n",
      "  return lib.distance(a, b, **kwargs)\n",
      "C:\\Users\\vitor.braz\\AppData\\Roaming\\Python\\Python312\\site-packages\\shapely\\measurement.py:72: RuntimeWarning: invalid value encountered in distance\n",
      "  return lib.distance(a, b, **kwargs)\n",
      "C:\\Users\\vitor.braz\\AppData\\Roaming\\Python\\Python312\\site-packages\\shapely\\measurement.py:72: RuntimeWarning: invalid value encountered in distance\n",
      "  return lib.distance(a, b, **kwargs)\n",
      "C:\\Users\\vitor.braz\\AppData\\Roaming\\Python\\Python312\\site-packages\\shapely\\measurement.py:72: RuntimeWarning: invalid value encountered in distance\n",
      "  return lib.distance(a, b, **kwargs)\n",
      "C:\\Users\\vitor.braz\\AppData\\Roaming\\Python\\Python312\\site-packages\\shapely\\measurement.py:72: RuntimeWarning: invalid value encountered in distance\n",
      "  return lib.distance(a, b, **kwargs)\n",
      "C:\\Users\\vitor.braz\\AppData\\Roaming\\Python\\Python312\\site-packages\\shapely\\measurement.py:72: RuntimeWarning: invalid value encountered in distance\n",
      "  return lib.distance(a, b, **kwargs)\n",
      "C:\\Users\\vitor.braz\\AppData\\Roaming\\Python\\Python312\\site-packages\\shapely\\measurement.py:72: RuntimeWarning: invalid value encountered in distance\n",
      "  return lib.distance(a, b, **kwargs)\n",
      "C:\\Users\\vitor.braz\\AppData\\Roaming\\Python\\Python312\\site-packages\\shapely\\measurement.py:72: RuntimeWarning: invalid value encountered in distance\n",
      "  return lib.distance(a, b, **kwargs)\n",
      "C:\\Users\\vitor.braz\\AppData\\Roaming\\Python\\Python312\\site-packages\\shapely\\measurement.py:72: RuntimeWarning: invalid value encountered in distance\n",
      "  return lib.distance(a, b, **kwargs)\n",
      "C:\\Users\\vitor.braz\\AppData\\Roaming\\Python\\Python312\\site-packages\\shapely\\measurement.py:72: RuntimeWarning: invalid value encountered in distance\n",
      "  return lib.distance(a, b, **kwargs)\n",
      "C:\\Users\\vitor.braz\\AppData\\Roaming\\Python\\Python312\\site-packages\\shapely\\measurement.py:72: RuntimeWarning: invalid value encountered in distance\n",
      "  return lib.distance(a, b, **kwargs)\n",
      "C:\\Users\\vitor.braz\\AppData\\Roaming\\Python\\Python312\\site-packages\\shapely\\measurement.py:72: RuntimeWarning: invalid value encountered in distance\n",
      "  return lib.distance(a, b, **kwargs)\n",
      "C:\\Users\\vitor.braz\\AppData\\Roaming\\Python\\Python312\\site-packages\\shapely\\measurement.py:72: RuntimeWarning: invalid value encountered in distance\n",
      "  return lib.distance(a, b, **kwargs)\n",
      "C:\\Users\\vitor.braz\\AppData\\Roaming\\Python\\Python312\\site-packages\\shapely\\measurement.py:72: RuntimeWarning: invalid value encountered in distance\n",
      "  return lib.distance(a, b, **kwargs)\n"
     ]
    },
    {
     "name": "stdout",
     "output_type": "stream",
     "text": [
      "[INFO] Tentando sem tipo de via: 'PARA MARGINAL TIETE CENTRAL'\n"
     ]
    },
    {
     "name": "stderr",
     "output_type": "stream",
     "text": [
      "C:\\Users\\vitor.braz\\AppData\\Roaming\\Python\\Python312\\site-packages\\shapely\\measurement.py:72: RuntimeWarning: invalid value encountered in distance\n",
      "  return lib.distance(a, b, **kwargs)\n",
      "C:\\Users\\vitor.braz\\AppData\\Roaming\\Python\\Python312\\site-packages\\shapely\\measurement.py:72: RuntimeWarning: invalid value encountered in distance\n",
      "  return lib.distance(a, b, **kwargs)\n",
      "C:\\Users\\vitor.braz\\AppData\\Roaming\\Python\\Python312\\site-packages\\shapely\\measurement.py:72: RuntimeWarning: invalid value encountered in distance\n",
      "  return lib.distance(a, b, **kwargs)\n",
      "C:\\Users\\vitor.braz\\AppData\\Roaming\\Python\\Python312\\site-packages\\shapely\\measurement.py:72: RuntimeWarning: invalid value encountered in distance\n",
      "  return lib.distance(a, b, **kwargs)\n",
      "C:\\Users\\vitor.braz\\AppData\\Roaming\\Python\\Python312\\site-packages\\shapely\\measurement.py:72: RuntimeWarning: invalid value encountered in distance\n",
      "  return lib.distance(a, b, **kwargs)\n",
      "C:\\Users\\vitor.braz\\AppData\\Roaming\\Python\\Python312\\site-packages\\shapely\\measurement.py:72: RuntimeWarning: invalid value encountered in distance\n",
      "  return lib.distance(a, b, **kwargs)\n",
      "C:\\Users\\vitor.braz\\AppData\\Roaming\\Python\\Python312\\site-packages\\shapely\\measurement.py:72: RuntimeWarning: invalid value encountered in distance\n",
      "  return lib.distance(a, b, **kwargs)\n"
     ]
    },
    {
     "name": "stdout",
     "output_type": "stream",
     "text": [
      "[INFO] Tentando sem tipo de via: 'DO M'BOI MIRIM'\n"
     ]
    },
    {
     "name": "stderr",
     "output_type": "stream",
     "text": [
      "C:\\Users\\vitor.braz\\AppData\\Roaming\\Python\\Python312\\site-packages\\shapely\\measurement.py:72: RuntimeWarning: invalid value encountered in distance\n",
      "  return lib.distance(a, b, **kwargs)\n",
      "C:\\Users\\vitor.braz\\AppData\\Roaming\\Python\\Python312\\site-packages\\shapely\\measurement.py:72: RuntimeWarning: invalid value encountered in distance\n",
      "  return lib.distance(a, b, **kwargs)\n",
      "C:\\Users\\vitor.braz\\AppData\\Roaming\\Python\\Python312\\site-packages\\shapely\\measurement.py:72: RuntimeWarning: invalid value encountered in distance\n",
      "  return lib.distance(a, b, **kwargs)\n",
      "C:\\Users\\vitor.braz\\AppData\\Roaming\\Python\\Python312\\site-packages\\shapely\\measurement.py:72: RuntimeWarning: invalid value encountered in distance\n",
      "  return lib.distance(a, b, **kwargs)\n",
      "C:\\Users\\vitor.braz\\AppData\\Roaming\\Python\\Python312\\site-packages\\shapely\\measurement.py:72: RuntimeWarning: invalid value encountered in distance\n",
      "  return lib.distance(a, b, **kwargs)\n",
      "C:\\Users\\vitor.braz\\AppData\\Roaming\\Python\\Python312\\site-packages\\shapely\\measurement.py:72: RuntimeWarning: invalid value encountered in distance\n",
      "  return lib.distance(a, b, **kwargs)\n",
      "C:\\Users\\vitor.braz\\AppData\\Roaming\\Python\\Python312\\site-packages\\shapely\\measurement.py:72: RuntimeWarning: invalid value encountered in distance\n",
      "  return lib.distance(a, b, **kwargs)\n",
      "C:\\Users\\vitor.braz\\AppData\\Roaming\\Python\\Python312\\site-packages\\shapely\\measurement.py:72: RuntimeWarning: invalid value encountered in distance\n",
      "  return lib.distance(a, b, **kwargs)\n",
      "C:\\Users\\vitor.braz\\AppData\\Roaming\\Python\\Python312\\site-packages\\shapely\\measurement.py:72: RuntimeWarning: invalid value encountered in distance\n",
      "  return lib.distance(a, b, **kwargs)\n",
      "C:\\Users\\vitor.braz\\AppData\\Roaming\\Python\\Python312\\site-packages\\shapely\\measurement.py:72: RuntimeWarning: invalid value encountered in distance\n",
      "  return lib.distance(a, b, **kwargs)\n",
      "C:\\Users\\vitor.braz\\AppData\\Roaming\\Python\\Python312\\site-packages\\shapely\\measurement.py:72: RuntimeWarning: invalid value encountered in distance\n",
      "  return lib.distance(a, b, **kwargs)\n",
      "C:\\Users\\vitor.braz\\AppData\\Roaming\\Python\\Python312\\site-packages\\shapely\\measurement.py:72: RuntimeWarning: invalid value encountered in distance\n",
      "  return lib.distance(a, b, **kwargs)\n",
      "C:\\Users\\vitor.braz\\AppData\\Roaming\\Python\\Python312\\site-packages\\shapely\\measurement.py:72: RuntimeWarning: invalid value encountered in distance\n",
      "  return lib.distance(a, b, **kwargs)\n",
      "C:\\Users\\vitor.braz\\AppData\\Roaming\\Python\\Python312\\site-packages\\shapely\\measurement.py:72: RuntimeWarning: invalid value encountered in distance\n",
      "  return lib.distance(a, b, **kwargs)\n",
      "C:\\Users\\vitor.braz\\AppData\\Roaming\\Python\\Python312\\site-packages\\shapely\\measurement.py:72: RuntimeWarning: invalid value encountered in distance\n",
      "  return lib.distance(a, b, **kwargs)\n"
     ]
    },
    {
     "name": "stdout",
     "output_type": "stream",
     "text": [
      "[INFO] Tentando sem tipo de via: 'BICA DA PEDRA'\n",
      "[INFO] Tentando sem tipo de via: 'MARIO COVAS'\n"
     ]
    },
    {
     "name": "stderr",
     "output_type": "stream",
     "text": [
      "C:\\Users\\vitor.braz\\AppData\\Roaming\\Python\\Python312\\site-packages\\shapely\\measurement.py:72: RuntimeWarning: invalid value encountered in distance\n",
      "  return lib.distance(a, b, **kwargs)\n",
      "C:\\Users\\vitor.braz\\AppData\\Roaming\\Python\\Python312\\site-packages\\shapely\\measurement.py:72: RuntimeWarning: invalid value encountered in distance\n",
      "  return lib.distance(a, b, **kwargs)\n",
      "C:\\Users\\vitor.braz\\AppData\\Roaming\\Python\\Python312\\site-packages\\shapely\\measurement.py:72: RuntimeWarning: invalid value encountered in distance\n",
      "  return lib.distance(a, b, **kwargs)\n",
      "C:\\Users\\vitor.braz\\AppData\\Roaming\\Python\\Python312\\site-packages\\shapely\\measurement.py:72: RuntimeWarning: invalid value encountered in distance\n",
      "  return lib.distance(a, b, **kwargs)\n",
      "C:\\Users\\vitor.braz\\AppData\\Roaming\\Python\\Python312\\site-packages\\shapely\\measurement.py:72: RuntimeWarning: invalid value encountered in distance\n",
      "  return lib.distance(a, b, **kwargs)\n"
     ]
    },
    {
     "name": "stdout",
     "output_type": "stream",
     "text": [
      "[INFO] Tentando sem tipo de via: 'NOSSA SENHORA DO SABARA'\n"
     ]
    },
    {
     "name": "stderr",
     "output_type": "stream",
     "text": [
      "C:\\Users\\vitor.braz\\AppData\\Roaming\\Python\\Python312\\site-packages\\shapely\\measurement.py:72: RuntimeWarning: invalid value encountered in distance\n",
      "  return lib.distance(a, b, **kwargs)\n",
      "C:\\Users\\vitor.braz\\AppData\\Roaming\\Python\\Python312\\site-packages\\shapely\\measurement.py:72: RuntimeWarning: invalid value encountered in distance\n",
      "  return lib.distance(a, b, **kwargs)\n",
      "C:\\Users\\vitor.braz\\AppData\\Roaming\\Python\\Python312\\site-packages\\shapely\\measurement.py:72: RuntimeWarning: invalid value encountered in distance\n",
      "  return lib.distance(a, b, **kwargs)\n",
      "C:\\Users\\vitor.braz\\AppData\\Roaming\\Python\\Python312\\site-packages\\shapely\\measurement.py:72: RuntimeWarning: invalid value encountered in distance\n",
      "  return lib.distance(a, b, **kwargs)\n",
      "C:\\Users\\vitor.braz\\AppData\\Roaming\\Python\\Python312\\site-packages\\shapely\\measurement.py:72: RuntimeWarning: invalid value encountered in distance\n",
      "  return lib.distance(a, b, **kwargs)\n",
      "C:\\Users\\vitor.braz\\AppData\\Roaming\\Python\\Python312\\site-packages\\shapely\\measurement.py:72: RuntimeWarning: invalid value encountered in distance\n",
      "  return lib.distance(a, b, **kwargs)\n",
      "C:\\Users\\vitor.braz\\AppData\\Roaming\\Python\\Python312\\site-packages\\shapely\\measurement.py:72: RuntimeWarning: invalid value encountered in distance\n",
      "  return lib.distance(a, b, **kwargs)\n",
      "C:\\Users\\vitor.braz\\AppData\\Roaming\\Python\\Python312\\site-packages\\shapely\\measurement.py:72: RuntimeWarning: invalid value encountered in distance\n",
      "  return lib.distance(a, b, **kwargs)\n",
      "C:\\Users\\vitor.braz\\AppData\\Roaming\\Python\\Python312\\site-packages\\shapely\\measurement.py:72: RuntimeWarning: invalid value encountered in distance\n",
      "  return lib.distance(a, b, **kwargs)\n",
      "C:\\Users\\vitor.braz\\AppData\\Roaming\\Python\\Python312\\site-packages\\shapely\\measurement.py:72: RuntimeWarning: invalid value encountered in distance\n",
      "  return lib.distance(a, b, **kwargs)\n",
      "C:\\Users\\vitor.braz\\AppData\\Roaming\\Python\\Python312\\site-packages\\shapely\\measurement.py:72: RuntimeWarning: invalid value encountered in distance\n",
      "  return lib.distance(a, b, **kwargs)\n",
      "C:\\Users\\vitor.braz\\AppData\\Roaming\\Python\\Python312\\site-packages\\shapely\\measurement.py:72: RuntimeWarning: invalid value encountered in distance\n",
      "  return lib.distance(a, b, **kwargs)\n"
     ]
    },
    {
     "name": "stdout",
     "output_type": "stream",
     "text": [
      "[INFO] Tentando sem tipo de via: 'CUPECE'\n"
     ]
    },
    {
     "name": "stderr",
     "output_type": "stream",
     "text": [
      "C:\\Users\\vitor.braz\\AppData\\Roaming\\Python\\Python312\\site-packages\\shapely\\measurement.py:72: RuntimeWarning: invalid value encountered in distance\n",
      "  return lib.distance(a, b, **kwargs)\n",
      "C:\\Users\\vitor.braz\\AppData\\Roaming\\Python\\Python312\\site-packages\\shapely\\measurement.py:72: RuntimeWarning: invalid value encountered in distance\n",
      "  return lib.distance(a, b, **kwargs)\n",
      "C:\\Users\\vitor.braz\\AppData\\Roaming\\Python\\Python312\\site-packages\\shapely\\measurement.py:72: RuntimeWarning: invalid value encountered in distance\n",
      "  return lib.distance(a, b, **kwargs)\n",
      "C:\\Users\\vitor.braz\\AppData\\Roaming\\Python\\Python312\\site-packages\\shapely\\measurement.py:72: RuntimeWarning: invalid value encountered in distance\n",
      "  return lib.distance(a, b, **kwargs)\n",
      "C:\\Users\\vitor.braz\\AppData\\Roaming\\Python\\Python312\\site-packages\\shapely\\measurement.py:72: RuntimeWarning: invalid value encountered in distance\n",
      "  return lib.distance(a, b, **kwargs)\n"
     ]
    },
    {
     "name": "stdout",
     "output_type": "stream",
     "text": [
      "[INFO] Tentando sem tipo de via: 'SADAMU INOUE'\n"
     ]
    },
    {
     "name": "stderr",
     "output_type": "stream",
     "text": [
      "C:\\Users\\vitor.braz\\AppData\\Roaming\\Python\\Python312\\site-packages\\shapely\\measurement.py:72: RuntimeWarning: invalid value encountered in distance\n",
      "  return lib.distance(a, b, **kwargs)\n",
      "C:\\Users\\vitor.braz\\AppData\\Roaming\\Python\\Python312\\site-packages\\shapely\\measurement.py:72: RuntimeWarning: invalid value encountered in distance\n",
      "  return lib.distance(a, b, **kwargs)\n",
      "C:\\Users\\vitor.braz\\AppData\\Roaming\\Python\\Python312\\site-packages\\shapely\\measurement.py:72: RuntimeWarning: invalid value encountered in distance\n",
      "  return lib.distance(a, b, **kwargs)\n",
      "C:\\Users\\vitor.braz\\AppData\\Roaming\\Python\\Python312\\site-packages\\shapely\\measurement.py:72: RuntimeWarning: invalid value encountered in distance\n",
      "  return lib.distance(a, b, **kwargs)\n",
      "C:\\Users\\vitor.braz\\AppData\\Roaming\\Python\\Python312\\site-packages\\shapely\\measurement.py:72: RuntimeWarning: invalid value encountered in distance\n",
      "  return lib.distance(a, b, **kwargs)\n",
      "C:\\Users\\vitor.braz\\AppData\\Roaming\\Python\\Python312\\site-packages\\shapely\\measurement.py:72: RuntimeWarning: invalid value encountered in distance\n",
      "  return lib.distance(a, b, **kwargs)\n",
      "C:\\Users\\vitor.braz\\AppData\\Roaming\\Python\\Python312\\site-packages\\shapely\\measurement.py:72: RuntimeWarning: invalid value encountered in distance\n",
      "  return lib.distance(a, b, **kwargs)\n",
      "C:\\Users\\vitor.braz\\AppData\\Roaming\\Python\\Python312\\site-packages\\shapely\\measurement.py:72: RuntimeWarning: invalid value encountered in distance\n",
      "  return lib.distance(a, b, **kwargs)\n",
      "C:\\Users\\vitor.braz\\AppData\\Roaming\\Python\\Python312\\site-packages\\shapely\\measurement.py:72: RuntimeWarning: invalid value encountered in distance\n",
      "  return lib.distance(a, b, **kwargs)\n"
     ]
    },
    {
     "name": "stdout",
     "output_type": "stream",
     "text": [
      "[INFO] Tentando sem tipo de via: 'RADIAL LESTE CENTRO'\n"
     ]
    },
    {
     "name": "stderr",
     "output_type": "stream",
     "text": [
      "C:\\Users\\vitor.braz\\AppData\\Roaming\\Python\\Python312\\site-packages\\shapely\\measurement.py:72: RuntimeWarning: invalid value encountered in distance\n",
      "  return lib.distance(a, b, **kwargs)\n",
      "C:\\Users\\vitor.braz\\AppData\\Roaming\\Python\\Python312\\site-packages\\shapely\\measurement.py:72: RuntimeWarning: invalid value encountered in distance\n",
      "  return lib.distance(a, b, **kwargs)\n",
      "C:\\Users\\vitor.braz\\AppData\\Roaming\\Python\\Python312\\site-packages\\shapely\\measurement.py:72: RuntimeWarning: invalid value encountered in distance\n",
      "  return lib.distance(a, b, **kwargs)\n",
      "C:\\Users\\vitor.braz\\AppData\\Roaming\\Python\\Python312\\site-packages\\shapely\\measurement.py:72: RuntimeWarning: invalid value encountered in distance\n",
      "  return lib.distance(a, b, **kwargs)\n",
      "C:\\Users\\vitor.braz\\AppData\\Roaming\\Python\\Python312\\site-packages\\shapely\\measurement.py:72: RuntimeWarning: invalid value encountered in distance\n",
      "  return lib.distance(a, b, **kwargs)\n",
      "C:\\Users\\vitor.braz\\AppData\\Roaming\\Python\\Python312\\site-packages\\shapely\\measurement.py:72: RuntimeWarning: invalid value encountered in distance\n",
      "  return lib.distance(a, b, **kwargs)\n",
      "C:\\Users\\vitor.braz\\AppData\\Roaming\\Python\\Python312\\site-packages\\shapely\\measurement.py:72: RuntimeWarning: invalid value encountered in distance\n",
      "  return lib.distance(a, b, **kwargs)\n",
      "C:\\Users\\vitor.braz\\AppData\\Roaming\\Python\\Python312\\site-packages\\shapely\\measurement.py:72: RuntimeWarning: invalid value encountered in distance\n",
      "  return lib.distance(a, b, **kwargs)\n",
      "C:\\Users\\vitor.braz\\AppData\\Roaming\\Python\\Python312\\site-packages\\shapely\\measurement.py:72: RuntimeWarning: invalid value encountered in distance\n",
      "  return lib.distance(a, b, **kwargs)\n",
      "C:\\Users\\vitor.braz\\AppData\\Roaming\\Python\\Python312\\site-packages\\shapely\\measurement.py:72: RuntimeWarning: invalid value encountered in distance\n",
      "  return lib.distance(a, b, **kwargs)\n",
      "C:\\Users\\vitor.braz\\AppData\\Roaming\\Python\\Python312\\site-packages\\shapely\\measurement.py:72: RuntimeWarning: invalid value encountered in distance\n",
      "  return lib.distance(a, b, **kwargs)\n",
      "C:\\Users\\vitor.braz\\AppData\\Roaming\\Python\\Python312\\site-packages\\shapely\\measurement.py:72: RuntimeWarning: invalid value encountered in distance\n",
      "  return lib.distance(a, b, **kwargs)\n",
      "C:\\Users\\vitor.braz\\AppData\\Roaming\\Python\\Python312\\site-packages\\shapely\\measurement.py:72: RuntimeWarning: invalid value encountered in distance\n",
      "  return lib.distance(a, b, **kwargs)\n"
     ]
    },
    {
     "name": "stdout",
     "output_type": "stream",
     "text": [
      "[INFO] Tentando sem tipo de via: 'SADAMU INOUE'\n"
     ]
    },
    {
     "name": "stderr",
     "output_type": "stream",
     "text": [
      "C:\\Users\\vitor.braz\\AppData\\Roaming\\Python\\Python312\\site-packages\\shapely\\measurement.py:72: RuntimeWarning: invalid value encountered in distance\n",
      "  return lib.distance(a, b, **kwargs)\n",
      "C:\\Users\\vitor.braz\\AppData\\Roaming\\Python\\Python312\\site-packages\\shapely\\measurement.py:72: RuntimeWarning: invalid value encountered in distance\n",
      "  return lib.distance(a, b, **kwargs)\n",
      "C:\\Users\\vitor.braz\\AppData\\Roaming\\Python\\Python312\\site-packages\\shapely\\measurement.py:72: RuntimeWarning: invalid value encountered in distance\n",
      "  return lib.distance(a, b, **kwargs)\n",
      "C:\\Users\\vitor.braz\\AppData\\Roaming\\Python\\Python312\\site-packages\\shapely\\measurement.py:72: RuntimeWarning: invalid value encountered in distance\n",
      "  return lib.distance(a, b, **kwargs)\n",
      "C:\\Users\\vitor.braz\\AppData\\Roaming\\Python\\Python312\\site-packages\\shapely\\measurement.py:72: RuntimeWarning: invalid value encountered in distance\n",
      "  return lib.distance(a, b, **kwargs)\n",
      "C:\\Users\\vitor.braz\\AppData\\Roaming\\Python\\Python312\\site-packages\\shapely\\measurement.py:72: RuntimeWarning: invalid value encountered in distance\n",
      "  return lib.distance(a, b, **kwargs)\n",
      "C:\\Users\\vitor.braz\\AppData\\Roaming\\Python\\Python312\\site-packages\\shapely\\measurement.py:72: RuntimeWarning: invalid value encountered in distance\n",
      "  return lib.distance(a, b, **kwargs)\n",
      "C:\\Users\\vitor.braz\\AppData\\Roaming\\Python\\Python312\\site-packages\\shapely\\measurement.py:72: RuntimeWarning: invalid value encountered in distance\n",
      "  return lib.distance(a, b, **kwargs)\n",
      "C:\\Users\\vitor.braz\\AppData\\Roaming\\Python\\Python312\\site-packages\\shapely\\measurement.py:72: RuntimeWarning: invalid value encountered in distance\n",
      "  return lib.distance(a, b, **kwargs)\n"
     ]
    },
    {
     "name": "stdout",
     "output_type": "stream",
     "text": [
      "[INFO] Tentando sem tipo de via: 'ANHANGUERA'\n"
     ]
    },
    {
     "name": "stderr",
     "output_type": "stream",
     "text": [
      "C:\\Users\\vitor.braz\\AppData\\Roaming\\Python\\Python312\\site-packages\\shapely\\measurement.py:72: RuntimeWarning: invalid value encountered in distance\n",
      "  return lib.distance(a, b, **kwargs)\n",
      "C:\\Users\\vitor.braz\\AppData\\Roaming\\Python\\Python312\\site-packages\\shapely\\measurement.py:72: RuntimeWarning: invalid value encountered in distance\n",
      "  return lib.distance(a, b, **kwargs)\n",
      "C:\\Users\\vitor.braz\\AppData\\Roaming\\Python\\Python312\\site-packages\\shapely\\measurement.py:72: RuntimeWarning: invalid value encountered in distance\n",
      "  return lib.distance(a, b, **kwargs)\n",
      "C:\\Users\\vitor.braz\\AppData\\Roaming\\Python\\Python312\\site-packages\\shapely\\measurement.py:72: RuntimeWarning: invalid value encountered in distance\n",
      "  return lib.distance(a, b, **kwargs)\n",
      "C:\\Users\\vitor.braz\\AppData\\Roaming\\Python\\Python312\\site-packages\\shapely\\measurement.py:72: RuntimeWarning: invalid value encountered in distance\n",
      "  return lib.distance(a, b, **kwargs)\n",
      "C:\\Users\\vitor.braz\\AppData\\Roaming\\Python\\Python312\\site-packages\\shapely\\measurement.py:72: RuntimeWarning: invalid value encountered in distance\n",
      "  return lib.distance(a, b, **kwargs)\n",
      "C:\\Users\\vitor.braz\\AppData\\Roaming\\Python\\Python312\\site-packages\\shapely\\measurement.py:72: RuntimeWarning: invalid value encountered in distance\n",
      "  return lib.distance(a, b, **kwargs)\n",
      "C:\\Users\\vitor.braz\\AppData\\Roaming\\Python\\Python312\\site-packages\\shapely\\measurement.py:72: RuntimeWarning: invalid value encountered in distance\n",
      "  return lib.distance(a, b, **kwargs)\n",
      "C:\\Users\\vitor.braz\\AppData\\Roaming\\Python\\Python312\\site-packages\\shapely\\measurement.py:72: RuntimeWarning: invalid value encountered in distance\n",
      "  return lib.distance(a, b, **kwargs)\n",
      "C:\\Users\\vitor.braz\\AppData\\Roaming\\Python\\Python312\\site-packages\\shapely\\measurement.py:72: RuntimeWarning: invalid value encountered in distance\n",
      "  return lib.distance(a, b, **kwargs)\n",
      "C:\\Users\\vitor.braz\\AppData\\Roaming\\Python\\Python312\\site-packages\\shapely\\measurement.py:72: RuntimeWarning: invalid value encountered in distance\n",
      "  return lib.distance(a, b, **kwargs)\n"
     ]
    },
    {
     "name": "stdout",
     "output_type": "stream",
     "text": [
      "[INFO] Tentando sem tipo de via: 'NOSSA SENHORA DO SABARA'\n"
     ]
    },
    {
     "name": "stderr",
     "output_type": "stream",
     "text": [
      "C:\\Users\\vitor.braz\\AppData\\Roaming\\Python\\Python312\\site-packages\\shapely\\measurement.py:72: RuntimeWarning: invalid value encountered in distance\n",
      "  return lib.distance(a, b, **kwargs)\n",
      "C:\\Users\\vitor.braz\\AppData\\Roaming\\Python\\Python312\\site-packages\\shapely\\measurement.py:72: RuntimeWarning: invalid value encountered in distance\n",
      "  return lib.distance(a, b, **kwargs)\n",
      "C:\\Users\\vitor.braz\\AppData\\Roaming\\Python\\Python312\\site-packages\\shapely\\measurement.py:72: RuntimeWarning: invalid value encountered in distance\n",
      "  return lib.distance(a, b, **kwargs)\n",
      "C:\\Users\\vitor.braz\\AppData\\Roaming\\Python\\Python312\\site-packages\\shapely\\measurement.py:72: RuntimeWarning: invalid value encountered in distance\n",
      "  return lib.distance(a, b, **kwargs)\n",
      "C:\\Users\\vitor.braz\\AppData\\Roaming\\Python\\Python312\\site-packages\\shapely\\measurement.py:72: RuntimeWarning: invalid value encountered in distance\n",
      "  return lib.distance(a, b, **kwargs)\n",
      "C:\\Users\\vitor.braz\\AppData\\Roaming\\Python\\Python312\\site-packages\\shapely\\measurement.py:72: RuntimeWarning: invalid value encountered in distance\n",
      "  return lib.distance(a, b, **kwargs)\n",
      "C:\\Users\\vitor.braz\\AppData\\Roaming\\Python\\Python312\\site-packages\\shapely\\measurement.py:72: RuntimeWarning: invalid value encountered in distance\n",
      "  return lib.distance(a, b, **kwargs)\n",
      "C:\\Users\\vitor.braz\\AppData\\Roaming\\Python\\Python312\\site-packages\\shapely\\measurement.py:72: RuntimeWarning: invalid value encountered in distance\n",
      "  return lib.distance(a, b, **kwargs)\n",
      "C:\\Users\\vitor.braz\\AppData\\Roaming\\Python\\Python312\\site-packages\\shapely\\measurement.py:72: RuntimeWarning: invalid value encountered in distance\n",
      "  return lib.distance(a, b, **kwargs)\n",
      "C:\\Users\\vitor.braz\\AppData\\Roaming\\Python\\Python312\\site-packages\\shapely\\measurement.py:72: RuntimeWarning: invalid value encountered in distance\n",
      "  return lib.distance(a, b, **kwargs)\n",
      "C:\\Users\\vitor.braz\\AppData\\Roaming\\Python\\Python312\\site-packages\\shapely\\measurement.py:72: RuntimeWarning: invalid value encountered in distance\n",
      "  return lib.distance(a, b, **kwargs)\n",
      "C:\\Users\\vitor.braz\\AppData\\Roaming\\Python\\Python312\\site-packages\\shapely\\measurement.py:72: RuntimeWarning: invalid value encountered in distance\n",
      "  return lib.distance(a, b, **kwargs)\n",
      "C:\\Users\\vitor.braz\\AppData\\Roaming\\Python\\Python312\\site-packages\\shapely\\measurement.py:72: RuntimeWarning: invalid value encountered in distance\n",
      "  return lib.distance(a, b, **kwargs)\n",
      "C:\\Users\\vitor.braz\\AppData\\Roaming\\Python\\Python312\\site-packages\\shapely\\measurement.py:72: RuntimeWarning: invalid value encountered in distance\n",
      "  return lib.distance(a, b, **kwargs)\n",
      "C:\\Users\\vitor.braz\\AppData\\Roaming\\Python\\Python312\\site-packages\\shapely\\measurement.py:72: RuntimeWarning: invalid value encountered in distance\n",
      "  return lib.distance(a, b, **kwargs)\n",
      "C:\\Users\\vitor.braz\\AppData\\Roaming\\Python\\Python312\\site-packages\\shapely\\measurement.py:72: RuntimeWarning: invalid value encountered in distance\n",
      "  return lib.distance(a, b, **kwargs)\n",
      "C:\\Users\\vitor.braz\\AppData\\Roaming\\Python\\Python312\\site-packages\\shapely\\measurement.py:72: RuntimeWarning: invalid value encountered in distance\n",
      "  return lib.distance(a, b, **kwargs)\n",
      "C:\\Users\\vitor.braz\\AppData\\Roaming\\Python\\Python312\\site-packages\\shapely\\measurement.py:72: RuntimeWarning: invalid value encountered in distance\n",
      "  return lib.distance(a, b, **kwargs)\n",
      "C:\\Users\\vitor.braz\\AppData\\Roaming\\Python\\Python312\\site-packages\\shapely\\measurement.py:72: RuntimeWarning: invalid value encountered in distance\n",
      "  return lib.distance(a, b, **kwargs)\n",
      "C:\\Users\\vitor.braz\\AppData\\Roaming\\Python\\Python312\\site-packages\\shapely\\measurement.py:72: RuntimeWarning: invalid value encountered in distance\n",
      "  return lib.distance(a, b, **kwargs)\n",
      "C:\\Users\\vitor.braz\\AppData\\Roaming\\Python\\Python312\\site-packages\\shapely\\measurement.py:72: RuntimeWarning: invalid value encountered in distance\n",
      "  return lib.distance(a, b, **kwargs)\n",
      "C:\\Users\\vitor.braz\\AppData\\Roaming\\Python\\Python312\\site-packages\\shapely\\measurement.py:72: RuntimeWarning: invalid value encountered in distance\n",
      "  return lib.distance(a, b, **kwargs)\n",
      "C:\\Users\\vitor.braz\\AppData\\Roaming\\Python\\Python312\\site-packages\\shapely\\measurement.py:72: RuntimeWarning: invalid value encountered in distance\n",
      "  return lib.distance(a, b, **kwargs)\n",
      "C:\\Users\\vitor.braz\\AppData\\Roaming\\Python\\Python312\\site-packages\\shapely\\measurement.py:72: RuntimeWarning: invalid value encountered in distance\n",
      "  return lib.distance(a, b, **kwargs)\n"
     ]
    },
    {
     "name": "stdout",
     "output_type": "stream",
     "text": [
      "[INFO] Tentando sem tipo de via: 'PARA MARGINAL PINHEIROS EXPRESSA SENTIDO SU'\n"
     ]
    },
    {
     "name": "stderr",
     "output_type": "stream",
     "text": [
      "C:\\Users\\vitor.braz\\AppData\\Roaming\\Python\\Python312\\site-packages\\shapely\\measurement.py:72: RuntimeWarning: invalid value encountered in distance\n",
      "  return lib.distance(a, b, **kwargs)\n",
      "C:\\Users\\vitor.braz\\AppData\\Roaming\\Python\\Python312\\site-packages\\shapely\\measurement.py:72: RuntimeWarning: invalid value encountered in distance\n",
      "  return lib.distance(a, b, **kwargs)\n",
      "C:\\Users\\vitor.braz\\AppData\\Roaming\\Python\\Python312\\site-packages\\shapely\\measurement.py:72: RuntimeWarning: invalid value encountered in distance\n",
      "  return lib.distance(a, b, **kwargs)\n"
     ]
    },
    {
     "name": "stdout",
     "output_type": "stream",
     "text": [
      "[INFO] Tentando sem tipo de via: 'GUAVIRUTUBA'\n"
     ]
    },
    {
     "name": "stderr",
     "output_type": "stream",
     "text": [
      "C:\\Users\\vitor.braz\\AppData\\Roaming\\Python\\Python312\\site-packages\\shapely\\measurement.py:72: RuntimeWarning: invalid value encountered in distance\n",
      "  return lib.distance(a, b, **kwargs)\n",
      "C:\\Users\\vitor.braz\\AppData\\Roaming\\Python\\Python312\\site-packages\\shapely\\measurement.py:72: RuntimeWarning: invalid value encountered in distance\n",
      "  return lib.distance(a, b, **kwargs)\n",
      "C:\\Users\\vitor.braz\\AppData\\Roaming\\Python\\Python312\\site-packages\\shapely\\measurement.py:72: RuntimeWarning: invalid value encountered in distance\n",
      "  return lib.distance(a, b, **kwargs)\n"
     ]
    },
    {
     "name": "stdout",
     "output_type": "stream",
     "text": [
      "[INFO] Tentando sem tipo de via: 'ANTONIO CARLOS BENJAMIM DOS SANTOS'\n"
     ]
    },
    {
     "name": "stderr",
     "output_type": "stream",
     "text": [
      "C:\\Users\\vitor.braz\\AppData\\Roaming\\Python\\Python312\\site-packages\\shapely\\measurement.py:72: RuntimeWarning: invalid value encountered in distance\n",
      "  return lib.distance(a, b, **kwargs)\n",
      "C:\\Users\\vitor.braz\\AppData\\Roaming\\Python\\Python312\\site-packages\\shapely\\measurement.py:72: RuntimeWarning: invalid value encountered in distance\n",
      "  return lib.distance(a, b, **kwargs)\n",
      "C:\\Users\\vitor.braz\\AppData\\Roaming\\Python\\Python312\\site-packages\\shapely\\measurement.py:72: RuntimeWarning: invalid value encountered in distance\n",
      "  return lib.distance(a, b, **kwargs)\n",
      "C:\\Users\\vitor.braz\\AppData\\Roaming\\Python\\Python312\\site-packages\\shapely\\measurement.py:72: RuntimeWarning: invalid value encountered in distance\n",
      "  return lib.distance(a, b, **kwargs)\n",
      "C:\\Users\\vitor.braz\\AppData\\Roaming\\Python\\Python312\\site-packages\\shapely\\measurement.py:72: RuntimeWarning: invalid value encountered in distance\n",
      "  return lib.distance(a, b, **kwargs)\n",
      "C:\\Users\\vitor.braz\\AppData\\Roaming\\Python\\Python312\\site-packages\\shapely\\measurement.py:72: RuntimeWarning: invalid value encountered in distance\n",
      "  return lib.distance(a, b, **kwargs)\n",
      "C:\\Users\\vitor.braz\\AppData\\Roaming\\Python\\Python312\\site-packages\\shapely\\measurement.py:72: RuntimeWarning: invalid value encountered in distance\n",
      "  return lib.distance(a, b, **kwargs)\n",
      "C:\\Users\\vitor.braz\\AppData\\Roaming\\Python\\Python312\\site-packages\\shapely\\measurement.py:72: RuntimeWarning: invalid value encountered in distance\n",
      "  return lib.distance(a, b, **kwargs)\n",
      "C:\\Users\\vitor.braz\\AppData\\Roaming\\Python\\Python312\\site-packages\\shapely\\measurement.py:72: RuntimeWarning: invalid value encountered in distance\n",
      "  return lib.distance(a, b, **kwargs)\n",
      "C:\\Users\\vitor.braz\\AppData\\Roaming\\Python\\Python312\\site-packages\\shapely\\measurement.py:72: RuntimeWarning: invalid value encountered in distance\n",
      "  return lib.distance(a, b, **kwargs)\n",
      "C:\\Users\\vitor.braz\\AppData\\Roaming\\Python\\Python312\\site-packages\\shapely\\measurement.py:72: RuntimeWarning: invalid value encountered in distance\n",
      "  return lib.distance(a, b, **kwargs)\n",
      "C:\\Users\\vitor.braz\\AppData\\Roaming\\Python\\Python312\\site-packages\\shapely\\measurement.py:72: RuntimeWarning: invalid value encountered in distance\n",
      "  return lib.distance(a, b, **kwargs)\n",
      "C:\\Users\\vitor.braz\\AppData\\Roaming\\Python\\Python312\\site-packages\\shapely\\measurement.py:72: RuntimeWarning: invalid value encountered in distance\n",
      "  return lib.distance(a, b, **kwargs)\n",
      "C:\\Users\\vitor.braz\\AppData\\Roaming\\Python\\Python312\\site-packages\\shapely\\measurement.py:72: RuntimeWarning: invalid value encountered in distance\n",
      "  return lib.distance(a, b, **kwargs)\n",
      "C:\\Users\\vitor.braz\\AppData\\Roaming\\Python\\Python312\\site-packages\\shapely\\measurement.py:72: RuntimeWarning: invalid value encountered in distance\n",
      "  return lib.distance(a, b, **kwargs)\n",
      "C:\\Users\\vitor.braz\\AppData\\Roaming\\Python\\Python312\\site-packages\\shapely\\measurement.py:72: RuntimeWarning: invalid value encountered in distance\n",
      "  return lib.distance(a, b, **kwargs)\n",
      "C:\\Users\\vitor.braz\\AppData\\Roaming\\Python\\Python312\\site-packages\\shapely\\measurement.py:72: RuntimeWarning: invalid value encountered in distance\n",
      "  return lib.distance(a, b, **kwargs)\n",
      "C:\\Users\\vitor.braz\\AppData\\Roaming\\Python\\Python312\\site-packages\\shapely\\measurement.py:72: RuntimeWarning: invalid value encountered in distance\n",
      "  return lib.distance(a, b, **kwargs)\n"
     ]
    },
    {
     "name": "stdout",
     "output_type": "stream",
     "text": [
      "[INFO] Tentando sem tipo de via: 'NOSSA SENHORA DO SABARA'\n"
     ]
    },
    {
     "name": "stderr",
     "output_type": "stream",
     "text": [
      "C:\\Users\\vitor.braz\\AppData\\Roaming\\Python\\Python312\\site-packages\\shapely\\measurement.py:72: RuntimeWarning: invalid value encountered in distance\n",
      "  return lib.distance(a, b, **kwargs)\n",
      "C:\\Users\\vitor.braz\\AppData\\Roaming\\Python\\Python312\\site-packages\\shapely\\measurement.py:72: RuntimeWarning: invalid value encountered in distance\n",
      "  return lib.distance(a, b, **kwargs)\n",
      "C:\\Users\\vitor.braz\\AppData\\Roaming\\Python\\Python312\\site-packages\\shapely\\measurement.py:72: RuntimeWarning: invalid value encountered in distance\n",
      "  return lib.distance(a, b, **kwargs)\n",
      "C:\\Users\\vitor.braz\\AppData\\Roaming\\Python\\Python312\\site-packages\\shapely\\measurement.py:72: RuntimeWarning: invalid value encountered in distance\n",
      "  return lib.distance(a, b, **kwargs)\n",
      "C:\\Users\\vitor.braz\\AppData\\Roaming\\Python\\Python312\\site-packages\\shapely\\measurement.py:72: RuntimeWarning: invalid value encountered in distance\n",
      "  return lib.distance(a, b, **kwargs)\n",
      "C:\\Users\\vitor.braz\\AppData\\Roaming\\Python\\Python312\\site-packages\\shapely\\measurement.py:72: RuntimeWarning: invalid value encountered in distance\n",
      "  return lib.distance(a, b, **kwargs)\n",
      "C:\\Users\\vitor.braz\\AppData\\Roaming\\Python\\Python312\\site-packages\\shapely\\measurement.py:72: RuntimeWarning: invalid value encountered in distance\n",
      "  return lib.distance(a, b, **kwargs)\n",
      "C:\\Users\\vitor.braz\\AppData\\Roaming\\Python\\Python312\\site-packages\\shapely\\measurement.py:72: RuntimeWarning: invalid value encountered in distance\n",
      "  return lib.distance(a, b, **kwargs)\n",
      "C:\\Users\\vitor.braz\\AppData\\Roaming\\Python\\Python312\\site-packages\\shapely\\measurement.py:72: RuntimeWarning: invalid value encountered in distance\n",
      "  return lib.distance(a, b, **kwargs)\n",
      "C:\\Users\\vitor.braz\\AppData\\Roaming\\Python\\Python312\\site-packages\\shapely\\measurement.py:72: RuntimeWarning: invalid value encountered in distance\n",
      "  return lib.distance(a, b, **kwargs)\n",
      "C:\\Users\\vitor.braz\\AppData\\Roaming\\Python\\Python312\\site-packages\\shapely\\measurement.py:72: RuntimeWarning: invalid value encountered in distance\n",
      "  return lib.distance(a, b, **kwargs)\n",
      "C:\\Users\\vitor.braz\\AppData\\Roaming\\Python\\Python312\\site-packages\\shapely\\measurement.py:72: RuntimeWarning: invalid value encountered in distance\n",
      "  return lib.distance(a, b, **kwargs)\n"
     ]
    },
    {
     "name": "stdout",
     "output_type": "stream",
     "text": [
      "[INFO] Tentando sem tipo de via: 'ANTONIO BARBOSA DA SILVA SANDOVAL'\n"
     ]
    },
    {
     "name": "stderr",
     "output_type": "stream",
     "text": [
      "C:\\Users\\vitor.braz\\AppData\\Roaming\\Python\\Python312\\site-packages\\shapely\\measurement.py:72: RuntimeWarning: invalid value encountered in distance\n",
      "  return lib.distance(a, b, **kwargs)\n"
     ]
    },
    {
     "name": "stdout",
     "output_type": "stream",
     "text": [
      "[INFO] Tentando sem tipo de via: 'PARA MARGINAL TIETE CENTRAL SENTIDO GUARULH'\n",
      "[INFO] Tentando sem tipo de via: 'RADIAL LESTE CENTRO'\n"
     ]
    },
    {
     "name": "stderr",
     "output_type": "stream",
     "text": [
      "C:\\Users\\vitor.braz\\AppData\\Roaming\\Python\\Python312\\site-packages\\shapely\\measurement.py:72: RuntimeWarning: invalid value encountered in distance\n",
      "  return lib.distance(a, b, **kwargs)\n",
      "C:\\Users\\vitor.braz\\AppData\\Roaming\\Python\\Python312\\site-packages\\shapely\\measurement.py:72: RuntimeWarning: invalid value encountered in distance\n",
      "  return lib.distance(a, b, **kwargs)\n",
      "C:\\Users\\vitor.braz\\AppData\\Roaming\\Python\\Python312\\site-packages\\shapely\\measurement.py:72: RuntimeWarning: invalid value encountered in distance\n",
      "  return lib.distance(a, b, **kwargs)\n",
      "C:\\Users\\vitor.braz\\AppData\\Roaming\\Python\\Python312\\site-packages\\shapely\\measurement.py:72: RuntimeWarning: invalid value encountered in distance\n",
      "  return lib.distance(a, b, **kwargs)\n",
      "C:\\Users\\vitor.braz\\AppData\\Roaming\\Python\\Python312\\site-packages\\shapely\\measurement.py:72: RuntimeWarning: invalid value encountered in distance\n",
      "  return lib.distance(a, b, **kwargs)\n",
      "C:\\Users\\vitor.braz\\AppData\\Roaming\\Python\\Python312\\site-packages\\shapely\\measurement.py:72: RuntimeWarning: invalid value encountered in distance\n",
      "  return lib.distance(a, b, **kwargs)\n",
      "C:\\Users\\vitor.braz\\AppData\\Roaming\\Python\\Python312\\site-packages\\shapely\\measurement.py:72: RuntimeWarning: invalid value encountered in distance\n",
      "  return lib.distance(a, b, **kwargs)\n"
     ]
    },
    {
     "name": "stdout",
     "output_type": "stream",
     "text": [
      "[INFO] Tentando sem tipo de via: 'SARGENTO ASSAD FERES'\n"
     ]
    },
    {
     "name": "stderr",
     "output_type": "stream",
     "text": [
      "C:\\Users\\vitor.braz\\AppData\\Roaming\\Python\\Python312\\site-packages\\shapely\\measurement.py:72: RuntimeWarning: invalid value encountered in distance\n",
      "  return lib.distance(a, b, **kwargs)\n",
      "C:\\Users\\vitor.braz\\AppData\\Roaming\\Python\\Python312\\site-packages\\shapely\\measurement.py:72: RuntimeWarning: invalid value encountered in distance\n",
      "  return lib.distance(a, b, **kwargs)\n",
      "C:\\Users\\vitor.braz\\AppData\\Roaming\\Python\\Python312\\site-packages\\shapely\\measurement.py:72: RuntimeWarning: invalid value encountered in distance\n",
      "  return lib.distance(a, b, **kwargs)\n",
      "C:\\Users\\vitor.braz\\AppData\\Roaming\\Python\\Python312\\site-packages\\shapely\\measurement.py:72: RuntimeWarning: invalid value encountered in distance\n",
      "  return lib.distance(a, b, **kwargs)\n",
      "C:\\Users\\vitor.braz\\AppData\\Roaming\\Python\\Python312\\site-packages\\shapely\\measurement.py:72: RuntimeWarning: invalid value encountered in distance\n",
      "  return lib.distance(a, b, **kwargs)\n",
      "C:\\Users\\vitor.braz\\AppData\\Roaming\\Python\\Python312\\site-packages\\shapely\\measurement.py:72: RuntimeWarning: invalid value encountered in distance\n",
      "  return lib.distance(a, b, **kwargs)\n",
      "C:\\Users\\vitor.braz\\AppData\\Roaming\\Python\\Python312\\site-packages\\shapely\\measurement.py:72: RuntimeWarning: invalid value encountered in distance\n",
      "  return lib.distance(a, b, **kwargs)\n",
      "C:\\Users\\vitor.braz\\AppData\\Roaming\\Python\\Python312\\site-packages\\shapely\\measurement.py:72: RuntimeWarning: invalid value encountered in distance\n",
      "  return lib.distance(a, b, **kwargs)\n",
      "C:\\Users\\vitor.braz\\AppData\\Roaming\\Python\\Python312\\site-packages\\shapely\\measurement.py:72: RuntimeWarning: invalid value encountered in distance\n",
      "  return lib.distance(a, b, **kwargs)\n",
      "C:\\Users\\vitor.braz\\AppData\\Roaming\\Python\\Python312\\site-packages\\shapely\\measurement.py:72: RuntimeWarning: invalid value encountered in distance\n",
      "  return lib.distance(a, b, **kwargs)\n",
      "C:\\Users\\vitor.braz\\AppData\\Roaming\\Python\\Python312\\site-packages\\shapely\\measurement.py:72: RuntimeWarning: invalid value encountered in distance\n",
      "  return lib.distance(a, b, **kwargs)\n",
      "C:\\Users\\vitor.braz\\AppData\\Roaming\\Python\\Python312\\site-packages\\shapely\\measurement.py:72: RuntimeWarning: invalid value encountered in distance\n",
      "  return lib.distance(a, b, **kwargs)\n",
      "C:\\Users\\vitor.braz\\AppData\\Roaming\\Python\\Python312\\site-packages\\shapely\\measurement.py:72: RuntimeWarning: invalid value encountered in distance\n",
      "  return lib.distance(a, b, **kwargs)\n",
      "C:\\Users\\vitor.braz\\AppData\\Roaming\\Python\\Python312\\site-packages\\shapely\\measurement.py:72: RuntimeWarning: invalid value encountered in distance\n",
      "  return lib.distance(a, b, **kwargs)\n",
      "C:\\Users\\vitor.braz\\AppData\\Roaming\\Python\\Python312\\site-packages\\shapely\\measurement.py:72: RuntimeWarning: invalid value encountered in distance\n",
      "  return lib.distance(a, b, **kwargs)\n",
      "C:\\Users\\vitor.braz\\AppData\\Roaming\\Python\\Python312\\site-packages\\shapely\\measurement.py:72: RuntimeWarning: invalid value encountered in distance\n",
      "  return lib.distance(a, b, **kwargs)\n",
      "C:\\Users\\vitor.braz\\AppData\\Roaming\\Python\\Python312\\site-packages\\shapely\\measurement.py:72: RuntimeWarning: invalid value encountered in distance\n",
      "  return lib.distance(a, b, **kwargs)\n"
     ]
    },
    {
     "name": "stdout",
     "output_type": "stream",
     "text": [
      "[INFO] Tentando sem tipo de via: 'ECOTURISTICA DE PARELHEIROS'\n"
     ]
    },
    {
     "name": "stderr",
     "output_type": "stream",
     "text": [
      "C:\\Users\\vitor.braz\\AppData\\Roaming\\Python\\Python312\\site-packages\\shapely\\measurement.py:72: RuntimeWarning: invalid value encountered in distance\n",
      "  return lib.distance(a, b, **kwargs)\n",
      "C:\\Users\\vitor.braz\\AppData\\Roaming\\Python\\Python312\\site-packages\\shapely\\measurement.py:72: RuntimeWarning: invalid value encountered in distance\n",
      "  return lib.distance(a, b, **kwargs)\n",
      "C:\\Users\\vitor.braz\\AppData\\Roaming\\Python\\Python312\\site-packages\\shapely\\measurement.py:72: RuntimeWarning: invalid value encountered in distance\n",
      "  return lib.distance(a, b, **kwargs)\n"
     ]
    },
    {
     "name": "stdout",
     "output_type": "stream",
     "text": [
      "[INFO] Tentando sem tipo de via: 'CARDEAL ARCOVERDE'\n"
     ]
    },
    {
     "name": "stderr",
     "output_type": "stream",
     "text": [
      "C:\\Users\\vitor.braz\\AppData\\Roaming\\Python\\Python312\\site-packages\\shapely\\measurement.py:72: RuntimeWarning: invalid value encountered in distance\n",
      "  return lib.distance(a, b, **kwargs)\n",
      "C:\\Users\\vitor.braz\\AppData\\Roaming\\Python\\Python312\\site-packages\\shapely\\measurement.py:72: RuntimeWarning: invalid value encountered in distance\n",
      "  return lib.distance(a, b, **kwargs)\n"
     ]
    },
    {
     "name": "stdout",
     "output_type": "stream",
     "text": [
      "[INFO] Tentando sem tipo de via: 'PONTE ITAPAIUNA'\n"
     ]
    },
    {
     "name": "stderr",
     "output_type": "stream",
     "text": [
      "C:\\Users\\vitor.braz\\AppData\\Roaming\\Python\\Python312\\site-packages\\shapely\\measurement.py:72: RuntimeWarning: invalid value encountered in distance\n",
      "  return lib.distance(a, b, **kwargs)\n",
      "C:\\Users\\vitor.braz\\AppData\\Roaming\\Python\\Python312\\site-packages\\shapely\\measurement.py:72: RuntimeWarning: invalid value encountered in distance\n",
      "  return lib.distance(a, b, **kwargs)\n",
      "C:\\Users\\vitor.braz\\AppData\\Roaming\\Python\\Python312\\site-packages\\shapely\\measurement.py:72: RuntimeWarning: invalid value encountered in distance\n",
      "  return lib.distance(a, b, **kwargs)\n",
      "C:\\Users\\vitor.braz\\AppData\\Roaming\\Python\\Python312\\site-packages\\shapely\\measurement.py:72: RuntimeWarning: invalid value encountered in distance\n",
      "  return lib.distance(a, b, **kwargs)\n",
      "C:\\Users\\vitor.braz\\AppData\\Roaming\\Python\\Python312\\site-packages\\shapely\\measurement.py:72: RuntimeWarning: invalid value encountered in distance\n",
      "  return lib.distance(a, b, **kwargs)\n",
      "C:\\Users\\vitor.braz\\AppData\\Roaming\\Python\\Python312\\site-packages\\shapely\\measurement.py:72: RuntimeWarning: invalid value encountered in distance\n",
      "  return lib.distance(a, b, **kwargs)\n",
      "C:\\Users\\vitor.braz\\AppData\\Roaming\\Python\\Python312\\site-packages\\shapely\\measurement.py:72: RuntimeWarning: invalid value encountered in distance\n",
      "  return lib.distance(a, b, **kwargs)\n",
      "C:\\Users\\vitor.braz\\AppData\\Roaming\\Python\\Python312\\site-packages\\shapely\\measurement.py:72: RuntimeWarning: invalid value encountered in distance\n",
      "  return lib.distance(a, b, **kwargs)\n"
     ]
    },
    {
     "name": "stdout",
     "output_type": "stream",
     "text": [
      "[INFO] Tentando sem tipo de via: 'DO M'BOI MIRIM'\n"
     ]
    },
    {
     "name": "stderr",
     "output_type": "stream",
     "text": [
      "C:\\Users\\vitor.braz\\AppData\\Roaming\\Python\\Python312\\site-packages\\shapely\\measurement.py:72: RuntimeWarning: invalid value encountered in distance\n",
      "  return lib.distance(a, b, **kwargs)\n",
      "C:\\Users\\vitor.braz\\AppData\\Roaming\\Python\\Python312\\site-packages\\shapely\\measurement.py:72: RuntimeWarning: invalid value encountered in distance\n",
      "  return lib.distance(a, b, **kwargs)\n",
      "C:\\Users\\vitor.braz\\AppData\\Roaming\\Python\\Python312\\site-packages\\shapely\\measurement.py:72: RuntimeWarning: invalid value encountered in distance\n",
      "  return lib.distance(a, b, **kwargs)\n",
      "C:\\Users\\vitor.braz\\AppData\\Roaming\\Python\\Python312\\site-packages\\shapely\\measurement.py:72: RuntimeWarning: invalid value encountered in distance\n",
      "  return lib.distance(a, b, **kwargs)\n",
      "C:\\Users\\vitor.braz\\AppData\\Roaming\\Python\\Python312\\site-packages\\shapely\\measurement.py:72: RuntimeWarning: invalid value encountered in distance\n",
      "  return lib.distance(a, b, **kwargs)\n",
      "C:\\Users\\vitor.braz\\AppData\\Roaming\\Python\\Python312\\site-packages\\shapely\\measurement.py:72: RuntimeWarning: invalid value encountered in distance\n",
      "  return lib.distance(a, b, **kwargs)\n",
      "C:\\Users\\vitor.braz\\AppData\\Roaming\\Python\\Python312\\site-packages\\shapely\\measurement.py:72: RuntimeWarning: invalid value encountered in distance\n",
      "  return lib.distance(a, b, **kwargs)\n",
      "C:\\Users\\vitor.braz\\AppData\\Roaming\\Python\\Python312\\site-packages\\shapely\\measurement.py:72: RuntimeWarning: invalid value encountered in distance\n",
      "  return lib.distance(a, b, **kwargs)\n",
      "C:\\Users\\vitor.braz\\AppData\\Roaming\\Python\\Python312\\site-packages\\shapely\\measurement.py:72: RuntimeWarning: invalid value encountered in distance\n",
      "  return lib.distance(a, b, **kwargs)\n",
      "C:\\Users\\vitor.braz\\AppData\\Roaming\\Python\\Python312\\site-packages\\shapely\\measurement.py:72: RuntimeWarning: invalid value encountered in distance\n",
      "  return lib.distance(a, b, **kwargs)\n",
      "C:\\Users\\vitor.braz\\AppData\\Roaming\\Python\\Python312\\site-packages\\shapely\\measurement.py:72: RuntimeWarning: invalid value encountered in distance\n",
      "  return lib.distance(a, b, **kwargs)\n",
      "C:\\Users\\vitor.braz\\AppData\\Roaming\\Python\\Python312\\site-packages\\shapely\\measurement.py:72: RuntimeWarning: invalid value encountered in distance\n",
      "  return lib.distance(a, b, **kwargs)\n",
      "C:\\Users\\vitor.braz\\AppData\\Roaming\\Python\\Python312\\site-packages\\shapely\\measurement.py:72: RuntimeWarning: invalid value encountered in distance\n",
      "  return lib.distance(a, b, **kwargs)\n",
      "C:\\Users\\vitor.braz\\AppData\\Roaming\\Python\\Python312\\site-packages\\shapely\\measurement.py:72: RuntimeWarning: invalid value encountered in distance\n",
      "  return lib.distance(a, b, **kwargs)\n"
     ]
    },
    {
     "name": "stdout",
     "output_type": "stream",
     "text": [
      "[INFO] Tentando sem tipo de via: 'NOSSA SENHORA DO SABARA'\n"
     ]
    },
    {
     "name": "stderr",
     "output_type": "stream",
     "text": [
      "C:\\Users\\vitor.braz\\AppData\\Roaming\\Python\\Python312\\site-packages\\shapely\\measurement.py:72: RuntimeWarning: invalid value encountered in distance\n",
      "  return lib.distance(a, b, **kwargs)\n",
      "C:\\Users\\vitor.braz\\AppData\\Roaming\\Python\\Python312\\site-packages\\shapely\\measurement.py:72: RuntimeWarning: invalid value encountered in distance\n",
      "  return lib.distance(a, b, **kwargs)\n",
      "C:\\Users\\vitor.braz\\AppData\\Roaming\\Python\\Python312\\site-packages\\shapely\\measurement.py:72: RuntimeWarning: invalid value encountered in distance\n",
      "  return lib.distance(a, b, **kwargs)\n"
     ]
    },
    {
     "name": "stdout",
     "output_type": "stream",
     "text": [
      "[INFO] Tentando sem tipo de via: 'AVENIDA DAS NACOES UNIDAS'\n"
     ]
    },
    {
     "name": "stderr",
     "output_type": "stream",
     "text": [
      "C:\\Users\\vitor.braz\\AppData\\Roaming\\Python\\Python312\\site-packages\\shapely\\measurement.py:72: RuntimeWarning: invalid value encountered in distance\n",
      "  return lib.distance(a, b, **kwargs)\n",
      "C:\\Users\\vitor.braz\\AppData\\Roaming\\Python\\Python312\\site-packages\\shapely\\measurement.py:72: RuntimeWarning: invalid value encountered in distance\n",
      "  return lib.distance(a, b, **kwargs)\n",
      "C:\\Users\\vitor.braz\\AppData\\Roaming\\Python\\Python312\\site-packages\\shapely\\measurement.py:72: RuntimeWarning: invalid value encountered in distance\n",
      "  return lib.distance(a, b, **kwargs)\n",
      "C:\\Users\\vitor.braz\\AppData\\Roaming\\Python\\Python312\\site-packages\\shapely\\measurement.py:72: RuntimeWarning: invalid value encountered in distance\n",
      "  return lib.distance(a, b, **kwargs)\n",
      "C:\\Users\\vitor.braz\\AppData\\Roaming\\Python\\Python312\\site-packages\\shapely\\measurement.py:72: RuntimeWarning: invalid value encountered in distance\n",
      "  return lib.distance(a, b, **kwargs)\n",
      "C:\\Users\\vitor.braz\\AppData\\Roaming\\Python\\Python312\\site-packages\\shapely\\measurement.py:72: RuntimeWarning: invalid value encountered in distance\n",
      "  return lib.distance(a, b, **kwargs)\n",
      "C:\\Users\\vitor.braz\\AppData\\Roaming\\Python\\Python312\\site-packages\\shapely\\measurement.py:72: RuntimeWarning: invalid value encountered in distance\n",
      "  return lib.distance(a, b, **kwargs)\n",
      "C:\\Users\\vitor.braz\\AppData\\Roaming\\Python\\Python312\\site-packages\\shapely\\measurement.py:72: RuntimeWarning: invalid value encountered in distance\n",
      "  return lib.distance(a, b, **kwargs)\n",
      "C:\\Users\\vitor.braz\\AppData\\Roaming\\Python\\Python312\\site-packages\\shapely\\measurement.py:72: RuntimeWarning: invalid value encountered in distance\n",
      "  return lib.distance(a, b, **kwargs)\n",
      "C:\\Users\\vitor.braz\\AppData\\Roaming\\Python\\Python312\\site-packages\\shapely\\measurement.py:72: RuntimeWarning: invalid value encountered in distance\n",
      "  return lib.distance(a, b, **kwargs)\n"
     ]
    },
    {
     "name": "stdout",
     "output_type": "stream",
     "text": [
      "[INFO] Tentando sem tipo de via: 'DO M'BOI MIRIM'\n"
     ]
    },
    {
     "name": "stderr",
     "output_type": "stream",
     "text": [
      "C:\\Users\\vitor.braz\\AppData\\Roaming\\Python\\Python312\\site-packages\\shapely\\measurement.py:72: RuntimeWarning: invalid value encountered in distance\n",
      "  return lib.distance(a, b, **kwargs)\n",
      "C:\\Users\\vitor.braz\\AppData\\Roaming\\Python\\Python312\\site-packages\\shapely\\measurement.py:72: RuntimeWarning: invalid value encountered in distance\n",
      "  return lib.distance(a, b, **kwargs)\n",
      "C:\\Users\\vitor.braz\\AppData\\Roaming\\Python\\Python312\\site-packages\\shapely\\measurement.py:72: RuntimeWarning: invalid value encountered in distance\n",
      "  return lib.distance(a, b, **kwargs)\n",
      "C:\\Users\\vitor.braz\\AppData\\Roaming\\Python\\Python312\\site-packages\\shapely\\measurement.py:72: RuntimeWarning: invalid value encountered in distance\n",
      "  return lib.distance(a, b, **kwargs)\n",
      "C:\\Users\\vitor.braz\\AppData\\Roaming\\Python\\Python312\\site-packages\\shapely\\measurement.py:72: RuntimeWarning: invalid value encountered in distance\n",
      "  return lib.distance(a, b, **kwargs)\n",
      "C:\\Users\\vitor.braz\\AppData\\Roaming\\Python\\Python312\\site-packages\\shapely\\measurement.py:72: RuntimeWarning: invalid value encountered in distance\n",
      "  return lib.distance(a, b, **kwargs)\n",
      "C:\\Users\\vitor.braz\\AppData\\Roaming\\Python\\Python312\\site-packages\\shapely\\measurement.py:72: RuntimeWarning: invalid value encountered in distance\n",
      "  return lib.distance(a, b, **kwargs)\n",
      "C:\\Users\\vitor.braz\\AppData\\Roaming\\Python\\Python312\\site-packages\\shapely\\measurement.py:72: RuntimeWarning: invalid value encountered in distance\n",
      "  return lib.distance(a, b, **kwargs)\n",
      "C:\\Users\\vitor.braz\\AppData\\Roaming\\Python\\Python312\\site-packages\\shapely\\measurement.py:72: RuntimeWarning: invalid value encountered in distance\n",
      "  return lib.distance(a, b, **kwargs)\n",
      "C:\\Users\\vitor.braz\\AppData\\Roaming\\Python\\Python312\\site-packages\\shapely\\measurement.py:72: RuntimeWarning: invalid value encountered in distance\n",
      "  return lib.distance(a, b, **kwargs)\n",
      "C:\\Users\\vitor.braz\\AppData\\Roaming\\Python\\Python312\\site-packages\\shapely\\measurement.py:72: RuntimeWarning: invalid value encountered in distance\n",
      "  return lib.distance(a, b, **kwargs)\n",
      "C:\\Users\\vitor.braz\\AppData\\Roaming\\Python\\Python312\\site-packages\\shapely\\measurement.py:72: RuntimeWarning: invalid value encountered in distance\n",
      "  return lib.distance(a, b, **kwargs)\n"
     ]
    },
    {
     "name": "stdout",
     "output_type": "stream",
     "text": [
      "[INFO] Tentando sem tipo de via: 'PARA MARGINAL TIETE CENTRAL'\n"
     ]
    },
    {
     "name": "stderr",
     "output_type": "stream",
     "text": [
      "C:\\Users\\vitor.braz\\AppData\\Roaming\\Python\\Python312\\site-packages\\shapely\\measurement.py:72: RuntimeWarning: invalid value encountered in distance\n",
      "  return lib.distance(a, b, **kwargs)\n",
      "C:\\Users\\vitor.braz\\AppData\\Roaming\\Python\\Python312\\site-packages\\shapely\\measurement.py:72: RuntimeWarning: invalid value encountered in distance\n",
      "  return lib.distance(a, b, **kwargs)\n",
      "C:\\Users\\vitor.braz\\AppData\\Roaming\\Python\\Python312\\site-packages\\shapely\\measurement.py:72: RuntimeWarning: invalid value encountered in distance\n",
      "  return lib.distance(a, b, **kwargs)\n",
      "C:\\Users\\vitor.braz\\AppData\\Roaming\\Python\\Python312\\site-packages\\shapely\\measurement.py:72: RuntimeWarning: invalid value encountered in distance\n",
      "  return lib.distance(a, b, **kwargs)\n",
      "C:\\Users\\vitor.braz\\AppData\\Roaming\\Python\\Python312\\site-packages\\shapely\\measurement.py:72: RuntimeWarning: invalid value encountered in distance\n",
      "  return lib.distance(a, b, **kwargs)\n",
      "C:\\Users\\vitor.braz\\AppData\\Roaming\\Python\\Python312\\site-packages\\shapely\\measurement.py:72: RuntimeWarning: invalid value encountered in distance\n",
      "  return lib.distance(a, b, **kwargs)\n",
      "C:\\Users\\vitor.braz\\AppData\\Roaming\\Python\\Python312\\site-packages\\shapely\\measurement.py:72: RuntimeWarning: invalid value encountered in distance\n",
      "  return lib.distance(a, b, **kwargs)\n"
     ]
    },
    {
     "name": "stdout",
     "output_type": "stream",
     "text": [
      "[INFO] Tentando sem tipo de via: 'DO M'BOI MIRIM'\n"
     ]
    },
    {
     "name": "stderr",
     "output_type": "stream",
     "text": [
      "C:\\Users\\vitor.braz\\AppData\\Roaming\\Python\\Python312\\site-packages\\shapely\\measurement.py:72: RuntimeWarning: invalid value encountered in distance\n",
      "  return lib.distance(a, b, **kwargs)\n",
      "C:\\Users\\vitor.braz\\AppData\\Roaming\\Python\\Python312\\site-packages\\shapely\\measurement.py:72: RuntimeWarning: invalid value encountered in distance\n",
      "  return lib.distance(a, b, **kwargs)\n",
      "C:\\Users\\vitor.braz\\AppData\\Roaming\\Python\\Python312\\site-packages\\shapely\\measurement.py:72: RuntimeWarning: invalid value encountered in distance\n",
      "  return lib.distance(a, b, **kwargs)\n",
      "C:\\Users\\vitor.braz\\AppData\\Roaming\\Python\\Python312\\site-packages\\shapely\\measurement.py:72: RuntimeWarning: invalid value encountered in distance\n",
      "  return lib.distance(a, b, **kwargs)\n",
      "C:\\Users\\vitor.braz\\AppData\\Roaming\\Python\\Python312\\site-packages\\shapely\\measurement.py:72: RuntimeWarning: invalid value encountered in distance\n",
      "  return lib.distance(a, b, **kwargs)\n",
      "C:\\Users\\vitor.braz\\AppData\\Roaming\\Python\\Python312\\site-packages\\shapely\\measurement.py:72: RuntimeWarning: invalid value encountered in distance\n",
      "  return lib.distance(a, b, **kwargs)\n",
      "C:\\Users\\vitor.braz\\AppData\\Roaming\\Python\\Python312\\site-packages\\shapely\\measurement.py:72: RuntimeWarning: invalid value encountered in distance\n",
      "  return lib.distance(a, b, **kwargs)\n",
      "C:\\Users\\vitor.braz\\AppData\\Roaming\\Python\\Python312\\site-packages\\shapely\\measurement.py:72: RuntimeWarning: invalid value encountered in distance\n",
      "  return lib.distance(a, b, **kwargs)\n",
      "C:\\Users\\vitor.braz\\AppData\\Roaming\\Python\\Python312\\site-packages\\shapely\\measurement.py:72: RuntimeWarning: invalid value encountered in distance\n",
      "  return lib.distance(a, b, **kwargs)\n",
      "C:\\Users\\vitor.braz\\AppData\\Roaming\\Python\\Python312\\site-packages\\shapely\\measurement.py:72: RuntimeWarning: invalid value encountered in distance\n",
      "  return lib.distance(a, b, **kwargs)\n",
      "C:\\Users\\vitor.braz\\AppData\\Roaming\\Python\\Python312\\site-packages\\shapely\\measurement.py:72: RuntimeWarning: invalid value encountered in distance\n",
      "  return lib.distance(a, b, **kwargs)\n",
      "C:\\Users\\vitor.braz\\AppData\\Roaming\\Python\\Python312\\site-packages\\shapely\\measurement.py:72: RuntimeWarning: invalid value encountered in distance\n",
      "  return lib.distance(a, b, **kwargs)\n",
      "C:\\Users\\vitor.braz\\AppData\\Roaming\\Python\\Python312\\site-packages\\shapely\\measurement.py:72: RuntimeWarning: invalid value encountered in distance\n",
      "  return lib.distance(a, b, **kwargs)\n",
      "C:\\Users\\vitor.braz\\AppData\\Roaming\\Python\\Python312\\site-packages\\shapely\\measurement.py:72: RuntimeWarning: invalid value encountered in distance\n",
      "  return lib.distance(a, b, **kwargs)\n",
      "C:\\Users\\vitor.braz\\AppData\\Roaming\\Python\\Python312\\site-packages\\shapely\\measurement.py:72: RuntimeWarning: invalid value encountered in distance\n",
      "  return lib.distance(a, b, **kwargs)\n"
     ]
    },
    {
     "name": "stdout",
     "output_type": "stream",
     "text": [
      "[INFO] Tentando sem tipo de via: 'ROTARY CLUB DE SAO PAULONORTE'\n"
     ]
    },
    {
     "name": "stderr",
     "output_type": "stream",
     "text": [
      "C:\\Users\\vitor.braz\\AppData\\Roaming\\Python\\Python312\\site-packages\\shapely\\measurement.py:72: RuntimeWarning: invalid value encountered in distance\n",
      "  return lib.distance(a, b, **kwargs)\n",
      "C:\\Users\\vitor.braz\\AppData\\Roaming\\Python\\Python312\\site-packages\\shapely\\measurement.py:72: RuntimeWarning: invalid value encountered in distance\n",
      "  return lib.distance(a, b, **kwargs)\n",
      "C:\\Users\\vitor.braz\\AppData\\Roaming\\Python\\Python312\\site-packages\\shapely\\measurement.py:72: RuntimeWarning: invalid value encountered in distance\n",
      "  return lib.distance(a, b, **kwargs)\n",
      "C:\\Users\\vitor.braz\\AppData\\Roaming\\Python\\Python312\\site-packages\\shapely\\measurement.py:72: RuntimeWarning: invalid value encountered in distance\n",
      "  return lib.distance(a, b, **kwargs)\n",
      "C:\\Users\\vitor.braz\\AppData\\Roaming\\Python\\Python312\\site-packages\\shapely\\measurement.py:72: RuntimeWarning: invalid value encountered in distance\n",
      "  return lib.distance(a, b, **kwargs)\n"
     ]
    },
    {
     "name": "stdout",
     "output_type": "stream",
     "text": [
      "[INFO] Tentando sem tipo de via: 'SADAMU INOUE'\n"
     ]
    },
    {
     "name": "stderr",
     "output_type": "stream",
     "text": [
      "C:\\Users\\vitor.braz\\AppData\\Roaming\\Python\\Python312\\site-packages\\shapely\\measurement.py:72: RuntimeWarning: invalid value encountered in distance\n",
      "  return lib.distance(a, b, **kwargs)\n"
     ]
    },
    {
     "name": "stdout",
     "output_type": "stream",
     "text": [
      "[INFO] Tentando sem tipo de via: 'DO M'BOI MIRIM'\n"
     ]
    },
    {
     "name": "stderr",
     "output_type": "stream",
     "text": [
      "C:\\Users\\vitor.braz\\AppData\\Roaming\\Python\\Python312\\site-packages\\shapely\\measurement.py:72: RuntimeWarning: invalid value encountered in distance\n",
      "  return lib.distance(a, b, **kwargs)\n",
      "C:\\Users\\vitor.braz\\AppData\\Roaming\\Python\\Python312\\site-packages\\shapely\\measurement.py:72: RuntimeWarning: invalid value encountered in distance\n",
      "  return lib.distance(a, b, **kwargs)\n",
      "C:\\Users\\vitor.braz\\AppData\\Roaming\\Python\\Python312\\site-packages\\shapely\\measurement.py:72: RuntimeWarning: invalid value encountered in distance\n",
      "  return lib.distance(a, b, **kwargs)\n",
      "C:\\Users\\vitor.braz\\AppData\\Roaming\\Python\\Python312\\site-packages\\shapely\\measurement.py:72: RuntimeWarning: invalid value encountered in distance\n",
      "  return lib.distance(a, b, **kwargs)\n",
      "C:\\Users\\vitor.braz\\AppData\\Roaming\\Python\\Python312\\site-packages\\shapely\\measurement.py:72: RuntimeWarning: invalid value encountered in distance\n",
      "  return lib.distance(a, b, **kwargs)\n",
      "C:\\Users\\vitor.braz\\AppData\\Roaming\\Python\\Python312\\site-packages\\shapely\\measurement.py:72: RuntimeWarning: invalid value encountered in distance\n",
      "  return lib.distance(a, b, **kwargs)\n",
      "C:\\Users\\vitor.braz\\AppData\\Roaming\\Python\\Python312\\site-packages\\shapely\\measurement.py:72: RuntimeWarning: invalid value encountered in distance\n",
      "  return lib.distance(a, b, **kwargs)\n",
      "C:\\Users\\vitor.braz\\AppData\\Roaming\\Python\\Python312\\site-packages\\shapely\\measurement.py:72: RuntimeWarning: invalid value encountered in distance\n",
      "  return lib.distance(a, b, **kwargs)\n",
      "C:\\Users\\vitor.braz\\AppData\\Roaming\\Python\\Python312\\site-packages\\shapely\\measurement.py:72: RuntimeWarning: invalid value encountered in distance\n",
      "  return lib.distance(a, b, **kwargs)\n",
      "C:\\Users\\vitor.braz\\AppData\\Roaming\\Python\\Python312\\site-packages\\shapely\\measurement.py:72: RuntimeWarning: invalid value encountered in distance\n",
      "  return lib.distance(a, b, **kwargs)\n",
      "C:\\Users\\vitor.braz\\AppData\\Roaming\\Python\\Python312\\site-packages\\shapely\\measurement.py:72: RuntimeWarning: invalid value encountered in distance\n",
      "  return lib.distance(a, b, **kwargs)\n",
      "C:\\Users\\vitor.braz\\AppData\\Roaming\\Python\\Python312\\site-packages\\shapely\\measurement.py:72: RuntimeWarning: invalid value encountered in distance\n",
      "  return lib.distance(a, b, **kwargs)\n"
     ]
    },
    {
     "name": "stdout",
     "output_type": "stream",
     "text": [
      "[INFO] Tentando sem tipo de via: 'DA CIDADE UNIVERSITARIA'\n"
     ]
    },
    {
     "name": "stderr",
     "output_type": "stream",
     "text": [
      "C:\\Users\\vitor.braz\\AppData\\Roaming\\Python\\Python312\\site-packages\\shapely\\measurement.py:72: RuntimeWarning: invalid value encountered in distance\n",
      "  return lib.distance(a, b, **kwargs)\n",
      "C:\\Users\\vitor.braz\\AppData\\Roaming\\Python\\Python312\\site-packages\\shapely\\measurement.py:72: RuntimeWarning: invalid value encountered in distance\n",
      "  return lib.distance(a, b, **kwargs)\n"
     ]
    },
    {
     "name": "stdout",
     "output_type": "stream",
     "text": [
      "[INFO] Tentando sem tipo de via: 'PROFESSOR BATISTA BRITO'\n"
     ]
    },
    {
     "name": "stderr",
     "output_type": "stream",
     "text": [
      "C:\\Users\\vitor.braz\\AppData\\Roaming\\Python\\Python312\\site-packages\\shapely\\measurement.py:72: RuntimeWarning: invalid value encountered in distance\n",
      "  return lib.distance(a, b, **kwargs)\n",
      "C:\\Users\\vitor.braz\\AppData\\Roaming\\Python\\Python312\\site-packages\\shapely\\measurement.py:72: RuntimeWarning: invalid value encountered in distance\n",
      "  return lib.distance(a, b, **kwargs)\n",
      "C:\\Users\\vitor.braz\\AppData\\Roaming\\Python\\Python312\\site-packages\\shapely\\measurement.py:72: RuntimeWarning: invalid value encountered in distance\n",
      "  return lib.distance(a, b, **kwargs)\n"
     ]
    },
    {
     "name": "stdout",
     "output_type": "stream",
     "text": [
      "[INFO] Tentando sem tipo de via: 'DO M'BOI MIRIM'\n"
     ]
    },
    {
     "name": "stderr",
     "output_type": "stream",
     "text": [
      "C:\\Users\\vitor.braz\\AppData\\Roaming\\Python\\Python312\\site-packages\\shapely\\measurement.py:72: RuntimeWarning: invalid value encountered in distance\n",
      "  return lib.distance(a, b, **kwargs)\n",
      "C:\\Users\\vitor.braz\\AppData\\Roaming\\Python\\Python312\\site-packages\\shapely\\measurement.py:72: RuntimeWarning: invalid value encountered in distance\n",
      "  return lib.distance(a, b, **kwargs)\n",
      "C:\\Users\\vitor.braz\\AppData\\Roaming\\Python\\Python312\\site-packages\\shapely\\measurement.py:72: RuntimeWarning: invalid value encountered in distance\n",
      "  return lib.distance(a, b, **kwargs)\n",
      "C:\\Users\\vitor.braz\\AppData\\Roaming\\Python\\Python312\\site-packages\\shapely\\measurement.py:72: RuntimeWarning: invalid value encountered in distance\n",
      "  return lib.distance(a, b, **kwargs)\n",
      "C:\\Users\\vitor.braz\\AppData\\Roaming\\Python\\Python312\\site-packages\\shapely\\measurement.py:72: RuntimeWarning: invalid value encountered in distance\n",
      "  return lib.distance(a, b, **kwargs)\n",
      "C:\\Users\\vitor.braz\\AppData\\Roaming\\Python\\Python312\\site-packages\\shapely\\measurement.py:72: RuntimeWarning: invalid value encountered in distance\n",
      "  return lib.distance(a, b, **kwargs)\n",
      "C:\\Users\\vitor.braz\\AppData\\Roaming\\Python\\Python312\\site-packages\\shapely\\measurement.py:72: RuntimeWarning: invalid value encountered in distance\n",
      "  return lib.distance(a, b, **kwargs)\n"
     ]
    },
    {
     "name": "stdout",
     "output_type": "stream",
     "text": [
      "[INFO] Tentando sem tipo de via: 'AV RAGUEB CHOHFI'\n"
     ]
    },
    {
     "name": "stderr",
     "output_type": "stream",
     "text": [
      "C:\\Users\\vitor.braz\\AppData\\Roaming\\Python\\Python312\\site-packages\\shapely\\measurement.py:72: RuntimeWarning: invalid value encountered in distance\n",
      "  return lib.distance(a, b, **kwargs)\n",
      "C:\\Users\\vitor.braz\\AppData\\Roaming\\Python\\Python312\\site-packages\\shapely\\measurement.py:72: RuntimeWarning: invalid value encountered in distance\n",
      "  return lib.distance(a, b, **kwargs)\n",
      "C:\\Users\\vitor.braz\\AppData\\Roaming\\Python\\Python312\\site-packages\\shapely\\measurement.py:72: RuntimeWarning: invalid value encountered in distance\n",
      "  return lib.distance(a, b, **kwargs)\n",
      "C:\\Users\\vitor.braz\\AppData\\Roaming\\Python\\Python312\\site-packages\\shapely\\measurement.py:72: RuntimeWarning: invalid value encountered in distance\n",
      "  return lib.distance(a, b, **kwargs)\n",
      "C:\\Users\\vitor.braz\\AppData\\Roaming\\Python\\Python312\\site-packages\\shapely\\measurement.py:72: RuntimeWarning: invalid value encountered in distance\n",
      "  return lib.distance(a, b, **kwargs)\n",
      "C:\\Users\\vitor.braz\\AppData\\Roaming\\Python\\Python312\\site-packages\\shapely\\measurement.py:72: RuntimeWarning: invalid value encountered in distance\n",
      "  return lib.distance(a, b, **kwargs)\n",
      "C:\\Users\\vitor.braz\\AppData\\Roaming\\Python\\Python312\\site-packages\\shapely\\measurement.py:72: RuntimeWarning: invalid value encountered in distance\n",
      "  return lib.distance(a, b, **kwargs)\n",
      "C:\\Users\\vitor.braz\\AppData\\Roaming\\Python\\Python312\\site-packages\\shapely\\measurement.py:72: RuntimeWarning: invalid value encountered in distance\n",
      "  return lib.distance(a, b, **kwargs)\n",
      "C:\\Users\\vitor.braz\\AppData\\Roaming\\Python\\Python312\\site-packages\\shapely\\measurement.py:72: RuntimeWarning: invalid value encountered in distance\n",
      "  return lib.distance(a, b, **kwargs)\n",
      "C:\\Users\\vitor.braz\\AppData\\Roaming\\Python\\Python312\\site-packages\\shapely\\measurement.py:72: RuntimeWarning: invalid value encountered in distance\n",
      "  return lib.distance(a, b, **kwargs)\n",
      "C:\\Users\\vitor.braz\\AppData\\Roaming\\Python\\Python312\\site-packages\\shapely\\measurement.py:72: RuntimeWarning: invalid value encountered in distance\n",
      "  return lib.distance(a, b, **kwargs)\n",
      "C:\\Users\\vitor.braz\\AppData\\Roaming\\Python\\Python312\\site-packages\\shapely\\measurement.py:72: RuntimeWarning: invalid value encountered in distance\n",
      "  return lib.distance(a, b, **kwargs)\n",
      "C:\\Users\\vitor.braz\\AppData\\Roaming\\Python\\Python312\\site-packages\\shapely\\measurement.py:72: RuntimeWarning: invalid value encountered in distance\n",
      "  return lib.distance(a, b, **kwargs)\n"
     ]
    },
    {
     "name": "stdout",
     "output_type": "stream",
     "text": [
      "[INFO] Tentando sem tipo de via: 'CMTE TAYLOR'\n",
      "[INFO] Tentando sem tipo de via: 'DOUTOR JOAO BATISTA SOARES DE FARIA'\n"
     ]
    },
    {
     "name": "stderr",
     "output_type": "stream",
     "text": [
      "C:\\Users\\vitor.braz\\AppData\\Roaming\\Python\\Python312\\site-packages\\shapely\\measurement.py:72: RuntimeWarning: invalid value encountered in distance\n",
      "  return lib.distance(a, b, **kwargs)\n"
     ]
    },
    {
     "name": "stdout",
     "output_type": "stream",
     "text": [
      "[INFO] Tentando sem tipo de via: 'ALDA'\n"
     ]
    },
    {
     "name": "stderr",
     "output_type": "stream",
     "text": [
      "C:\\Users\\vitor.braz\\AppData\\Roaming\\Python\\Python312\\site-packages\\shapely\\measurement.py:72: RuntimeWarning: invalid value encountered in distance\n",
      "  return lib.distance(a, b, **kwargs)\n",
      "C:\\Users\\vitor.braz\\AppData\\Roaming\\Python\\Python312\\site-packages\\shapely\\measurement.py:72: RuntimeWarning: invalid value encountered in distance\n",
      "  return lib.distance(a, b, **kwargs)\n",
      "C:\\Users\\vitor.braz\\AppData\\Roaming\\Python\\Python312\\site-packages\\shapely\\measurement.py:72: RuntimeWarning: invalid value encountered in distance\n",
      "  return lib.distance(a, b, **kwargs)\n",
      "C:\\Users\\vitor.braz\\AppData\\Roaming\\Python\\Python312\\site-packages\\shapely\\measurement.py:72: RuntimeWarning: invalid value encountered in distance\n",
      "  return lib.distance(a, b, **kwargs)\n",
      "C:\\Users\\vitor.braz\\AppData\\Roaming\\Python\\Python312\\site-packages\\shapely\\measurement.py:72: RuntimeWarning: invalid value encountered in distance\n",
      "  return lib.distance(a, b, **kwargs)\n",
      "C:\\Users\\vitor.braz\\AppData\\Roaming\\Python\\Python312\\site-packages\\shapely\\measurement.py:72: RuntimeWarning: invalid value encountered in distance\n",
      "  return lib.distance(a, b, **kwargs)\n",
      "C:\\Users\\vitor.braz\\AppData\\Roaming\\Python\\Python312\\site-packages\\shapely\\measurement.py:72: RuntimeWarning: invalid value encountered in distance\n",
      "  return lib.distance(a, b, **kwargs)\n",
      "C:\\Users\\vitor.braz\\AppData\\Roaming\\Python\\Python312\\site-packages\\shapely\\measurement.py:72: RuntimeWarning: invalid value encountered in distance\n",
      "  return lib.distance(a, b, **kwargs)\n",
      "C:\\Users\\vitor.braz\\AppData\\Roaming\\Python\\Python312\\site-packages\\shapely\\measurement.py:72: RuntimeWarning: invalid value encountered in distance\n",
      "  return lib.distance(a, b, **kwargs)\n",
      "C:\\Users\\vitor.braz\\AppData\\Roaming\\Python\\Python312\\site-packages\\shapely\\measurement.py:72: RuntimeWarning: invalid value encountered in distance\n",
      "  return lib.distance(a, b, **kwargs)\n",
      "C:\\Users\\vitor.braz\\AppData\\Roaming\\Python\\Python312\\site-packages\\shapely\\measurement.py:72: RuntimeWarning: invalid value encountered in distance\n",
      "  return lib.distance(a, b, **kwargs)\n",
      "C:\\Users\\vitor.braz\\AppData\\Roaming\\Python\\Python312\\site-packages\\shapely\\measurement.py:72: RuntimeWarning: invalid value encountered in distance\n",
      "  return lib.distance(a, b, **kwargs)\n",
      "C:\\Users\\vitor.braz\\AppData\\Roaming\\Python\\Python312\\site-packages\\shapely\\measurement.py:72: RuntimeWarning: invalid value encountered in distance\n",
      "  return lib.distance(a, b, **kwargs)\n",
      "C:\\Users\\vitor.braz\\AppData\\Roaming\\Python\\Python312\\site-packages\\shapely\\measurement.py:72: RuntimeWarning: invalid value encountered in distance\n",
      "  return lib.distance(a, b, **kwargs)\n",
      "C:\\Users\\vitor.braz\\AppData\\Roaming\\Python\\Python312\\site-packages\\shapely\\measurement.py:72: RuntimeWarning: invalid value encountered in distance\n",
      "  return lib.distance(a, b, **kwargs)\n",
      "C:\\Users\\vitor.braz\\AppData\\Roaming\\Python\\Python312\\site-packages\\shapely\\measurement.py:72: RuntimeWarning: invalid value encountered in distance\n",
      "  return lib.distance(a, b, **kwargs)\n",
      "C:\\Users\\vitor.braz\\AppData\\Roaming\\Python\\Python312\\site-packages\\shapely\\measurement.py:72: RuntimeWarning: invalid value encountered in distance\n",
      "  return lib.distance(a, b, **kwargs)\n",
      "C:\\Users\\vitor.braz\\AppData\\Roaming\\Python\\Python312\\site-packages\\shapely\\measurement.py:72: RuntimeWarning: invalid value encountered in distance\n",
      "  return lib.distance(a, b, **kwargs)\n",
      "C:\\Users\\vitor.braz\\AppData\\Roaming\\Python\\Python312\\site-packages\\shapely\\measurement.py:72: RuntimeWarning: invalid value encountered in distance\n",
      "  return lib.distance(a, b, **kwargs)\n",
      "C:\\Users\\vitor.braz\\AppData\\Roaming\\Python\\Python312\\site-packages\\shapely\\measurement.py:72: RuntimeWarning: invalid value encountered in distance\n",
      "  return lib.distance(a, b, **kwargs)\n",
      "C:\\Users\\vitor.braz\\AppData\\Roaming\\Python\\Python312\\site-packages\\shapely\\measurement.py:72: RuntimeWarning: invalid value encountered in distance\n",
      "  return lib.distance(a, b, **kwargs)\n",
      "C:\\Users\\vitor.braz\\AppData\\Roaming\\Python\\Python312\\site-packages\\shapely\\measurement.py:72: RuntimeWarning: invalid value encountered in distance\n",
      "  return lib.distance(a, b, **kwargs)\n",
      "C:\\Users\\vitor.braz\\AppData\\Roaming\\Python\\Python312\\site-packages\\shapely\\measurement.py:72: RuntimeWarning: invalid value encountered in distance\n",
      "  return lib.distance(a, b, **kwargs)\n",
      "C:\\Users\\vitor.braz\\AppData\\Roaming\\Python\\Python312\\site-packages\\shapely\\measurement.py:72: RuntimeWarning: invalid value encountered in distance\n",
      "  return lib.distance(a, b, **kwargs)\n",
      "C:\\Users\\vitor.braz\\AppData\\Roaming\\Python\\Python312\\site-packages\\shapely\\measurement.py:72: RuntimeWarning: invalid value encountered in distance\n",
      "  return lib.distance(a, b, **kwargs)\n"
     ]
    },
    {
     "name": "stdout",
     "output_type": "stream",
     "text": [
      "[INFO] Tentando sem tipo de via: 'RADIAL LESTE CENTRO'\n"
     ]
    },
    {
     "name": "stderr",
     "output_type": "stream",
     "text": [
      "C:\\Users\\vitor.braz\\AppData\\Roaming\\Python\\Python312\\site-packages\\shapely\\measurement.py:72: RuntimeWarning: invalid value encountered in distance\n",
      "  return lib.distance(a, b, **kwargs)\n",
      "C:\\Users\\vitor.braz\\AppData\\Roaming\\Python\\Python312\\site-packages\\shapely\\measurement.py:72: RuntimeWarning: invalid value encountered in distance\n",
      "  return lib.distance(a, b, **kwargs)\n",
      "C:\\Users\\vitor.braz\\AppData\\Roaming\\Python\\Python312\\site-packages\\shapely\\measurement.py:72: RuntimeWarning: invalid value encountered in distance\n",
      "  return lib.distance(a, b, **kwargs)\n",
      "C:\\Users\\vitor.braz\\AppData\\Roaming\\Python\\Python312\\site-packages\\shapely\\measurement.py:72: RuntimeWarning: invalid value encountered in distance\n",
      "  return lib.distance(a, b, **kwargs)\n",
      "C:\\Users\\vitor.braz\\AppData\\Roaming\\Python\\Python312\\site-packages\\shapely\\measurement.py:72: RuntimeWarning: invalid value encountered in distance\n",
      "  return lib.distance(a, b, **kwargs)\n"
     ]
    },
    {
     "name": "stdout",
     "output_type": "stream",
     "text": [
      "[INFO] Tentando sem tipo de via: 'MARIO COVAS'\n"
     ]
    },
    {
     "name": "stderr",
     "output_type": "stream",
     "text": [
      "C:\\Users\\vitor.braz\\AppData\\Roaming\\Python\\Python312\\site-packages\\shapely\\measurement.py:72: RuntimeWarning: invalid value encountered in distance\n",
      "  return lib.distance(a, b, **kwargs)\n",
      "C:\\Users\\vitor.braz\\AppData\\Roaming\\Python\\Python312\\site-packages\\shapely\\measurement.py:72: RuntimeWarning: invalid value encountered in distance\n",
      "  return lib.distance(a, b, **kwargs)\n",
      "C:\\Users\\vitor.braz\\AppData\\Roaming\\Python\\Python312\\site-packages\\shapely\\measurement.py:72: RuntimeWarning: invalid value encountered in distance\n",
      "  return lib.distance(a, b, **kwargs)\n",
      "C:\\Users\\vitor.braz\\AppData\\Roaming\\Python\\Python312\\site-packages\\shapely\\measurement.py:72: RuntimeWarning: invalid value encountered in distance\n",
      "  return lib.distance(a, b, **kwargs)\n",
      "C:\\Users\\vitor.braz\\AppData\\Roaming\\Python\\Python312\\site-packages\\shapely\\measurement.py:72: RuntimeWarning: invalid value encountered in distance\n",
      "  return lib.distance(a, b, **kwargs)\n",
      "C:\\Users\\vitor.braz\\AppData\\Roaming\\Python\\Python312\\site-packages\\shapely\\measurement.py:72: RuntimeWarning: invalid value encountered in distance\n",
      "  return lib.distance(a, b, **kwargs)\n",
      "C:\\Users\\vitor.braz\\AppData\\Roaming\\Python\\Python312\\site-packages\\shapely\\measurement.py:72: RuntimeWarning: invalid value encountered in distance\n",
      "  return lib.distance(a, b, **kwargs)\n",
      "C:\\Users\\vitor.braz\\AppData\\Roaming\\Python\\Python312\\site-packages\\shapely\\measurement.py:72: RuntimeWarning: invalid value encountered in distance\n",
      "  return lib.distance(a, b, **kwargs)\n",
      "C:\\Users\\vitor.braz\\AppData\\Roaming\\Python\\Python312\\site-packages\\shapely\\measurement.py:72: RuntimeWarning: invalid value encountered in distance\n",
      "  return lib.distance(a, b, **kwargs)\n",
      "C:\\Users\\vitor.braz\\AppData\\Roaming\\Python\\Python312\\site-packages\\shapely\\measurement.py:72: RuntimeWarning: invalid value encountered in distance\n",
      "  return lib.distance(a, b, **kwargs)\n",
      "C:\\Users\\vitor.braz\\AppData\\Roaming\\Python\\Python312\\site-packages\\shapely\\measurement.py:72: RuntimeWarning: invalid value encountered in distance\n",
      "  return lib.distance(a, b, **kwargs)\n",
      "C:\\Users\\vitor.braz\\AppData\\Roaming\\Python\\Python312\\site-packages\\shapely\\measurement.py:72: RuntimeWarning: invalid value encountered in distance\n",
      "  return lib.distance(a, b, **kwargs)\n",
      "C:\\Users\\vitor.braz\\AppData\\Roaming\\Python\\Python312\\site-packages\\shapely\\measurement.py:72: RuntimeWarning: invalid value encountered in distance\n",
      "  return lib.distance(a, b, **kwargs)\n",
      "C:\\Users\\vitor.braz\\AppData\\Roaming\\Python\\Python312\\site-packages\\shapely\\measurement.py:72: RuntimeWarning: invalid value encountered in distance\n",
      "  return lib.distance(a, b, **kwargs)\n",
      "C:\\Users\\vitor.braz\\AppData\\Roaming\\Python\\Python312\\site-packages\\shapely\\measurement.py:72: RuntimeWarning: invalid value encountered in distance\n",
      "  return lib.distance(a, b, **kwargs)\n",
      "C:\\Users\\vitor.braz\\AppData\\Roaming\\Python\\Python312\\site-packages\\shapely\\measurement.py:72: RuntimeWarning: invalid value encountered in distance\n",
      "  return lib.distance(a, b, **kwargs)\n",
      "C:\\Users\\vitor.braz\\AppData\\Roaming\\Python\\Python312\\site-packages\\shapely\\measurement.py:72: RuntimeWarning: invalid value encountered in distance\n",
      "  return lib.distance(a, b, **kwargs)\n",
      "C:\\Users\\vitor.braz\\AppData\\Roaming\\Python\\Python312\\site-packages\\shapely\\measurement.py:72: RuntimeWarning: invalid value encountered in distance\n",
      "  return lib.distance(a, b, **kwargs)\n",
      "C:\\Users\\vitor.braz\\AppData\\Roaming\\Python\\Python312\\site-packages\\shapely\\measurement.py:72: RuntimeWarning: invalid value encountered in distance\n",
      "  return lib.distance(a, b, **kwargs)\n",
      "C:\\Users\\vitor.braz\\AppData\\Roaming\\Python\\Python312\\site-packages\\shapely\\measurement.py:72: RuntimeWarning: invalid value encountered in distance\n",
      "  return lib.distance(a, b, **kwargs)\n",
      "C:\\Users\\vitor.braz\\AppData\\Roaming\\Python\\Python312\\site-packages\\shapely\\measurement.py:72: RuntimeWarning: invalid value encountered in distance\n",
      "  return lib.distance(a, b, **kwargs)\n",
      "C:\\Users\\vitor.braz\\AppData\\Roaming\\Python\\Python312\\site-packages\\shapely\\measurement.py:72: RuntimeWarning: invalid value encountered in distance\n",
      "  return lib.distance(a, b, **kwargs)\n",
      "C:\\Users\\vitor.braz\\AppData\\Roaming\\Python\\Python312\\site-packages\\shapely\\measurement.py:72: RuntimeWarning: invalid value encountered in distance\n",
      "  return lib.distance(a, b, **kwargs)\n",
      "C:\\Users\\vitor.braz\\AppData\\Roaming\\Python\\Python312\\site-packages\\shapely\\measurement.py:72: RuntimeWarning: invalid value encountered in distance\n",
      "  return lib.distance(a, b, **kwargs)\n",
      "C:\\Users\\vitor.braz\\AppData\\Roaming\\Python\\Python312\\site-packages\\shapely\\measurement.py:72: RuntimeWarning: invalid value encountered in distance\n",
      "  return lib.distance(a, b, **kwargs)\n",
      "C:\\Users\\vitor.braz\\AppData\\Roaming\\Python\\Python312\\site-packages\\shapely\\measurement.py:72: RuntimeWarning: invalid value encountered in distance\n",
      "  return lib.distance(a, b, **kwargs)\n",
      "C:\\Users\\vitor.braz\\AppData\\Roaming\\Python\\Python312\\site-packages\\shapely\\measurement.py:72: RuntimeWarning: invalid value encountered in distance\n",
      "  return lib.distance(a, b, **kwargs)\n",
      "C:\\Users\\vitor.braz\\AppData\\Roaming\\Python\\Python312\\site-packages\\shapely\\measurement.py:72: RuntimeWarning: invalid value encountered in distance\n",
      "  return lib.distance(a, b, **kwargs)\n",
      "C:\\Users\\vitor.braz\\AppData\\Roaming\\Python\\Python312\\site-packages\\shapely\\measurement.py:72: RuntimeWarning: invalid value encountered in distance\n",
      "  return lib.distance(a, b, **kwargs)\n",
      "C:\\Users\\vitor.braz\\AppData\\Roaming\\Python\\Python312\\site-packages\\shapely\\measurement.py:72: RuntimeWarning: invalid value encountered in distance\n",
      "  return lib.distance(a, b, **kwargs)\n",
      "C:\\Users\\vitor.braz\\AppData\\Roaming\\Python\\Python312\\site-packages\\shapely\\measurement.py:72: RuntimeWarning: invalid value encountered in distance\n",
      "  return lib.distance(a, b, **kwargs)\n",
      "C:\\Users\\vitor.braz\\AppData\\Roaming\\Python\\Python312\\site-packages\\shapely\\measurement.py:72: RuntimeWarning: invalid value encountered in distance\n",
      "  return lib.distance(a, b, **kwargs)\n",
      "C:\\Users\\vitor.braz\\AppData\\Roaming\\Python\\Python312\\site-packages\\shapely\\measurement.py:72: RuntimeWarning: invalid value encountered in distance\n",
      "  return lib.distance(a, b, **kwargs)\n",
      "C:\\Users\\vitor.braz\\AppData\\Roaming\\Python\\Python312\\site-packages\\shapely\\measurement.py:72: RuntimeWarning: invalid value encountered in distance\n",
      "  return lib.distance(a, b, **kwargs)\n",
      "C:\\Users\\vitor.braz\\AppData\\Roaming\\Python\\Python312\\site-packages\\shapely\\measurement.py:72: RuntimeWarning: invalid value encountered in distance\n",
      "  return lib.distance(a, b, **kwargs)\n",
      "C:\\Users\\vitor.braz\\AppData\\Roaming\\Python\\Python312\\site-packages\\shapely\\measurement.py:72: RuntimeWarning: invalid value encountered in distance\n",
      "  return lib.distance(a, b, **kwargs)\n",
      "C:\\Users\\vitor.braz\\AppData\\Roaming\\Python\\Python312\\site-packages\\shapely\\measurement.py:72: RuntimeWarning: invalid value encountered in distance\n",
      "  return lib.distance(a, b, **kwargs)\n",
      "C:\\Users\\vitor.braz\\AppData\\Roaming\\Python\\Python312\\site-packages\\shapely\\measurement.py:72: RuntimeWarning: invalid value encountered in distance\n",
      "  return lib.distance(a, b, **kwargs)\n",
      "C:\\Users\\vitor.braz\\AppData\\Roaming\\Python\\Python312\\site-packages\\shapely\\measurement.py:72: RuntimeWarning: invalid value encountered in distance\n",
      "  return lib.distance(a, b, **kwargs)\n",
      "C:\\Users\\vitor.braz\\AppData\\Roaming\\Python\\Python312\\site-packages\\shapely\\measurement.py:72: RuntimeWarning: invalid value encountered in distance\n",
      "  return lib.distance(a, b, **kwargs)\n",
      "C:\\Users\\vitor.braz\\AppData\\Roaming\\Python\\Python312\\site-packages\\shapely\\measurement.py:72: RuntimeWarning: invalid value encountered in distance\n",
      "  return lib.distance(a, b, **kwargs)\n",
      "C:\\Users\\vitor.braz\\AppData\\Roaming\\Python\\Python312\\site-packages\\shapely\\measurement.py:72: RuntimeWarning: invalid value encountered in distance\n",
      "  return lib.distance(a, b, **kwargs)\n"
     ]
    },
    {
     "name": "stdout",
     "output_type": "stream",
     "text": [
      "[INFO] Tentando sem tipo de via: 'RADIAL LESTE CENTRO'\n"
     ]
    },
    {
     "name": "stderr",
     "output_type": "stream",
     "text": [
      "C:\\Users\\vitor.braz\\AppData\\Roaming\\Python\\Python312\\site-packages\\shapely\\measurement.py:72: RuntimeWarning: invalid value encountered in distance\n",
      "  return lib.distance(a, b, **kwargs)\n",
      "C:\\Users\\vitor.braz\\AppData\\Roaming\\Python\\Python312\\site-packages\\shapely\\measurement.py:72: RuntimeWarning: invalid value encountered in distance\n",
      "  return lib.distance(a, b, **kwargs)\n",
      "C:\\Users\\vitor.braz\\AppData\\Roaming\\Python\\Python312\\site-packages\\shapely\\measurement.py:72: RuntimeWarning: invalid value encountered in distance\n",
      "  return lib.distance(a, b, **kwargs)\n",
      "C:\\Users\\vitor.braz\\AppData\\Roaming\\Python\\Python312\\site-packages\\shapely\\measurement.py:72: RuntimeWarning: invalid value encountered in distance\n",
      "  return lib.distance(a, b, **kwargs)\n",
      "C:\\Users\\vitor.braz\\AppData\\Roaming\\Python\\Python312\\site-packages\\shapely\\measurement.py:72: RuntimeWarning: invalid value encountered in distance\n",
      "  return lib.distance(a, b, **kwargs)\n",
      "C:\\Users\\vitor.braz\\AppData\\Roaming\\Python\\Python312\\site-packages\\shapely\\measurement.py:72: RuntimeWarning: invalid value encountered in distance\n",
      "  return lib.distance(a, b, **kwargs)\n"
     ]
    },
    {
     "name": "stdout",
     "output_type": "stream",
     "text": [
      "[INFO] Tentando sem tipo de via: 'SADAMU INOUE'\n"
     ]
    },
    {
     "name": "stderr",
     "output_type": "stream",
     "text": [
      "C:\\Users\\vitor.braz\\AppData\\Roaming\\Python\\Python312\\site-packages\\shapely\\measurement.py:72: RuntimeWarning: invalid value encountered in distance\n",
      "  return lib.distance(a, b, **kwargs)\n",
      "C:\\Users\\vitor.braz\\AppData\\Roaming\\Python\\Python312\\site-packages\\shapely\\measurement.py:72: RuntimeWarning: invalid value encountered in distance\n",
      "  return lib.distance(a, b, **kwargs)\n",
      "C:\\Users\\vitor.braz\\AppData\\Roaming\\Python\\Python312\\site-packages\\shapely\\measurement.py:72: RuntimeWarning: invalid value encountered in distance\n",
      "  return lib.distance(a, b, **kwargs)\n",
      "C:\\Users\\vitor.braz\\AppData\\Roaming\\Python\\Python312\\site-packages\\shapely\\measurement.py:72: RuntimeWarning: invalid value encountered in distance\n",
      "  return lib.distance(a, b, **kwargs)\n"
     ]
    },
    {
     "name": "stdout",
     "output_type": "stream",
     "text": [
      "[INFO] Tentando sem tipo de via: 'DAS IMBIRAS'\n"
     ]
    },
    {
     "name": "stderr",
     "output_type": "stream",
     "text": [
      "C:\\Users\\vitor.braz\\AppData\\Roaming\\Python\\Python312\\site-packages\\shapely\\measurement.py:72: RuntimeWarning: invalid value encountered in distance\n",
      "  return lib.distance(a, b, **kwargs)\n",
      "C:\\Users\\vitor.braz\\AppData\\Roaming\\Python\\Python312\\site-packages\\shapely\\measurement.py:72: RuntimeWarning: invalid value encountered in distance\n",
      "  return lib.distance(a, b, **kwargs)\n",
      "C:\\Users\\vitor.braz\\AppData\\Roaming\\Python\\Python312\\site-packages\\shapely\\measurement.py:72: RuntimeWarning: invalid value encountered in distance\n",
      "  return lib.distance(a, b, **kwargs)\n",
      "C:\\Users\\vitor.braz\\AppData\\Roaming\\Python\\Python312\\site-packages\\shapely\\measurement.py:72: RuntimeWarning: invalid value encountered in distance\n",
      "  return lib.distance(a, b, **kwargs)\n",
      "C:\\Users\\vitor.braz\\AppData\\Roaming\\Python\\Python312\\site-packages\\shapely\\measurement.py:72: RuntimeWarning: invalid value encountered in distance\n",
      "  return lib.distance(a, b, **kwargs)\n",
      "C:\\Users\\vitor.braz\\AppData\\Roaming\\Python\\Python312\\site-packages\\shapely\\measurement.py:72: RuntimeWarning: invalid value encountered in distance\n",
      "  return lib.distance(a, b, **kwargs)\n",
      "C:\\Users\\vitor.braz\\AppData\\Roaming\\Python\\Python312\\site-packages\\shapely\\measurement.py:72: RuntimeWarning: invalid value encountered in distance\n",
      "  return lib.distance(a, b, **kwargs)\n",
      "C:\\Users\\vitor.braz\\AppData\\Roaming\\Python\\Python312\\site-packages\\shapely\\measurement.py:72: RuntimeWarning: invalid value encountered in distance\n",
      "  return lib.distance(a, b, **kwargs)\n",
      "C:\\Users\\vitor.braz\\AppData\\Roaming\\Python\\Python312\\site-packages\\shapely\\measurement.py:72: RuntimeWarning: invalid value encountered in distance\n",
      "  return lib.distance(a, b, **kwargs)\n",
      "C:\\Users\\vitor.braz\\AppData\\Roaming\\Python\\Python312\\site-packages\\shapely\\measurement.py:72: RuntimeWarning: invalid value encountered in distance\n",
      "  return lib.distance(a, b, **kwargs)\n",
      "C:\\Users\\vitor.braz\\AppData\\Roaming\\Python\\Python312\\site-packages\\shapely\\measurement.py:72: RuntimeWarning: invalid value encountered in distance\n",
      "  return lib.distance(a, b, **kwargs)\n",
      "C:\\Users\\vitor.braz\\AppData\\Roaming\\Python\\Python312\\site-packages\\shapely\\measurement.py:72: RuntimeWarning: invalid value encountered in distance\n",
      "  return lib.distance(a, b, **kwargs)\n",
      "C:\\Users\\vitor.braz\\AppData\\Roaming\\Python\\Python312\\site-packages\\shapely\\measurement.py:72: RuntimeWarning: invalid value encountered in distance\n",
      "  return lib.distance(a, b, **kwargs)\n",
      "C:\\Users\\vitor.braz\\AppData\\Roaming\\Python\\Python312\\site-packages\\shapely\\measurement.py:72: RuntimeWarning: invalid value encountered in distance\n",
      "  return lib.distance(a, b, **kwargs)\n",
      "C:\\Users\\vitor.braz\\AppData\\Roaming\\Python\\Python312\\site-packages\\shapely\\measurement.py:72: RuntimeWarning: invalid value encountered in distance\n",
      "  return lib.distance(a, b, **kwargs)\n",
      "C:\\Users\\vitor.braz\\AppData\\Roaming\\Python\\Python312\\site-packages\\shapely\\measurement.py:72: RuntimeWarning: invalid value encountered in distance\n",
      "  return lib.distance(a, b, **kwargs)\n",
      "C:\\Users\\vitor.braz\\AppData\\Roaming\\Python\\Python312\\site-packages\\shapely\\measurement.py:72: RuntimeWarning: invalid value encountered in distance\n",
      "  return lib.distance(a, b, **kwargs)\n",
      "C:\\Users\\vitor.braz\\AppData\\Roaming\\Python\\Python312\\site-packages\\shapely\\measurement.py:72: RuntimeWarning: invalid value encountered in distance\n",
      "  return lib.distance(a, b, **kwargs)\n",
      "C:\\Users\\vitor.braz\\AppData\\Roaming\\Python\\Python312\\site-packages\\shapely\\measurement.py:72: RuntimeWarning: invalid value encountered in distance\n",
      "  return lib.distance(a, b, **kwargs)\n",
      "C:\\Users\\vitor.braz\\AppData\\Roaming\\Python\\Python312\\site-packages\\shapely\\measurement.py:72: RuntimeWarning: invalid value encountered in distance\n",
      "  return lib.distance(a, b, **kwargs)\n",
      "C:\\Users\\vitor.braz\\AppData\\Roaming\\Python\\Python312\\site-packages\\shapely\\measurement.py:72: RuntimeWarning: invalid value encountered in distance\n",
      "  return lib.distance(a, b, **kwargs)\n",
      "C:\\Users\\vitor.braz\\AppData\\Roaming\\Python\\Python312\\site-packages\\shapely\\measurement.py:72: RuntimeWarning: invalid value encountered in distance\n",
      "  return lib.distance(a, b, **kwargs)\n",
      "C:\\Users\\vitor.braz\\AppData\\Roaming\\Python\\Python312\\site-packages\\shapely\\measurement.py:72: RuntimeWarning: invalid value encountered in distance\n",
      "  return lib.distance(a, b, **kwargs)\n",
      "C:\\Users\\vitor.braz\\AppData\\Roaming\\Python\\Python312\\site-packages\\shapely\\measurement.py:72: RuntimeWarning: invalid value encountered in distance\n",
      "  return lib.distance(a, b, **kwargs)\n",
      "C:\\Users\\vitor.braz\\AppData\\Roaming\\Python\\Python312\\site-packages\\shapely\\measurement.py:72: RuntimeWarning: invalid value encountered in distance\n",
      "  return lib.distance(a, b, **kwargs)\n",
      "C:\\Users\\vitor.braz\\AppData\\Roaming\\Python\\Python312\\site-packages\\shapely\\measurement.py:72: RuntimeWarning: invalid value encountered in distance\n",
      "  return lib.distance(a, b, **kwargs)\n",
      "C:\\Users\\vitor.braz\\AppData\\Roaming\\Python\\Python312\\site-packages\\shapely\\measurement.py:72: RuntimeWarning: invalid value encountered in distance\n",
      "  return lib.distance(a, b, **kwargs)\n",
      "C:\\Users\\vitor.braz\\AppData\\Roaming\\Python\\Python312\\site-packages\\shapely\\measurement.py:72: RuntimeWarning: invalid value encountered in distance\n",
      "  return lib.distance(a, b, **kwargs)\n",
      "C:\\Users\\vitor.braz\\AppData\\Roaming\\Python\\Python312\\site-packages\\shapely\\measurement.py:72: RuntimeWarning: invalid value encountered in distance\n",
      "  return lib.distance(a, b, **kwargs)\n",
      "C:\\Users\\vitor.braz\\AppData\\Roaming\\Python\\Python312\\site-packages\\shapely\\measurement.py:72: RuntimeWarning: invalid value encountered in distance\n",
      "  return lib.distance(a, b, **kwargs)\n",
      "C:\\Users\\vitor.braz\\AppData\\Roaming\\Python\\Python312\\site-packages\\shapely\\measurement.py:72: RuntimeWarning: invalid value encountered in distance\n",
      "  return lib.distance(a, b, **kwargs)\n",
      "C:\\Users\\vitor.braz\\AppData\\Roaming\\Python\\Python312\\site-packages\\shapely\\measurement.py:72: RuntimeWarning: invalid value encountered in distance\n",
      "  return lib.distance(a, b, **kwargs)\n"
     ]
    },
    {
     "name": "stdout",
     "output_type": "stream",
     "text": [
      "[INFO] Tentando sem tipo de via: 'SADAMU INOUE'\n"
     ]
    },
    {
     "name": "stderr",
     "output_type": "stream",
     "text": [
      "C:\\Users\\vitor.braz\\AppData\\Roaming\\Python\\Python312\\site-packages\\shapely\\measurement.py:72: RuntimeWarning: invalid value encountered in distance\n",
      "  return lib.distance(a, b, **kwargs)\n",
      "C:\\Users\\vitor.braz\\AppData\\Roaming\\Python\\Python312\\site-packages\\shapely\\measurement.py:72: RuntimeWarning: invalid value encountered in distance\n",
      "  return lib.distance(a, b, **kwargs)\n",
      "C:\\Users\\vitor.braz\\AppData\\Roaming\\Python\\Python312\\site-packages\\shapely\\measurement.py:72: RuntimeWarning: invalid value encountered in distance\n",
      "  return lib.distance(a, b, **kwargs)\n",
      "C:\\Users\\vitor.braz\\AppData\\Roaming\\Python\\Python312\\site-packages\\shapely\\measurement.py:72: RuntimeWarning: invalid value encountered in distance\n",
      "  return lib.distance(a, b, **kwargs)\n",
      "C:\\Users\\vitor.braz\\AppData\\Roaming\\Python\\Python312\\site-packages\\shapely\\measurement.py:72: RuntimeWarning: invalid value encountered in distance\n",
      "  return lib.distance(a, b, **kwargs)\n"
     ]
    },
    {
     "name": "stdout",
     "output_type": "stream",
     "text": [
      "[INFO] Tentando sem tipo de via: 'ECO TURISTICA DE PARELHEIROS'\n"
     ]
    },
    {
     "name": "stderr",
     "output_type": "stream",
     "text": [
      "C:\\Users\\vitor.braz\\AppData\\Roaming\\Python\\Python312\\site-packages\\shapely\\measurement.py:72: RuntimeWarning: invalid value encountered in distance\n",
      "  return lib.distance(a, b, **kwargs)\n",
      "C:\\Users\\vitor.braz\\AppData\\Roaming\\Python\\Python312\\site-packages\\shapely\\measurement.py:72: RuntimeWarning: invalid value encountered in distance\n",
      "  return lib.distance(a, b, **kwargs)\n"
     ]
    },
    {
     "name": "stdout",
     "output_type": "stream",
     "text": [
      "[INFO] Tentando sem tipo de via: 'VIA ELEVADA ARICANDUVA TRECHO PENHA'\n"
     ]
    },
    {
     "name": "stderr",
     "output_type": "stream",
     "text": [
      "C:\\Users\\vitor.braz\\AppData\\Roaming\\Python\\Python312\\site-packages\\shapely\\measurement.py:72: RuntimeWarning: invalid value encountered in distance\n",
      "  return lib.distance(a, b, **kwargs)\n",
      "C:\\Users\\vitor.braz\\AppData\\Roaming\\Python\\Python312\\site-packages\\shapely\\measurement.py:72: RuntimeWarning: invalid value encountered in distance\n",
      "  return lib.distance(a, b, **kwargs)\n",
      "C:\\Users\\vitor.braz\\AppData\\Roaming\\Python\\Python312\\site-packages\\shapely\\measurement.py:72: RuntimeWarning: invalid value encountered in distance\n",
      "  return lib.distance(a, b, **kwargs)\n",
      "C:\\Users\\vitor.braz\\AppData\\Roaming\\Python\\Python312\\site-packages\\shapely\\measurement.py:72: RuntimeWarning: invalid value encountered in distance\n",
      "  return lib.distance(a, b, **kwargs)\n",
      "C:\\Users\\vitor.braz\\AppData\\Roaming\\Python\\Python312\\site-packages\\shapely\\measurement.py:72: RuntimeWarning: invalid value encountered in distance\n",
      "  return lib.distance(a, b, **kwargs)\n",
      "C:\\Users\\vitor.braz\\AppData\\Roaming\\Python\\Python312\\site-packages\\shapely\\measurement.py:72: RuntimeWarning: invalid value encountered in distance\n",
      "  return lib.distance(a, b, **kwargs)\n",
      "C:\\Users\\vitor.braz\\AppData\\Roaming\\Python\\Python312\\site-packages\\shapely\\measurement.py:72: RuntimeWarning: invalid value encountered in distance\n",
      "  return lib.distance(a, b, **kwargs)\n",
      "C:\\Users\\vitor.braz\\AppData\\Roaming\\Python\\Python312\\site-packages\\shapely\\measurement.py:72: RuntimeWarning: invalid value encountered in distance\n",
      "  return lib.distance(a, b, **kwargs)\n",
      "C:\\Users\\vitor.braz\\AppData\\Roaming\\Python\\Python312\\site-packages\\shapely\\measurement.py:72: RuntimeWarning: invalid value encountered in distance\n",
      "  return lib.distance(a, b, **kwargs)\n",
      "C:\\Users\\vitor.braz\\AppData\\Roaming\\Python\\Python312\\site-packages\\shapely\\measurement.py:72: RuntimeWarning: invalid value encountered in distance\n",
      "  return lib.distance(a, b, **kwargs)\n",
      "C:\\Users\\vitor.braz\\AppData\\Roaming\\Python\\Python312\\site-packages\\shapely\\measurement.py:72: RuntimeWarning: invalid value encountered in distance\n",
      "  return lib.distance(a, b, **kwargs)\n",
      "C:\\Users\\vitor.braz\\AppData\\Roaming\\Python\\Python312\\site-packages\\shapely\\measurement.py:72: RuntimeWarning: invalid value encountered in distance\n",
      "  return lib.distance(a, b, **kwargs)\n",
      "C:\\Users\\vitor.braz\\AppData\\Roaming\\Python\\Python312\\site-packages\\shapely\\measurement.py:72: RuntimeWarning: invalid value encountered in distance\n",
      "  return lib.distance(a, b, **kwargs)\n"
     ]
    },
    {
     "name": "stdout",
     "output_type": "stream",
     "text": [
      "[INFO] Tentando sem tipo de via: 'CAETANO FRACCAROLI'\n"
     ]
    },
    {
     "name": "stderr",
     "output_type": "stream",
     "text": [
      "C:\\Users\\vitor.braz\\AppData\\Roaming\\Python\\Python312\\site-packages\\shapely\\measurement.py:72: RuntimeWarning: invalid value encountered in distance\n",
      "  return lib.distance(a, b, **kwargs)\n",
      "C:\\Users\\vitor.braz\\AppData\\Roaming\\Python\\Python312\\site-packages\\shapely\\measurement.py:72: RuntimeWarning: invalid value encountered in distance\n",
      "  return lib.distance(a, b, **kwargs)\n",
      "C:\\Users\\vitor.braz\\AppData\\Roaming\\Python\\Python312\\site-packages\\shapely\\measurement.py:72: RuntimeWarning: invalid value encountered in distance\n",
      "  return lib.distance(a, b, **kwargs)\n",
      "C:\\Users\\vitor.braz\\AppData\\Roaming\\Python\\Python312\\site-packages\\shapely\\measurement.py:72: RuntimeWarning: invalid value encountered in distance\n",
      "  return lib.distance(a, b, **kwargs)\n",
      "C:\\Users\\vitor.braz\\AppData\\Roaming\\Python\\Python312\\site-packages\\shapely\\measurement.py:72: RuntimeWarning: invalid value encountered in distance\n",
      "  return lib.distance(a, b, **kwargs)\n",
      "C:\\Users\\vitor.braz\\AppData\\Roaming\\Python\\Python312\\site-packages\\shapely\\measurement.py:72: RuntimeWarning: invalid value encountered in distance\n",
      "  return lib.distance(a, b, **kwargs)\n"
     ]
    },
    {
     "name": "stdout",
     "output_type": "stream",
     "text": [
      "[INFO] Tentando sem tipo de via: 'RUA VERGUEIRO'\n"
     ]
    },
    {
     "name": "stderr",
     "output_type": "stream",
     "text": [
      "C:\\Users\\vitor.braz\\AppData\\Roaming\\Python\\Python312\\site-packages\\shapely\\measurement.py:72: RuntimeWarning: invalid value encountered in distance\n",
      "  return lib.distance(a, b, **kwargs)\n",
      "C:\\Users\\vitor.braz\\AppData\\Roaming\\Python\\Python312\\site-packages\\shapely\\measurement.py:72: RuntimeWarning: invalid value encountered in distance\n",
      "  return lib.distance(a, b, **kwargs)\n",
      "C:\\Users\\vitor.braz\\AppData\\Roaming\\Python\\Python312\\site-packages\\shapely\\measurement.py:72: RuntimeWarning: invalid value encountered in distance\n",
      "  return lib.distance(a, b, **kwargs)\n",
      "C:\\Users\\vitor.braz\\AppData\\Roaming\\Python\\Python312\\site-packages\\shapely\\measurement.py:72: RuntimeWarning: invalid value encountered in distance\n",
      "  return lib.distance(a, b, **kwargs)\n",
      "C:\\Users\\vitor.braz\\AppData\\Roaming\\Python\\Python312\\site-packages\\shapely\\measurement.py:72: RuntimeWarning: invalid value encountered in distance\n",
      "  return lib.distance(a, b, **kwargs)\n",
      "C:\\Users\\vitor.braz\\AppData\\Roaming\\Python\\Python312\\site-packages\\shapely\\measurement.py:72: RuntimeWarning: invalid value encountered in distance\n",
      "  return lib.distance(a, b, **kwargs)\n",
      "C:\\Users\\vitor.braz\\AppData\\Roaming\\Python\\Python312\\site-packages\\shapely\\measurement.py:72: RuntimeWarning: invalid value encountered in distance\n",
      "  return lib.distance(a, b, **kwargs)\n",
      "C:\\Users\\vitor.braz\\AppData\\Roaming\\Python\\Python312\\site-packages\\shapely\\measurement.py:72: RuntimeWarning: invalid value encountered in distance\n",
      "  return lib.distance(a, b, **kwargs)\n",
      "C:\\Users\\vitor.braz\\AppData\\Roaming\\Python\\Python312\\site-packages\\shapely\\measurement.py:72: RuntimeWarning: invalid value encountered in distance\n",
      "  return lib.distance(a, b, **kwargs)\n",
      "C:\\Users\\vitor.braz\\AppData\\Roaming\\Python\\Python312\\site-packages\\shapely\\measurement.py:72: RuntimeWarning: invalid value encountered in distance\n",
      "  return lib.distance(a, b, **kwargs)\n",
      "C:\\Users\\vitor.braz\\AppData\\Roaming\\Python\\Python312\\site-packages\\shapely\\measurement.py:72: RuntimeWarning: invalid value encountered in distance\n",
      "  return lib.distance(a, b, **kwargs)\n",
      "C:\\Users\\vitor.braz\\AppData\\Roaming\\Python\\Python312\\site-packages\\shapely\\measurement.py:72: RuntimeWarning: invalid value encountered in distance\n",
      "  return lib.distance(a, b, **kwargs)\n",
      "C:\\Users\\vitor.braz\\AppData\\Roaming\\Python\\Python312\\site-packages\\shapely\\measurement.py:72: RuntimeWarning: invalid value encountered in distance\n",
      "  return lib.distance(a, b, **kwargs)\n",
      "C:\\Users\\vitor.braz\\AppData\\Roaming\\Python\\Python312\\site-packages\\shapely\\measurement.py:72: RuntimeWarning: invalid value encountered in distance\n",
      "  return lib.distance(a, b, **kwargs)\n",
      "C:\\Users\\vitor.braz\\AppData\\Roaming\\Python\\Python312\\site-packages\\shapely\\measurement.py:72: RuntimeWarning: invalid value encountered in distance\n",
      "  return lib.distance(a, b, **kwargs)\n",
      "C:\\Users\\vitor.braz\\AppData\\Roaming\\Python\\Python312\\site-packages\\shapely\\measurement.py:72: RuntimeWarning: invalid value encountered in distance\n",
      "  return lib.distance(a, b, **kwargs)\n",
      "C:\\Users\\vitor.braz\\AppData\\Roaming\\Python\\Python312\\site-packages\\shapely\\measurement.py:72: RuntimeWarning: invalid value encountered in distance\n",
      "  return lib.distance(a, b, **kwargs)\n",
      "C:\\Users\\vitor.braz\\AppData\\Roaming\\Python\\Python312\\site-packages\\shapely\\measurement.py:72: RuntimeWarning: invalid value encountered in distance\n",
      "  return lib.distance(a, b, **kwargs)\n",
      "C:\\Users\\vitor.braz\\AppData\\Roaming\\Python\\Python312\\site-packages\\shapely\\measurement.py:72: RuntimeWarning: invalid value encountered in distance\n",
      "  return lib.distance(a, b, **kwargs)\n"
     ]
    },
    {
     "name": "stdout",
     "output_type": "stream",
     "text": [
      "[INFO] Tentando sem tipo de via: 'SABBADO DANGELO'\n"
     ]
    },
    {
     "name": "stderr",
     "output_type": "stream",
     "text": [
      "C:\\Users\\vitor.braz\\AppData\\Roaming\\Python\\Python312\\site-packages\\shapely\\measurement.py:72: RuntimeWarning: invalid value encountered in distance\n",
      "  return lib.distance(a, b, **kwargs)\n"
     ]
    },
    {
     "name": "stdout",
     "output_type": "stream",
     "text": [
      "[INFO] Tentando sem tipo de via: 'DO M'BOI MIRIM'\n"
     ]
    },
    {
     "name": "stderr",
     "output_type": "stream",
     "text": [
      "C:\\Users\\vitor.braz\\AppData\\Roaming\\Python\\Python312\\site-packages\\shapely\\measurement.py:72: RuntimeWarning: invalid value encountered in distance\n",
      "  return lib.distance(a, b, **kwargs)\n",
      "C:\\Users\\vitor.braz\\AppData\\Roaming\\Python\\Python312\\site-packages\\shapely\\measurement.py:72: RuntimeWarning: invalid value encountered in distance\n",
      "  return lib.distance(a, b, **kwargs)\n",
      "C:\\Users\\vitor.braz\\AppData\\Roaming\\Python\\Python312\\site-packages\\shapely\\measurement.py:72: RuntimeWarning: invalid value encountered in distance\n",
      "  return lib.distance(a, b, **kwargs)\n",
      "C:\\Users\\vitor.braz\\AppData\\Roaming\\Python\\Python312\\site-packages\\shapely\\measurement.py:72: RuntimeWarning: invalid value encountered in distance\n",
      "  return lib.distance(a, b, **kwargs)\n",
      "C:\\Users\\vitor.braz\\AppData\\Roaming\\Python\\Python312\\site-packages\\shapely\\measurement.py:72: RuntimeWarning: invalid value encountered in distance\n",
      "  return lib.distance(a, b, **kwargs)\n",
      "C:\\Users\\vitor.braz\\AppData\\Roaming\\Python\\Python312\\site-packages\\shapely\\measurement.py:72: RuntimeWarning: invalid value encountered in distance\n",
      "  return lib.distance(a, b, **kwargs)\n",
      "C:\\Users\\vitor.braz\\AppData\\Roaming\\Python\\Python312\\site-packages\\shapely\\measurement.py:72: RuntimeWarning: invalid value encountered in distance\n",
      "  return lib.distance(a, b, **kwargs)\n",
      "C:\\Users\\vitor.braz\\AppData\\Roaming\\Python\\Python312\\site-packages\\shapely\\measurement.py:72: RuntimeWarning: invalid value encountered in distance\n",
      "  return lib.distance(a, b, **kwargs)\n",
      "C:\\Users\\vitor.braz\\AppData\\Roaming\\Python\\Python312\\site-packages\\shapely\\measurement.py:72: RuntimeWarning: invalid value encountered in distance\n",
      "  return lib.distance(a, b, **kwargs)\n",
      "C:\\Users\\vitor.braz\\AppData\\Roaming\\Python\\Python312\\site-packages\\shapely\\measurement.py:72: RuntimeWarning: invalid value encountered in distance\n",
      "  return lib.distance(a, b, **kwargs)\n",
      "C:\\Users\\vitor.braz\\AppData\\Roaming\\Python\\Python312\\site-packages\\shapely\\measurement.py:72: RuntimeWarning: invalid value encountered in distance\n",
      "  return lib.distance(a, b, **kwargs)\n",
      "C:\\Users\\vitor.braz\\AppData\\Roaming\\Python\\Python312\\site-packages\\shapely\\measurement.py:72: RuntimeWarning: invalid value encountered in distance\n",
      "  return lib.distance(a, b, **kwargs)\n",
      "C:\\Users\\vitor.braz\\AppData\\Roaming\\Python\\Python312\\site-packages\\shapely\\measurement.py:72: RuntimeWarning: invalid value encountered in distance\n",
      "  return lib.distance(a, b, **kwargs)\n",
      "C:\\Users\\vitor.braz\\AppData\\Roaming\\Python\\Python312\\site-packages\\shapely\\measurement.py:72: RuntimeWarning: invalid value encountered in distance\n",
      "  return lib.distance(a, b, **kwargs)\n",
      "C:\\Users\\vitor.braz\\AppData\\Roaming\\Python\\Python312\\site-packages\\shapely\\measurement.py:72: RuntimeWarning: invalid value encountered in distance\n",
      "  return lib.distance(a, b, **kwargs)\n",
      "C:\\Users\\vitor.braz\\AppData\\Roaming\\Python\\Python312\\site-packages\\shapely\\measurement.py:72: RuntimeWarning: invalid value encountered in distance\n",
      "  return lib.distance(a, b, **kwargs)\n",
      "C:\\Users\\vitor.braz\\AppData\\Roaming\\Python\\Python312\\site-packages\\shapely\\measurement.py:72: RuntimeWarning: invalid value encountered in distance\n",
      "  return lib.distance(a, b, **kwargs)\n",
      "C:\\Users\\vitor.braz\\AppData\\Roaming\\Python\\Python312\\site-packages\\shapely\\measurement.py:72: RuntimeWarning: invalid value encountered in distance\n",
      "  return lib.distance(a, b, **kwargs)\n",
      "C:\\Users\\vitor.braz\\AppData\\Roaming\\Python\\Python312\\site-packages\\shapely\\measurement.py:72: RuntimeWarning: invalid value encountered in distance\n",
      "  return lib.distance(a, b, **kwargs)\n",
      "C:\\Users\\vitor.braz\\AppData\\Roaming\\Python\\Python312\\site-packages\\shapely\\measurement.py:72: RuntimeWarning: invalid value encountered in distance\n",
      "  return lib.distance(a, b, **kwargs)\n",
      "C:\\Users\\vitor.braz\\AppData\\Roaming\\Python\\Python312\\site-packages\\shapely\\measurement.py:72: RuntimeWarning: invalid value encountered in distance\n",
      "  return lib.distance(a, b, **kwargs)\n",
      "C:\\Users\\vitor.braz\\AppData\\Roaming\\Python\\Python312\\site-packages\\shapely\\measurement.py:72: RuntimeWarning: invalid value encountered in distance\n",
      "  return lib.distance(a, b, **kwargs)\n",
      "C:\\Users\\vitor.braz\\AppData\\Roaming\\Python\\Python312\\site-packages\\shapely\\measurement.py:72: RuntimeWarning: invalid value encountered in distance\n",
      "  return lib.distance(a, b, **kwargs)\n",
      "C:\\Users\\vitor.braz\\AppData\\Roaming\\Python\\Python312\\site-packages\\shapely\\measurement.py:72: RuntimeWarning: invalid value encountered in distance\n",
      "  return lib.distance(a, b, **kwargs)\n",
      "C:\\Users\\vitor.braz\\AppData\\Roaming\\Python\\Python312\\site-packages\\shapely\\measurement.py:72: RuntimeWarning: invalid value encountered in distance\n",
      "  return lib.distance(a, b, **kwargs)\n",
      "C:\\Users\\vitor.braz\\AppData\\Roaming\\Python\\Python312\\site-packages\\shapely\\measurement.py:72: RuntimeWarning: invalid value encountered in distance\n",
      "  return lib.distance(a, b, **kwargs)\n",
      "C:\\Users\\vitor.braz\\AppData\\Roaming\\Python\\Python312\\site-packages\\shapely\\measurement.py:72: RuntimeWarning: invalid value encountered in distance\n",
      "  return lib.distance(a, b, **kwargs)\n",
      "C:\\Users\\vitor.braz\\AppData\\Roaming\\Python\\Python312\\site-packages\\shapely\\measurement.py:72: RuntimeWarning: invalid value encountered in distance\n",
      "  return lib.distance(a, b, **kwargs)\n",
      "C:\\Users\\vitor.braz\\AppData\\Roaming\\Python\\Python312\\site-packages\\shapely\\measurement.py:72: RuntimeWarning: invalid value encountered in distance\n",
      "  return lib.distance(a, b, **kwargs)\n",
      "C:\\Users\\vitor.braz\\AppData\\Roaming\\Python\\Python312\\site-packages\\shapely\\measurement.py:72: RuntimeWarning: invalid value encountered in distance\n",
      "  return lib.distance(a, b, **kwargs)\n",
      "C:\\Users\\vitor.braz\\AppData\\Roaming\\Python\\Python312\\site-packages\\shapely\\measurement.py:72: RuntimeWarning: invalid value encountered in distance\n",
      "  return lib.distance(a, b, **kwargs)\n",
      "C:\\Users\\vitor.braz\\AppData\\Roaming\\Python\\Python312\\site-packages\\shapely\\measurement.py:72: RuntimeWarning: invalid value encountered in distance\n",
      "  return lib.distance(a, b, **kwargs)\n",
      "C:\\Users\\vitor.braz\\AppData\\Roaming\\Python\\Python312\\site-packages\\shapely\\measurement.py:72: RuntimeWarning: invalid value encountered in distance\n",
      "  return lib.distance(a, b, **kwargs)\n",
      "C:\\Users\\vitor.braz\\AppData\\Roaming\\Python\\Python312\\site-packages\\shapely\\measurement.py:72: RuntimeWarning: invalid value encountered in distance\n",
      "  return lib.distance(a, b, **kwargs)\n",
      "C:\\Users\\vitor.braz\\AppData\\Roaming\\Python\\Python312\\site-packages\\shapely\\measurement.py:72: RuntimeWarning: invalid value encountered in distance\n",
      "  return lib.distance(a, b, **kwargs)\n",
      "C:\\Users\\vitor.braz\\AppData\\Roaming\\Python\\Python312\\site-packages\\shapely\\measurement.py:72: RuntimeWarning: invalid value encountered in distance\n",
      "  return lib.distance(a, b, **kwargs)\n",
      "C:\\Users\\vitor.braz\\AppData\\Roaming\\Python\\Python312\\site-packages\\shapely\\measurement.py:72: RuntimeWarning: invalid value encountered in distance\n",
      "  return lib.distance(a, b, **kwargs)\n",
      "C:\\Users\\vitor.braz\\AppData\\Roaming\\Python\\Python312\\site-packages\\shapely\\measurement.py:72: RuntimeWarning: invalid value encountered in distance\n",
      "  return lib.distance(a, b, **kwargs)\n"
     ]
    },
    {
     "name": "stdout",
     "output_type": "stream",
     "text": [
      "[INFO] Tentando sem tipo de via: 'DO M'BOI MIRIM'\n",
      "[INFO] Tentando sem tipo de via: 'RADIAL LESTE CENTRO'\n"
     ]
    },
    {
     "name": "stderr",
     "output_type": "stream",
     "text": [
      "C:\\Users\\vitor.braz\\AppData\\Roaming\\Python\\Python312\\site-packages\\shapely\\measurement.py:72: RuntimeWarning: invalid value encountered in distance\n",
      "  return lib.distance(a, b, **kwargs)\n",
      "C:\\Users\\vitor.braz\\AppData\\Roaming\\Python\\Python312\\site-packages\\shapely\\measurement.py:72: RuntimeWarning: invalid value encountered in distance\n",
      "  return lib.distance(a, b, **kwargs)\n",
      "C:\\Users\\vitor.braz\\AppData\\Roaming\\Python\\Python312\\site-packages\\shapely\\measurement.py:72: RuntimeWarning: invalid value encountered in distance\n",
      "  return lib.distance(a, b, **kwargs)\n",
      "C:\\Users\\vitor.braz\\AppData\\Roaming\\Python\\Python312\\site-packages\\shapely\\measurement.py:72: RuntimeWarning: invalid value encountered in distance\n",
      "  return lib.distance(a, b, **kwargs)\n",
      "C:\\Users\\vitor.braz\\AppData\\Roaming\\Python\\Python312\\site-packages\\shapely\\measurement.py:72: RuntimeWarning: invalid value encountered in distance\n",
      "  return lib.distance(a, b, **kwargs)\n",
      "C:\\Users\\vitor.braz\\AppData\\Roaming\\Python\\Python312\\site-packages\\shapely\\measurement.py:72: RuntimeWarning: invalid value encountered in distance\n",
      "  return lib.distance(a, b, **kwargs)\n",
      "C:\\Users\\vitor.braz\\AppData\\Roaming\\Python\\Python312\\site-packages\\shapely\\measurement.py:72: RuntimeWarning: invalid value encountered in distance\n",
      "  return lib.distance(a, b, **kwargs)\n",
      "C:\\Users\\vitor.braz\\AppData\\Roaming\\Python\\Python312\\site-packages\\shapely\\measurement.py:72: RuntimeWarning: invalid value encountered in distance\n",
      "  return lib.distance(a, b, **kwargs)\n",
      "C:\\Users\\vitor.braz\\AppData\\Roaming\\Python\\Python312\\site-packages\\shapely\\measurement.py:72: RuntimeWarning: invalid value encountered in distance\n",
      "  return lib.distance(a, b, **kwargs)\n",
      "C:\\Users\\vitor.braz\\AppData\\Roaming\\Python\\Python312\\site-packages\\shapely\\measurement.py:72: RuntimeWarning: invalid value encountered in distance\n",
      "  return lib.distance(a, b, **kwargs)\n",
      "C:\\Users\\vitor.braz\\AppData\\Roaming\\Python\\Python312\\site-packages\\shapely\\measurement.py:72: RuntimeWarning: invalid value encountered in distance\n",
      "  return lib.distance(a, b, **kwargs)\n",
      "C:\\Users\\vitor.braz\\AppData\\Roaming\\Python\\Python312\\site-packages\\shapely\\measurement.py:72: RuntimeWarning: invalid value encountered in distance\n",
      "  return lib.distance(a, b, **kwargs)\n",
      "C:\\Users\\vitor.braz\\AppData\\Roaming\\Python\\Python312\\site-packages\\shapely\\measurement.py:72: RuntimeWarning: invalid value encountered in distance\n",
      "  return lib.distance(a, b, **kwargs)\n",
      "C:\\Users\\vitor.braz\\AppData\\Roaming\\Python\\Python312\\site-packages\\shapely\\measurement.py:72: RuntimeWarning: invalid value encountered in distance\n",
      "  return lib.distance(a, b, **kwargs)\n",
      "C:\\Users\\vitor.braz\\AppData\\Roaming\\Python\\Python312\\site-packages\\shapely\\measurement.py:72: RuntimeWarning: invalid value encountered in distance\n",
      "  return lib.distance(a, b, **kwargs)\n",
      "C:\\Users\\vitor.braz\\AppData\\Roaming\\Python\\Python312\\site-packages\\shapely\\measurement.py:72: RuntimeWarning: invalid value encountered in distance\n",
      "  return lib.distance(a, b, **kwargs)\n",
      "C:\\Users\\vitor.braz\\AppData\\Roaming\\Python\\Python312\\site-packages\\shapely\\measurement.py:72: RuntimeWarning: invalid value encountered in distance\n",
      "  return lib.distance(a, b, **kwargs)\n",
      "C:\\Users\\vitor.braz\\AppData\\Roaming\\Python\\Python312\\site-packages\\shapely\\measurement.py:72: RuntimeWarning: invalid value encountered in distance\n",
      "  return lib.distance(a, b, **kwargs)\n",
      "C:\\Users\\vitor.braz\\AppData\\Roaming\\Python\\Python312\\site-packages\\shapely\\measurement.py:72: RuntimeWarning: invalid value encountered in distance\n",
      "  return lib.distance(a, b, **kwargs)\n",
      "C:\\Users\\vitor.braz\\AppData\\Roaming\\Python\\Python312\\site-packages\\shapely\\measurement.py:72: RuntimeWarning: invalid value encountered in distance\n",
      "  return lib.distance(a, b, **kwargs)\n",
      "C:\\Users\\vitor.braz\\AppData\\Roaming\\Python\\Python312\\site-packages\\shapely\\measurement.py:72: RuntimeWarning: invalid value encountered in distance\n",
      "  return lib.distance(a, b, **kwargs)\n"
     ]
    },
    {
     "name": "stdout",
     "output_type": "stream",
     "text": [
      "[INFO] Tentando sem tipo de via: 'SABBADO DANGELO'\n"
     ]
    },
    {
     "name": "stderr",
     "output_type": "stream",
     "text": [
      "C:\\Users\\vitor.braz\\AppData\\Roaming\\Python\\Python312\\site-packages\\shapely\\measurement.py:72: RuntimeWarning: invalid value encountered in distance\n",
      "  return lib.distance(a, b, **kwargs)\n",
      "C:\\Users\\vitor.braz\\AppData\\Roaming\\Python\\Python312\\site-packages\\shapely\\measurement.py:72: RuntimeWarning: invalid value encountered in distance\n",
      "  return lib.distance(a, b, **kwargs)\n",
      "C:\\Users\\vitor.braz\\AppData\\Roaming\\Python\\Python312\\site-packages\\shapely\\measurement.py:72: RuntimeWarning: invalid value encountered in distance\n",
      "  return lib.distance(a, b, **kwargs)\n",
      "C:\\Users\\vitor.braz\\AppData\\Roaming\\Python\\Python312\\site-packages\\shapely\\measurement.py:72: RuntimeWarning: invalid value encountered in distance\n",
      "  return lib.distance(a, b, **kwargs)\n",
      "C:\\Users\\vitor.braz\\AppData\\Roaming\\Python\\Python312\\site-packages\\shapely\\measurement.py:72: RuntimeWarning: invalid value encountered in distance\n",
      "  return lib.distance(a, b, **kwargs)\n",
      "C:\\Users\\vitor.braz\\AppData\\Roaming\\Python\\Python312\\site-packages\\shapely\\measurement.py:72: RuntimeWarning: invalid value encountered in distance\n",
      "  return lib.distance(a, b, **kwargs)\n",
      "C:\\Users\\vitor.braz\\AppData\\Roaming\\Python\\Python312\\site-packages\\shapely\\measurement.py:72: RuntimeWarning: invalid value encountered in distance\n",
      "  return lib.distance(a, b, **kwargs)\n",
      "C:\\Users\\vitor.braz\\AppData\\Roaming\\Python\\Python312\\site-packages\\shapely\\measurement.py:72: RuntimeWarning: invalid value encountered in distance\n",
      "  return lib.distance(a, b, **kwargs)\n",
      "C:\\Users\\vitor.braz\\AppData\\Roaming\\Python\\Python312\\site-packages\\shapely\\measurement.py:72: RuntimeWarning: invalid value encountered in distance\n",
      "  return lib.distance(a, b, **kwargs)\n",
      "C:\\Users\\vitor.braz\\AppData\\Roaming\\Python\\Python312\\site-packages\\shapely\\measurement.py:72: RuntimeWarning: invalid value encountered in distance\n",
      "  return lib.distance(a, b, **kwargs)\n",
      "C:\\Users\\vitor.braz\\AppData\\Roaming\\Python\\Python312\\site-packages\\shapely\\measurement.py:72: RuntimeWarning: invalid value encountered in distance\n",
      "  return lib.distance(a, b, **kwargs)\n"
     ]
    },
    {
     "name": "stdout",
     "output_type": "stream",
     "text": [
      "[INFO] Tentando sem tipo de via: 'MARIO COVAS'\n"
     ]
    },
    {
     "name": "stderr",
     "output_type": "stream",
     "text": [
      "C:\\Users\\vitor.braz\\AppData\\Roaming\\Python\\Python312\\site-packages\\shapely\\measurement.py:72: RuntimeWarning: invalid value encountered in distance\n",
      "  return lib.distance(a, b, **kwargs)\n",
      "C:\\Users\\vitor.braz\\AppData\\Roaming\\Python\\Python312\\site-packages\\shapely\\measurement.py:72: RuntimeWarning: invalid value encountered in distance\n",
      "  return lib.distance(a, b, **kwargs)\n",
      "C:\\Users\\vitor.braz\\AppData\\Roaming\\Python\\Python312\\site-packages\\shapely\\measurement.py:72: RuntimeWarning: invalid value encountered in distance\n",
      "  return lib.distance(a, b, **kwargs)\n",
      "C:\\Users\\vitor.braz\\AppData\\Roaming\\Python\\Python312\\site-packages\\shapely\\measurement.py:72: RuntimeWarning: invalid value encountered in distance\n",
      "  return lib.distance(a, b, **kwargs)\n",
      "C:\\Users\\vitor.braz\\AppData\\Roaming\\Python\\Python312\\site-packages\\shapely\\measurement.py:72: RuntimeWarning: invalid value encountered in distance\n",
      "  return lib.distance(a, b, **kwargs)\n",
      "C:\\Users\\vitor.braz\\AppData\\Roaming\\Python\\Python312\\site-packages\\shapely\\measurement.py:72: RuntimeWarning: invalid value encountered in distance\n",
      "  return lib.distance(a, b, **kwargs)\n",
      "C:\\Users\\vitor.braz\\AppData\\Roaming\\Python\\Python312\\site-packages\\shapely\\measurement.py:72: RuntimeWarning: invalid value encountered in distance\n",
      "  return lib.distance(a, b, **kwargs)\n",
      "C:\\Users\\vitor.braz\\AppData\\Roaming\\Python\\Python312\\site-packages\\shapely\\measurement.py:72: RuntimeWarning: invalid value encountered in distance\n",
      "  return lib.distance(a, b, **kwargs)\n",
      "C:\\Users\\vitor.braz\\AppData\\Roaming\\Python\\Python312\\site-packages\\shapely\\measurement.py:72: RuntimeWarning: invalid value encountered in distance\n",
      "  return lib.distance(a, b, **kwargs)\n",
      "C:\\Users\\vitor.braz\\AppData\\Roaming\\Python\\Python312\\site-packages\\shapely\\measurement.py:72: RuntimeWarning: invalid value encountered in distance\n",
      "  return lib.distance(a, b, **kwargs)\n",
      "C:\\Users\\vitor.braz\\AppData\\Roaming\\Python\\Python312\\site-packages\\shapely\\measurement.py:72: RuntimeWarning: invalid value encountered in distance\n",
      "  return lib.distance(a, b, **kwargs)\n",
      "C:\\Users\\vitor.braz\\AppData\\Roaming\\Python\\Python312\\site-packages\\shapely\\measurement.py:72: RuntimeWarning: invalid value encountered in distance\n",
      "  return lib.distance(a, b, **kwargs)\n",
      "C:\\Users\\vitor.braz\\AppData\\Roaming\\Python\\Python312\\site-packages\\shapely\\measurement.py:72: RuntimeWarning: invalid value encountered in distance\n",
      "  return lib.distance(a, b, **kwargs)\n",
      "C:\\Users\\vitor.braz\\AppData\\Roaming\\Python\\Python312\\site-packages\\shapely\\measurement.py:72: RuntimeWarning: invalid value encountered in distance\n",
      "  return lib.distance(a, b, **kwargs)\n",
      "C:\\Users\\vitor.braz\\AppData\\Roaming\\Python\\Python312\\site-packages\\shapely\\measurement.py:72: RuntimeWarning: invalid value encountered in distance\n",
      "  return lib.distance(a, b, **kwargs)\n",
      "C:\\Users\\vitor.braz\\AppData\\Roaming\\Python\\Python312\\site-packages\\shapely\\measurement.py:72: RuntimeWarning: invalid value encountered in distance\n",
      "  return lib.distance(a, b, **kwargs)\n",
      "C:\\Users\\vitor.braz\\AppData\\Roaming\\Python\\Python312\\site-packages\\shapely\\measurement.py:72: RuntimeWarning: invalid value encountered in distance\n",
      "  return lib.distance(a, b, **kwargs)\n",
      "C:\\Users\\vitor.braz\\AppData\\Roaming\\Python\\Python312\\site-packages\\shapely\\measurement.py:72: RuntimeWarning: invalid value encountered in distance\n",
      "  return lib.distance(a, b, **kwargs)\n"
     ]
    },
    {
     "name": "stdout",
     "output_type": "stream",
     "text": [
      "[INFO] Tentando sem tipo de via: 'ANTONIO CARLOS BENJAMIM DOS SANTOS'\n"
     ]
    },
    {
     "name": "stderr",
     "output_type": "stream",
     "text": [
      "C:\\Users\\vitor.braz\\AppData\\Roaming\\Python\\Python312\\site-packages\\shapely\\measurement.py:72: RuntimeWarning: invalid value encountered in distance\n",
      "  return lib.distance(a, b, **kwargs)\n",
      "C:\\Users\\vitor.braz\\AppData\\Roaming\\Python\\Python312\\site-packages\\shapely\\measurement.py:72: RuntimeWarning: invalid value encountered in distance\n",
      "  return lib.distance(a, b, **kwargs)\n",
      "C:\\Users\\vitor.braz\\AppData\\Roaming\\Python\\Python312\\site-packages\\shapely\\measurement.py:72: RuntimeWarning: invalid value encountered in distance\n",
      "  return lib.distance(a, b, **kwargs)\n",
      "C:\\Users\\vitor.braz\\AppData\\Roaming\\Python\\Python312\\site-packages\\shapely\\measurement.py:72: RuntimeWarning: invalid value encountered in distance\n",
      "  return lib.distance(a, b, **kwargs)\n",
      "C:\\Users\\vitor.braz\\AppData\\Roaming\\Python\\Python312\\site-packages\\shapely\\measurement.py:72: RuntimeWarning: invalid value encountered in distance\n",
      "  return lib.distance(a, b, **kwargs)\n",
      "C:\\Users\\vitor.braz\\AppData\\Roaming\\Python\\Python312\\site-packages\\shapely\\measurement.py:72: RuntimeWarning: invalid value encountered in distance\n",
      "  return lib.distance(a, b, **kwargs)\n",
      "C:\\Users\\vitor.braz\\AppData\\Roaming\\Python\\Python312\\site-packages\\shapely\\measurement.py:72: RuntimeWarning: invalid value encountered in distance\n",
      "  return lib.distance(a, b, **kwargs)\n",
      "C:\\Users\\vitor.braz\\AppData\\Roaming\\Python\\Python312\\site-packages\\shapely\\measurement.py:72: RuntimeWarning: invalid value encountered in distance\n",
      "  return lib.distance(a, b, **kwargs)\n",
      "C:\\Users\\vitor.braz\\AppData\\Roaming\\Python\\Python312\\site-packages\\shapely\\measurement.py:72: RuntimeWarning: invalid value encountered in distance\n",
      "  return lib.distance(a, b, **kwargs)\n"
     ]
    },
    {
     "name": "stdout",
     "output_type": "stream",
     "text": [
      "[INFO] Tentando sem tipo de via: 'MARIO COVAS'\n"
     ]
    },
    {
     "name": "stderr",
     "output_type": "stream",
     "text": [
      "C:\\Users\\vitor.braz\\AppData\\Roaming\\Python\\Python312\\site-packages\\shapely\\measurement.py:72: RuntimeWarning: invalid value encountered in distance\n",
      "  return lib.distance(a, b, **kwargs)\n",
      "C:\\Users\\vitor.braz\\AppData\\Roaming\\Python\\Python312\\site-packages\\shapely\\measurement.py:72: RuntimeWarning: invalid value encountered in distance\n",
      "  return lib.distance(a, b, **kwargs)\n",
      "C:\\Users\\vitor.braz\\AppData\\Roaming\\Python\\Python312\\site-packages\\shapely\\measurement.py:72: RuntimeWarning: invalid value encountered in distance\n",
      "  return lib.distance(a, b, **kwargs)\n",
      "C:\\Users\\vitor.braz\\AppData\\Roaming\\Python\\Python312\\site-packages\\shapely\\measurement.py:72: RuntimeWarning: invalid value encountered in distance\n",
      "  return lib.distance(a, b, **kwargs)\n",
      "C:\\Users\\vitor.braz\\AppData\\Roaming\\Python\\Python312\\site-packages\\shapely\\measurement.py:72: RuntimeWarning: invalid value encountered in distance\n",
      "  return lib.distance(a, b, **kwargs)\n",
      "C:\\Users\\vitor.braz\\AppData\\Roaming\\Python\\Python312\\site-packages\\shapely\\measurement.py:72: RuntimeWarning: invalid value encountered in distance\n",
      "  return lib.distance(a, b, **kwargs)\n",
      "C:\\Users\\vitor.braz\\AppData\\Roaming\\Python\\Python312\\site-packages\\shapely\\measurement.py:72: RuntimeWarning: invalid value encountered in distance\n",
      "  return lib.distance(a, b, **kwargs)\n",
      "C:\\Users\\vitor.braz\\AppData\\Roaming\\Python\\Python312\\site-packages\\shapely\\measurement.py:72: RuntimeWarning: invalid value encountered in distance\n",
      "  return lib.distance(a, b, **kwargs)\n",
      "C:\\Users\\vitor.braz\\AppData\\Roaming\\Python\\Python312\\site-packages\\shapely\\measurement.py:72: RuntimeWarning: invalid value encountered in distance\n",
      "  return lib.distance(a, b, **kwargs)\n",
      "C:\\Users\\vitor.braz\\AppData\\Roaming\\Python\\Python312\\site-packages\\shapely\\measurement.py:72: RuntimeWarning: invalid value encountered in distance\n",
      "  return lib.distance(a, b, **kwargs)\n",
      "C:\\Users\\vitor.braz\\AppData\\Roaming\\Python\\Python312\\site-packages\\shapely\\measurement.py:72: RuntimeWarning: invalid value encountered in distance\n",
      "  return lib.distance(a, b, **kwargs)\n",
      "C:\\Users\\vitor.braz\\AppData\\Roaming\\Python\\Python312\\site-packages\\shapely\\measurement.py:72: RuntimeWarning: invalid value encountered in distance\n",
      "  return lib.distance(a, b, **kwargs)\n",
      "C:\\Users\\vitor.braz\\AppData\\Roaming\\Python\\Python312\\site-packages\\shapely\\measurement.py:72: RuntimeWarning: invalid value encountered in distance\n",
      "  return lib.distance(a, b, **kwargs)\n",
      "C:\\Users\\vitor.braz\\AppData\\Roaming\\Python\\Python312\\site-packages\\shapely\\measurement.py:72: RuntimeWarning: invalid value encountered in distance\n",
      "  return lib.distance(a, b, **kwargs)\n",
      "C:\\Users\\vitor.braz\\AppData\\Roaming\\Python\\Python312\\site-packages\\shapely\\measurement.py:72: RuntimeWarning: invalid value encountered in distance\n",
      "  return lib.distance(a, b, **kwargs)\n",
      "C:\\Users\\vitor.braz\\AppData\\Roaming\\Python\\Python312\\site-packages\\shapely\\measurement.py:72: RuntimeWarning: invalid value encountered in distance\n",
      "  return lib.distance(a, b, **kwargs)\n",
      "C:\\Users\\vitor.braz\\AppData\\Roaming\\Python\\Python312\\site-packages\\shapely\\measurement.py:72: RuntimeWarning: invalid value encountered in distance\n",
      "  return lib.distance(a, b, **kwargs)\n",
      "C:\\Users\\vitor.braz\\AppData\\Roaming\\Python\\Python312\\site-packages\\shapely\\measurement.py:72: RuntimeWarning: invalid value encountered in distance\n",
      "  return lib.distance(a, b, **kwargs)\n",
      "C:\\Users\\vitor.braz\\AppData\\Roaming\\Python\\Python312\\site-packages\\shapely\\measurement.py:72: RuntimeWarning: invalid value encountered in distance\n",
      "  return lib.distance(a, b, **kwargs)\n",
      "C:\\Users\\vitor.braz\\AppData\\Roaming\\Python\\Python312\\site-packages\\shapely\\measurement.py:72: RuntimeWarning: invalid value encountered in distance\n",
      "  return lib.distance(a, b, **kwargs)\n",
      "C:\\Users\\vitor.braz\\AppData\\Roaming\\Python\\Python312\\site-packages\\shapely\\measurement.py:72: RuntimeWarning: invalid value encountered in distance\n",
      "  return lib.distance(a, b, **kwargs)\n",
      "C:\\Users\\vitor.braz\\AppData\\Roaming\\Python\\Python312\\site-packages\\shapely\\measurement.py:72: RuntimeWarning: invalid value encountered in distance\n",
      "  return lib.distance(a, b, **kwargs)\n",
      "C:\\Users\\vitor.braz\\AppData\\Roaming\\Python\\Python312\\site-packages\\shapely\\measurement.py:72: RuntimeWarning: invalid value encountered in distance\n",
      "  return lib.distance(a, b, **kwargs)\n"
     ]
    },
    {
     "name": "stdout",
     "output_type": "stream",
     "text": [
      "[INFO] Tentando sem tipo de via: 'MARIO COVAS'\n"
     ]
    },
    {
     "name": "stderr",
     "output_type": "stream",
     "text": [
      "C:\\Users\\vitor.braz\\AppData\\Roaming\\Python\\Python312\\site-packages\\shapely\\measurement.py:72: RuntimeWarning: invalid value encountered in distance\n",
      "  return lib.distance(a, b, **kwargs)\n",
      "C:\\Users\\vitor.braz\\AppData\\Roaming\\Python\\Python312\\site-packages\\shapely\\measurement.py:72: RuntimeWarning: invalid value encountered in distance\n",
      "  return lib.distance(a, b, **kwargs)\n",
      "C:\\Users\\vitor.braz\\AppData\\Roaming\\Python\\Python312\\site-packages\\shapely\\measurement.py:72: RuntimeWarning: invalid value encountered in distance\n",
      "  return lib.distance(a, b, **kwargs)\n"
     ]
    },
    {
     "name": "stdout",
     "output_type": "stream",
     "text": [
      "[INFO] Tentando sem tipo de via: 'JOAO FERNANDES CAMISA NOVA JUNIOR'\n"
     ]
    },
    {
     "name": "stderr",
     "output_type": "stream",
     "text": [
      "C:\\Users\\vitor.braz\\AppData\\Roaming\\Python\\Python312\\site-packages\\shapely\\measurement.py:72: RuntimeWarning: invalid value encountered in distance\n",
      "  return lib.distance(a, b, **kwargs)\n",
      "C:\\Users\\vitor.braz\\AppData\\Roaming\\Python\\Python312\\site-packages\\shapely\\measurement.py:72: RuntimeWarning: invalid value encountered in distance\n",
      "  return lib.distance(a, b, **kwargs)\n"
     ]
    },
    {
     "name": "stdout",
     "output_type": "stream",
     "text": [
      "[INFO] Tentando sem tipo de via: 'MARIO COVAS'\n"
     ]
    },
    {
     "name": "stderr",
     "output_type": "stream",
     "text": [
      "C:\\Users\\vitor.braz\\AppData\\Roaming\\Python\\Python312\\site-packages\\shapely\\measurement.py:72: RuntimeWarning: invalid value encountered in distance\n",
      "  return lib.distance(a, b, **kwargs)\n",
      "C:\\Users\\vitor.braz\\AppData\\Roaming\\Python\\Python312\\site-packages\\shapely\\measurement.py:72: RuntimeWarning: invalid value encountered in distance\n",
      "  return lib.distance(a, b, **kwargs)\n",
      "C:\\Users\\vitor.braz\\AppData\\Roaming\\Python\\Python312\\site-packages\\shapely\\measurement.py:72: RuntimeWarning: invalid value encountered in distance\n",
      "  return lib.distance(a, b, **kwargs)\n",
      "C:\\Users\\vitor.braz\\AppData\\Roaming\\Python\\Python312\\site-packages\\shapely\\measurement.py:72: RuntimeWarning: invalid value encountered in distance\n",
      "  return lib.distance(a, b, **kwargs)\n",
      "C:\\Users\\vitor.braz\\AppData\\Roaming\\Python\\Python312\\site-packages\\shapely\\measurement.py:72: RuntimeWarning: invalid value encountered in distance\n",
      "  return lib.distance(a, b, **kwargs)\n",
      "C:\\Users\\vitor.braz\\AppData\\Roaming\\Python\\Python312\\site-packages\\shapely\\measurement.py:72: RuntimeWarning: invalid value encountered in distance\n",
      "  return lib.distance(a, b, **kwargs)\n",
      "C:\\Users\\vitor.braz\\AppData\\Roaming\\Python\\Python312\\site-packages\\shapely\\measurement.py:72: RuntimeWarning: invalid value encountered in distance\n",
      "  return lib.distance(a, b, **kwargs)\n",
      "C:\\Users\\vitor.braz\\AppData\\Roaming\\Python\\Python312\\site-packages\\shapely\\measurement.py:72: RuntimeWarning: invalid value encountered in distance\n",
      "  return lib.distance(a, b, **kwargs)\n",
      "C:\\Users\\vitor.braz\\AppData\\Roaming\\Python\\Python312\\site-packages\\shapely\\measurement.py:72: RuntimeWarning: invalid value encountered in distance\n",
      "  return lib.distance(a, b, **kwargs)\n",
      "C:\\Users\\vitor.braz\\AppData\\Roaming\\Python\\Python312\\site-packages\\shapely\\measurement.py:72: RuntimeWarning: invalid value encountered in distance\n",
      "  return lib.distance(a, b, **kwargs)\n",
      "C:\\Users\\vitor.braz\\AppData\\Roaming\\Python\\Python312\\site-packages\\shapely\\measurement.py:72: RuntimeWarning: invalid value encountered in distance\n",
      "  return lib.distance(a, b, **kwargs)\n",
      "C:\\Users\\vitor.braz\\AppData\\Roaming\\Python\\Python312\\site-packages\\shapely\\measurement.py:72: RuntimeWarning: invalid value encountered in distance\n",
      "  return lib.distance(a, b, **kwargs)\n",
      "C:\\Users\\vitor.braz\\AppData\\Roaming\\Python\\Python312\\site-packages\\shapely\\measurement.py:72: RuntimeWarning: invalid value encountered in distance\n",
      "  return lib.distance(a, b, **kwargs)\n",
      "C:\\Users\\vitor.braz\\AppData\\Roaming\\Python\\Python312\\site-packages\\shapely\\measurement.py:72: RuntimeWarning: invalid value encountered in distance\n",
      "  return lib.distance(a, b, **kwargs)\n",
      "C:\\Users\\vitor.braz\\AppData\\Roaming\\Python\\Python312\\site-packages\\shapely\\measurement.py:72: RuntimeWarning: invalid value encountered in distance\n",
      "  return lib.distance(a, b, **kwargs)\n",
      "C:\\Users\\vitor.braz\\AppData\\Roaming\\Python\\Python312\\site-packages\\shapely\\measurement.py:72: RuntimeWarning: invalid value encountered in distance\n",
      "  return lib.distance(a, b, **kwargs)\n"
     ]
    },
    {
     "name": "stdout",
     "output_type": "stream",
     "text": [
      "[INFO] Tentando sem tipo de via: 'RADIAL LESTE CENTRO'\n"
     ]
    },
    {
     "name": "stderr",
     "output_type": "stream",
     "text": [
      "C:\\Users\\vitor.braz\\AppData\\Roaming\\Python\\Python312\\site-packages\\shapely\\measurement.py:72: RuntimeWarning: invalid value encountered in distance\n",
      "  return lib.distance(a, b, **kwargs)\n",
      "C:\\Users\\vitor.braz\\AppData\\Roaming\\Python\\Python312\\site-packages\\shapely\\measurement.py:72: RuntimeWarning: invalid value encountered in distance\n",
      "  return lib.distance(a, b, **kwargs)\n",
      "C:\\Users\\vitor.braz\\AppData\\Roaming\\Python\\Python312\\site-packages\\shapely\\measurement.py:72: RuntimeWarning: invalid value encountered in distance\n",
      "  return lib.distance(a, b, **kwargs)\n",
      "C:\\Users\\vitor.braz\\AppData\\Roaming\\Python\\Python312\\site-packages\\shapely\\measurement.py:72: RuntimeWarning: invalid value encountered in distance\n",
      "  return lib.distance(a, b, **kwargs)\n",
      "C:\\Users\\vitor.braz\\AppData\\Roaming\\Python\\Python312\\site-packages\\shapely\\measurement.py:72: RuntimeWarning: invalid value encountered in distance\n",
      "  return lib.distance(a, b, **kwargs)\n"
     ]
    },
    {
     "name": "stdout",
     "output_type": "stream",
     "text": [
      "[INFO] Tentando sem tipo de via: 'DO M'BOI MIRIM'\n"
     ]
    },
    {
     "name": "stderr",
     "output_type": "stream",
     "text": [
      "C:\\Users\\vitor.braz\\AppData\\Roaming\\Python\\Python312\\site-packages\\shapely\\measurement.py:72: RuntimeWarning: invalid value encountered in distance\n",
      "  return lib.distance(a, b, **kwargs)\n",
      "C:\\Users\\vitor.braz\\AppData\\Roaming\\Python\\Python312\\site-packages\\shapely\\measurement.py:72: RuntimeWarning: invalid value encountered in distance\n",
      "  return lib.distance(a, b, **kwargs)\n",
      "C:\\Users\\vitor.braz\\AppData\\Roaming\\Python\\Python312\\site-packages\\shapely\\measurement.py:72: RuntimeWarning: invalid value encountered in distance\n",
      "  return lib.distance(a, b, **kwargs)\n",
      "C:\\Users\\vitor.braz\\AppData\\Roaming\\Python\\Python312\\site-packages\\shapely\\measurement.py:72: RuntimeWarning: invalid value encountered in distance\n",
      "  return lib.distance(a, b, **kwargs)\n",
      "C:\\Users\\vitor.braz\\AppData\\Roaming\\Python\\Python312\\site-packages\\shapely\\measurement.py:72: RuntimeWarning: invalid value encountered in distance\n",
      "  return lib.distance(a, b, **kwargs)\n",
      "C:\\Users\\vitor.braz\\AppData\\Roaming\\Python\\Python312\\site-packages\\shapely\\measurement.py:72: RuntimeWarning: invalid value encountered in distance\n",
      "  return lib.distance(a, b, **kwargs)\n",
      "C:\\Users\\vitor.braz\\AppData\\Roaming\\Python\\Python312\\site-packages\\shapely\\measurement.py:72: RuntimeWarning: invalid value encountered in distance\n",
      "  return lib.distance(a, b, **kwargs)\n",
      "C:\\Users\\vitor.braz\\AppData\\Roaming\\Python\\Python312\\site-packages\\shapely\\measurement.py:72: RuntimeWarning: invalid value encountered in distance\n",
      "  return lib.distance(a, b, **kwargs)\n",
      "C:\\Users\\vitor.braz\\AppData\\Roaming\\Python\\Python312\\site-packages\\shapely\\measurement.py:72: RuntimeWarning: invalid value encountered in distance\n",
      "  return lib.distance(a, b, **kwargs)\n",
      "C:\\Users\\vitor.braz\\AppData\\Roaming\\Python\\Python312\\site-packages\\shapely\\measurement.py:72: RuntimeWarning: invalid value encountered in distance\n",
      "  return lib.distance(a, b, **kwargs)\n",
      "C:\\Users\\vitor.braz\\AppData\\Roaming\\Python\\Python312\\site-packages\\shapely\\measurement.py:72: RuntimeWarning: invalid value encountered in distance\n",
      "  return lib.distance(a, b, **kwargs)\n",
      "C:\\Users\\vitor.braz\\AppData\\Roaming\\Python\\Python312\\site-packages\\shapely\\measurement.py:72: RuntimeWarning: invalid value encountered in distance\n",
      "  return lib.distance(a, b, **kwargs)\n"
     ]
    },
    {
     "name": "stdout",
     "output_type": "stream",
     "text": [
      "[INFO] Tentando sem tipo de via: 'SERRA DO JAPI'\n"
     ]
    },
    {
     "name": "stderr",
     "output_type": "stream",
     "text": [
      "C:\\Users\\vitor.braz\\AppData\\Roaming\\Python\\Python312\\site-packages\\shapely\\measurement.py:72: RuntimeWarning: invalid value encountered in distance\n",
      "  return lib.distance(a, b, **kwargs)\n",
      "C:\\Users\\vitor.braz\\AppData\\Roaming\\Python\\Python312\\site-packages\\shapely\\measurement.py:72: RuntimeWarning: invalid value encountered in distance\n",
      "  return lib.distance(a, b, **kwargs)\n",
      "C:\\Users\\vitor.braz\\AppData\\Roaming\\Python\\Python312\\site-packages\\shapely\\measurement.py:72: RuntimeWarning: invalid value encountered in distance\n",
      "  return lib.distance(a, b, **kwargs)\n",
      "C:\\Users\\vitor.braz\\AppData\\Roaming\\Python\\Python312\\site-packages\\shapely\\measurement.py:72: RuntimeWarning: invalid value encountered in distance\n",
      "  return lib.distance(a, b, **kwargs)\n",
      "C:\\Users\\vitor.braz\\AppData\\Roaming\\Python\\Python312\\site-packages\\shapely\\measurement.py:72: RuntimeWarning: invalid value encountered in distance\n",
      "  return lib.distance(a, b, **kwargs)\n",
      "C:\\Users\\vitor.braz\\AppData\\Roaming\\Python\\Python312\\site-packages\\shapely\\measurement.py:72: RuntimeWarning: invalid value encountered in distance\n",
      "  return lib.distance(a, b, **kwargs)\n",
      "C:\\Users\\vitor.braz\\AppData\\Roaming\\Python\\Python312\\site-packages\\shapely\\measurement.py:72: RuntimeWarning: invalid value encountered in distance\n",
      "  return lib.distance(a, b, **kwargs)\n",
      "C:\\Users\\vitor.braz\\AppData\\Roaming\\Python\\Python312\\site-packages\\shapely\\measurement.py:72: RuntimeWarning: invalid value encountered in distance\n",
      "  return lib.distance(a, b, **kwargs)\n",
      "C:\\Users\\vitor.braz\\AppData\\Roaming\\Python\\Python312\\site-packages\\shapely\\measurement.py:72: RuntimeWarning: invalid value encountered in distance\n",
      "  return lib.distance(a, b, **kwargs)\n",
      "C:\\Users\\vitor.braz\\AppData\\Roaming\\Python\\Python312\\site-packages\\shapely\\measurement.py:72: RuntimeWarning: invalid value encountered in distance\n",
      "  return lib.distance(a, b, **kwargs)\n"
     ]
    },
    {
     "name": "stdout",
     "output_type": "stream",
     "text": [
      "[INFO] Tentando sem tipo de via: 'AVENIDA SANTO AMARO'\n"
     ]
    },
    {
     "name": "stderr",
     "output_type": "stream",
     "text": [
      "C:\\Users\\vitor.braz\\AppData\\Roaming\\Python\\Python312\\site-packages\\shapely\\measurement.py:72: RuntimeWarning: invalid value encountered in distance\n",
      "  return lib.distance(a, b, **kwargs)\n",
      "C:\\Users\\vitor.braz\\AppData\\Roaming\\Python\\Python312\\site-packages\\shapely\\measurement.py:72: RuntimeWarning: invalid value encountered in distance\n",
      "  return lib.distance(a, b, **kwargs)\n",
      "C:\\Users\\vitor.braz\\AppData\\Roaming\\Python\\Python312\\site-packages\\shapely\\measurement.py:72: RuntimeWarning: invalid value encountered in distance\n",
      "  return lib.distance(a, b, **kwargs)\n",
      "C:\\Users\\vitor.braz\\AppData\\Roaming\\Python\\Python312\\site-packages\\shapely\\measurement.py:72: RuntimeWarning: invalid value encountered in distance\n",
      "  return lib.distance(a, b, **kwargs)\n",
      "C:\\Users\\vitor.braz\\AppData\\Roaming\\Python\\Python312\\site-packages\\shapely\\measurement.py:72: RuntimeWarning: invalid value encountered in distance\n",
      "  return lib.distance(a, b, **kwargs)\n",
      "C:\\Users\\vitor.braz\\AppData\\Roaming\\Python\\Python312\\site-packages\\shapely\\measurement.py:72: RuntimeWarning: invalid value encountered in distance\n",
      "  return lib.distance(a, b, **kwargs)\n",
      "C:\\Users\\vitor.braz\\AppData\\Roaming\\Python\\Python312\\site-packages\\shapely\\measurement.py:72: RuntimeWarning: invalid value encountered in distance\n",
      "  return lib.distance(a, b, **kwargs)\n",
      "C:\\Users\\vitor.braz\\AppData\\Roaming\\Python\\Python312\\site-packages\\shapely\\measurement.py:72: RuntimeWarning: invalid value encountered in distance\n",
      "  return lib.distance(a, b, **kwargs)\n",
      "C:\\Users\\vitor.braz\\AppData\\Roaming\\Python\\Python312\\site-packages\\shapely\\measurement.py:72: RuntimeWarning: invalid value encountered in distance\n",
      "  return lib.distance(a, b, **kwargs)\n",
      "C:\\Users\\vitor.braz\\AppData\\Roaming\\Python\\Python312\\site-packages\\shapely\\measurement.py:72: RuntimeWarning: invalid value encountered in distance\n",
      "  return lib.distance(a, b, **kwargs)\n",
      "C:\\Users\\vitor.braz\\AppData\\Roaming\\Python\\Python312\\site-packages\\shapely\\measurement.py:72: RuntimeWarning: invalid value encountered in distance\n",
      "  return lib.distance(a, b, **kwargs)\n",
      "C:\\Users\\vitor.braz\\AppData\\Roaming\\Python\\Python312\\site-packages\\shapely\\measurement.py:72: RuntimeWarning: invalid value encountered in distance\n",
      "  return lib.distance(a, b, **kwargs)\n",
      "C:\\Users\\vitor.braz\\AppData\\Roaming\\Python\\Python312\\site-packages\\shapely\\measurement.py:72: RuntimeWarning: invalid value encountered in distance\n",
      "  return lib.distance(a, b, **kwargs)\n",
      "C:\\Users\\vitor.braz\\AppData\\Roaming\\Python\\Python312\\site-packages\\shapely\\measurement.py:72: RuntimeWarning: invalid value encountered in distance\n",
      "  return lib.distance(a, b, **kwargs)\n",
      "C:\\Users\\vitor.braz\\AppData\\Roaming\\Python\\Python312\\site-packages\\shapely\\measurement.py:72: RuntimeWarning: invalid value encountered in distance\n",
      "  return lib.distance(a, b, **kwargs)\n",
      "C:\\Users\\vitor.braz\\AppData\\Roaming\\Python\\Python312\\site-packages\\shapely\\measurement.py:72: RuntimeWarning: invalid value encountered in distance\n",
      "  return lib.distance(a, b, **kwargs)\n",
      "C:\\Users\\vitor.braz\\AppData\\Roaming\\Python\\Python312\\site-packages\\shapely\\measurement.py:72: RuntimeWarning: invalid value encountered in distance\n",
      "  return lib.distance(a, b, **kwargs)\n",
      "C:\\Users\\vitor.braz\\AppData\\Roaming\\Python\\Python312\\site-packages\\shapely\\measurement.py:72: RuntimeWarning: invalid value encountered in distance\n",
      "  return lib.distance(a, b, **kwargs)\n",
      "C:\\Users\\vitor.braz\\AppData\\Roaming\\Python\\Python312\\site-packages\\shapely\\measurement.py:72: RuntimeWarning: invalid value encountered in distance\n",
      "  return lib.distance(a, b, **kwargs)\n"
     ]
    },
    {
     "name": "stdout",
     "output_type": "stream",
     "text": [
      "[INFO] Tentando sem tipo de via: 'DONA MARIANA CALIGIORI RONCHETTI'\n"
     ]
    },
    {
     "name": "stderr",
     "output_type": "stream",
     "text": [
      "C:\\Users\\vitor.braz\\AppData\\Roaming\\Python\\Python312\\site-packages\\shapely\\measurement.py:72: RuntimeWarning: invalid value encountered in distance\n",
      "  return lib.distance(a, b, **kwargs)\n",
      "C:\\Users\\vitor.braz\\AppData\\Roaming\\Python\\Python312\\site-packages\\shapely\\measurement.py:72: RuntimeWarning: invalid value encountered in distance\n",
      "  return lib.distance(a, b, **kwargs)\n",
      "C:\\Users\\vitor.braz\\AppData\\Roaming\\Python\\Python312\\site-packages\\shapely\\measurement.py:72: RuntimeWarning: invalid value encountered in distance\n",
      "  return lib.distance(a, b, **kwargs)\n",
      "C:\\Users\\vitor.braz\\AppData\\Roaming\\Python\\Python312\\site-packages\\shapely\\measurement.py:72: RuntimeWarning: invalid value encountered in distance\n",
      "  return lib.distance(a, b, **kwargs)\n",
      "C:\\Users\\vitor.braz\\AppData\\Roaming\\Python\\Python312\\site-packages\\shapely\\measurement.py:72: RuntimeWarning: invalid value encountered in distance\n",
      "  return lib.distance(a, b, **kwargs)\n",
      "C:\\Users\\vitor.braz\\AppData\\Roaming\\Python\\Python312\\site-packages\\shapely\\measurement.py:72: RuntimeWarning: invalid value encountered in distance\n",
      "  return lib.distance(a, b, **kwargs)\n",
      "C:\\Users\\vitor.braz\\AppData\\Roaming\\Python\\Python312\\site-packages\\shapely\\measurement.py:72: RuntimeWarning: invalid value encountered in distance\n",
      "  return lib.distance(a, b, **kwargs)\n",
      "C:\\Users\\vitor.braz\\AppData\\Roaming\\Python\\Python312\\site-packages\\shapely\\measurement.py:72: RuntimeWarning: invalid value encountered in distance\n",
      "  return lib.distance(a, b, **kwargs)\n",
      "C:\\Users\\vitor.braz\\AppData\\Roaming\\Python\\Python312\\site-packages\\shapely\\measurement.py:72: RuntimeWarning: invalid value encountered in distance\n",
      "  return lib.distance(a, b, **kwargs)\n",
      "C:\\Users\\vitor.braz\\AppData\\Roaming\\Python\\Python312\\site-packages\\shapely\\measurement.py:72: RuntimeWarning: invalid value encountered in distance\n",
      "  return lib.distance(a, b, **kwargs)\n",
      "C:\\Users\\vitor.braz\\AppData\\Roaming\\Python\\Python312\\site-packages\\shapely\\measurement.py:72: RuntimeWarning: invalid value encountered in distance\n",
      "  return lib.distance(a, b, **kwargs)\n",
      "C:\\Users\\vitor.braz\\AppData\\Roaming\\Python\\Python312\\site-packages\\shapely\\measurement.py:72: RuntimeWarning: invalid value encountered in distance\n",
      "  return lib.distance(a, b, **kwargs)\n",
      "C:\\Users\\vitor.braz\\AppData\\Roaming\\Python\\Python312\\site-packages\\shapely\\measurement.py:72: RuntimeWarning: invalid value encountered in distance\n",
      "  return lib.distance(a, b, **kwargs)\n",
      "C:\\Users\\vitor.braz\\AppData\\Roaming\\Python\\Python312\\site-packages\\shapely\\measurement.py:72: RuntimeWarning: invalid value encountered in distance\n",
      "  return lib.distance(a, b, **kwargs)\n",
      "C:\\Users\\vitor.braz\\AppData\\Roaming\\Python\\Python312\\site-packages\\shapely\\measurement.py:72: RuntimeWarning: invalid value encountered in distance\n",
      "  return lib.distance(a, b, **kwargs)\n",
      "C:\\Users\\vitor.braz\\AppData\\Roaming\\Python\\Python312\\site-packages\\shapely\\measurement.py:72: RuntimeWarning: invalid value encountered in distance\n",
      "  return lib.distance(a, b, **kwargs)\n",
      "C:\\Users\\vitor.braz\\AppData\\Roaming\\Python\\Python312\\site-packages\\shapely\\measurement.py:72: RuntimeWarning: invalid value encountered in distance\n",
      "  return lib.distance(a, b, **kwargs)\n",
      "C:\\Users\\vitor.braz\\AppData\\Roaming\\Python\\Python312\\site-packages\\shapely\\measurement.py:72: RuntimeWarning: invalid value encountered in distance\n",
      "  return lib.distance(a, b, **kwargs)\n",
      "C:\\Users\\vitor.braz\\AppData\\Roaming\\Python\\Python312\\site-packages\\shapely\\measurement.py:72: RuntimeWarning: invalid value encountered in distance\n",
      "  return lib.distance(a, b, **kwargs)\n",
      "C:\\Users\\vitor.braz\\AppData\\Roaming\\Python\\Python312\\site-packages\\shapely\\measurement.py:72: RuntimeWarning: invalid value encountered in distance\n",
      "  return lib.distance(a, b, **kwargs)\n",
      "C:\\Users\\vitor.braz\\AppData\\Roaming\\Python\\Python312\\site-packages\\shapely\\measurement.py:72: RuntimeWarning: invalid value encountered in distance\n",
      "  return lib.distance(a, b, **kwargs)\n",
      "C:\\Users\\vitor.braz\\AppData\\Roaming\\Python\\Python312\\site-packages\\shapely\\measurement.py:72: RuntimeWarning: invalid value encountered in distance\n",
      "  return lib.distance(a, b, **kwargs)\n",
      "C:\\Users\\vitor.braz\\AppData\\Roaming\\Python\\Python312\\site-packages\\shapely\\measurement.py:72: RuntimeWarning: invalid value encountered in distance\n",
      "  return lib.distance(a, b, **kwargs)\n",
      "C:\\Users\\vitor.braz\\AppData\\Roaming\\Python\\Python312\\site-packages\\shapely\\measurement.py:72: RuntimeWarning: invalid value encountered in distance\n",
      "  return lib.distance(a, b, **kwargs)\n",
      "C:\\Users\\vitor.braz\\AppData\\Roaming\\Python\\Python312\\site-packages\\shapely\\measurement.py:72: RuntimeWarning: invalid value encountered in distance\n",
      "  return lib.distance(a, b, **kwargs)\n"
     ]
    },
    {
     "name": "stdout",
     "output_type": "stream",
     "text": [
      "[INFO] Tentando sem tipo de via: 'DO M'BOI MIRIM'\n"
     ]
    },
    {
     "name": "stderr",
     "output_type": "stream",
     "text": [
      "C:\\Users\\vitor.braz\\AppData\\Roaming\\Python\\Python312\\site-packages\\shapely\\measurement.py:72: RuntimeWarning: invalid value encountered in distance\n",
      "  return lib.distance(a, b, **kwargs)\n",
      "C:\\Users\\vitor.braz\\AppData\\Roaming\\Python\\Python312\\site-packages\\shapely\\measurement.py:72: RuntimeWarning: invalid value encountered in distance\n",
      "  return lib.distance(a, b, **kwargs)\n",
      "C:\\Users\\vitor.braz\\AppData\\Roaming\\Python\\Python312\\site-packages\\shapely\\measurement.py:72: RuntimeWarning: invalid value encountered in distance\n",
      "  return lib.distance(a, b, **kwargs)\n",
      "C:\\Users\\vitor.braz\\AppData\\Roaming\\Python\\Python312\\site-packages\\shapely\\measurement.py:72: RuntimeWarning: invalid value encountered in distance\n",
      "  return lib.distance(a, b, **kwargs)\n",
      "C:\\Users\\vitor.braz\\AppData\\Roaming\\Python\\Python312\\site-packages\\shapely\\measurement.py:72: RuntimeWarning: invalid value encountered in distance\n",
      "  return lib.distance(a, b, **kwargs)\n",
      "C:\\Users\\vitor.braz\\AppData\\Roaming\\Python\\Python312\\site-packages\\shapely\\measurement.py:72: RuntimeWarning: invalid value encountered in distance\n",
      "  return lib.distance(a, b, **kwargs)\n",
      "C:\\Users\\vitor.braz\\AppData\\Roaming\\Python\\Python312\\site-packages\\shapely\\measurement.py:72: RuntimeWarning: invalid value encountered in distance\n",
      "  return lib.distance(a, b, **kwargs)\n",
      "C:\\Users\\vitor.braz\\AppData\\Roaming\\Python\\Python312\\site-packages\\shapely\\measurement.py:72: RuntimeWarning: invalid value encountered in distance\n",
      "  return lib.distance(a, b, **kwargs)\n"
     ]
    },
    {
     "name": "stdout",
     "output_type": "stream",
     "text": [
      "[INFO] Tentando sem tipo de via: 'PARA MARGINAL PINHEIROS EXPRESSA SENTIDO SU'\n"
     ]
    },
    {
     "name": "stderr",
     "output_type": "stream",
     "text": [
      "C:\\Users\\vitor.braz\\AppData\\Roaming\\Python\\Python312\\site-packages\\shapely\\measurement.py:72: RuntimeWarning: invalid value encountered in distance\n",
      "  return lib.distance(a, b, **kwargs)\n",
      "C:\\Users\\vitor.braz\\AppData\\Roaming\\Python\\Python312\\site-packages\\shapely\\measurement.py:72: RuntimeWarning: invalid value encountered in distance\n",
      "  return lib.distance(a, b, **kwargs)\n",
      "C:\\Users\\vitor.braz\\AppData\\Roaming\\Python\\Python312\\site-packages\\shapely\\measurement.py:72: RuntimeWarning: invalid value encountered in distance\n",
      "  return lib.distance(a, b, **kwargs)\n",
      "C:\\Users\\vitor.braz\\AppData\\Roaming\\Python\\Python312\\site-packages\\shapely\\measurement.py:72: RuntimeWarning: invalid value encountered in distance\n",
      "  return lib.distance(a, b, **kwargs)\n",
      "C:\\Users\\vitor.braz\\AppData\\Roaming\\Python\\Python312\\site-packages\\shapely\\measurement.py:72: RuntimeWarning: invalid value encountered in distance\n",
      "  return lib.distance(a, b, **kwargs)\n",
      "C:\\Users\\vitor.braz\\AppData\\Roaming\\Python\\Python312\\site-packages\\shapely\\measurement.py:72: RuntimeWarning: invalid value encountered in distance\n",
      "  return lib.distance(a, b, **kwargs)\n",
      "C:\\Users\\vitor.braz\\AppData\\Roaming\\Python\\Python312\\site-packages\\shapely\\measurement.py:72: RuntimeWarning: invalid value encountered in distance\n",
      "  return lib.distance(a, b, **kwargs)\n",
      "C:\\Users\\vitor.braz\\AppData\\Roaming\\Python\\Python312\\site-packages\\shapely\\measurement.py:72: RuntimeWarning: invalid value encountered in distance\n",
      "  return lib.distance(a, b, **kwargs)\n"
     ]
    },
    {
     "name": "stdout",
     "output_type": "stream",
     "text": [
      "[INFO] Tentando sem tipo de via: 'DOUTOR BERNARDINO BRITO FONSECA DE CARVALH'\n"
     ]
    },
    {
     "name": "stderr",
     "output_type": "stream",
     "text": [
      "C:\\Users\\vitor.braz\\AppData\\Roaming\\Python\\Python312\\site-packages\\shapely\\measurement.py:72: RuntimeWarning: invalid value encountered in distance\n",
      "  return lib.distance(a, b, **kwargs)\n",
      "C:\\Users\\vitor.braz\\AppData\\Roaming\\Python\\Python312\\site-packages\\shapely\\measurement.py:72: RuntimeWarning: invalid value encountered in distance\n",
      "  return lib.distance(a, b, **kwargs)\n"
     ]
    },
    {
     "name": "stdout",
     "output_type": "stream",
     "text": [
      "[INFO] Tentando sem tipo de via: 'PARA MARGINAL TIETE CENTRAL'\n"
     ]
    },
    {
     "name": "stderr",
     "output_type": "stream",
     "text": [
      "C:\\Users\\vitor.braz\\AppData\\Roaming\\Python\\Python312\\site-packages\\shapely\\measurement.py:72: RuntimeWarning: invalid value encountered in distance\n",
      "  return lib.distance(a, b, **kwargs)\n",
      "C:\\Users\\vitor.braz\\AppData\\Roaming\\Python\\Python312\\site-packages\\shapely\\measurement.py:72: RuntimeWarning: invalid value encountered in distance\n",
      "  return lib.distance(a, b, **kwargs)\n",
      "C:\\Users\\vitor.braz\\AppData\\Roaming\\Python\\Python312\\site-packages\\shapely\\measurement.py:72: RuntimeWarning: invalid value encountered in distance\n",
      "  return lib.distance(a, b, **kwargs)\n"
     ]
    },
    {
     "name": "stdout",
     "output_type": "stream",
     "text": [
      "[INFO] Tentando sem tipo de via: 'DO M'BOI MIRIM'\n"
     ]
    },
    {
     "name": "stderr",
     "output_type": "stream",
     "text": [
      "C:\\Users\\vitor.braz\\AppData\\Roaming\\Python\\Python312\\site-packages\\shapely\\measurement.py:72: RuntimeWarning: invalid value encountered in distance\n",
      "  return lib.distance(a, b, **kwargs)\n",
      "C:\\Users\\vitor.braz\\AppData\\Roaming\\Python\\Python312\\site-packages\\shapely\\measurement.py:72: RuntimeWarning: invalid value encountered in distance\n",
      "  return lib.distance(a, b, **kwargs)\n",
      "C:\\Users\\vitor.braz\\AppData\\Roaming\\Python\\Python312\\site-packages\\shapely\\measurement.py:72: RuntimeWarning: invalid value encountered in distance\n",
      "  return lib.distance(a, b, **kwargs)\n",
      "C:\\Users\\vitor.braz\\AppData\\Roaming\\Python\\Python312\\site-packages\\shapely\\measurement.py:72: RuntimeWarning: invalid value encountered in distance\n",
      "  return lib.distance(a, b, **kwargs)\n",
      "C:\\Users\\vitor.braz\\AppData\\Roaming\\Python\\Python312\\site-packages\\shapely\\measurement.py:72: RuntimeWarning: invalid value encountered in distance\n",
      "  return lib.distance(a, b, **kwargs)\n",
      "C:\\Users\\vitor.braz\\AppData\\Roaming\\Python\\Python312\\site-packages\\shapely\\measurement.py:72: RuntimeWarning: invalid value encountered in distance\n",
      "  return lib.distance(a, b, **kwargs)\n",
      "C:\\Users\\vitor.braz\\AppData\\Roaming\\Python\\Python312\\site-packages\\shapely\\measurement.py:72: RuntimeWarning: invalid value encountered in distance\n",
      "  return lib.distance(a, b, **kwargs)\n",
      "C:\\Users\\vitor.braz\\AppData\\Roaming\\Python\\Python312\\site-packages\\shapely\\measurement.py:72: RuntimeWarning: invalid value encountered in distance\n",
      "  return lib.distance(a, b, **kwargs)\n",
      "C:\\Users\\vitor.braz\\AppData\\Roaming\\Python\\Python312\\site-packages\\shapely\\measurement.py:72: RuntimeWarning: invalid value encountered in distance\n",
      "  return lib.distance(a, b, **kwargs)\n",
      "C:\\Users\\vitor.braz\\AppData\\Roaming\\Python\\Python312\\site-packages\\shapely\\measurement.py:72: RuntimeWarning: invalid value encountered in distance\n",
      "  return lib.distance(a, b, **kwargs)\n",
      "C:\\Users\\vitor.braz\\AppData\\Roaming\\Python\\Python312\\site-packages\\shapely\\measurement.py:72: RuntimeWarning: invalid value encountered in distance\n",
      "  return lib.distance(a, b, **kwargs)\n",
      "C:\\Users\\vitor.braz\\AppData\\Roaming\\Python\\Python312\\site-packages\\shapely\\measurement.py:72: RuntimeWarning: invalid value encountered in distance\n",
      "  return lib.distance(a, b, **kwargs)\n",
      "C:\\Users\\vitor.braz\\AppData\\Roaming\\Python\\Python312\\site-packages\\shapely\\measurement.py:72: RuntimeWarning: invalid value encountered in distance\n",
      "  return lib.distance(a, b, **kwargs)\n",
      "C:\\Users\\vitor.braz\\AppData\\Roaming\\Python\\Python312\\site-packages\\shapely\\measurement.py:72: RuntimeWarning: invalid value encountered in distance\n",
      "  return lib.distance(a, b, **kwargs)\n"
     ]
    },
    {
     "name": "stdout",
     "output_type": "stream",
     "text": [
      "[INFO] Tentando sem tipo de via: 'ANHANGUERA'\n"
     ]
    },
    {
     "name": "stderr",
     "output_type": "stream",
     "text": [
      "C:\\Users\\vitor.braz\\AppData\\Roaming\\Python\\Python312\\site-packages\\shapely\\measurement.py:72: RuntimeWarning: invalid value encountered in distance\n",
      "  return lib.distance(a, b, **kwargs)\n",
      "C:\\Users\\vitor.braz\\AppData\\Roaming\\Python\\Python312\\site-packages\\shapely\\measurement.py:72: RuntimeWarning: invalid value encountered in distance\n",
      "  return lib.distance(a, b, **kwargs)\n",
      "C:\\Users\\vitor.braz\\AppData\\Roaming\\Python\\Python312\\site-packages\\shapely\\measurement.py:72: RuntimeWarning: invalid value encountered in distance\n",
      "  return lib.distance(a, b, **kwargs)\n",
      "C:\\Users\\vitor.braz\\AppData\\Roaming\\Python\\Python312\\site-packages\\shapely\\measurement.py:72: RuntimeWarning: invalid value encountered in distance\n",
      "  return lib.distance(a, b, **kwargs)\n"
     ]
    },
    {
     "name": "stdout",
     "output_type": "stream",
     "text": [
      "[INFO] Tentando sem tipo de via: 'PADRE OLIVETANOS'\n"
     ]
    },
    {
     "name": "stderr",
     "output_type": "stream",
     "text": [
      "C:\\Users\\vitor.braz\\AppData\\Roaming\\Python\\Python312\\site-packages\\shapely\\measurement.py:72: RuntimeWarning: invalid value encountered in distance\n",
      "  return lib.distance(a, b, **kwargs)\n",
      "C:\\Users\\vitor.braz\\AppData\\Roaming\\Python\\Python312\\site-packages\\shapely\\measurement.py:72: RuntimeWarning: invalid value encountered in distance\n",
      "  return lib.distance(a, b, **kwargs)\n",
      "C:\\Users\\vitor.braz\\AppData\\Roaming\\Python\\Python312\\site-packages\\shapely\\measurement.py:72: RuntimeWarning: invalid value encountered in distance\n",
      "  return lib.distance(a, b, **kwargs)\n",
      "C:\\Users\\vitor.braz\\AppData\\Roaming\\Python\\Python312\\site-packages\\shapely\\measurement.py:72: RuntimeWarning: invalid value encountered in distance\n",
      "  return lib.distance(a, b, **kwargs)\n",
      "C:\\Users\\vitor.braz\\AppData\\Roaming\\Python\\Python312\\site-packages\\shapely\\measurement.py:72: RuntimeWarning: invalid value encountered in distance\n",
      "  return lib.distance(a, b, **kwargs)\n",
      "C:\\Users\\vitor.braz\\AppData\\Roaming\\Python\\Python312\\site-packages\\shapely\\measurement.py:72: RuntimeWarning: invalid value encountered in distance\n",
      "  return lib.distance(a, b, **kwargs)\n",
      "C:\\Users\\vitor.braz\\AppData\\Roaming\\Python\\Python312\\site-packages\\shapely\\measurement.py:72: RuntimeWarning: invalid value encountered in distance\n",
      "  return lib.distance(a, b, **kwargs)\n",
      "C:\\Users\\vitor.braz\\AppData\\Roaming\\Python\\Python312\\site-packages\\shapely\\measurement.py:72: RuntimeWarning: invalid value encountered in distance\n",
      "  return lib.distance(a, b, **kwargs)\n",
      "C:\\Users\\vitor.braz\\AppData\\Roaming\\Python\\Python312\\site-packages\\shapely\\measurement.py:72: RuntimeWarning: invalid value encountered in distance\n",
      "  return lib.distance(a, b, **kwargs)\n",
      "C:\\Users\\vitor.braz\\AppData\\Roaming\\Python\\Python312\\site-packages\\shapely\\measurement.py:72: RuntimeWarning: invalid value encountered in distance\n",
      "  return lib.distance(a, b, **kwargs)\n",
      "C:\\Users\\vitor.braz\\AppData\\Roaming\\Python\\Python312\\site-packages\\shapely\\measurement.py:72: RuntimeWarning: invalid value encountered in distance\n",
      "  return lib.distance(a, b, **kwargs)\n",
      "C:\\Users\\vitor.braz\\AppData\\Roaming\\Python\\Python312\\site-packages\\shapely\\measurement.py:72: RuntimeWarning: invalid value encountered in distance\n",
      "  return lib.distance(a, b, **kwargs)\n",
      "C:\\Users\\vitor.braz\\AppData\\Roaming\\Python\\Python312\\site-packages\\shapely\\measurement.py:72: RuntimeWarning: invalid value encountered in distance\n",
      "  return lib.distance(a, b, **kwargs)\n",
      "C:\\Users\\vitor.braz\\AppData\\Roaming\\Python\\Python312\\site-packages\\shapely\\measurement.py:72: RuntimeWarning: invalid value encountered in distance\n",
      "  return lib.distance(a, b, **kwargs)\n",
      "C:\\Users\\vitor.braz\\AppData\\Roaming\\Python\\Python312\\site-packages\\shapely\\measurement.py:72: RuntimeWarning: invalid value encountered in distance\n",
      "  return lib.distance(a, b, **kwargs)\n",
      "C:\\Users\\vitor.braz\\AppData\\Roaming\\Python\\Python312\\site-packages\\shapely\\measurement.py:72: RuntimeWarning: invalid value encountered in distance\n",
      "  return lib.distance(a, b, **kwargs)\n",
      "C:\\Users\\vitor.braz\\AppData\\Roaming\\Python\\Python312\\site-packages\\shapely\\measurement.py:72: RuntimeWarning: invalid value encountered in distance\n",
      "  return lib.distance(a, b, **kwargs)\n",
      "C:\\Users\\vitor.braz\\AppData\\Roaming\\Python\\Python312\\site-packages\\shapely\\measurement.py:72: RuntimeWarning: invalid value encountered in distance\n",
      "  return lib.distance(a, b, **kwargs)\n",
      "C:\\Users\\vitor.braz\\AppData\\Roaming\\Python\\Python312\\site-packages\\shapely\\measurement.py:72: RuntimeWarning: invalid value encountered in distance\n",
      "  return lib.distance(a, b, **kwargs)\n",
      "C:\\Users\\vitor.braz\\AppData\\Roaming\\Python\\Python312\\site-packages\\shapely\\measurement.py:72: RuntimeWarning: invalid value encountered in distance\n",
      "  return lib.distance(a, b, **kwargs)\n",
      "C:\\Users\\vitor.braz\\AppData\\Roaming\\Python\\Python312\\site-packages\\shapely\\measurement.py:72: RuntimeWarning: invalid value encountered in distance\n",
      "  return lib.distance(a, b, **kwargs)\n"
     ]
    },
    {
     "name": "stdout",
     "output_type": "stream",
     "text": [
      "[INFO] Tentando sem tipo de via: 'AGRIMENSOR SUGAYA'\n"
     ]
    },
    {
     "name": "stderr",
     "output_type": "stream",
     "text": [
      "C:\\Users\\vitor.braz\\AppData\\Roaming\\Python\\Python312\\site-packages\\shapely\\measurement.py:72: RuntimeWarning: invalid value encountered in distance\n",
      "  return lib.distance(a, b, **kwargs)\n",
      "C:\\Users\\vitor.braz\\AppData\\Roaming\\Python\\Python312\\site-packages\\shapely\\measurement.py:72: RuntimeWarning: invalid value encountered in distance\n",
      "  return lib.distance(a, b, **kwargs)\n",
      "C:\\Users\\vitor.braz\\AppData\\Roaming\\Python\\Python312\\site-packages\\shapely\\measurement.py:72: RuntimeWarning: invalid value encountered in distance\n",
      "  return lib.distance(a, b, **kwargs)\n",
      "C:\\Users\\vitor.braz\\AppData\\Roaming\\Python\\Python312\\site-packages\\shapely\\measurement.py:72: RuntimeWarning: invalid value encountered in distance\n",
      "  return lib.distance(a, b, **kwargs)\n",
      "C:\\Users\\vitor.braz\\AppData\\Roaming\\Python\\Python312\\site-packages\\shapely\\measurement.py:72: RuntimeWarning: invalid value encountered in distance\n",
      "  return lib.distance(a, b, **kwargs)\n",
      "C:\\Users\\vitor.braz\\AppData\\Roaming\\Python\\Python312\\site-packages\\shapely\\measurement.py:72: RuntimeWarning: invalid value encountered in distance\n",
      "  return lib.distance(a, b, **kwargs)\n",
      "C:\\Users\\vitor.braz\\AppData\\Roaming\\Python\\Python312\\site-packages\\shapely\\measurement.py:72: RuntimeWarning: invalid value encountered in distance\n",
      "  return lib.distance(a, b, **kwargs)\n",
      "C:\\Users\\vitor.braz\\AppData\\Roaming\\Python\\Python312\\site-packages\\shapely\\measurement.py:72: RuntimeWarning: invalid value encountered in distance\n",
      "  return lib.distance(a, b, **kwargs)\n",
      "C:\\Users\\vitor.braz\\AppData\\Roaming\\Python\\Python312\\site-packages\\shapely\\measurement.py:72: RuntimeWarning: invalid value encountered in distance\n",
      "  return lib.distance(a, b, **kwargs)\n",
      "C:\\Users\\vitor.braz\\AppData\\Roaming\\Python\\Python312\\site-packages\\shapely\\measurement.py:72: RuntimeWarning: invalid value encountered in distance\n",
      "  return lib.distance(a, b, **kwargs)\n"
     ]
    },
    {
     "name": "stdout",
     "output_type": "stream",
     "text": [
      "[INFO] Tentando sem tipo de via: 'DOUTOR LUIS AIRES'\n"
     ]
    },
    {
     "name": "stderr",
     "output_type": "stream",
     "text": [
      "C:\\Users\\vitor.braz\\AppData\\Roaming\\Python\\Python312\\site-packages\\shapely\\measurement.py:72: RuntimeWarning: invalid value encountered in distance\n",
      "  return lib.distance(a, b, **kwargs)\n",
      "C:\\Users\\vitor.braz\\AppData\\Roaming\\Python\\Python312\\site-packages\\shapely\\measurement.py:72: RuntimeWarning: invalid value encountered in distance\n",
      "  return lib.distance(a, b, **kwargs)\n",
      "C:\\Users\\vitor.braz\\AppData\\Roaming\\Python\\Python312\\site-packages\\shapely\\measurement.py:72: RuntimeWarning: invalid value encountered in distance\n",
      "  return lib.distance(a, b, **kwargs)\n",
      "C:\\Users\\vitor.braz\\AppData\\Roaming\\Python\\Python312\\site-packages\\shapely\\measurement.py:72: RuntimeWarning: invalid value encountered in distance\n",
      "  return lib.distance(a, b, **kwargs)\n",
      "C:\\Users\\vitor.braz\\AppData\\Roaming\\Python\\Python312\\site-packages\\shapely\\measurement.py:72: RuntimeWarning: invalid value encountered in distance\n",
      "  return lib.distance(a, b, **kwargs)\n",
      "C:\\Users\\vitor.braz\\AppData\\Roaming\\Python\\Python312\\site-packages\\shapely\\measurement.py:72: RuntimeWarning: invalid value encountered in distance\n",
      "  return lib.distance(a, b, **kwargs)\n",
      "C:\\Users\\vitor.braz\\AppData\\Roaming\\Python\\Python312\\site-packages\\shapely\\measurement.py:72: RuntimeWarning: invalid value encountered in distance\n",
      "  return lib.distance(a, b, **kwargs)\n",
      "C:\\Users\\vitor.braz\\AppData\\Roaming\\Python\\Python312\\site-packages\\shapely\\measurement.py:72: RuntimeWarning: invalid value encountered in distance\n",
      "  return lib.distance(a, b, **kwargs)\n",
      "C:\\Users\\vitor.braz\\AppData\\Roaming\\Python\\Python312\\site-packages\\shapely\\measurement.py:72: RuntimeWarning: invalid value encountered in distance\n",
      "  return lib.distance(a, b, **kwargs)\n",
      "C:\\Users\\vitor.braz\\AppData\\Roaming\\Python\\Python312\\site-packages\\shapely\\measurement.py:72: RuntimeWarning: invalid value encountered in distance\n",
      "  return lib.distance(a, b, **kwargs)\n",
      "C:\\Users\\vitor.braz\\AppData\\Roaming\\Python\\Python312\\site-packages\\shapely\\measurement.py:72: RuntimeWarning: invalid value encountered in distance\n",
      "  return lib.distance(a, b, **kwargs)\n",
      "C:\\Users\\vitor.braz\\AppData\\Roaming\\Python\\Python312\\site-packages\\shapely\\measurement.py:72: RuntimeWarning: invalid value encountered in distance\n",
      "  return lib.distance(a, b, **kwargs)\n",
      "C:\\Users\\vitor.braz\\AppData\\Roaming\\Python\\Python312\\site-packages\\shapely\\measurement.py:72: RuntimeWarning: invalid value encountered in distance\n",
      "  return lib.distance(a, b, **kwargs)\n",
      "C:\\Users\\vitor.braz\\AppData\\Roaming\\Python\\Python312\\site-packages\\shapely\\measurement.py:72: RuntimeWarning: invalid value encountered in distance\n",
      "  return lib.distance(a, b, **kwargs)\n"
     ]
    },
    {
     "name": "stdout",
     "output_type": "stream",
     "text": [
      "[INFO] Tentando sem tipo de via: 'DO M'BOI MIRIM'\n"
     ]
    },
    {
     "name": "stderr",
     "output_type": "stream",
     "text": [
      "C:\\Users\\vitor.braz\\AppData\\Roaming\\Python\\Python312\\site-packages\\shapely\\measurement.py:72: RuntimeWarning: invalid value encountered in distance\n",
      "  return lib.distance(a, b, **kwargs)\n",
      "C:\\Users\\vitor.braz\\AppData\\Roaming\\Python\\Python312\\site-packages\\shapely\\measurement.py:72: RuntimeWarning: invalid value encountered in distance\n",
      "  return lib.distance(a, b, **kwargs)\n",
      "C:\\Users\\vitor.braz\\AppData\\Roaming\\Python\\Python312\\site-packages\\shapely\\measurement.py:72: RuntimeWarning: invalid value encountered in distance\n",
      "  return lib.distance(a, b, **kwargs)\n",
      "C:\\Users\\vitor.braz\\AppData\\Roaming\\Python\\Python312\\site-packages\\shapely\\measurement.py:72: RuntimeWarning: invalid value encountered in distance\n",
      "  return lib.distance(a, b, **kwargs)\n",
      "C:\\Users\\vitor.braz\\AppData\\Roaming\\Python\\Python312\\site-packages\\shapely\\measurement.py:72: RuntimeWarning: invalid value encountered in distance\n",
      "  return lib.distance(a, b, **kwargs)\n",
      "C:\\Users\\vitor.braz\\AppData\\Roaming\\Python\\Python312\\site-packages\\shapely\\measurement.py:72: RuntimeWarning: invalid value encountered in distance\n",
      "  return lib.distance(a, b, **kwargs)\n",
      "C:\\Users\\vitor.braz\\AppData\\Roaming\\Python\\Python312\\site-packages\\shapely\\measurement.py:72: RuntimeWarning: invalid value encountered in distance\n",
      "  return lib.distance(a, b, **kwargs)\n",
      "C:\\Users\\vitor.braz\\AppData\\Roaming\\Python\\Python312\\site-packages\\shapely\\measurement.py:72: RuntimeWarning: invalid value encountered in distance\n",
      "  return lib.distance(a, b, **kwargs)\n",
      "C:\\Users\\vitor.braz\\AppData\\Roaming\\Python\\Python312\\site-packages\\shapely\\measurement.py:72: RuntimeWarning: invalid value encountered in distance\n",
      "  return lib.distance(a, b, **kwargs)\n",
      "C:\\Users\\vitor.braz\\AppData\\Roaming\\Python\\Python312\\site-packages\\shapely\\measurement.py:72: RuntimeWarning: invalid value encountered in distance\n",
      "  return lib.distance(a, b, **kwargs)\n",
      "C:\\Users\\vitor.braz\\AppData\\Roaming\\Python\\Python312\\site-packages\\shapely\\measurement.py:72: RuntimeWarning: invalid value encountered in distance\n",
      "  return lib.distance(a, b, **kwargs)\n",
      "C:\\Users\\vitor.braz\\AppData\\Roaming\\Python\\Python312\\site-packages\\shapely\\measurement.py:72: RuntimeWarning: invalid value encountered in distance\n",
      "  return lib.distance(a, b, **kwargs)\n",
      "C:\\Users\\vitor.braz\\AppData\\Roaming\\Python\\Python312\\site-packages\\shapely\\measurement.py:72: RuntimeWarning: invalid value encountered in distance\n",
      "  return lib.distance(a, b, **kwargs)\n",
      "C:\\Users\\vitor.braz\\AppData\\Roaming\\Python\\Python312\\site-packages\\shapely\\measurement.py:72: RuntimeWarning: invalid value encountered in distance\n",
      "  return lib.distance(a, b, **kwargs)\n"
     ]
    },
    {
     "name": "stdout",
     "output_type": "stream",
     "text": [
      "[INFO] Tentando sem tipo de via: 'DOMINGOS FRANCIULLI NETO'\n"
     ]
    },
    {
     "name": "stderr",
     "output_type": "stream",
     "text": [
      "C:\\Users\\vitor.braz\\AppData\\Roaming\\Python\\Python312\\site-packages\\shapely\\measurement.py:72: RuntimeWarning: invalid value encountered in distance\n",
      "  return lib.distance(a, b, **kwargs)\n",
      "C:\\Users\\vitor.braz\\AppData\\Roaming\\Python\\Python312\\site-packages\\shapely\\measurement.py:72: RuntimeWarning: invalid value encountered in distance\n",
      "  return lib.distance(a, b, **kwargs)\n",
      "C:\\Users\\vitor.braz\\AppData\\Roaming\\Python\\Python312\\site-packages\\shapely\\measurement.py:72: RuntimeWarning: invalid value encountered in distance\n",
      "  return lib.distance(a, b, **kwargs)\n",
      "C:\\Users\\vitor.braz\\AppData\\Roaming\\Python\\Python312\\site-packages\\shapely\\measurement.py:72: RuntimeWarning: invalid value encountered in distance\n",
      "  return lib.distance(a, b, **kwargs)\n",
      "C:\\Users\\vitor.braz\\AppData\\Roaming\\Python\\Python312\\site-packages\\shapely\\measurement.py:72: RuntimeWarning: invalid value encountered in distance\n",
      "  return lib.distance(a, b, **kwargs)\n",
      "C:\\Users\\vitor.braz\\AppData\\Roaming\\Python\\Python312\\site-packages\\shapely\\measurement.py:72: RuntimeWarning: invalid value encountered in distance\n",
      "  return lib.distance(a, b, **kwargs)\n",
      "C:\\Users\\vitor.braz\\AppData\\Roaming\\Python\\Python312\\site-packages\\shapely\\measurement.py:72: RuntimeWarning: invalid value encountered in distance\n",
      "  return lib.distance(a, b, **kwargs)\n"
     ]
    },
    {
     "name": "stdout",
     "output_type": "stream",
     "text": [
      "[INFO] Tentando sem tipo de via: 'ANHANGABAU'\n"
     ]
    },
    {
     "name": "stderr",
     "output_type": "stream",
     "text": [
      "C:\\Users\\vitor.braz\\AppData\\Roaming\\Python\\Python312\\site-packages\\shapely\\measurement.py:72: RuntimeWarning: invalid value encountered in distance\n",
      "  return lib.distance(a, b, **kwargs)\n",
      "C:\\Users\\vitor.braz\\AppData\\Roaming\\Python\\Python312\\site-packages\\shapely\\measurement.py:72: RuntimeWarning: invalid value encountered in distance\n",
      "  return lib.distance(a, b, **kwargs)\n",
      "C:\\Users\\vitor.braz\\AppData\\Roaming\\Python\\Python312\\site-packages\\shapely\\measurement.py:72: RuntimeWarning: invalid value encountered in distance\n",
      "  return lib.distance(a, b, **kwargs)\n"
     ]
    },
    {
     "name": "stdout",
     "output_type": "stream",
     "text": [
      "[INFO] Tentando sem tipo de via: 'MIGUEL ESTEFANO'\n",
      "[INFO] Tentando sem tipo de via: 'RADIAL LESTE CENTRO'\n",
      "[INFO] Tentando sem tipo de via: 'MARIO COVAS'\n"
     ]
    },
    {
     "name": "stderr",
     "output_type": "stream",
     "text": [
      "C:\\Users\\vitor.braz\\AppData\\Roaming\\Python\\Python312\\site-packages\\shapely\\measurement.py:72: RuntimeWarning: invalid value encountered in distance\n",
      "  return lib.distance(a, b, **kwargs)\n",
      "C:\\Users\\vitor.braz\\AppData\\Roaming\\Python\\Python312\\site-packages\\shapely\\measurement.py:72: RuntimeWarning: invalid value encountered in distance\n",
      "  return lib.distance(a, b, **kwargs)\n",
      "C:\\Users\\vitor.braz\\AppData\\Roaming\\Python\\Python312\\site-packages\\shapely\\measurement.py:72: RuntimeWarning: invalid value encountered in distance\n",
      "  return lib.distance(a, b, **kwargs)\n",
      "C:\\Users\\vitor.braz\\AppData\\Roaming\\Python\\Python312\\site-packages\\shapely\\measurement.py:72: RuntimeWarning: invalid value encountered in distance\n",
      "  return lib.distance(a, b, **kwargs)\n",
      "C:\\Users\\vitor.braz\\AppData\\Roaming\\Python\\Python312\\site-packages\\shapely\\measurement.py:72: RuntimeWarning: invalid value encountered in distance\n",
      "  return lib.distance(a, b, **kwargs)\n",
      "C:\\Users\\vitor.braz\\AppData\\Roaming\\Python\\Python312\\site-packages\\shapely\\measurement.py:72: RuntimeWarning: invalid value encountered in distance\n",
      "  return lib.distance(a, b, **kwargs)\n"
     ]
    },
    {
     "name": "stdout",
     "output_type": "stream",
     "text": [
      "[INFO] Tentando sem tipo de via: 'DAS LAGRIMAS'\n"
     ]
    },
    {
     "name": "stderr",
     "output_type": "stream",
     "text": [
      "C:\\Users\\vitor.braz\\AppData\\Roaming\\Python\\Python312\\site-packages\\shapely\\measurement.py:72: RuntimeWarning: invalid value encountered in distance\n",
      "  return lib.distance(a, b, **kwargs)\n"
     ]
    },
    {
     "name": "stdout",
     "output_type": "stream",
     "text": [
      "[INFO] Tentando sem tipo de via: 'PROFESSOR CARDOZO DE MELLO NETO'\n"
     ]
    },
    {
     "name": "stderr",
     "output_type": "stream",
     "text": [
      "C:\\Users\\vitor.braz\\AppData\\Roaming\\Python\\Python312\\site-packages\\shapely\\measurement.py:72: RuntimeWarning: invalid value encountered in distance\n",
      "  return lib.distance(a, b, **kwargs)\n",
      "C:\\Users\\vitor.braz\\AppData\\Roaming\\Python\\Python312\\site-packages\\shapely\\measurement.py:72: RuntimeWarning: invalid value encountered in distance\n",
      "  return lib.distance(a, b, **kwargs)\n",
      "C:\\Users\\vitor.braz\\AppData\\Roaming\\Python\\Python312\\site-packages\\shapely\\measurement.py:72: RuntimeWarning: invalid value encountered in distance\n",
      "  return lib.distance(a, b, **kwargs)\n",
      "C:\\Users\\vitor.braz\\AppData\\Roaming\\Python\\Python312\\site-packages\\shapely\\measurement.py:72: RuntimeWarning: invalid value encountered in distance\n",
      "  return lib.distance(a, b, **kwargs)\n",
      "C:\\Users\\vitor.braz\\AppData\\Roaming\\Python\\Python312\\site-packages\\shapely\\measurement.py:72: RuntimeWarning: invalid value encountered in distance\n",
      "  return lib.distance(a, b, **kwargs)\n",
      "C:\\Users\\vitor.braz\\AppData\\Roaming\\Python\\Python312\\site-packages\\shapely\\measurement.py:72: RuntimeWarning: invalid value encountered in distance\n",
      "  return lib.distance(a, b, **kwargs)\n"
     ]
    }
   ],
   "source": [
    "import pandas as pd\n",
    "import requests\n",
    "import xml.etree.ElementTree as ET\n",
    "from pathlib import Path\n",
    "import geopandas as gpd\n",
    "from shapely.geometry import Point\n",
    "\n",
    "# ===================== CONFIGURAÇÕES =====================\n",
    "ARQUIVO_ENTRADA = Path(r\"C:\\Users\\vitor.braz\\Downloads\\geolocalizacao_cet_flask\\dados\\2024-2025_fatais_motos_05_meses.xlsx\")\n",
    "ARQUIVO_SAIDA = ARQUIVO_ENTRADA.with_name(\"2024-2025_fatais_motos_05_meses_COM_COORDENADAS_SHAPE_V3.xlsx\")\n",
    "SHAPEFILE_PATH = r\"C:\\Users\\vitor.braz\\Downloads\\geolocalizacao_cet_flask\\dados\\vwBlCET_det_get_distrito_sub_4326\\vwBlCET_DET_GET_DIST_SUB_4326.shp\"\n",
    "\n",
    "# ===================== TIPOS DE VIA PARA REMOÇÃO =====================\n",
    "TIPOS_VIA = [\n",
    "    # Versões por extenso\n",
    "    \"ACESSO\", \"ALAMEDA\", \"AVENIDA\", \"BECO\", \"CAMINHO\", \"COMPLEXO VIARIO\", \"ESPACO LIVRE\", \"ESPLANADA\",\n",
    "    \"ESTRADA\", \"ESCADARIA\", \"ESTRADA PARTICULAR\", \"GALERIA\", \"LADEIRA\", \"LARGO\", \"PASSARELA\", \"PRACA\",\n",
    "    \"PRACA PROJETADA\", \"PARQUE\", \"PARQUE ESTADUAL\", \"PARQUE LINEAR\", \"PARQUE MUNICIPAL\",\n",
    "    \"PASSAGEM DE PEDESTRE\", \"PASSAGEM PARTICULAR\", \"PASSAGEM SUBTERRÂNEA\", \"PONTE\", \"PONTILHAO\",\n",
    "    \"RUA\", \"RUA PARTICULAR\", \"RUA PROJETADA\", \"RODOVIA\", \"TUNEL\", \"TRAVESSA\", \"TRAVESSA PARTICULAR\",\n",
    "    \"VIA DE CIRCULACAO DE PEDESTESTRES\", \"VIADUTO\", \"VIELA\", \"VIA ELEVADA\", \"VIA ELEVADA DE PEDESTRES\",\n",
    "    \"VEREDA\", \"VIELA SANITARIA\", \"VILA\", \"VIELA PROJETADA\", \"VIELA PARTICULAR\",\"ESTRADA DO \",\n",
    "    \"COMPLEXO VIARIO\", \"RUA DA \",\"PRAÇA\",\"TÚNEL\"   \n",
    "    # Abreviações comuns\n",
    "    \"AC\", \"AL\", \"AV\", \"BC\", \"CM\", \"CV\", \"EL\", \"EPL\", \"ES\", \"ESC\", \"ESP\", \"GL\", \"LD\", \"LG\",\n",
    "    \"PA\", \"PC\", \"PP\", \"PQ\", \"PQE\", \"PQL\", \"PQM\", \"PS\", \"PSP\", \"PSS\", \"PT\", \"PTE\", \"PTL\",\n",
    "    \"R\", \"RP\", \"RPJ\", \"RV\", \"TN\", \"TV\", \"TVP\", \"VCP\", \"VD\", \"VE\", \"VEL\", \"VEP\", \"VER\", \"VES\",\n",
    "    \"VL\", \"VLP\", \"VP\", \"ES. DO\", \"ES DO\"\n",
    "]\n",
    "\n",
    "def remover_tipo_via(endereco: str) -> str:\n",
    "    partes = endereco.strip().upper().split()\n",
    "    if partes and partes[0] in TIPOS_VIA:\n",
    "        return \" \".join(partes[1:]).strip()\n",
    "    return endereco.strip()\n",
    "\n",
    "# ===================== FUNÇÃO RAW DE BUSCA =====================\n",
    "def _buscar_enderecos_raw(endereco: str) -> pd.DataFrame:\n",
    "    url = \"http://cetaplica/geosoap/geocode.asmx/buscaEnderecos\"\n",
    "    try:\n",
    "        response = requests.get(url, params={\"endereco\": endereco}, timeout=5)\n",
    "        response.raise_for_status()\n",
    "    except requests.RequestException:\n",
    "        return pd.DataFrame()\n",
    "\n",
    "    try:\n",
    "        ns = {\"ns\": \"http://tempuri.org/\"}\n",
    "        root = ET.fromstring(response.content)\n",
    "        enderecos = root.findall(\"ns:Endereco\", ns)\n",
    "        registros = []\n",
    "        for endereco_xml in enderecos:\n",
    "            log = endereco_xml.find(\"ns:logradouro1\", ns)\n",
    "            if log is not None:\n",
    "                registros.append({\n",
    "                    \"codlog\": log.findtext(\"ns:codlog\", default=\"\", namespaces=ns),\n",
    "                    \"tipo\": log.findtext(\"ns:tipo\", default=\"\", namespaces=ns),\n",
    "                    \"titulo\": log.findtext(\"ns:titulo\", default=\"\", namespaces=ns),\n",
    "                    \"preposicao\": log.findtext(\"ns:preposicao\", default=\"\", namespaces=ns),\n",
    "                    \"nome\": log.findtext(\"ns:nome\", default=\"\", namespaces=ns),\n",
    "                    \"distrito\": log.findtext(\"ns:distrito\", default=\"\", namespaces=ns),\n",
    "                })\n",
    "        return pd.DataFrame(registros)\n",
    "    except ET.ParseError:\n",
    "        return pd.DataFrame()\n",
    "\n",
    "# ===================== BUSCA COM FALLBACK =====================\n",
    "def buscar_enderecos(endereco: str) -> pd.DataFrame:\n",
    "    df = _buscar_enderecos_raw(endereco)\n",
    "    if df.empty:\n",
    "        # Tenta sem tipo de via\n",
    "        endereco_sem_tipo = remover_tipo_via(endereco)\n",
    "        if endereco_sem_tipo and endereco_sem_tipo != endereco.upper():\n",
    "            print(f\"[INFO] Tentando sem tipo de via: '{endereco_sem_tipo}'\")\n",
    "            df = _buscar_enderecos_raw(endereco_sem_tipo)\n",
    "    return df\n",
    "\n",
    "# ===================== RESTANTE DAS FUNÇÕES =====================\n",
    "\n",
    "def logradouro_pmsp(row) -> str:\n",
    "    partes = [\n",
    "        (row.get(\"tipo\") or \"\").strip(),\n",
    "        (row.get(\"titulo\") or \"\").strip(),\n",
    "        (row.get(\"preposicao\") or \"\").strip(),\n",
    "        (row.get(\"nome\") or \"\").strip()\n",
    "    ]\n",
    "    return \" \".join(p for p in partes if p).strip()\n",
    "\n",
    "def montar_endereco_completo(row, numero=\"\") -> str:\n",
    "    return f\"{row['codlog']}, {numero}\".strip()\n",
    "\n",
    "# ===================== BUSCA LAT/LON EXATO =====================\n",
    "def buscar_latlon_exato(endereco: str) -> tuple[float, float] | None:\n",
    "    url = \"http://cetaplica/geosoap/geocode.asmx\"\n",
    "    headers = {\n",
    "        \"Content-Type\": \"text/xml; charset=utf-8\",\n",
    "        \"SOAPAction\": \"http://tempuri.org/buscaLatLonExato\"\n",
    "    }\n",
    "    soap_body = f\"\"\"<?xml version=\"1.0\" encoding=\"utf-8\"?>\n",
    "    <soap:Envelope xmlns:xsi=\"http://www.w3.org/2001/XMLSchema-instance\"\n",
    "                   xmlns:xsd=\"http://www.w3.org/2001/XMLSchema\"\n",
    "                   xmlns:soap=\"http://schemas.xmlsoap.org/soap/envelope/\">\n",
    "      <soap:Body>\n",
    "        <buscaLatLonExato xmlns=\"http://tempuri.org/\">\n",
    "          <endereco>{endereco}</endereco>\n",
    "        </buscaLatLonExato>\n",
    "      </soap:Body>\n",
    "    </soap:Envelope>\"\"\"\n",
    "\n",
    "    try:\n",
    "        response = requests.post(url, data=soap_body, headers=headers, timeout=5)\n",
    "        response.raise_for_status()\n",
    "        ns = {\"soap\": \"http://schemas.xmlsoap.org/soap/envelope/\", \"ns\": \"http://tempuri.org/\"}\n",
    "        root = ET.fromstring(response.content)\n",
    "        ponto = root.find(\".//ns:buscaLatLonExatoResult\", ns)\n",
    "        if ponto is None:\n",
    "            return None\n",
    "        x = ponto.findtext(\"ns:x\", default=None, namespaces=ns)\n",
    "        y = ponto.findtext(\"ns:y\", default=None, namespaces=ns)\n",
    "        if x is None or y is None:\n",
    "            return None\n",
    "        return float(y), float(x)\n",
    "    except:\n",
    "        return None\n",
    "\n",
    "# ===================== SHAPEFILE =========================\n",
    "gdf_shp = gpd.read_file(SHAPEFILE_PATH).to_crs(\"EPSG:31983\")\n",
    "CAMPOS_SHAPE = {\n",
    "    'logradouro': 'logradouro_shp',\n",
    "    'geometry': 'geometry_shp',\n",
    "    'lg_codlog': 'lg_codlog_shp',\n",
    "    'tipo_via': 'tipo_via_shp',\n",
    "    'local': 'local_shp',\n",
    "    'det_sigla': 'det_sigla_shp',\n",
    "    'get': 'get_shp',\n",
    "    'distrito': 'distrito_shp',\n",
    "    'sub': 'sub_shp',\n",
    "    'regiao': 'regiao_shp'\n",
    "}\n",
    "\n",
    "def buscar_no_shapefile(lat, lon):\n",
    "    try:\n",
    "        ponto = gpd.GeoSeries([Point(float(lon), float(lat))], crs=\"EPSG:4326\").to_crs(\"EPSG:31983\").iloc[0]\n",
    "        gdf_shp[\"dist\"] = gdf_shp.distance(ponto)\n",
    "        candidato = gdf_shp.sort_values(\"dist\").iloc[0]\n",
    "        if candidato[\"dist\"] > 50:\n",
    "            raise ValueError\n",
    "        dados = {v: candidato[k] for k, v in CAMPOS_SHAPE.items()}\n",
    "        dados['lat_shp'] = ponto.y\n",
    "        dados['long_shp'] = ponto.x\n",
    "        return dados\n",
    "    except:\n",
    "        return {v: \"NÃO ENCONTRADO\" for v in CAMPOS_SHAPE.values()} | {\n",
    "            'lat_shp': \"NÃO ENCONTRADO\",\n",
    "            'long_shp': \"NÃO ENCONTRADO\"\n",
    "        }\n",
    "\n",
    "# ===================== PROCESSAMENTO =====================\n",
    "df_input = pd.read_excel(ARQUIVO_ENTRADA)\n",
    "dados_final = []\n",
    "\n",
    "for _, row in df_input.iterrows():\n",
    "    logradouro = str(row.get(\"logradouro\", \"\")).strip()\n",
    "    numero = str(row.get(\"numero_logradouro\", \"\")).strip()\n",
    "    lat_ref = row.get(\"latitude\")\n",
    "    lon_ref = row.get(\"longitude\")\n",
    "    resultado = row.to_dict()\n",
    "\n",
    "    if not logradouro or pd.isna(lat_ref) or pd.isna(lon_ref):\n",
    "        resultado |= {k: \"NÃO ENCONTRADO\" for k in [\n",
    "            \"codlog_geo\", \"logradouro_PMSP_geo\", \"consulta_geo\",\n",
    "            \"latitude_geo\", \"longitude_geo\", \"dist_geo_occ\"\n",
    "        ]}\n",
    "    else:\n",
    "        df_ends = buscar_enderecos(logradouro)\n",
    "        if df_ends.empty:\n",
    "            resultado |= {k: \"NÃO ENCONTRADO\" for k in [\n",
    "                \"codlog_geo\", \"logradouro_PMSP_geo\", \"consulta_geo\",\n",
    "                \"latitude_geo\", \"longitude_geo\", \"dist_geo_occ\"\n",
    "            ]}\n",
    "        else:\n",
    "            ponto_ref = Point(lon_ref, lat_ref)\n",
    "            min_dist = float('inf')\n",
    "            melhor = None\n",
    "\n",
    "            for _, cand in df_ends.iterrows():\n",
    "                endereco_consulta = montar_endereco_completo(cand, numero)\n",
    "                latlon = buscar_latlon_exato(endereco_consulta)\n",
    "                if latlon:\n",
    "                    p_cand = Point(latlon[1], latlon[0])\n",
    "                    dist = ponto_ref.distance(p_cand)\n",
    "                    if dist < min_dist:\n",
    "                        min_dist = dist\n",
    "                        melhor = (cand, latlon, endereco_consulta, dist)\n",
    "\n",
    "            if melhor:\n",
    "                c, latlon, endereco_consulta, dist = melhor\n",
    "                resultado.update({\n",
    "                    \"codlog_geo\": c[\"codlog\"],\n",
    "                    \"logradouro_PMSP_geo\": logradouro_pmsp(c),\n",
    "                    \"consulta_geo\": endereco_consulta,\n",
    "                    \"latitude_geo\": latlon[0],\n",
    "                    \"longitude_geo\": latlon[1],\n",
    "                    \"dist_geo_occ\": dist\n",
    "                })\n",
    "            else:\n",
    "                resultado |= {k: \"NÃO ENCONTRADO\" for k in [\n",
    "                    \"codlog_geo\", \"logradouro_PMSP_geo\", \"consulta_geo\",\n",
    "                    \"latitude_geo\", \"longitude_geo\", \"dist_geo_occ\"\n",
    "                ]}\n",
    "\n",
    "    if resultado.get(\"latitude_geo\") != \"NÃO ENCONTRADO\":\n",
    "        resultado |= buscar_no_shapefile(resultado[\"latitude_geo\"], resultado[\"longitude_geo\"])\n",
    "    else:\n",
    "        resultado |= {v: \"NÃO ENCONTRADO\" for v in CAMPOS_SHAPE.values()} | {\n",
    "            'lat_shp': \"NÃO ENCONTRADO\",\n",
    "            'long_shp': \"NÃO ENCONTRADO\"\n",
    "        }\n",
    "\n",
    "    dados_final.append(resultado)\n",
    "\n",
    "# ===================== SALVA =============================\n",
    "df_final = pd.DataFrame(dados_final)\n",
    "df_final.to_excel(ARQUIVO_SAIDA, index=False)\n",
    "print(f\"\\n✅ Arquivo salvo com sucesso: {ARQUIVO_SAIDA}\")\n"
   ]
  },
  {
   "cell_type": "code",
   "execution_count": null,
   "id": "6f87e47c-315f-450e-a59f-c8215b325d8a",
   "metadata": {},
   "outputs": [],
   "source": []
  },
  {
   "cell_type": "code",
   "execution_count": null,
   "id": "d1b5a98a-7840-451f-a28f-bb9dec8e9a9d",
   "metadata": {},
   "outputs": [],
   "source": []
  },
  {
   "cell_type": "code",
   "execution_count": null,
   "id": "e2a28fa4-a881-432a-b98a-ac98256cf26d",
   "metadata": {},
   "outputs": [],
   "source": []
  }
 ],
 "metadata": {
  "kernelspec": {
   "display_name": "Python 3 (ipykernel)",
   "language": "python",
   "name": "python3"
  },
  "language_info": {
   "codemirror_mode": {
    "name": "ipython",
    "version": 3
   },
   "file_extension": ".py",
   "mimetype": "text/x-python",
   "name": "python",
   "nbconvert_exporter": "python",
   "pygments_lexer": "ipython3",
   "version": "3.12.7"
  }
 },
 "nbformat": 4,
 "nbformat_minor": 5
}
